{
 "cells": [
  {
   "cell_type": "markdown",
   "id": "1181c1b8-fd5b-4e1d-9959-122d17bc755b",
   "metadata": {},
   "source": [
    "## Q1. "
   ]
  },
  {
   "cell_type": "code",
   "execution_count": 1,
   "id": "bee99229-7461-4afa-a459-edb94c2fbe30",
   "metadata": {},
   "outputs": [],
   "source": [
    "def two_sum(nums, target):\n",
    "    complement_dict = {}\n",
    "    \n",
    "    for i, num in enumerate(nums):\n",
    "        complement = target - num\n",
    "        if complement in complement_dict:\n",
    "\n",
    "            return [complement_dict[complement], i]\n",
    "        \n",
    "        complement_dict[num] = i\n",
    "\n",
    "    return []"
   ]
  },
  {
   "cell_type": "code",
   "execution_count": 2,
   "id": "5bdcb056-eb63-4a74-a28a-e9a493862113",
   "metadata": {},
   "outputs": [
    {
     "name": "stdout",
     "output_type": "stream",
     "text": [
      "[0, 1]\n"
     ]
    }
   ],
   "source": [
    "nums = [2, 7, 11, 15]\n",
    "target = 9\n",
    "result = two_sum(nums, target)\n",
    "print(result)"
   ]
  },
  {
   "cell_type": "markdown",
   "id": "36259e2e-3981-4384-858b-0ab3414338bb",
   "metadata": {},
   "source": [
    "## Q2."
   ]
  },
  {
   "cell_type": "code",
   "execution_count": 3,
   "id": "b8e2518a-996d-4ee3-bf06-391999f82d4d",
   "metadata": {},
   "outputs": [],
   "source": [
    "def remove_element(nums, val):\n",
    "    # Initialize the pointer for the new array\n",
    "    k = 0\n",
    "    \n",
    "    # Iterate through the array\n",
    "    for num in nums:\n",
    "        # Check if the current element is not equal to val\n",
    "        if num != val:\n",
    "            # Move the current element to the left side of the array\n",
    "            nums[k] = num\n",
    "            # Increment the pointer\n",
    "            k += 1\n",
    "    \n",
    "    # Return the number of elements remaining in the array\n",
    "    return k\n"
   ]
  },
  {
   "cell_type": "code",
   "execution_count": 4,
   "id": "0f59090d-7f7d-4e97-b646-56950967b335",
   "metadata": {},
   "outputs": [
    {
     "name": "stdout",
     "output_type": "stream",
     "text": [
      "2\n",
      "[2, 2]\n"
     ]
    }
   ],
   "source": [
    "nums = [3, 2, 2, 3]\n",
    "val = 3\n",
    "result = remove_element(nums, val)\n",
    "print(result)\n",
    "print(nums[:result]) "
   ]
  },
  {
   "cell_type": "markdown",
   "id": "c69a5646-7344-4e2e-ad18-9d0fb20fb47d",
   "metadata": {},
   "source": [
    "## Q3. "
   ]
  },
  {
   "cell_type": "code",
   "execution_count": 5,
   "id": "be63b350-6a03-4955-8dd7-13e7bacc6270",
   "metadata": {},
   "outputs": [],
   "source": [
    "def search_insert(nums, target):\n",
    "    left = 0\n",
    "    right = len(nums) - 1\n",
    "    \n",
    "    while left <= right:\n",
    "        mid = left + (right - left) // 2\n",
    "        \n",
    "        if nums[mid] == target:\n",
    "            return mid\n",
    "        \n",
    "        if nums[mid] < target:\n",
    "            left = mid + 1\n",
    "        else:\n",
    "            right = mid - 1\n",
    "    \n",
    "    # The target is not found, return the index where it would be inserted\n",
    "    return left"
   ]
  },
  {
   "cell_type": "code",
   "execution_count": 6,
   "id": "755c93c0-c946-49e4-ac74-8f07ea6e5325",
   "metadata": {},
   "outputs": [
    {
     "name": "stdout",
     "output_type": "stream",
     "text": [
      "2\n"
     ]
    }
   ],
   "source": [
    "nums = [1, 3, 5, 6]\n",
    "target = 5\n",
    "result = search_insert(nums, target)\n",
    "print(result)"
   ]
  },
  {
   "cell_type": "markdown",
   "id": "7a3fd4d2-7335-4cc5-94df-70468b5f44f8",
   "metadata": {},
   "source": [
    "## Q4. "
   ]
  },
  {
   "cell_type": "code",
   "execution_count": 7,
   "id": "4cd1ed9e-1eee-475c-887f-251e2befed1d",
   "metadata": {},
   "outputs": [],
   "source": [
    "def plus_one(digits):\n",
    "    # Start from the rightmost digit\n",
    "    n = len(digits)\n",
    "    i = n - 1\n",
    "    \n",
    "    # Iterate through the digits\n",
    "    while i >= 0:\n",
    "        # Increment the current digit by one\n",
    "        digits[i] += 1\n",
    "        \n",
    "        # Check if there is a carry\n",
    "        if digits[i] < 10:\n",
    "            return digits\n",
    "        \n",
    "        # If there is a carry, set the current digit to 0\n",
    "        digits[i] = 0\n",
    "        i -= 1\n",
    "    \n",
    "    # If we reach here, it means there is a carry in the most significant digit\n",
    "    # In that case, insert a new digit 1 at the beginning\n",
    "    digits.insert(0, 1)\n",
    "    \n",
    "    return digits"
   ]
  },
  {
   "cell_type": "code",
   "execution_count": 8,
   "id": "98372190-0d96-4c2d-99a9-6e97448262dc",
   "metadata": {},
   "outputs": [
    {
     "name": "stdout",
     "output_type": "stream",
     "text": [
      "[1, 2, 4]\n"
     ]
    }
   ],
   "source": [
    "digits = [1, 2, 3]\n",
    "result = plus_one(digits)\n",
    "print(result)"
   ]
  },
  {
   "cell_type": "markdown",
   "id": "115e136c-9e1a-4bc2-98b5-a6e2a5fc56d4",
   "metadata": {},
   "source": [
    "## Q5."
   ]
  },
  {
   "cell_type": "code",
   "execution_count": 9,
   "id": "6013c2fa-edaf-4dd8-bc31-2b05ecaf495f",
   "metadata": {},
   "outputs": [],
   "source": [
    "def merge(nums1, m, nums2, n):\n",
    "    # Start from the rightmost positions in nums1, nums2, and the merged array\n",
    "    i = m - 1\n",
    "    j = n - 1\n",
    "    k = m + n - 1\n",
    "    \n",
    "    # Merge the arrays while there are still elements in both nums1 and nums2\n",
    "    while i >= 0 and j >= 0:\n",
    "        if nums1[i] > nums2[j]:\n",
    "            nums1[k] = nums1[i]\n",
    "            i -= 1\n",
    "        else:\n",
    "            nums1[k] = nums2[j]\n",
    "            j -= 1\n",
    "        k -= 1\n",
    "    \n",
    "    # If there are remaining elements in nums2, copy them to the merged array\n",
    "    while j >= 0:\n",
    "        nums1[k] = nums2[j]\n",
    "        j -= 1\n",
    "        k -= 1"
   ]
  },
  {
   "cell_type": "code",
   "execution_count": 10,
   "id": "128611aa-d23a-4a5b-905d-d1332ff5e05f",
   "metadata": {},
   "outputs": [
    {
     "name": "stdout",
     "output_type": "stream",
     "text": [
      "[1, 2, 2, 3, 5, 6]\n"
     ]
    }
   ],
   "source": [
    "nums1 = [1, 2, 3, 0, 0, 0]\n",
    "m = 3\n",
    "nums2 = [2, 5, 6]\n",
    "n = 3\n",
    "\n",
    "merge(nums1, m, nums2, n)\n",
    "print(nums1)"
   ]
  },
  {
   "cell_type": "markdown",
   "id": "75fc7b4f-a508-46ac-88ac-a1464a245f34",
   "metadata": {},
   "source": [
    "## Q6. "
   ]
  },
  {
   "cell_type": "code",
   "execution_count": 11,
   "id": "bc2de061-4e9e-4cde-bd2f-044e669672c0",
   "metadata": {},
   "outputs": [],
   "source": [
    "def contains_duplicate(nums):\n",
    "    # Create a set to store unique elements\n",
    "    unique_set = set()\n",
    "    \n",
    "    # Iterate through the array\n",
    "    for num in nums:\n",
    "        # If the element is already in the set, it's a duplicate\n",
    "        if num in unique_set:\n",
    "            return True\n",
    "        \n",
    "        # Add the element to the set\n",
    "        unique_set.add(num)\n",
    "    \n",
    "    # If we reach here, no duplicates were found\n",
    "    return False"
   ]
  },
  {
   "cell_type": "code",
   "execution_count": 12,
   "id": "ef1f935a-bb0c-4037-ae41-a5b45c1660ee",
   "metadata": {},
   "outputs": [
    {
     "name": "stdout",
     "output_type": "stream",
     "text": [
      "True\n"
     ]
    }
   ],
   "source": [
    "nums = [1, 2, 3, 1]\n",
    "result = contains_duplicate(nums)\n",
    "print(result)"
   ]
  },
  {
   "cell_type": "markdown",
   "id": "44dfafa2-08bd-4cfc-a520-33e542c30ad4",
   "metadata": {},
   "source": [
    "## Q7. "
   ]
  },
  {
   "cell_type": "code",
   "execution_count": 13,
   "id": "9192b020-fb50-49a6-85e5-53e5176c215a",
   "metadata": {},
   "outputs": [],
   "source": [
    "def move_zeros(nums):\n",
    "    # Initialize a pointer to keep track of the position to insert non-zero elements\n",
    "    insert_pos = 0\n",
    "    \n",
    "    # Iterate through the array\n",
    "    for num in nums:\n",
    "        if num != 0:\n",
    "            # If the current element is non-zero, move it to the insert position\n",
    "            nums[insert_pos] = num\n",
    "            insert_pos += 1\n",
    "    \n",
    "    # Fill the remaining positions with zeros\n",
    "    while insert_pos < len(nums):\n",
    "        nums[insert_pos] = 0\n",
    "        insert_pos += 1"
   ]
  },
  {
   "cell_type": "code",
   "execution_count": 14,
   "id": "fe51405f-45ea-4fff-88d3-174e7b26307c",
   "metadata": {},
   "outputs": [
    {
     "name": "stdout",
     "output_type": "stream",
     "text": [
      "[1, 3, 12, 0, 0]\n"
     ]
    }
   ],
   "source": [
    "nums = [0, 1, 0, 3, 12]\n",
    "move_zeros(nums)\n",
    "print(nums)"
   ]
  },
  {
   "cell_type": "markdown",
   "id": "27bdd561-c430-493c-b0b4-1b69e55fc220",
   "metadata": {},
   "source": [
    "## Q8."
   ]
  },
  {
   "cell_type": "code",
   "execution_count": 15,
   "id": "0b4c136b-93b8-4f02-b222-6d504f2a2ffe",
   "metadata": {},
   "outputs": [],
   "source": [
    "def find_error_nums(nums):\n",
    "    n = len(nums)\n",
    "    nums_set = set(nums)\n",
    "    \n",
    "    # Find the number that occurs twice\n",
    "    duplicate = sum(nums) - sum(nums_set)\n",
    "    \n",
    "    # Find the number that is missing\n",
    "    missing = (n * (n + 1) // 2) - sum(nums_set)\n",
    "    \n",
    "    return [duplicate, missing]"
   ]
  },
  {
   "cell_type": "code",
   "execution_count": 16,
   "id": "5b17512c-de98-44ce-b7ee-f945dc107d9f",
   "metadata": {},
   "outputs": [
    {
     "name": "stdout",
     "output_type": "stream",
     "text": [
      "[2, 3]\n"
     ]
    }
   ],
   "source": [
    "nums = [1, 2, 2, 4]\n",
    "result = find_error_nums(nums)\n",
    "print(result)"
   ]
  },
  {
   "cell_type": "code",
   "execution_count": null,
   "id": "2f7709f2-586b-4523-8e49-24458f300ca3",
   "metadata": {},
   "outputs": [],
   "source": []
  }
 ],
 "metadata": {
  "kernelspec": {
   "display_name": "Python 3 (ipykernel)",
   "language": "python",
   "name": "python3"
  },
  "language_info": {
   "codemirror_mode": {
    "name": "ipython",
    "version": 3
   },
   "file_extension": ".py",
   "mimetype": "text/x-python",
   "name": "python",
   "nbconvert_exporter": "python",
   "pygments_lexer": "ipython3",
   "version": "3.10.8"
  }
 },
 "nbformat": 4,
 "nbformat_minor": 5
}
