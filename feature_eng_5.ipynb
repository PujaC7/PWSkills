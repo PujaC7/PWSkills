{
 "cells": [
  {
   "cell_type": "markdown",
   "id": "6647667b-c2d4-41e0-9c7d-7cf1b93efa67",
   "metadata": {},
   "source": [
    "## Q1.  LabelEncoder should be used to encode target values, i.e. y, and not the input X. Ordinal encoding should be used for ordinal variables (where order matters, like cold , warm , hot ); vs Label encoding should be used for non-ordinal (aka nominal) variables (where order doesn't matter, like blonde , brunette )\n",
    "### we use ordinal encoding to preserve order of categorical data i.e. cold, warm, hot; low, medium, high. You use label encoding or one hot for categorical data, where there's no order in data i.e. dog, cat, whale."
   ]
  },
  {
   "cell_type": "markdown",
   "id": "fd72da74-3ee6-42fc-9436-c3434c678ce2",
   "metadata": {},
   "source": [
    "## Q2.  Target encoding is the process of replacing a categorical value with the mean of the target variable. Any non-categorical columns are automatically dropped by the target encoder model. Note: You can also use target encoding to convert categorical columns to numeric.\n",
    "### For instance, Seattle can be replaced with average of salary (target variable) of all datapoints where city is Seattle."
   ]
  },
  {
   "cell_type": "markdown",
   "id": "803eaf5d-5f32-41d4-b949-009fec81ffc9",
   "metadata": {},
   "source": [
    "## Q3.  Covariance measures the direction of the relationship between two variables. A positive covariance means that both variables tend to be high or low at the same time. A negative covariance means that when one variable is high, the other tends to be low.\n",
    "### Covariance and correlation greatly aid in understanding the relationship between two continuous variables. Covariance indicates whether two variables fluctuate in the same (positive covariance) or opposite direction (negative covariance). The numerical value of covariance has no importance; only the sign is relevant.\n",
    "### Covariance is calculated by analyzing at-return surprises (standard deviations from the expected return) or multiplying the correlation between the two random variables by the standard deviation of each variable."
   ]
  },
  {
   "cell_type": "markdown",
   "id": "494de9fd-7d14-43fd-8346-de658737bf48",
   "metadata": {},
   "source": [
    "## Q4.  code"
   ]
  },
  {
   "cell_type": "code",
   "execution_count": 7,
   "id": "373e1795-5ad8-46a8-b184-48e62c85831b",
   "metadata": {},
   "outputs": [
    {
     "name": "stdout",
     "output_type": "stream",
     "text": [
      "  colour    size material\n",
      "0    red   small     wood\n",
      "1  green  medium    metal\n",
      "2   blue   large   plasti\n"
     ]
    }
   ],
   "source": [
    "import numpy as np\n",
    "import pandas as pd\n",
    "\n",
    "df = pd.DataFrame({'colour': ['red', 'green', 'blue'],'size': ['small', 'medium', 'large'], 'material' : ['wood', 'metal', 'plasti']})\n",
    "print(df)"
   ]
  },
  {
   "cell_type": "code",
   "execution_count": 10,
   "id": "d54e1c59-6f56-4cda-81c2-b3730e6ab378",
   "metadata": {},
   "outputs": [
    {
     "data": {
      "text/plain": [
       "array([2, 0, 1])"
      ]
     },
     "execution_count": 10,
     "metadata": {},
     "output_type": "execute_result"
    }
   ],
   "source": [
    "df['colour'].unique()\n",
    "df['size'].unique()\n",
    "df['material'].unique()\n",
    "\n",
    "from sklearn import preprocessing\n",
    "\n",
    "label_encoder = preprocessing.LabelEncoder()\n",
    "df['colour']= label_encoder.fit_transform(df['colour'])\n",
    "df['size']= label_encoder.fit_transform(df['size'])\n",
    "df['material']= label_encoder.fit_transform(df['material'])\n",
    "  \n",
    "df['colour'].unique()\n",
    "df['size'].unique()\n",
    "df['material'].unique()"
   ]
  },
  {
   "cell_type": "markdown",
   "id": "bcf20491-915d-4c90-a3fe-2eaaf127d8bd",
   "metadata": {},
   "source": [
    "## Q5.  calculate the covariance matrix"
   ]
  },
  {
   "cell_type": "code",
   "execution_count": 14,
   "id": "c4a1c2df-cdd7-4d2d-be04-db5f18b84623",
   "metadata": {},
   "outputs": [
    {
     "name": "stdout",
     "output_type": "stream",
     "text": [
      "   age  income  educational level\n",
      "0   15       0                  9\n",
      "1   18       5                 12\n",
      "2   21      10                 15\n"
     ]
    }
   ],
   "source": [
    "import numpy as np\n",
    "import pandas as pd\n",
    "\n",
    "df = pd.DataFrame({'age': [15,18,21],'income': [0,5,10], 'educational level' : [9,12,15]})\n",
    "print(df)"
   ]
  },
  {
   "cell_type": "markdown",
   "id": "e23af0cf-97ee-4767-8245-9ce7ffd079fc",
   "metadata": {},
   "source": [
    "###  using the variance formula we get, n=3, mean(age)= (15+18+21)/3 = 18, mean(income)= (0+5+10)/3 = 5, mean(education level)= (9+12+15)/3 = 12, var(age) = 9 , var(income) = 25 , var(educational level) = 9.\n",
    "### now cov(age, income) = 0 , cov(income, educational level) = 0 , cov(educational level, age) =  9\n",
    "### covariance matrix is [[9,0,9],[0,25,0],[9,0,9]]"
   ]
  },
  {
   "cell_type": "markdown",
   "id": "10f7fcc8-eb88-4a14-a983-eea04cdee5a7",
   "metadata": {},
   "source": [
    "## Q6.  we use label encoding\n",
    "### To make the data understandable for the model, it is often labeled using Label encoding. Label Encoding is a technique of converting the labels into numeric form so that it could be ingested to a machine learning model. It is an important step in data preprocessing for supervised learning techniques."
   ]
  },
  {
   "cell_type": "markdown",
   "id": "c2c8dc54-3cdc-453e-b77d-f72e96cdf91a",
   "metadata": {},
   "source": [
    "## Q7.  The steps to find the covariance matrix for a sample are as follows: Find the sample variance for all datasets using the formula. Find the sample covariance between all pairs of datasets. Substitute the values in the matrix form. hence we get covariace matrix"
   ]
  },
  {
   "cell_type": "code",
   "execution_count": null,
   "id": "f178d00a-b948-4dbd-97a1-ec7bbc116163",
   "metadata": {},
   "outputs": [],
   "source": []
  }
 ],
 "metadata": {
  "kernelspec": {
   "display_name": "Python 3 (ipykernel)",
   "language": "python",
   "name": "python3"
  },
  "language_info": {
   "codemirror_mode": {
    "name": "ipython",
    "version": 3
   },
   "file_extension": ".py",
   "mimetype": "text/x-python",
   "name": "python",
   "nbconvert_exporter": "python",
   "pygments_lexer": "ipython3",
   "version": "3.10.8"
  }
 },
 "nbformat": 4,
 "nbformat_minor": 5
}
