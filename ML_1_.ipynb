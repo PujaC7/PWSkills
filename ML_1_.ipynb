{
 "cells": [
  {
   "cell_type": "markdown",
   "id": "c3024120-bc0a-4e45-a190-d067f51dcc70",
   "metadata": {},
   "source": [
    "## Q1.  Artificial intelligence is the simulation of human intelligence processes by machines, especially computer systems. Specific applications of AI include expert systems, natural language processing, speech recognition and machine vision.\n",
    "example: Self-driving cars, Smart assistants\n",
    "## Machine learning is a branch of artificial intelligence (AI) and computer science which focuses on the use of data and algorithms to imitate the way that humans learn, gradually improving its accuracy.\n",
    "example: Chatbot (Online Customer Support), Google Translation.\n",
    "## Deep learning is a subset of machine learning, which is essentially a neural network with three or more layers. These neural networks attempt to simulate the behavior of the human brain—albeit far from matching its ability—allowing it to “learn” from large amounts of data.\n",
    "example: Image colorization, Facial recognition."
   ]
  },
  {
   "cell_type": "markdown",
   "id": "ea382140-ee11-4aa9-950c-a4933c035ccf",
   "metadata": {},
   "source": [
    "## Q2.  Supervised learning, also known as supervised machine learning, is a subcategory of machine learning and artificial intelligence. It is defined by its use of labeled datasets to train algorithms that to classify data or predict outcomes accurately.\n",
    "For example, yes or no, male or female, true or false, etc. In order to predict whether a mail is spam or not, we need to first teach the machine what a spam mail is."
   ]
  },
  {
   "cell_type": "markdown",
   "id": "cf9c4044-31f2-48cd-a8cd-cae52e30b67b",
   "metadata": {},
   "source": [
    "## Q3.  Unsupervised learning, also known as unsupervised machine learning, uses machine learning algorithms to analyze and cluster unlabeled datasets. These algorithms discover hidden patterns or data groupings without the need for human intervention.\n",
    "Some examples of unsupervised learning algorithms include K-Means Clustering, Principal Component Analysis and Hierarchical Clustering"
   ]
  },
  {
   "cell_type": "markdown",
   "id": "df1622ba-0f1b-4f80-9400-debccf15b831",
   "metadata": {},
   "source": [
    "## Q4.  difference between AI ML DL and DS\n",
    "### Machine Learning (ML) is a subset of AI; it provides us statistical tools/techniques like Supervised, Unsupervised, and Reinforcement learning to explore and analyze the data.\n",
    "### Deep Learning (DL) is further a subset of ML, and the main idea behind it is to make machines learn by mimicking the human brain.\n",
    "### Machine learning helps make artificial intelligence — the science of making machines capable of human-like decision-making — possible. Data science is the process of developing systems that gather and analyze disparate information to uncover solutions to various business challenges and solve real-world problems."
   ]
  },
  {
   "cell_type": "markdown",
   "id": "707fd92a-7833-4d61-b79c-b8e254db43e3",
   "metadata": {},
   "source": [
    "## Q5.  differences between supervised learning unsupervised learning and semi-supervised learning\n",
    "### Supervised learning aims to learn a function that, given a sample of data and desired outputs, approximates a function that maps inputs to outputs.  supervised learning uses labeled input and output data, while an unsupervised learning algorithm does not. Semi-supervised learning aims to label unlabeled data points using knowledge learned from a small number of labeled data points."
   ]
  },
  {
   "cell_type": "markdown",
   "id": "a16db89f-d969-4bed-8f1e-f2dd2581b458",
   "metadata": {},
   "source": [
    "## Q6.  Split Validation is a way to predict the fit of a model to a hypothetical testing set when an explicit testing set is not available. The Split Validation operator also allows training on one data set and testing on another explicit testing data set.In general, putting 80% of the data in the training set, 10% in the validation set, and 10% in the test set is a good split to start with. The optimum split of the test, validation, and train set depends upon factors such as the use case, the structure of the model, dimension of the data, etc.\n",
    "### Validation split helps to improve the model performance by fine-tuning the model after each epoch. The test set informs us about the final accuracy of the model after completing the training phase. The training set should not be too small; else, the model will not have enough data to learn."
   ]
  },
  {
   "cell_type": "markdown",
   "id": "238379df-f6fd-4553-8d3c-8df590a135de",
   "metadata": {},
   "source": [
    "## Q7.  Anomaly detection techniques of unsupervised nature assume that normal data points occur considerably more frequently than anomalous data points. This assumption is used to classify data points that occur less frequently as anomalies. Unsupervised techniques assign each data point a score instead of a label."
   ]
  },
  {
   "cell_type": "markdown",
   "id": "8ac462e9-80aa-4430-9602-08c281fffc35",
   "metadata": {},
   "source": [
    "## Q8.  The most commonly used Supervised Learning algorithms are decision tree, logistic regression, linear regression, support vector machine. The most commonly used Unsupervised Learning algorithms are k-means clustering, hierarchical clustering, and apriori algorithm."
   ]
  },
  {
   "cell_type": "code",
   "execution_count": null,
   "id": "34c031b4-dfd7-42c9-b8c2-65dafa732138",
   "metadata": {},
   "outputs": [],
   "source": []
  }
 ],
 "metadata": {
  "kernelspec": {
   "display_name": "Python 3 (ipykernel)",
   "language": "python",
   "name": "python3"
  },
  "language_info": {
   "codemirror_mode": {
    "name": "ipython",
    "version": 3
   },
   "file_extension": ".py",
   "mimetype": "text/x-python",
   "name": "python",
   "nbconvert_exporter": "python",
   "pygments_lexer": "ipython3",
   "version": "3.10.8"
  }
 },
 "nbformat": 4,
 "nbformat_minor": 5
}
