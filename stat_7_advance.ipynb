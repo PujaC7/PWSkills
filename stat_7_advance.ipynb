{
 "cells": [
  {
   "cell_type": "markdown",
   "id": "f4047845-b0ed-4f8a-9390-74243e96b01e",
   "metadata": {},
   "source": [
    "## Q1. code"
   ]
  },
  {
   "cell_type": "code",
   "execution_count": 1,
   "id": "7af2f838-d5a5-4866-ae00-806e29561098",
   "metadata": {},
   "outputs": [
    {
     "name": "stdout",
     "output_type": "stream",
     "text": [
      "0.010464 0.00042400000000000017\n"
     ]
    },
    {
     "data": {
      "text/plain": [
       "(24.679245283018858, 0.004431318383760985)"
      ]
     },
     "execution_count": 1,
     "metadata": {},
     "output_type": "execute_result"
    }
   ],
   "source": [
    "import numpy as np\n",
    "import scipy.stats\n",
    "  \n",
    "# Create data\n",
    "group1 = [0.28, 0.2, 0.26, 0.28, 0.5]\n",
    "group2 = [0.2, 0.23, 0.26, 0.21, 0.23]\n",
    "  \n",
    "# converting the list to array\n",
    "x = np.array(group1)\n",
    "y = np.array(group2)\n",
    "  \n",
    "# calculate variance of each group\n",
    "print(np.var(group1), np.var(group2))\n",
    "  \n",
    "def f_test(group1, group2):\n",
    "    f = np.var(group1, ddof=1)/np.var(group2, ddof=1)\n",
    "    nun = x.size-1\n",
    "    dun = y.size-1\n",
    "    p_value = 1-scipy.stats.f.cdf(f, nun, dun)\n",
    "    return f, p_value\n",
    "  \n",
    "# perform F-test\n",
    "f_test(x, y)"
   ]
  },
  {
   "cell_type": "markdown",
   "id": "c7078fa7-49f6-4769-98c0-29e31906f355",
   "metadata": {},
   "source": [
    "## Q2.  code"
   ]
  },
  {
   "cell_type": "code",
   "execution_count": 2,
   "id": "68c296fa-ba55-439c-b0ed-d1f859234dea",
   "metadata": {},
   "outputs": [
    {
     "name": "stdout",
     "output_type": "stream",
     "text": [
      "4.533676950275243\n"
     ]
    }
   ],
   "source": [
    "import scipy.stats\n",
    "  \n",
    "# Determine the F critical value\n",
    "print(scipy.stats.f.ppf(q=1-.05, dfn=4, dfd=6))"
   ]
  },
  {
   "cell_type": "markdown",
   "id": "caf0bd0d-b579-4bf1-b35e-6dd0233e71e6",
   "metadata": {},
   "source": [
    "## Q3.  code"
   ]
  },
  {
   "cell_type": "code",
   "execution_count": 3,
   "id": "6967ea52-000e-4a92-b492-cf1c5008ee6a",
   "metadata": {},
   "outputs": [
    {
     "data": {
      "text/plain": [
       "Ttest_indResult(statistic=-0.6337397070250238, pvalue=0.5300471010405257)"
      ]
     },
     "execution_count": 3,
     "metadata": {},
     "output_type": "execute_result"
    }
   ],
   "source": [
    "import scipy.stats as stats\n",
    " \n",
    "# Creating data groups\n",
    "data_group1 = np.array([14, 15, 15, 16, 13, 8, 14,\n",
    "                        17, 16, 14, 19, 20, 21, 15,\n",
    "                        15, 16, 16, 13, 14, 12])\n",
    " \n",
    "data_group2 = np.array([15, 17, 14, 17, 14, 8, 12,\n",
    "                        19, 19, 14, 17, 22, 24, 16,\n",
    "                        13, 16, 13, 18, 15, 13])\n",
    " \n",
    "# Perform the two sample t-test with equal variances\n",
    "stats.ttest_ind(a=data_group1, b=data_group2, equal_var=True)"
   ]
  },
  {
   "cell_type": "markdown",
   "id": "21a04cda-27c3-4370-86e6-dac787fe1319",
   "metadata": {},
   "source": [
    "## Q6.  code"
   ]
  },
  {
   "cell_type": "code",
   "execution_count": 4,
   "id": "a059cd51-9fc5-4c28-9358-aef6c2fee76e",
   "metadata": {},
   "outputs": [
    {
     "name": "stdout",
     "output_type": "stream",
     "text": [
      "Variance of Sample set is 0.3656666666666667\n"
     ]
    }
   ],
   "source": [
    "import statistics\n",
    " \n",
    "# creating a sample list\n",
    "sample = (1, 1.3, 1.2, 1.9, 2.5, 2.2)\n",
    " \n",
    "# calculating the mean of sample set\n",
    "m = statistics.mean(sample)\n",
    " \n",
    " \n",
    "# calculating the variance of sample set\n",
    "print(\"Variance of Sample set is % s\"\n",
    "    %(statistics.variance(sample, xbar = m)))"
   ]
  }
 ],
 "metadata": {
  "kernelspec": {
   "display_name": "Python 3 (ipykernel)",
   "language": "python",
   "name": "python3"
  },
  "language_info": {
   "codemirror_mode": {
    "name": "ipython",
    "version": 3
   },
   "file_extension": ".py",
   "mimetype": "text/x-python",
   "name": "python",
   "nbconvert_exporter": "python",
   "pygments_lexer": "ipython3",
   "version": "3.10.8"
  }
 },
 "nbformat": 4,
 "nbformat_minor": 5
}
