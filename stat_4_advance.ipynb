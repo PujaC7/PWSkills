{
 "cells": [
  {
   "cell_type": "markdown",
   "id": "7817cbc0-1c6b-420f-97e3-c48a7881b43a",
   "metadata": {},
   "source": [
    "## Q1.  T-test refers to a type of parametric test that is applied to identify, how the means of two sets of data differ from one another when variance is not given. Z-test implies a hypothesis test which ascertains if the means of two datasets are different from each other when variance is given.\n",
    "### Examples on Z Test\n",
    "A teacher claims that the mean score of students in his class is greater than 82 with a standard deviation of 20. If a sample of 81 students was selected with a mean score of 90 then check if there is enough evidence to support this claim at a 0.05 significance level.\n",
    "### A one-sample t-test is used to compare a single population to a standard value\n",
    "example, to determine whether the average lifespan of a specific town is different from the country average"
   ]
  },
  {
   "cell_type": "markdown",
   "id": "b0923af4-facb-477d-b446-76a80d6fca4d",
   "metadata": {},
   "source": [
    "## Q2.  A one-tailed test is used to ascertain if there is any relationship between variables in a single direction, i.e. left or right. As against this, the two-tailed test is used to identify whether or not there is any relationship between variables in either direction."
   ]
  },
  {
   "cell_type": "markdown",
   "id": "64896bb5-2b80-46e2-b94b-f5ff645c963c",
   "metadata": {},
   "source": [
    "## Q3.  A type I error (false-positive) occurs if an investigator rejects a null hypothesis that is actually true in the population; a type II error (false-negative) occurs if the investigator fails to reject a null hypothesis that is actually false in the population.\n",
    "### example\n",
    "Type I error (false positive): the test result says you have coronavirus, but you actually don't. Type II error (false negative): the test result says you don't have coronavirus, but you actually do."
   ]
  },
  {
   "cell_type": "markdown",
   "id": "43c7250c-fb7b-4e84-ba5a-de5fd9803c8c",
   "metadata": {},
   "source": [
    "## Q4.  Bayes theorem gives the probability of an “event” with the given information on “tests”. There is a difference between “events” and “tests”. For example there is a test for liver disease, which is different from actually having the liver disease, i.e. an event. Rare events might be having a higher false positive rate."
   ]
  },
  {
   "cell_type": "markdown",
   "id": "58ffc985-9340-4570-946a-be758a8a22d3",
   "metadata": {},
   "source": [
    "## Q5.  A confidence interval, in statistics, refers to the probability that a population parameter will fall between a set of values for a certain proportion of times. Analysts often use confidence intervals than contain either 95% or 99% of expected observations.\n",
    "### Retail products example\n",
    "A retail company wants to rate the quality of a product by using results from a customer satisfaction survey. In the survey, the company asks respondents to rate the quality on a scale of one to five, with one being the poorest quality and five being the highest quality.\n",
    "\n",
    "The sample size is 25, the sample mean is 4.5 and the standard deviation is 2.5. The company calculates the confidence interval assuming a 97% confidence level:\n",
    "\n",
    "Confidence interval = 4.5 ± 0.97(2.5 ÷ √25) = 4.5 ± 0.97(2.5 ÷ 5) = 4.5 ± 0.97(0.5) = 4.5 ± 0.485 = 4.985, 4.015\n",
    "\n",
    "The confidence interval ranges between 4.985 and 4.015, which means the customers in the sample rate the product quality between four and five. The company's confidence level of 97% represents the likelihood that these results are the same within the entire population of customers."
   ]
  },
  {
   "cell_type": "markdown",
   "id": "8d541226-6f64-472b-adeb-595ccabb0751",
   "metadata": {},
   "source": [
    "## Q6.  To determine the probability of an event A given that the related event B has already occurred, that is, P(A|B) using the Bayes Theorem, we calculate the probability of the event B, that is, P(B); the probability of event B given that event A has occurred, that is, P(B|A); and the probability of the event A\n",
    "### example\n",
    "Example 1: Amy has two bags. Bag I has 7 red and 2 blue balls and bag II has 5 red and 9 blue balls. Amy draws a ball at random and it turns out to be red. Determine the probability that the ball was from the bag I using the Bayes theorem.\n",
    "\n",
    "Solution: Let X and Y be the events that the ball is from the bag I and bag II, respectively. Assume A to be the event of drawing a red ball. We know that the probability of choosing a bag for drawing a ball is 1/2, that is,\n",
    "P(X) = P(Y) = 1/2\n",
    "\n",
    "Since there are 7 red balls out of a total of 11 balls in the bag I, therefore, P(drawing a red ball from the bag I) = P(A|X) = 7/11\n",
    "\n",
    "Similarly, P(drawing a red ball from bag II) = P(A|Y) = 5/14\n",
    "\n",
    "We need to determine the value of P(the ball drawn is from the bag I given that it is a red ball), that is, P(X|A). To determine this we will use Bayes Theorem. Using Bayes theorem, we have the following:\n",
    "P(X|A) = P(A|X)P(X) / P(A|X)P(X)+P(A|Y)P(Y)\n",
    "= [((7/11)(1/2))/(7/11)(1/2)+(5/14)(1/2)]\n",
    "= 0.64\n",
    "Answer: Hence, the probability that the ball is drawn is from bag I is 0.64"
   ]
  },
  {
   "cell_type": "markdown",
   "id": "d417ba9d-e0aa-43dd-bed6-a333e9a32cbc",
   "metadata": {},
   "source": [
    "## Q7.  formula is Confidence interval (CI) = ‾X ± Z(S ÷ √n) , where ‾X represents the sample mean, Z represents the Z-value you get from the normal standard distribution, S is the population standard deviation and n represents the sample size \n",
    "### CI = ( 50 - 1.96(5/sqrt(25)) , 50 + 1.96(5/sqrt(25)) )  = ( 48.04, 51.96 ) , this is the required answer assuming sample size 25"
   ]
  },
  {
   "cell_type": "markdown",
   "id": "c3351540-827a-4e71-8101-fff4102108ac",
   "metadata": {},
   "source": [
    "## Q8.  Margin of error, also called confidence interval, tells you how much you can expect your survey results to reflect the views from the overall population.\n",
    "### Sample size and margin of error\n",
    "It is intuitive that a greater sample size will be a closer representative of the population than a smaller sample size. Hence, the larger the sample size, the smaller the sample standard error and therefore the smaller the margin of error\n",
    "### Each time you survey one more person, the cost of your survey increases, and going from a sample size of, say, 1,500 to a sample size of 2,000 decreases your margin of error by only 0.34% (one third of one percent!)"
   ]
  },
  {
   "cell_type": "markdown",
   "id": "0811c9f0-0990-4e44-8e56-9ecf299b40a3",
   "metadata": {},
   "source": [
    "## Q9.  z = (x̄ - μ)/σ = (75-70)/5 = 1"
   ]
  },
  {
   "cell_type": "markdown",
   "id": "c23da778-ffdd-4f43-a858-6fd378bdb2fc",
   "metadata": {},
   "source": [
    "## Q10.  H0 accepted hypothesis:the population mean = the claimed value⇒ μ = μ0, H0 alternate hypothesis: the population mean not equal to the claimed value⇒ μ ≠ μ0\n",
    "t-test formula for independent test is \n",
    "t=(m−μ)/s√n\n",
    "Mean sale = 70, μ = 60, s= 2.5 and n= 50\n",
    "\n",
    "substituting the values, we get t= (70-60)/(2.5/√50)\n",
    "\n",
    "t = 28.57\n",
    "\n",
    "looking at the t-table we find 28.57 > CV for α = 0.05. ∴ the accepted hypothesis is not true."
   ]
  },
  {
   "cell_type": "markdown",
   "id": "1ee6618a-339a-48f8-8b60-576277f0b589",
   "metadata": {},
   "source": [
    "## Q11. The sample size is n=500\n",
    "The sample mean is ¯x=65%=0.65\n",
    "\n",
    "The confidence level is \n",
    "CL=95%=0.95.\n",
    "\n",
    "The significance level is,\n",
    "α=1−CL=1−0.95=0.05\n",
    "\n",
    "The standard critical value \n",
    "z(α/2)\n",
    " corresponding to 95% confidence level from normal distribution table is, \n",
    "z(0.025)=1.96\n",
    "\n",
    "The lower limit of confidence interval is,\n",
    "\n",
    "μL=¯x − z(0.025)√((¯x(1−¯x))/n)=0.65−1.96√((0.65(1−0.65))/500) = 0.65-0.0429=0.6070\n",
    "\n",
    "\n",
    "The upper limit of confidence interval is,\n",
    "\n",
    "μL=¯x + z(0.025)√((¯x(1−¯x))/n)=0.65−1.96√((0.65(1−0.65))/500) = 0.65+0.0429=0.6929\n",
    "\n",
    "\n",
    "Thus, the confidence interval at 95% is (0.6070, 0.6929)."
   ]
  },
  {
   "cell_type": "markdown",
   "id": "429890e5-bd09-44dd-9f16-fe8d5cc1563d",
   "metadata": {},
   "source": [
    "## Q12.  This is an independent samples t-test problem as the two groups being compared are independent of each other. To perform the t-test, we first calculate the t-value using the t test formula:\n",
    "t=¯X1−¯X2√((s1*s1)/n1+(s2*s2)/n2)\n",
    "\n",
    "where mean1 is the mean test score for the in-person group,\n",
    "mean2 is the mean test score for the online group\n",
    "s1 and s2 are the standard deviations for the two groups\n",
    "and n1 and n2 are the sample sizes.\n",
    "Substituting the numbers, we get:\n",
    "\n",
    "t = (85 - 82) / (sqrt((36/25) + (25/25))) = 1.92\n",
    "\n",
    "Next, a t-table is used to find the critical t-value for the desired level of significance and degrees of freedom (df = n1 + n2 - 2).\n",
    "\n",
    "Let us assume a significance level of 0.01. The critical t-value is 1.92, assuming  population size 25\n"
   ]
  },
  {
   "cell_type": "markdown",
   "id": "65f593c0-8993-40e3-a8bd-3532c7db42ff",
   "metadata": {},
   "source": [
    "## Q13.  H0 accepted hypothesis:the population mean = the claimed value⇒ μ = μ0, H0 alternate hypothesis: the population mean not equal to the claimed value⇒ μ ≠ μ0\n",
    "t-test formula for independent test is \n",
    "t=(m−μ)/s√n\n",
    "Mean sale = 60, μ = 65, s= 8 and n= 50\n",
    "\n",
    "substituting the values, we get t= (60-65)/(8/√50)\n",
    "\n",
    "t = -4.42\n",
    "\n",
    "looking at the t-table we find -4.42 > CV for α = 0.1. ∴ the accepted hypothesis is not true."
   ]
  },
  {
   "cell_type": "markdown",
   "id": "1571891a-5827-4413-a406-d1fe6f591eec",
   "metadata": {},
   "source": [
    "## Q14.  H0 accepted hypothesis:the population mean = the claimed value⇒ μ = μ0, H0 alternate hypothesis: the population mean not equal to the claimed value⇒ μ ≠ μ0\n",
    "t-test formula for independent test is \n",
    "t=(m−μ)/s√n\n",
    "Mean sale =0.5 , μ = 0.25, s= 0.5 and n= 30\n",
    "\n",
    "substituting the values, we get t= (0.5-0.25)/(0.5/√30)\n",
    "\n",
    "t = 2.78\n",
    "\n",
    "looking at the t-table we find 2.78 > CV for α = 0.1. ∴ the accepted hypothesis is not true."
   ]
  }
 ],
 "metadata": {
  "kernelspec": {
   "display_name": "Python 3 (ipykernel)",
   "language": "python",
   "name": "python3"
  },
  "language_info": {
   "codemirror_mode": {
    "name": "ipython",
    "version": 3
   },
   "file_extension": ".py",
   "mimetype": "text/x-python",
   "name": "python",
   "nbconvert_exporter": "python",
   "pygments_lexer": "ipython3",
   "version": "3.10.8"
  }
 },
 "nbformat": 4,
 "nbformat_minor": 5
}
