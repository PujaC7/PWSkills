{
 "cells": [
  {
   "cell_type": "markdown",
   "id": "7a5ec2d2-3d87-4d2a-9563-6a48582f9c26",
   "metadata": {},
   "source": [
    "##  Q1. code"
   ]
  },
  {
   "cell_type": "code",
   "execution_count": 8,
   "id": "f4072bc1-2cd3-4af0-9021-eb4ef0560749",
   "metadata": {},
   "outputs": [],
   "source": [
    "class vehicle:\n",
    "    def __init__(self, name_of_vehicle, max_speed, average_of_vehicle):\n",
    "        self.name_of_vehicle = name_of_vehicle\n",
    "        self.max_speed = max_speed\n",
    "        self.average_of_vehicle = average_of_vehicle\n",
    "        \n",
    "    def return_vehicle_details(self):\n",
    "        return  self.name_of_vehicle, self.max_speed, self.average_of_vehicle\n",
    "honda_bike = vehicle (\"sp_125\", 100, 65)"
   ]
  },
  {
   "cell_type": "code",
   "execution_count": 9,
   "id": "6e772b0c-a9a4-4404-8ad3-2d2cdff24a7f",
   "metadata": {},
   "outputs": [
    {
     "data": {
      "text/plain": [
       "'sp_125'"
      ]
     },
     "execution_count": 9,
     "metadata": {},
     "output_type": "execute_result"
    }
   ],
   "source": [
    "honda_bike.name_of_vehicle"
   ]
  },
  {
   "cell_type": "code",
   "execution_count": 11,
   "id": "3b28f5d6-a710-4a5f-b2c2-4fa6f5a7b3b2",
   "metadata": {},
   "outputs": [
    {
     "data": {
      "text/plain": [
       "('sp_125', 100, 65)"
      ]
     },
     "execution_count": 11,
     "metadata": {},
     "output_type": "execute_result"
    }
   ],
   "source": [
    "honda_bike.return_vehicle_details()"
   ]
  },
  {
   "cell_type": "markdown",
   "id": "a79b4038-950e-4deb-8cfd-020d49235830",
   "metadata": {},
   "source": [
    "## Q2. code"
   ]
  },
  {
   "cell_type": "code",
   "execution_count": 16,
   "id": "91b98255-57fa-4d0d-9ad2-1d104e23f366",
   "metadata": {},
   "outputs": [],
   "source": [
    "class capacity(Vehicle):\n",
    "    def __init__(self, name_of_vehicle, seating_capacity):\n",
    "        self.seating_capacity = seating_capacity\n",
    "        Vehicle.__init__(self, name_of_vehicle)\n",
    " \n",
    "        \n",
    "    def return_vehicle_capacity(self):\n",
    "        return self.name_of_vehicle, self.seating_capacity\n",
    "    \n",
    "honda_bike = capacity (\"sp_125\",\"3 person\")"
   ]
  },
  {
   "cell_type": "code",
   "execution_count": 17,
   "id": "9b52b8ff-2e24-4bf2-845d-b4a4e15bf314",
   "metadata": {},
   "outputs": [
    {
     "data": {
      "text/plain": [
       "('sp_125', '3 person')"
      ]
     },
     "execution_count": 17,
     "metadata": {},
     "output_type": "execute_result"
    }
   ],
   "source": [
    "honda_bike.return_vehicle_capacity()"
   ]
  },
  {
   "cell_type": "markdown",
   "id": "3a675e0a-e386-4a0e-97b5-35509ee71322",
   "metadata": {},
   "source": [
    "## Q3.  If a child class is inheriting the properties of a single other class, we call it single inheritance. However, if a child class inherits from more than one class, i.e. this child class is derived from multiple classes, we call it multiple inheritance in Python.\n",
    "#  code to demonstrate multiple inheritance"
   ]
  },
  {
   "cell_type": "code",
   "execution_count": 19,
   "id": "c7f8b0ab-9db6-4ec9-9ba2-5fde6cf4fb34",
   "metadata": {},
   "outputs": [
    {
     "name": "stdout",
     "output_type": "stream",
     "text": [
      "Mammals can give direct birth.\n",
      "Winged animals can flap.\n"
     ]
    }
   ],
   "source": [
    "class Mammal:\n",
    "    def mammal_info(self):\n",
    "        print(\"Mammals can give direct birth.\")\n",
    "\n",
    "class WingedAnimal:\n",
    "    def winged_animal_info(self):\n",
    "        print(\"Winged animals can flap.\")\n",
    "\n",
    "class Bat(Mammal, WingedAnimal):\n",
    "    pass\n",
    "\n",
    "b1 = Bat()\n",
    "\n",
    "b1.mammal_info()\n",
    "b1.winged_animal_info()"
   ]
  },
  {
   "cell_type": "markdown",
   "id": "ae8a556b-c38c-401b-902c-358f19979a76",
   "metadata": {},
   "source": [
    "## Q4. the main purpose of using getters and setters in oops is to ensure data encapsulation. Getters and Setters in python are often used when We want to add validation logic around getting and setting a value and to avoid direct access of a class field i.e. private variables cannot be accessed directly or modified by external user.\n",
    "# example code"
   ]
  },
  {
   "cell_type": "code",
   "execution_count": 21,
   "id": "f0da2a58-cf47-410b-8c62-e1a31036d79a",
   "metadata": {},
   "outputs": [
    {
     "name": "stdout",
     "output_type": "stream",
     "text": [
      "25\n",
      "25\n"
     ]
    }
   ],
   "source": [
    "class Geek:\n",
    "    def __init__(self, age = 0):\n",
    "         self._age = age\n",
    "      \n",
    "    # getter method\n",
    "    def get_age(self):\n",
    "        return self._age\n",
    "      \n",
    "    # setter method\n",
    "    def set_age(self, x):\n",
    "        self._age = x\n",
    "  \n",
    "puja = Geek()\n",
    "  \n",
    "puja.set_age(25)\n",
    "  \n",
    "print(puja.get_age())\n",
    "  \n",
    "print(puja._age)"
   ]
  },
  {
   "cell_type": "markdown",
   "id": "4a0aa4fb-f149-4e1d-b3c2-b869bab55098",
   "metadata": {},
   "source": [
    "##  Q5. Method overriding is a feature of object-oriented programming languages where the subclass or child class can provide the program with specific characteristics or a specific implementation process of data provided that are already defined in the parent class or superclass.\n",
    "# example code"
   ]
  },
  {
   "cell_type": "code",
   "execution_count": 22,
   "id": "49044d52-c74e-4d6d-b943-45730ce1925c",
   "metadata": {},
   "outputs": [
    {
     "name": "stdout",
     "output_type": "stream",
     "text": [
      "Inside GrandChild\n",
      "Inside Parent\n"
     ]
    }
   ],
   "source": [
    "class Parent(): \n",
    "        \n",
    "    def display(self):\n",
    "        print(\"Inside Parent\")\n",
    "    \n",
    "class Child(Parent): \n",
    "        \n",
    "    def show(self):\n",
    "        print(\"Inside Child\")\n",
    "    \n",
    "class GrandChild(Child): \n",
    "          \n",
    "    def show(self):\n",
    "        print(\"Inside GrandChild\")         \n",
    "    \n",
    "g = GrandChild()   \n",
    "g.show()\n",
    "g.display()"
   ]
  },
  {
   "cell_type": "code",
   "execution_count": null,
   "id": "7d8c05dd-a6ae-4786-8428-18e208f9db88",
   "metadata": {},
   "outputs": [],
   "source": []
  }
 ],
 "metadata": {
  "kernelspec": {
   "display_name": "Python 3 (ipykernel)",
   "language": "python",
   "name": "python3"
  },
  "language_info": {
   "codemirror_mode": {
    "name": "ipython",
    "version": 3
   },
   "file_extension": ".py",
   "mimetype": "text/x-python",
   "name": "python",
   "nbconvert_exporter": "python",
   "pygments_lexer": "ipython3",
   "version": "3.10.8"
  }
 },
 "nbformat": 4,
 "nbformat_minor": 5
}
