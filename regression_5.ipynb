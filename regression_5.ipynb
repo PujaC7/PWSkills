{
 "cells": [
  {
   "cell_type": "markdown",
   "id": "2065017f-ac8f-4aaa-883c-00c5a4c00af8",
   "metadata": {},
   "source": [
    "## Q1.  Elastic net linear regression uses the penalties from both the lasso and ridge techniques to regularize regression models. The technique combines both the lasso and ridge regression methods by learning from their shortcomings to improve the regularization of statistical models\n",
    "###  Elastic net regression is a linear regression technique that uses a penalty term to shrink the coefficients of the predictors. The penalty term is a combination of the l1-norm (absolute value) and the l2-norm (square) of the coefficients, weighted by a parameter called alpha."
   ]
  },
  {
   "cell_type": "markdown",
   "id": "3b9312d0-8776-4a2c-bcab-424853c1e5f1",
   "metadata": {},
   "source": [
    "## Q2.  Choice of a regularization parameter\n",
    "- Import the data and use scikit-learn to split into train-val-test (60-20-20)\n",
    "- Estimate and validate the OLS regression with all inputs.\n",
    "- Search for the best ridge model.\n",
    "- References."
   ]
  },
  {
   "cell_type": "markdown",
   "id": "eb303ae9-8b78-4c52-8265-3ceaa17bba6b",
   "metadata": {},
   "source": [
    "## Q3.  Advantages of elastic net regression\n",
    "For instance, it can handle multicollinearity better than lasso regression by grouping correlated features and selecting the most representative ones. Additionally, it can reduce model complexity by eliminating irrelevant features, which is more effective than ridge regression\n",
    "### disadvantage\n",
    "One of the pitfalls and challenges of elastic net is that it requires tuning two hyperparameters: alpha and lambda. Hyperparameters are parameters that are not learned by the model, but need to be specified by the user."
   ]
  },
  {
   "cell_type": "markdown",
   "id": "c07eb2a3-b354-453c-a3d1-eb64da23deda",
   "metadata": {},
   "source": [
    "## Q4.  Elastic net linear regression uses the penalties from both the lasso and ridge techniques to regularize regression models. The technique combines both the lasso and ridge regression methods by learning from their shortcomings to improve the regularization of statistical models."
   ]
  },
  {
   "cell_type": "markdown",
   "id": "a3c5dc5c-6fae-4ed2-8ea2-a42fdb3ccfb6",
   "metadata": {},
   "source": [
    "## Q5.  The coefficients of elastic net regression represent the linear relationship between the features and the target variable, adjusted by the regularization terms. The larger the absolute value of a coefficient, the stronger the effect of the corresponding feature on the target variable"
   ]
  },
  {
   "cell_type": "markdown",
   "id": "672b3845-9a63-4db4-b6f2-d07baa48c7d7",
   "metadata": {},
   "source": [
    "## Q6.  Simple approaches include taking the average of the column and use that value, or if there is a heavy skew the median might be better. A better approach, you can perform regression or nearest neighbor imputation on the column to predict the missing values. Then continue on with your analysis/model."
   ]
  },
  {
   "cell_type": "markdown",
   "id": "d1d6a73c-ce1a-4156-b239-cb79680a09a3",
   "metadata": {},
   "source": [
    "## Q7.  LASSO and ELASTIC NET both perform feature selection and that's their whole purpose, so yes you can use them for this. You don't need to select top n features, since you can play with the arguments α and λ to get an arbitrary number of non-negative coefficients."
   ]
  },
  {
   "cell_type": "markdown",
   "id": "373c176f-678b-4f24-b4ba-240413072c5f",
   "metadata": {},
   "source": [
    "## Q8.  To save the ML model using Pickle all we need to do is pass the model object into the dump() function of Pickle. This will serialize the object and convert it into a “byte stream” that we can save as a file called model. pkl .\n",
    "In a nutshell\n",
    "Using pickle , simply save your model on disc with dump() function and de-pickle it into your python code with load() function. Use open() function to create and/or read from a . pkl file and make sure you open the file in the binary format by wb for write and rb for read mode."
   ]
  },
  {
   "cell_type": "markdown",
   "id": "c696165b-abce-4e1e-ad6f-e32342640882",
   "metadata": {},
   "source": [
    "## Q9.  Pickle is a useful Python tool that allows you to save your ML models, to minimise lengthy re-training and allow you to share, commit, and re-load pre-trained machine learning models. Most data scientists working in ML will use Pickle or Joblib to save their ML model for future use."
   ]
  }
 ],
 "metadata": {
  "kernelspec": {
   "display_name": "Python 3 (ipykernel)",
   "language": "python",
   "name": "python3"
  },
  "language_info": {
   "codemirror_mode": {
    "name": "ipython",
    "version": 3
   },
   "file_extension": ".py",
   "mimetype": "text/x-python",
   "name": "python",
   "nbconvert_exporter": "python",
   "pygments_lexer": "ipython3",
   "version": "3.10.8"
  }
 },
 "nbformat": 4,
 "nbformat_minor": 5
}
