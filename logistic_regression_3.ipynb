{
 "cells": [
  {
   "cell_type": "markdown",
   "id": "f5f1dc0c-1e7a-4d55-9ac1-3b3c5df962b0",
   "metadata": {},
   "source": [
    "## Q1.  Recall: the ability of a classification model to identify all data points in a relevant class. Precision: the ability of a classification model to return only the data points in a class. F1 score: a single metric that combines recall and precision using the harmonic mean."
   ]
  },
  {
   "cell_type": "markdown",
   "id": "0b8b7728-c4a1-4d48-ba29-a7f1a43d528d",
   "metadata": {},
   "source": [
    "## Q2.  The F1 score is calculated as the harmonic mean of the precision and recall scores, as shown below. It ranges from 0-100%, and a higher F1 score denotes a better quality classifier. Why is the F1 score calculated using the harmonic mean instead of simple arithmetic or geometric means?\n",
    "### F1 score is a weighted average of precision and recall. As we know in precision and in recall there is false positive and false negative so it also consider both of them. F1 score is usually more useful than accuracy, especially if you have an uneven class distribution."
   ]
  },
  {
   "cell_type": "markdown",
   "id": "41f01539-abcc-4be3-bfc7-57c1c6478634",
   "metadata": {},
   "source": [
    "## Q3.  ROC is a probability curve and AUC represents the degree or measure of separability. It tells how much the model is capable of distinguishing between classes. Higher the AUC, the better the model is at predicting 0 classes as 0 and 1 classes as 1."
   ]
  },
  {
   "cell_type": "markdown",
   "id": "a2f0226c-63dc-442f-8da1-1893acb6906b",
   "metadata": {},
   "source": [
    "## Q4.  Metrics like accuracy, precision, recall are good ways to evaluate classification models for balanced datasets, but if the data is imbalanced then other methods like ROC/AUC perform better in evaluating the model performance\n",
    "### Binary Classification is where each data sample is assigned one and only one label from two mutually exclusive classes. Multiclass Classification is where each data sample is assigned one and only one label from more than two classes."
   ]
  },
  {
   "cell_type": "markdown",
   "id": "94228b52-b5a8-40a8-8147-87b9ceae1a47",
   "metadata": {},
   "source": [
    "## Q5.  Logistic regression, by default, is limited to two-class classification problems. Some extensions like one-vs-rest can allow logistic regression to be used for multi-class classification problems, although they require that the classification problem first be transformed into multiple binary classification problems."
   ]
  },
  {
   "cell_type": "markdown",
   "id": "727453ce-090c-4b0b-b022-dbda74488c14",
   "metadata": {},
   "source": [
    "## Q6.  Table of Contents\n",
    "- Dataset.\n",
    "- Loading the data.\n",
    "- Feature Engineering.\n",
    "- Text processing.\n",
    "- Exploring Multi-classification Models.\n",
    "- Compare Model performance.\n",
    "- Evaluation.\n",
    "- Prediction."
   ]
  },
  {
   "cell_type": "markdown",
   "id": "bf92ba29-107b-4ab9-8941-d7f312d8e945",
   "metadata": {},
   "source": [
    "## Q7.  Model deployment is the process of putting machine learning models into production. This makes the model's predictions available to users, developers or systems, so they can make business decisions based on data, interact with their application (like recognize a face in an image) and so on."
   ]
  },
  {
   "cell_type": "markdown",
   "id": "e2bb5919-1e05-4901-86d9-151d3bc62a23",
   "metadata": {},
   "source": [
    "## Q8.  A multi-cloud deployment model allows organizations to choose the specific services that work best for them. They can then maximize the resources and pay only for what gets used. It provides a reliable architecture. Using multiple CSPs creates redundancies that minimize the risk of a single point of failure."
   ]
  },
  {
   "cell_type": "markdown",
   "id": "be834849-a4fa-4654-8b85-63f1d0d330b4",
   "metadata": {},
   "source": [
    "## Q9.  Benefits of Multicloud: Multicloud allows you to choose from many cloud vendors and provides the flexibility to match specific features and capabilities to optimize your workloads in the cloud based on factors like speed, performance, reliability, geographical location, and security and compliance requirements.\n",
    "### Multi-Cloud Challenges:\n",
    "- Differing infrastructure, APIs, database, network, and security constructs.\n",
    "- Cost and time of refactoring applications for a new public cloud environment.\n",
    "- Risks related to security, data, and privacy issues associated with regional data regulations.\n",
    "- Increased complexity from specialized tools."
   ]
  }
 ],
 "metadata": {
  "kernelspec": {
   "display_name": "Python 3 (ipykernel)",
   "language": "python",
   "name": "python3"
  },
  "language_info": {
   "codemirror_mode": {
    "name": "ipython",
    "version": 3
   },
   "file_extension": ".py",
   "mimetype": "text/x-python",
   "name": "python",
   "nbconvert_exporter": "python",
   "pygments_lexer": "ipython3",
   "version": "3.10.8"
  }
 },
 "nbformat": 4,
 "nbformat_minor": 5
}
