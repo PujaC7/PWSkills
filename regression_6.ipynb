{
 "cells": [
  {
   "cell_type": "markdown",
   "id": "1e183998-a7fc-4aaf-b24c-1c4c28751213",
   "metadata": {},
   "source": [
    "## Q1.  The different stages of the web development process\n",
    "- Analysis. ...\n",
    "- Design. ...\n",
    "- Development. ...\n",
    "- Testing & review. ...\n",
    "- Deployment. ...\n",
    "- Maintenance. ...\n",
    "- Front-end tech stack for web development. ...\n",
    "- Back-end tech stack for web development."
   ]
  },
  {
   "cell_type": "markdown",
   "id": "04a95dde-0c56-4dfc-88d5-d1e9080663e2",
   "metadata": {},
   "source": [
    "## Q2.  Web hosting allows individuals and businesses to make their websites accessible worldwide through the Internet (WWW). A business or individual must have their own computer or server for web hosting, however, under Cloud Hosting, websites are hosted on multiple interconnected web servers."
   ]
  },
  {
   "cell_type": "markdown",
   "id": "ab085ff3-ddaf-4b30-9bab-73e8e943efab",
   "metadata": {},
   "source": [
    "## Q3.  How Do I Choose a Cloud Provider? Factors to Consider\n",
    "- Technologies & services roadmap. ...\n",
    "- Cost. ...\n",
    "- Security & Reliability. ...\n",
    "- Compliance. ...\n",
    "- Tools & Features. ...\n",
    "- Business Compatibility. ...\n",
    "- Architecture. ...\n",
    "- Contracts, Commercials & SLAs.\n",
    "- Migration Support, Vendor Lock-in & Exit Planning\n",
    "- Data Migration Support\n",
    "- Data Governance\n",
    "- Project Size\n",
    "- Service Dependencies & Partnerships"
   ]
  },
  {
   "cell_type": "markdown",
   "id": "294ffd07-2aa3-4902-8569-a080d196e0f1",
   "metadata": {},
   "source": [
    "## Q4.  How to create a Responsive Website\n",
    "- Set Appropriate Responsive Breakpoints.\n",
    "- Start with a Fluid Grid.\n",
    "- Take touchscreens into consideration.\n",
    "- Define Typography.\n",
    "- Use a pre-designed theme or layout to save time.\n",
    "- Test Responsiveness on Real Devices.\n",
    "### Responsive Design Best Practices\n",
    "- Eliminate Friction. ...\n",
    "- Design for Thumbs. ...\n",
    "- Take Advantage of Mobile Devices' Native Hardware. ...\n",
    "- Make Layouts Fluid/Adaptive by Default. ...\n",
    "- Don't Forget About Landscape Orientation. ...\n",
    "- Remember, Typography Can Be Responsive Too. ...\n",
    "- Lazy Load Non-vital Images and Videos. ...\n",
    "- Conditional Loading."
   ]
  },
  {
   "cell_type": "markdown",
   "id": "94b5f1bf-cc5f-487e-8977-8b9399d48560",
   "metadata": {},
   "source": [
    "## Q5.\n",
    "1. Importing necessary libraries\n",
    "2. Exploratory data analysis\n",
    "3. Data cleaning\n",
    "4. Model development (RandomForestRegressor)\n",
    "5. Tuning the model (RandomSearchCV)\n",
    "6. bz2 module (big bonus)\n",
    "### Importing libraries\n",
    "- datetime\n",
    "- pandas\n",
    "- numpy\n",
    "- seaborn\n",
    "- matplotlib.pyplot \n",
    "- from sklearn.model_selection import train_test_split\n",
    "- from sklearn.metrics import accuracy_score, classification_report\n",
    "- from sklearn.ensemble import RandomForestRegressor"
   ]
  }
 ],
 "metadata": {
  "kernelspec": {
   "display_name": "Python 3 (ipykernel)",
   "language": "python",
   "name": "python3"
  },
  "language_info": {
   "codemirror_mode": {
    "name": "ipython",
    "version": 3
   },
   "file_extension": ".py",
   "mimetype": "text/x-python",
   "name": "python",
   "nbconvert_exporter": "python",
   "pygments_lexer": "ipython3",
   "version": "3.10.8"
  }
 },
 "nbformat": 4,
 "nbformat_minor": 5
}
