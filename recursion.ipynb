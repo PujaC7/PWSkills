{
 "cells": [
  {
   "cell_type": "code",
   "execution_count": 1,
   "id": "43d7b78a-5551-4e75-b174-b431af32e5a5",
   "metadata": {},
   "outputs": [],
   "source": [
    "## Q1.\n",
    "\n",
    "def minimumDeleteSum(s1, s2):\n",
    "    m, n = len(s1), len(s2)\n",
    "    \n",
    "    # Create a 2D table to store the LCS lengths\n",
    "    dp = [[0] * (n + 1) for _ in range(m + 1)]\n",
    "    \n",
    "    # Calculate the LCS lengths\n",
    "    for i in range(1, m + 1):\n",
    "        for j in range(1, n + 1):\n",
    "            if s1[i - 1] == s2[j - 1]:\n",
    "                dp[i][j] = dp[i - 1][j - 1] + ord(s1[i - 1])\n",
    "            else:\n",
    "                dp[i][j] = max(dp[i - 1][j], dp[i][j - 1])\n",
    "    \n",
    "    # Calculate the lowest ASCII sum of deleted characters\n",
    "    total_sum = sum(ord(c) for c in s1) + sum(ord(c) for c in s2)\n",
    "    lcs_sum = dp[m][n]\n",
    "    lowest_sum = total_sum - 2 * lcs_sum\n",
    "    \n",
    "    return lowest_sum"
   ]
  },
  {
   "cell_type": "code",
   "execution_count": 2,
   "id": "9e95aa61-ef55-409b-8192-9b7f92b43c4f",
   "metadata": {},
   "outputs": [
    {
     "name": "stdout",
     "output_type": "stream",
     "text": [
      "231\n"
     ]
    }
   ],
   "source": [
    "s1 = \"sea\"\n",
    "s2 = \"eat\"\n",
    "result = minimumDeleteSum(s1, s2)\n",
    "print(result) "
   ]
  },
  {
   "cell_type": "code",
   "execution_count": 3,
   "id": "f6e2fb83-eecd-4d7b-a1ea-f8dbd709f04a",
   "metadata": {},
   "outputs": [],
   "source": [
    "## Q2.\n",
    "\n",
    "def checkValidString(s):\n",
    "    stack = []\n",
    "    asterisks = []\n",
    "\n",
    "    for c in s:\n",
    "        if c == '(':\n",
    "            stack.append(c)\n",
    "        elif c == '*':\n",
    "            asterisks.append(c)\n",
    "        elif c == ')':\n",
    "            if stack:\n",
    "                stack.pop()\n",
    "            elif asterisks:\n",
    "                asterisks.pop()\n",
    "            else:\n",
    "                return False\n",
    "\n",
    "    while stack and asterisks:\n",
    "        if stack[-1] > asterisks[-1]:\n",
    "            return False\n",
    "        stack.pop()\n",
    "        asterisks.pop()\n",
    "\n",
    "    return len(stack) == 0"
   ]
  },
  {
   "cell_type": "code",
   "execution_count": 4,
   "id": "d2b5b317-71bd-4483-88bc-87263968151e",
   "metadata": {},
   "outputs": [
    {
     "name": "stdout",
     "output_type": "stream",
     "text": [
      "True\n"
     ]
    }
   ],
   "source": [
    "s = \"()\"\n",
    "result = checkValidString(s)\n",
    "print(result)"
   ]
  },
  {
   "cell_type": "code",
   "execution_count": 5,
   "id": "7b403d24-4467-4ea5-a2de-7af05ee09da3",
   "metadata": {},
   "outputs": [],
   "source": [
    "## Q3.\n",
    "\n",
    "def minDistance(word1, word2):\n",
    "    m, n = len(word1), len(word2)\n",
    "\n",
    "    # Create a 2D table to store the LCS lengths\n",
    "    dp = [[0] * (n + 1) for _ in range(m + 1)]\n",
    "\n",
    "    # Calculate the LCS lengths\n",
    "    for i in range(1, m + 1):\n",
    "        for j in range(1, n + 1):\n",
    "            if word1[i - 1] == word2[j - 1]:\n",
    "                dp[i][j] = dp[i - 1][j - 1] + 1\n",
    "            else:\n",
    "                dp[i][j] = max(dp[i - 1][j], dp[i][j - 1])\n",
    "\n",
    "    # Calculate the minimum number of steps required\n",
    "    lcs_length = dp[m][n]\n",
    "    steps_required = m + n - 2 * lcs_length\n",
    "\n",
    "    return steps_required"
   ]
  },
  {
   "cell_type": "code",
   "execution_count": 6,
   "id": "c1e0f852-7640-4263-ba26-c282cbca88b7",
   "metadata": {},
   "outputs": [
    {
     "name": "stdout",
     "output_type": "stream",
     "text": [
      "2\n"
     ]
    }
   ],
   "source": [
    "word1 = \"sea\"\n",
    "word2 = \"eat\"\n",
    "result = minDistance(word1, word2)\n",
    "print(result) "
   ]
  },
  {
   "cell_type": "code",
   "execution_count": 7,
   "id": "fb84f677-ca28-4fe9-beab-eaf04f9065c7",
   "metadata": {},
   "outputs": [],
   "source": [
    "## Q4.\n",
    "\n",
    "class TreeNode:\n",
    "    def __init__(self, val=0, left=None, right=None):\n",
    "        self.val = val\n",
    "        self.left = left\n",
    "        self.right = right\n",
    "\n",
    "def str2tree(s):\n",
    "    def buildTree(s):\n",
    "        nonlocal index\n",
    "        if index >= len(s) or s[index] == ')':\n",
    "            return None\n",
    "        \n",
    "        # Find the end index of the root value\n",
    "        end = index\n",
    "        while end < len(s) and s[end] not in ('(', ')'):\n",
    "            end += 1\n",
    "        \n",
    "        # Extract the root value and create a new tree node\n",
    "        root_val = int(s[index:end])\n",
    "        root = TreeNode(root_val)\n",
    "        \n",
    "        # Move index to the next character after the root value\n",
    "        index = end\n",
    "        \n",
    "        # Construct the left subtree if it exists\n",
    "        if index < len(s) and s[index] == '(':\n",
    "            index += 1\n",
    "            root.left = buildTree(s)\n",
    "        \n",
    "        # Construct the right subtree if it exists\n",
    "        if index < len(s) and s[index] == '(':\n",
    "            index += 1\n",
    "            root.right = buildTree(s)\n",
    "        \n",
    "        # Move index to the next character after the right subtree\n",
    "        if index < len(s) and s[index] == ')':\n",
    "            index += 1\n",
    "        \n",
    "        return root\n",
    "\n",
    "    # Initialize the index and call the buildTree function\n",
    "    index = 0\n",
    "    return buildTree(s)"
   ]
  },
  {
   "cell_type": "code",
   "execution_count": 10,
   "id": "63b3c797-4cee-4641-a57d-de82b4b4ba76",
   "metadata": {},
   "outputs": [
    {
     "name": "stdout",
     "output_type": "stream",
     "text": [
      "<__main__.TreeNode object at 0x7fd3b6b01990>\n"
     ]
    }
   ],
   "source": [
    "s = \"4(2(3)(1))(6(5))\"\n",
    "root = str2tree(s)\n",
    "print(root)"
   ]
  },
  {
   "cell_type": "code",
   "execution_count": 11,
   "id": "d3592a09-1990-4a24-a744-0f45bd690de1",
   "metadata": {},
   "outputs": [],
   "source": [
    "## Q5.\n",
    "\n",
    "def compress(chars):\n",
    "    read = 0\n",
    "    write = 0\n",
    "    count = 1\n",
    "\n",
    "    for read in range(1, len(chars)):\n",
    "        if chars[read] == chars[read - 1]:\n",
    "            count += 1\n",
    "        else:\n",
    "            if count > 1:\n",
    "                count_str = str(count)\n",
    "                chars[write:write + len(count_str)] = count_str\n",
    "                write += len(count_str)\n",
    "            chars[write] = chars[read - 1]\n",
    "            write += 1\n",
    "            count = 1\n",
    "\n",
    "    if count > 1:\n",
    "        count_str = str(count)\n",
    "        chars[write:write + len(count_str)] = count_str\n",
    "        write += len(count_str)\n",
    "\n",
    "    return write"
   ]
  },
  {
   "cell_type": "code",
   "execution_count": 12,
   "id": "e70da546-bf1a-4a14-8b52-13150d4b49b6",
   "metadata": {},
   "outputs": [
    {
     "name": "stdout",
     "output_type": "stream",
     "text": [
      "5\n",
      "['2', 'a', '2', 'b', '3']\n"
     ]
    }
   ],
   "source": [
    "chars = [\"a\", \"a\", \"b\", \"b\", \"c\", \"c\", \"c\"]\n",
    "new_length = compress(chars)\n",
    "print(new_length)  \n",
    "print(chars[:new_length]) "
   ]
  },
  {
   "cell_type": "code",
   "execution_count": 13,
   "id": "20f12a37-9779-4685-97b2-f32b1ebbec65",
   "metadata": {},
   "outputs": [],
   "source": [
    "## Q6.\n",
    "\n",
    "from collections import Counter\n",
    "\n",
    "def findAnagrams(s, p):\n",
    "    result = []\n",
    "    p_freq = Counter(p)\n",
    "    window_freq = Counter()\n",
    "    left = right = 0\n",
    "\n",
    "    while right < len(s):\n",
    "        window_freq[s[right]] += 1\n",
    "        if right - left + 1 > len(p):\n",
    "            window_freq[s[left]] -= 1\n",
    "            if window_freq[s[left]] == 0:\n",
    "                del window_freq[s[left]]\n",
    "            left += 1\n",
    "        \n",
    "        if window_freq == p_freq:\n",
    "            result.append(left)\n",
    "        \n",
    "        right += 1\n",
    "    \n",
    "    return result"
   ]
  },
  {
   "cell_type": "code",
   "execution_count": 14,
   "id": "5bf300a9-206c-4141-a26d-bdf7c333b7dd",
   "metadata": {},
   "outputs": [
    {
     "name": "stdout",
     "output_type": "stream",
     "text": [
      "[0, 6]\n"
     ]
    }
   ],
   "source": [
    "s = \"cbaebabacd\"\n",
    "p = \"abc\"\n",
    "result = findAnagrams(s, p)\n",
    "print(result)"
   ]
  },
  {
   "cell_type": "code",
   "execution_count": 15,
   "id": "5f23811f-8fcd-4fea-afcf-d22f8879b953",
   "metadata": {},
   "outputs": [],
   "source": [
    "## Q7.\n",
    "\n",
    "def decodeString(s):\n",
    "    stack = []\n",
    "    repeat_count = \"\"\n",
    "    decoded_str = \"\"\n",
    "\n",
    "    for char in s:\n",
    "        if char != ']':\n",
    "            stack.append(char)\n",
    "        else:\n",
    "            while stack[-1] != '[':\n",
    "                decoded_str += stack.pop()\n",
    "            stack.pop()  # Pop the '[' character\n",
    "\n",
    "            while stack and stack[-1].isdigit():\n",
    "                repeat_count = stack.pop() + repeat_count\n",
    "            decoded_str = decoded_str[::-1]\n",
    "            stack.append(int(repeat_count) * decoded_str)\n",
    "            repeat_count = \"\"\n",
    "            decoded_str = \"\"\n",
    "\n",
    "    return \"\".join(stack[::-1])"
   ]
  },
  {
   "cell_type": "code",
   "execution_count": 16,
   "id": "b9105be5-4b1a-4771-ab83-b4c3d0678dea",
   "metadata": {},
   "outputs": [
    {
     "name": "stdout",
     "output_type": "stream",
     "text": [
      "bcbcaaa\n"
     ]
    }
   ],
   "source": [
    "s = \"3[a]2[bc]\"\n",
    "decoded_string = decodeString(s)\n",
    "print(decoded_string)"
   ]
  },
  {
   "cell_type": "code",
   "execution_count": 17,
   "id": "af60d068-b5c9-4a1c-857a-d9b7884f3ed6",
   "metadata": {},
   "outputs": [],
   "source": [
    "## Q8.\n",
    "\n",
    "def buddyStrings(s, goal):\n",
    "    if len(s) != len(goal):\n",
    "        return False\n",
    "\n",
    "    mismatched = []\n",
    "    indices = []\n",
    "\n",
    "    for i, (char_s, char_goal) in enumerate(zip(s, goal)):\n",
    "        if char_s != char_goal:\n",
    "            mismatched.append((char_s, char_goal))\n",
    "            indices.append(i)\n",
    "\n",
    "    if len(mismatched) != 2:\n",
    "        return False\n",
    "\n",
    "    if mismatched[0] == mismatched[1][::-1] and indices[0] != indices[1]:\n",
    "        return True\n",
    "\n",
    "    return False"
   ]
  },
  {
   "cell_type": "code",
   "execution_count": 18,
   "id": "8e56152c-dd68-4c8a-93dc-734f4bbc74e1",
   "metadata": {},
   "outputs": [
    {
     "name": "stdout",
     "output_type": "stream",
     "text": [
      "True\n"
     ]
    }
   ],
   "source": [
    "s = \"ab\"\n",
    "goal = \"ba\"\n",
    "result = buddyStrings(s, goal)\n",
    "print(result)"
   ]
  },
  {
   "cell_type": "code",
   "execution_count": null,
   "id": "f93f9655-232d-47de-b723-e3204c7e068d",
   "metadata": {},
   "outputs": [],
   "source": []
  }
 ],
 "metadata": {
  "kernelspec": {
   "display_name": "Python 3 (ipykernel)",
   "language": "python",
   "name": "python3"
  },
  "language_info": {
   "codemirror_mode": {
    "name": "ipython",
    "version": 3
   },
   "file_extension": ".py",
   "mimetype": "text/x-python",
   "name": "python",
   "nbconvert_exporter": "python",
   "pygments_lexer": "ipython3",
   "version": "3.10.8"
  }
 },
 "nbformat": 4,
 "nbformat_minor": 5
}
