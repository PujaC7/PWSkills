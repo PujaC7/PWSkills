{
 "cells": [
  {
   "cell_type": "markdown",
   "id": "52fd7271-7a15-454b-b319-4fd07eb7b059",
   "metadata": {},
   "source": [
    "## Q1. code"
   ]
  },
  {
   "cell_type": "code",
   "execution_count": 1,
   "id": "a6a8ca15-f8b8-4a96-b4a3-a035c62452a4",
   "metadata": {},
   "outputs": [
    {
     "name": "stderr",
     "output_type": "stream",
     "text": [
      "/tmp/ipykernel_77/4248879607.py:8: DeprecationWarning: Use of keyword argument `alpha` for method `interval` is deprecated. Use first positional argument or keyword argument `confidence` instead.\n",
      "  st.norm.interval(alpha=0.95,\n"
     ]
    },
    {
     "data": {
      "text/plain": [
       "(6.879930558876334, 7.680069441123666)"
      ]
     },
     "execution_count": 1,
     "metadata": {},
     "output_type": "execute_result"
    }
   ],
   "source": [
    "import numpy as np\n",
    "import scipy.stats as st\n",
    "\n",
    "gfg_data = np.random.randint(5, 10, 50)\n",
    "  \n",
    "# create 90% confidence interval\n",
    "# for population mean weight\n",
    "st.norm.interval(alpha=0.95,\n",
    "                 loc=np.mean(gfg_data),\n",
    "                 scale=st.sem(gfg_data))"
   ]
  },
  {
   "cell_type": "markdown",
   "id": "89a8c7c2-4275-4b1d-9af9-6e92d4edb6ad",
   "metadata": {},
   "source": [
    "## Q2.  code"
   ]
  },
  {
   "cell_type": "code",
   "execution_count": 5,
   "id": "fc55eca4-4795-48e9-8f48-b8f049a7c33e",
   "metadata": {},
   "outputs": [
    {
     "name": "stdout",
     "output_type": "stream",
     "text": [
      "chi_square_test_statistic is : 0.0\n",
      "p_value : 1.0\n",
      "11.070497693516351\n"
     ]
    }
   ],
   "source": [
    "import scipy.stats as stats\n",
    "import numpy as np\n",
    "\n",
    "expected_data = [20,20,20,10,10,20]\n",
    "  \n",
    "  \n",
    "# Chi-Square Goodness of Fit Test\n",
    "chi_square_test_statistic, p_value = stats.chisquare(\n",
    "    observed_data, expected_data)\n",
    "  \n",
    "# chi square test statistic and p value\n",
    "print('chi_square_test_statistic is : ' +\n",
    "      str(chi_square_test_statistic))\n",
    "print('p_value : ' + str(p_value))\n",
    "  \n",
    "  \n",
    "# find Chi-Square critical value\n",
    "print(stats.chi2.ppf(1-0.05, df=5))"
   ]
  },
  {
   "cell_type": "markdown",
   "id": "6fa48855-ab38-459c-a50e-f656e04f0e0c",
   "metadata": {},
   "source": [
    "## Q3.  code"
   ]
  },
  {
   "cell_type": "code",
   "execution_count": 6,
   "id": "c1c462d4-eabc-479f-9e0e-d4c8e9e91907",
   "metadata": {},
   "outputs": [
    {
     "name": "stdout",
     "output_type": "stream",
     "text": [
      "p value is 0.05411376622282158\n",
      "Independent (H0 holds true)\n"
     ]
    }
   ],
   "source": [
    "from scipy.stats import chi2_contingency\n",
    " \n",
    "# defining the table\n",
    "data = [[20,10,15], [15,25,20]]\n",
    "stat, p, dof, expected = chi2_contingency(data)\n",
    " \n",
    "# interpret p-value\n",
    "alpha = 0.05\n",
    "print(\"p value is \" + str(p))\n",
    "if p <= alpha:\n",
    "    print('Dependent (reject H0)')\n",
    "else:\n",
    "    print('Independent (H0 holds true)')"
   ]
  },
  {
   "cell_type": "markdown",
   "id": "1289cd50-8339-4d3f-b205-9369ca528c72",
   "metadata": {},
   "source": [
    "## Q4.  code"
   ]
  },
  {
   "cell_type": "code",
   "execution_count": 7,
   "id": "256cae80-7abc-4308-8997-2b26e131d1f5",
   "metadata": {},
   "outputs": [
    {
     "name": "stderr",
     "output_type": "stream",
     "text": [
      "/tmp/ipykernel_77/4238616814.py:6: DeprecationWarning: Use of keyword argument `alpha` for method `interval` is deprecated. Use first positional argument or keyword argument `confidence` instead.\n",
      "  st.norm.interval(alpha=0.95,\n"
     ]
    },
    {
     "data": {
      "text/plain": [
       "(30.548558009035272, 33.307441990964726)"
      ]
     },
     "execution_count": 7,
     "metadata": {},
     "output_type": "execute_result"
    }
   ],
   "source": [
    "import numpy as np\n",
    "import scipy.stats as st\n",
    "\n",
    "gfg_data = np.random.randint(5, 60, 500)\n",
    "\n",
    "st.norm.interval(alpha=0.95,\n",
    "                 loc=np.mean(gfg_data),\n",
    "                 scale=st.sem(gfg_data))"
   ]
  },
  {
   "cell_type": "markdown",
   "id": "7eeed7dc-4b24-49dc-83aa-82508042f742",
   "metadata": {},
   "source": [
    "## Q5.  code"
   ]
  },
  {
   "cell_type": "code",
   "execution_count": 8,
   "id": "9acff297-0cff-458e-8772-ab62ea469553",
   "metadata": {},
   "outputs": [
    {
     "name": "stderr",
     "output_type": "stream",
     "text": [
      "/tmp/ipykernel_77/1637262175.py:9: DeprecationWarning: Use of keyword argument `alpha` for method `interval` is deprecated. Use first positional argument or keyword argument `confidence` instead.\n",
      "  st.norm.interval(alpha=0.90,\n"
     ]
    },
    {
     "data": {
      "text/plain": [
       "(7.5337596402666, 8.2262403597334)"
      ]
     },
     "execution_count": 8,
     "metadata": {},
     "output_type": "execute_result"
    }
   ],
   "source": [
    "import numpy as np\n",
    "import scipy.stats as st\n",
    "  \n",
    "# define sample data\n",
    "gfg_data = np.random.randint(5, 12, 75)\n",
    "  \n",
    "# create 90% confidence interval\n",
    "# for population mean weight\n",
    "st.norm.interval(alpha=0.90,\n",
    "                 loc=np.mean(gfg_data),\n",
    "                 scale=st.sem(gfg_data))"
   ]
  },
  {
   "cell_type": "markdown",
   "id": "318cfcb8-ab00-4b03-8c23-18b2ae11d25b",
   "metadata": {},
   "source": [
    "## Q6.  code"
   ]
  },
  {
   "cell_type": "code",
   "execution_count": 4,
   "id": "4c9a20bd-6bca-4ef4-bbbe-9dbb30ebb396",
   "metadata": {},
   "outputs": [
    {
     "data": {
      "image/png": "[encoded data removed]",
      "text/plain": [
       "<Figure size 640x480 with 1 Axes>"
      ]
     },
     "metadata": {},
     "output_type": "display_data"
    }
   ],
   "source": [
    "import numpy as np\n",
    "import matplotlib.pyplot as plt\n",
    "  \n",
    "# Using chisquare() method\n",
    "gfg = np.random.chisquare(10, 1000)\n",
    "  \n",
    "count, bins, ignored = plt.hist(gfg, 14, density = True)\n",
    "plt.show()"
   ]
  },
  {
   "cell_type": "markdown",
   "id": "c92b38db-2835-40ea-8d42-9688bd159057",
   "metadata": {},
   "source": [
    "## Q7.  The sample size is n=1000\n",
    "The sample mean is ¯x=520\n",
    "\n",
    "The confidence level is CL=99%=0.99.\n",
    "\n",
    "The significance level is, α=1−CL=1−0.99=0.01\n",
    "\n",
    "The standard critical value z(α/2) corresponding to 99% confidence level from normal distribution table is, 2.575\n",
    "\n",
    "The lower limit of confidence interval is,\n",
    "\n",
    "μL=¯x − 2.575√((¯x(1−¯x))/n)=520−2.575√((520(1000−520))/1000) = 520-40.68\n",
    "\n",
    "The upper limit of confidence interval is,\n",
    "\n",
    "μL=¯x + 2.575√((¯x(1−¯x))/n)=520−2.575√((520(1000-520))/1000) = 520+40.68\n",
    "\n",
    "Thus, the confidence interval at 95% is (479.32, 560.68)."
   ]
  },
  {
   "cell_type": "markdown",
   "id": "6442ae36-788a-4a9f-ac20-b5af579e769d",
   "metadata": {},
   "source": [
    "## Q8.  How to perform the chi-square goodness of fit test\n",
    "1. Calculate the expected frequencies. ...\n",
    "2. Calculate chi-square. ...\n",
    "3. Find the critical chi-square value. ...\n",
    "4. Compare the chi-square value to the critical value. ...\n",
    "5. Decide whether the reject the null hypothesis."
   ]
  },
  {
   "cell_type": "markdown",
   "id": "495eedaf-9566-4805-8f54-7ad294c18d68",
   "metadata": {},
   "source": [
    "## Q9.  How to perform the chi-square goodness of fit test\n",
    "1. Calculate the expected frequencies. ...\n",
    "2. Calculate chi-square. ...\n",
    "3. Find the critical chi-square value. ...\n",
    "4. Compare the chi-square value to the critical value. ...\n",
    "5. Decide whether the reject the null hypothesis."
   ]
  },
  {
   "cell_type": "markdown",
   "id": "cddb751c-2eb3-48a4-83e6-81e03498de21",
   "metadata": {},
   "source": [
    "## Q10.  How to perform the chi-square goodness of fit test\n",
    "1. Calculate the expected frequencies. ...\n",
    "2. Calculate chi-square. ...\n",
    "3. Find the critical chi-square value. ...\n",
    "4. Compare the chi-square value to the critical value. ...\n",
    "5. Decide whether the reject the null hypothesis."
   ]
  },
  {
   "cell_type": "markdown",
   "id": "086a3610-5510-4a88-a115-5ce61472114e",
   "metadata": {},
   "source": [
    "## Q11.  How to perform the chi-square goodness of fit test\n",
    "1. Calculate the expected frequencies. ...\n",
    "2. Calculate chi-square. ...\n",
    "3. Find the critical chi-square value. ...\n",
    "4. Compare the chi-square value to the critical value. ...\n",
    "5. Decide whether the reject the null hypothesis."
   ]
  }
 ],
 "metadata": {
  "kernelspec": {
   "display_name": "Python 3 (ipykernel)",
   "language": "python",
   "name": "python3"
  },
  "language_info": {
   "codemirror_mode": {
    "name": "ipython",
    "version": 3
   },
   "file_extension": ".py",
   "mimetype": "text/x-python",
   "name": "python",
   "nbconvert_exporter": "python",
   "pygments_lexer": "ipython3",
   "version": "3.10.8"
  }
 },
 "nbformat": 4,
 "nbformat_minor": 5
}
