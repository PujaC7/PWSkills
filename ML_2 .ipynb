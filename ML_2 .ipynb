{
 "cells": [
  {
   "cell_type": "markdown",
   "id": "d6763bd2-e7c0-4abe-bd66-93690ed8d807",
   "metadata": {},
   "source": [
    "## Q1.  Underfitting means that your model makes accurate, but initially incorrect predictions. In this case, train error is large and val/test error is large too. Overfitting means that your model makes not accurate predictions. In this case, train error is very small and val/test error is large\n",
    "### Underfitting occurs when your model produces accurate but inaccurate predictions at first. In this scenario, the training error is substantial, as is the validation/test error. Overfitting occurs when your model fails to generate correct predictions.\n",
    "### 1. Early stopping. Early stopping pauses the training phase before the machine learning model learns the noise in the data. ...\n",
    "2. Pruning. You might identify several features or parameters that impact the final prediction when you build a model. ...\n",
    "3. Regularization. ...\n",
    "4. Ensembling. ...\n",
    "5. Data augmentation."
   ]
  },
  {
   "cell_type": "markdown",
   "id": "9f009a44-fd32-4a2f-9bb3-408866ea7468",
   "metadata": {},
   "source": [
    "## Q2. Using a more complex model, for instance by switching from a linear to a non-linear model or by adding hidden layers to your neural network, will very often help solve underfitting. The algorithms you use include by default regularization parameters meant to prevent overfitting."
   ]
  },
  {
   "cell_type": "markdown",
   "id": "b2d5917e-72ca-432b-8415-735d3fdbe586",
   "metadata": {},
   "source": [
    "## Q3.  Underfitting is a scenario in data science where a data model is unable to capture the relationship between the input and output variables accurately, generating a high error rate on both the training set and unseen data.\n",
    "### Reasons for Underfitting\n",
    "1. Data used for training is not cleaned and contains noise (garbage values) in it.\n",
    "2. The model has a high bias.\n",
    "3. The size of the training dataset used is not enough.\n",
    "4. The model is too simple."
   ]
  },
  {
   "cell_type": "markdown",
   "id": "de0b53b7-c2e4-430c-b331-e09e6aa52206",
   "metadata": {},
   "source": [
    "## Q4.  in statistics and machine learning, the bias–variance tradeoff is the property of a model that the variance of the parameter estimated across samples can be reduced by increasing the bias in the estimated parameters.\n",
    "### Bias and variance are inversely connected. It is impossible to have an ML model with a low bias and a low variance. When a data engineer modifies the ML algorithm to better fit a given data set, it will lead to low bias—but it will increase variance.\n",
    "### A model that exhibits small variance and high bias will underfit the target, while a model with high variance and little bias will overfit the target. A model with high variance may represent the data set accurately but could lead to overfitting to noisy or otherwise unrepresentative training data."
   ]
  },
  {
   "cell_type": "markdown",
   "id": "ecc14d25-bb1c-4bf6-bf38-e63db3075f7d",
   "metadata": {},
   "source": [
    "## Q5.  The best method to detect overfit models is by testing the machine learning models on more data with with comprehensive representation of possible input data values and types. Typically, part of the training data is used as test data to check for overfitting. A high error rate in the testing data indicates overfitting.\n",
    "### We can determine whether a predictive model is underfitting or overfitting the training data by looking at the prediction error on the training data and the evaluation data. Your model is underfitting the training data when the model performs poorly on the training data."
   ]
  },
  {
   "cell_type": "markdown",
   "id": "fce1d36b-bebf-4731-b787-2799dd6e86e6",
   "metadata": {},
   "source": [
    "## Q6.  The term \"variance\" refers to the degree of change that may be expected in the estimation of the target function as a result of using multiple sets of training data. The disparity between the values that were predicted and the values that were actually observed is referred to as bias.\n",
    "### Examples of high-bias machine learning algorithms include: Linear Regression, Linear Discriminant Analysis and Logistic Regression\n",
    "### Bias and variance are inversely connected. It is impossible to have an ML model with a low bias and a low variance. When a data engineer modifies the ML algorithm to better fit a given data set, it will lead to low bias—but it will increase variance."
   ]
  },
  {
   "cell_type": "markdown",
   "id": "13c7d80b-348d-4d3a-b9ae-ad3d04d00d5f",
   "metadata": {},
   "source": [
    "## Q7.  Regularization refers to techniques that are used to calibrate machine learning models in order to minimize the adjusted loss function and prevent overfitting or underfitting.\n",
    "### Regularization refers to techniques that are used to calibrate machine learning models in order to minimize the adjusted loss function and prevent overfitting or underfitting. Using Regularization, we can fit our machine learning model appropriately on a given test set and hence reduce the errors in it.\n",
    "### Regularization is used in machine learning as a solution to overfitting by reducing the variance of the ML model under consideration. Regularization can be implemented in multiple ways by either modifying the loss function, sampling method, or the training approach itself."
   ]
  },
  {
   "cell_type": "code",
   "execution_count": null,
   "id": "83a81c89-fbf7-4ecf-9c1d-3b5529d7b65a",
   "metadata": {},
   "outputs": [],
   "source": []
  }
 ],
 "metadata": {
  "kernelspec": {
   "display_name": "Python 3 (ipykernel)",
   "language": "python",
   "name": "python3"
  },
  "language_info": {
   "codemirror_mode": {
    "name": "ipython",
    "version": 3
   },
   "file_extension": ".py",
   "mimetype": "text/x-python",
   "name": "python",
   "nbconvert_exporter": "python",
   "pygments_lexer": "ipython3",
   "version": "3.10.8"
  }
 },
 "nbformat": 4,
 "nbformat_minor": 5
}
