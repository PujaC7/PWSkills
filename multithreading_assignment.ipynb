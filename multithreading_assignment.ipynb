{
 "cells": [
  {
   "cell_type": "markdown",
   "id": "bb8efee7-10c2-466a-8f89-72c7acb550b7",
   "metadata": {},
   "source": [
    "## Q1. Multithreading is the ability of a program or an operating system to enable more than one user at a time without requiring multiple copies of the program running on the computer. Multithreading can also handle multiple requests from the same user.\n",
    "### Multithreading allows the programmer to divide application tasks into sub-tasks and simultaneously run them in a program. It allows threads to communicate and share resources such as files, data, and memory to the same processor.\n",
    "### Threading Modules. The threading module is a high-level implementation of multithreading used to deploy an application in Python. To use multithreading, we need to import the threading module in Python Program. A start() method is used to initiate the activity of a thread."
   ]
  },
  {
   "cell_type": "markdown",
   "id": "bfcf0cf6-a925-4f80-96a9-149c1ac3296a",
   "metadata": {},
   "source": [
    "## Q2.  The threading module is a high-level implementation of multithreading used to deploy an application in Python. To use multithreading, we need to import the threading module in Python Program. A start() method is used to initiate the activity of a thread.\n",
    "### threading.activeCount() − Returns the number of thread objects that are active. \n",
    "### threading.currentThread() − Returns the number of thread objects in the caller's thread control. \n",
    "### threading.enumerate() − Returns a list of all thread objects that are currently active."
   ]
  },
  {
   "cell_type": "markdown",
   "id": "805daf5a-2f4e-4c76-96c9-434644e51e48",
   "metadata": {},
   "source": [
    "## Q3.  run() method executes any target function belonging to a given thread object that is now active. It normally executes in the background after the . start() method is invoked.\n",
    "### start() method is an inbuilt method of the Thread class of the threading module in Python. It is used to start a thread's activity. This method calls the run() method internally which then executes the target method. This method must be called at most one time for one thread.\n",
    "### The join() method of thread class waits for a thread to die. It is used when you want one thread to wait for completion of another. This process is like a relay race where the second runner waits until the first runner comes and hand over the flag to him.\n",
    "### the .is_alive() method returns True if the thread is still running and False, otherwise."
   ]
  },
  {
   "cell_type": "markdown",
   "id": "028e0469-08db-49fa-a768-1bc85c0ed233",
   "metadata": {},
   "source": [
    "## Q4.  code"
   ]
  },
  {
   "cell_type": "code",
   "execution_count": 1,
   "id": "ee489fe5-4954-4322-8437-b72cb13d45c8",
   "metadata": {},
   "outputs": [
    {
     "name": "stdout",
     "output_type": "stream",
     "text": [
      "Square: 25\n",
      "Cube: 27\n",
      "Done!\n"
     ]
    }
   ],
   "source": [
    "import threading\n",
    " \n",
    "def print_cube(num):\n",
    "    print(\"Cube: {}\" .format(num * num * num))\n",
    "\n",
    "def print_square(num):\n",
    "    print(\"Square: {}\" .format(num * num))\n",
    " \n",
    " \n",
    "if __name__ ==\"__main__\":\n",
    "    t1 = threading.Thread(target=print_square, args=(5,))\n",
    "    t2 = threading.Thread(target=print_cube, args=(3,))\n",
    " \n",
    "    t1.start()\n",
    "    t2.start()\n",
    " \n",
    "    t1.join()\n",
    "    t2.join()\n",
    "    \n",
    "    print(\"Done!\")"
   ]
  },
  {
   "cell_type": "markdown",
   "id": "ffcf8b59-278c-41ab-b9e5-a5bab0aea2ed",
   "metadata": {},
   "source": [
    "## Q5.  the advantages and disadvantages of multithreading is,\n",
    "### This model provides more concurrency than the many-to-one model. It also allows another thread to run when a thread makes a blocking system call. It supports multiple threads to execute in parallel on microprocessors. Disadvantage of this model is that creating user thread requires the corresponding Kernel thread."
   ]
  },
  {
   "cell_type": "markdown",
   "id": "89a750f4-655e-4bb3-a63d-2617854c3e89",
   "metadata": {},
   "source": [
    "## Q6.  Race Condition And Deadlock\n",
    "### A race condition occurs when two threads use the same variable at a given time. Deadlock exists when two threads seek one lock simultaneously. This situation will stop both threads from processing or executing the functions.\n"
   ]
  },
  {
   "cell_type": "code",
   "execution_count": null,
   "id": "2e9199d8-2971-4c5d-9fba-7401f44acc7d",
   "metadata": {},
   "outputs": [],
   "source": []
  }
 ],
 "metadata": {
  "kernelspec": {
   "display_name": "Python 3 (ipykernel)",
   "language": "python",
   "name": "python3"
  },
  "language_info": {
   "codemirror_mode": {
    "name": "ipython",
    "version": 3
   },
   "file_extension": ".py",
   "mimetype": "text/x-python",
   "name": "python",
   "nbconvert_exporter": "python",
   "pygments_lexer": "ipython3",
   "version": "3.10.8"
  }
 },
 "nbformat": 4,
 "nbformat_minor": 5
}
