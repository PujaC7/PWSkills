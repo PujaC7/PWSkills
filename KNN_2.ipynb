{
 "cells": [
  {
   "cell_type": "markdown",
   "id": "110126a5-0685-4a16-aeea-9d54f8d6fd4e",
   "metadata": {},
   "source": [
    "## Q1.  Euclidean distance is the shortest path between source and destination which is a straight line as shown in Figure 1.3. but Manhattan distance is sum of all the real distances between source(s) and destination(d) and each distance are always the straight lines as shown in Figure 1.4.\n",
    "### We mean by the 'best distance metric' (in this review) is the one that allows the KNN to classify test examples with the highest precision, recall and accuracy, i.e. the one that gives best performance of the KNN in terms of accuracy."
   ]
  },
  {
   "cell_type": "markdown",
   "id": "31855193-c916-4059-946f-fe1b80666cea",
   "metadata": {},
   "source": [
    "## Q2.  The choice of k will largely depend on the input data as data with more outliers or noise will likely perform better with higher values of k. Overall, it is recommended to have an odd number for k to avoid ties in classification, and cross-validation tactics can help you choose the optimal k for your dataset."
   ]
  },
  {
   "cell_type": "markdown",
   "id": "73dd18ec-11d4-4778-885d-f8077807b10e",
   "metadata": {},
   "source": [
    "## Q3.  We mean by the 'best distance metric' (in this review) is the one that allows the KNN to classify test examples with the highest precision, recall and accuracy, i.e. the one that gives best performance of the KNN in terms of accuracy.\n",
    "### The choice of distance measures is very important, as it has a strong influence on the clustering results. For most common clustering software, the default distance measure is the Euclidean distance. Depending on the type of the data and the researcher questions, other dissimilarity measures might be preferred."
   ]
  },
  {
   "cell_type": "markdown",
   "id": "da6a8249-faad-446f-91da-5a3290efb57f",
   "metadata": {},
   "source": [
    "## Q4.  The most important hyperparameter for KNN is the number of neighbors (n_neighbors). Test values between at least 1 and 21, perhaps just the odd numbers. It may also be interesting to test different distance metrics (metric) for choosing the composition of the neighborhood\n",
    "### Steps to Perform Hyperparameter Tuning\n",
    "- Select the right type of model.\n",
    "- Review the list of parameters of the model and build the HP space.\n",
    "- Finding the methods for searching the hyperparameter space.\n",
    "- Applying the cross-validation scheme approach.\n",
    "- Assess the model score to evaluate the model."
   ]
  },
  {
   "cell_type": "markdown",
   "id": "989f7822-cb63-45bc-99a1-a2494166c460",
   "metadata": {},
   "source": [
    "## Q5.  The KNN algorithm does not work well with large datasets. The cost of calculating the distance between the new point and each existing point is huge, which degrades performance\n",
    "### What is machine learning optimisation? Machine learning optimisation is the process of iteratively improving the accuracy of a machine learning model, lowering the degree of error. Machine learning models learn to generalise and make predictions about new live data based on insight learned from training data."
   ]
  },
  {
   "cell_type": "markdown",
   "id": "2a17c793-43f5-441d-92e4-f8386feaa656",
   "metadata": {},
   "source": [
    "## Q6.  Some Disadvantages of KNN\n",
    "- Accuracy depends on the quality of the data.\n",
    "- With large data, the prediction stage might be slow.\n",
    "- Sensitive to the scale of the data and irrelevant features.\n",
    "- Require high memory – need to store all of the training data.\n",
    "- Given that it stores all of the training, it can be computationally expensive.\n",
    "### Cross-validation\n",
    "\n",
    "Ultimately is it used to improve machine learning model. Note: It can be an effective tool for training models with a smaller dataset."
   ]
  },
  {
   "cell_type": "code",
   "execution_count": null,
   "id": "9a536138-9f8c-4136-8653-da18cbdde1fb",
   "metadata": {},
   "outputs": [],
   "source": []
  }
 ],
 "metadata": {
  "kernelspec": {
   "display_name": "Python 3 (ipykernel)",
   "language": "python",
   "name": "python3"
  },
  "language_info": {
   "codemirror_mode": {
    "name": "ipython",
    "version": 3
   },
   "file_extension": ".py",
   "mimetype": "text/x-python",
   "name": "python",
   "nbconvert_exporter": "python",
   "pygments_lexer": "ipython3",
   "version": "3.10.8"
  }
 },
 "nbformat": 4,
 "nbformat_minor": 5
}
