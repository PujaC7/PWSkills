{
 "cells": [
  {
   "cell_type": "markdown",
   "id": "9aa2c482-87dc-4ba2-a1f0-2e3b7eee7e9a",
   "metadata": {},
   "source": [
    "## Q1.  An exception is an event, which occurs during the execution of a program that disrupts the normal flow of the program's instructions. In general, when a Python script encounters a situation that it cannot cope with, it raises an exception. An exception is a Python object that represents an error.\n",
    "###  An Exception is an event that occurs during the program execution and disrupts the normal flow of the program's execution. Errors mostly happen at compile-time like syntax error; however it can happen at runtime as well. Whereas an Exception occurs at runtime ."
   ]
  },
  {
   "cell_type": "markdown",
   "id": "a2ab5dba-bd4e-46a6-98dc-c384c1892060",
   "metadata": {},
   "source": [
    "## Q2.  When an exception occurred, if one don’t handle it, the program terminates abruptly and the code past the line that caused the exception will not get executed.\n",
    "\n",
    "### Example\n",
    "#### an array is of fixed size and each element is accessed using the indices. let us create an array with size 7. Then the valid expressions to access the elements of this array will be a[0] to a[6].Whenever, we used an –ve value or, the value greater than or equal to the size of the array, then the ArrayIndexOutOfBoundsException is thrown."
   ]
  },
  {
   "cell_type": "markdown",
   "id": "3944f889-32f2-4750-bb7f-3fd2d037d42a",
   "metadata": {},
   "source": [
    "##  Q3.  The try and except block in Python is used to catch and handle exceptions.\n",
    "### example"
   ]
  },
  {
   "cell_type": "code",
   "execution_count": 1,
   "id": "b9bbeaa1-3227-4af0-935e-aecbf636d362",
   "metadata": {},
   "outputs": [
    {
     "name": "stdout",
     "output_type": "stream",
     "text": [
      "Error: cannot add an int and a str\n"
     ]
    }
   ],
   "source": [
    "x = 5\n",
    "y = \"hello\"\n",
    "try:\n",
    "    z = x + y\n",
    "except TypeError:\n",
    "    print(\"Error: cannot add an int and a str\")"
   ]
  },
  {
   "cell_type": "markdown",
   "id": "e9d9e6b8-2a32-4156-b783-5c8db6fe586d",
   "metadata": {},
   "source": [
    "## Q4.  try block will test the excepted error to occur and If there is no exception then else block will be executedand else \n",
    "### example"
   ]
  },
  {
   "cell_type": "code",
   "execution_count": 2,
   "id": "0ecfa73d-8325-4cc9-9e98-7bdf36ea2a1f",
   "metadata": {},
   "outputs": [
    {
     "name": "stdout",
     "output_type": "stream",
     "text": [
      "Hello\n",
      "Nothing went wrong\n"
     ]
    }
   ],
   "source": [
    "try:\n",
    "  print(\"Hello\")\n",
    "except:\n",
    "  print(\"Something went wrong\")\n",
    "else:\n",
    "  print(\"Nothing went wrong\")"
   ]
  },
  {
   "cell_type": "markdown",
   "id": "3f4170cc-53ef-469f-92b9-e46c719b7482",
   "metadata": {},
   "source": [
    "## Finally block always gets executed either exception is generated or not\n",
    "### example"
   ]
  },
  {
   "cell_type": "code",
   "execution_count": 3,
   "id": "70b09521-f2cb-4ad1-a707-7b885ecd397e",
   "metadata": {},
   "outputs": [],
   "source": [
    "def divide(x, y):\n",
    "    try:\n",
    "        result = x // y\n",
    "    except ZeroDivisionError:\n",
    "        print(\"Sorry ! You are dividing by zero \")\n",
    "    else:\n",
    "        print(\"Yeah ! Your answer is :\", result)\n",
    "    finally:  \n",
    "        print('This is always executed')"
   ]
  },
  {
   "cell_type": "code",
   "execution_count": 8,
   "id": "f988b131-a505-4ee8-adc3-8753b7d4e787",
   "metadata": {},
   "outputs": [
    {
     "name": "stdout",
     "output_type": "stream",
     "text": [
      "Sorry ! You are dividing by zero \n",
      "This is always executed\n"
     ]
    }
   ],
   "source": [
    "divide(10,0)"
   ]
  },
  {
   "cell_type": "markdown",
   "id": "325ae62b-b05b-4634-94d7-8e3d68a3607c",
   "metadata": {},
   "source": [
    "## raise is used to raise exceptions or errors and stops the control flow of the program. It is used to bring up the current exception in an exception handler so that it can be handled further up the call stack.\n",
    "### example"
   ]
  },
  {
   "cell_type": "code",
   "execution_count": 9,
   "id": "db3549c9-3340-497a-b873-a938a417eb4e",
   "metadata": {},
   "outputs": [
    {
     "ename": "Exception",
     "evalue": "The number shouldn't be an odd integer",
     "output_type": "error",
     "traceback": [
      "\u001b[0;31m---------------------------------------------------------------------------\u001b[0m",
      "\u001b[0;31mException\u001b[0m                                 Traceback (most recent call last)",
      "Cell \u001b[0;32mIn[9], line 3\u001b[0m\n\u001b[1;32m      1\u001b[0m a \u001b[38;5;241m=\u001b[39m \u001b[38;5;241m5\u001b[39m\n\u001b[1;32m      2\u001b[0m \u001b[38;5;28;01mif\u001b[39;00m a \u001b[38;5;241m%\u001b[39m \u001b[38;5;241m2\u001b[39m \u001b[38;5;241m!=\u001b[39m \u001b[38;5;241m0\u001b[39m:\n\u001b[0;32m----> 3\u001b[0m     \u001b[38;5;28;01mraise\u001b[39;00m \u001b[38;5;167;01mException\u001b[39;00m(\u001b[38;5;124m\"\u001b[39m\u001b[38;5;124mThe number shouldn\u001b[39m\u001b[38;5;124m'\u001b[39m\u001b[38;5;124mt be an odd integer\u001b[39m\u001b[38;5;124m\"\u001b[39m)\n",
      "\u001b[0;31mException\u001b[0m: The number shouldn't be an odd integer"
     ]
    }
   ],
   "source": [
    "a = 5\n",
    "if a % 2 != 0:\n",
    "    raise Exception(\"The number shouldn't be an odd integer\")"
   ]
  },
  {
   "cell_type": "markdown",
   "id": "9b58b27f-93e7-446b-bc1e-fa6e97f53cf2",
   "metadata": {},
   "source": [
    "## Q5.   Custom exceptions are exception types we define ourself in our project. They basically inherit from the Exception base class and implement the three common constructors found in exception types.\n",
    "###  we need custom exceptions in Python because,  Built-in exceptions offer information about Python-related problems, and custom exceptions will add information about project-related problems. That way, one can design his code (and traceback, if an exception is raised) in a way that combines Python code with the language of the project\n",
    "#### example"
   ]
  },
  {
   "cell_type": "code",
   "execution_count": 11,
   "id": "812a5256-e84e-43f6-b186-db8f912339f1",
   "metadata": {},
   "outputs": [
    {
     "name": "stdout",
     "output_type": "stream",
     "text": [
      "A New Exception occurred:  30\n"
     ]
    }
   ],
   "source": [
    "class MyError(Exception):\n",
    "\n",
    "    def __init__(self, value):\n",
    "        self.value = value\n",
    " \n",
    "    def __str__(self):\n",
    "        return(repr(self.value))\n",
    " \n",
    " \n",
    "try:\n",
    "    raise(MyError(5*6))\n",
    "\n",
    "except MyError as error:\n",
    "    print('A New Exception occurred: ', error.value)"
   ]
  },
  {
   "cell_type": "markdown",
   "id": "8e4624fa-2cbc-4c4c-886e-71b65ca13d73",
   "metadata": {},
   "source": [
    "## Q6.  creating a custom exception class and using this class to handle an exception "
   ]
  },
  {
   "cell_type": "code",
   "execution_count": 12,
   "id": "5165f5fa-122e-438e-8c91-fde1c8c3530e",
   "metadata": {},
   "outputs": [
    {
     "name": "stdout",
     "output_type": "stream",
     "text": [
      "A New Exception occurred:  56\n"
     ]
    }
   ],
   "source": [
    "class MyError(Exception):\n",
    "\n",
    "    def __init__(self, value):\n",
    "        self.value = value\n",
    " \n",
    "    def __str__(self):\n",
    "        return(repr(self.value))\n",
    " \n",
    " \n",
    "try:\n",
    "    raise(MyError(7*8))\n",
    "\n",
    "except MyError as error:\n",
    "    print('A New Exception occurred: ', error.value)"
   ]
  },
  {
   "cell_type": "code",
   "execution_count": null,
   "id": "2e2be1c6-e962-4e6b-ab74-322f3907bead",
   "metadata": {},
   "outputs": [],
   "source": []
  }
 ],
 "metadata": {
  "kernelspec": {
   "display_name": "Python 3 (ipykernel)",
   "language": "python",
   "name": "python3"
  },
  "language_info": {
   "codemirror_mode": {
    "name": "ipython",
    "version": 3
   },
   "file_extension": ".py",
   "mimetype": "text/x-python",
   "name": "python",
   "nbconvert_exporter": "python",
   "pygments_lexer": "ipython3",
   "version": "3.10.8"
  }
 },
 "nbformat": 4,
 "nbformat_minor": 5
}
