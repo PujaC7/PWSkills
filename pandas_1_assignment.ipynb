{
 "cells": [
  {
   "cell_type": "markdown",
   "id": "52e45311-07fa-4c12-9842-80883c858434",
   "metadata": {},
   "source": [
    "## Q1. code"
   ]
  },
  {
   "cell_type": "code",
   "execution_count": 1,
   "id": "cd6fc6bd-9482-41d0-be61-a290151736b6",
   "metadata": {},
   "outputs": [
    {
     "name": "stdout",
     "output_type": "stream",
     "text": [
      "0     4\n",
      "1     8\n",
      "2    15\n",
      "3    16\n",
      "4    23\n",
      "5    42\n",
      "dtype: int64\n"
     ]
    }
   ],
   "source": [
    "import pandas as pd\n",
    "list = [4, 8, 15, 16, 23, 42]\n",
    "series = pd.Series(list)\n",
    "print(series)"
   ]
  },
  {
   "cell_type": "markdown",
   "id": "86147f09-d666-4653-87b9-51d72abda201",
   "metadata": {},
   "source": [
    "## Q2. code"
   ]
  },
  {
   "cell_type": "code",
   "execution_count": 2,
   "id": "88d2da6f-f4d8-4b2d-96c2-71a53cdbc3ef",
   "metadata": {},
   "outputs": [
    {
     "name": "stdout",
     "output_type": "stream",
     "text": [
      "0         the\n",
      "1    industry\n",
      "2    requires\n",
      "3    advanced\n",
      "4      skills\n",
      "5         get\n",
      "6          it\n",
      "7         the\n",
      "8       smart\n",
      "9         way\n",
      "dtype: object\n"
     ]
    }
   ],
   "source": [
    "import pandas as pd\n",
    "list = [ ['the'], ['industry'], ['requires'], ['advanced'],['skills'], ['get'], ['it'], ['the'], ['smart'], ['way']]\n",
    "\n",
    "df = pd.Series((i[0] for i in list))\n",
    "  \n",
    "print(df)"
   ]
  },
  {
   "cell_type": "markdown",
   "id": "3487feec-cdb2-47e2-b13a-199ee8333f1f",
   "metadata": {},
   "source": [
    "## Q3. code"
   ]
  },
  {
   "cell_type": "code",
   "execution_count": 26,
   "id": "de6c3cfa-f5c9-45ad-ae27-7e4f2fee6770",
   "metadata": {},
   "outputs": [
    {
     "data": {
      "text/html": [
       "<div>\n",
       "<style scoped>\n",
       "    .dataframe tbody tr th:only-of-type {\n",
       "        vertical-align: middle;\n",
       "    }\n",
       "\n",
       "    .dataframe tbody tr th {\n",
       "        vertical-align: top;\n",
       "    }\n",
       "\n",
       "    .dataframe thead th {\n",
       "        text-align: right;\n",
       "    }\n",
       "</style>\n",
       "<table border=\"1\" class=\"dataframe\">\n",
       "  <thead>\n",
       "    <tr style=\"text-align: right;\">\n",
       "      <th></th>\n",
       "      <th>Name</th>\n",
       "      <th>Age</th>\n",
       "      <th>Gender</th>\n",
       "    </tr>\n",
       "  </thead>\n",
       "  <tbody>\n",
       "    <tr>\n",
       "      <th>0</th>\n",
       "      <td>Alice</td>\n",
       "      <td>25</td>\n",
       "      <td>Female</td>\n",
       "    </tr>\n",
       "    <tr>\n",
       "      <th>1</th>\n",
       "      <td>Bob</td>\n",
       "      <td>30</td>\n",
       "      <td>Male</td>\n",
       "    </tr>\n",
       "    <tr>\n",
       "      <th>2</th>\n",
       "      <td>Claire</td>\n",
       "      <td>27</td>\n",
       "      <td>Female</td>\n",
       "    </tr>\n",
       "  </tbody>\n",
       "</table>\n",
       "</div>"
      ],
      "text/plain": [
       "     Name  Age  Gender\n",
       "0   Alice   25  Female\n",
       "1     Bob   30    Male\n",
       "2  Claire   27  Female"
      ]
     },
     "execution_count": 26,
     "metadata": {},
     "output_type": "execute_result"
    }
   ],
   "source": [
    "import pandas as pd\n",
    "\n",
    "data = {'Name': ['Alice', 'Bob', 'Claire'], 'Age': [25,30,27], 'Gender' : ['Female', 'Male', 'Female']}\n",
    "  \n",
    "df = pd.DataFrame(data, index = None)\n",
    "\n",
    "df"
   ]
  },
  {
   "cell_type": "markdown",
   "id": "0cf36088-1479-4ee2-8d7b-e58785fbe920",
   "metadata": {},
   "source": [
    "## Q4.  Pandas DataFrame is two-dimensional size-mutable, potentially heterogeneous tabular data structure with labeled axes (rows and columns). A Data frame is a two-dimensional data structure, i.e., data is aligned in a tabular fashion in rows and columns. Pandas DataFrame consists of three principal components, the data, rows, and columns.\n",
    "###  a Pandas Series is a 1D array of data, but a single-column DataFrame is a 2D table with one column. The main distinction between the two is this. For a single-column DataFrame, an index can be optional, but a Series has to have an index defined\n",
    "### example"
   ]
  },
  {
   "cell_type": "code",
   "execution_count": 27,
   "id": "5776c659-9f5a-460d-938b-78f7491387e6",
   "metadata": {},
   "outputs": [
    {
     "data": {
      "text/html": [
       "<div>\n",
       "<style scoped>\n",
       "    .dataframe tbody tr th:only-of-type {\n",
       "        vertical-align: middle;\n",
       "    }\n",
       "\n",
       "    .dataframe tbody tr th {\n",
       "        vertical-align: top;\n",
       "    }\n",
       "\n",
       "    .dataframe thead th {\n",
       "        text-align: right;\n",
       "    }\n",
       "</style>\n",
       "<table border=\"1\" class=\"dataframe\">\n",
       "  <thead>\n",
       "    <tr style=\"text-align: right;\">\n",
       "      <th></th>\n",
       "      <th>Name</th>\n",
       "      <th>Age</th>\n",
       "      <th>Gender</th>\n",
       "    </tr>\n",
       "  </thead>\n",
       "  <tbody>\n",
       "    <tr>\n",
       "      <th>0</th>\n",
       "      <td>puja</td>\n",
       "      <td>26</td>\n",
       "      <td>Female</td>\n",
       "    </tr>\n",
       "    <tr>\n",
       "      <th>1</th>\n",
       "      <td>sourav</td>\n",
       "      <td>25</td>\n",
       "      <td>Male</td>\n",
       "    </tr>\n",
       "    <tr>\n",
       "      <th>2</th>\n",
       "      <td>ritika</td>\n",
       "      <td>26</td>\n",
       "      <td>Female</td>\n",
       "    </tr>\n",
       "  </tbody>\n",
       "</table>\n",
       "</div>"
      ],
      "text/plain": [
       "     Name  Age  Gender\n",
       "0    puja   26  Female\n",
       "1  sourav   25    Male\n",
       "2  ritika   26  Female"
      ]
     },
     "execution_count": 27,
     "metadata": {},
     "output_type": "execute_result"
    }
   ],
   "source": [
    "import pandas as pd\n",
    "\n",
    "data = {'Name': ['puja', 'sourav', 'ritika'], 'Age': [26,25,26], 'Gender' : ['Female', 'Male', 'Female']}\n",
    "  \n",
    "df = pd.DataFrame(data, index = None)\n",
    "\n",
    "df"
   ]
  },
  {
   "cell_type": "markdown",
   "id": "56e43445-e2b9-4e4c-b257-95ff3461568f",
   "metadata": {},
   "source": [
    "## Q5.  functions one can use to manipulate data in a Pandas DataFrame are\n",
    "1. Dropping columns in the data.\n",
    "2. Dropping rows in the data.\n",
    "3. Renaming a column in the dataset.\n",
    "4. Select columns with specific data types.\n",
    "5. Slicing the dataset.\n",
    "### example"
   ]
  },
  {
   "cell_type": "code",
   "execution_count": 1,
   "id": "04fdcbe6-5177-44e8-b26f-0a3a4b0ea669",
   "metadata": {},
   "outputs": [
    {
     "data": {
      "text/html": [
       "<div>\n",
       "<style scoped>\n",
       "    .dataframe tbody tr th:only-of-type {\n",
       "        vertical-align: middle;\n",
       "    }\n",
       "\n",
       "    .dataframe tbody tr th {\n",
       "        vertical-align: top;\n",
       "    }\n",
       "\n",
       "    .dataframe thead th {\n",
       "        text-align: right;\n",
       "    }\n",
       "</style>\n",
       "<table border=\"1\" class=\"dataframe\">\n",
       "  <thead>\n",
       "    <tr style=\"text-align: right;\">\n",
       "      <th></th>\n",
       "      <th>Name</th>\n",
       "      <th>Age</th>\n",
       "      <th>Gender</th>\n",
       "    </tr>\n",
       "  </thead>\n",
       "  <tbody>\n",
       "    <tr>\n",
       "      <th>0</th>\n",
       "      <td>Alice</td>\n",
       "      <td>25</td>\n",
       "      <td>Female</td>\n",
       "    </tr>\n",
       "    <tr>\n",
       "      <th>2</th>\n",
       "      <td>Claire</td>\n",
       "      <td>27</td>\n",
       "      <td>Female</td>\n",
       "    </tr>\n",
       "  </tbody>\n",
       "</table>\n",
       "</div>"
      ],
      "text/plain": [
       "     Name  Age  Gender\n",
       "0   Alice   25  Female\n",
       "2  Claire   27  Female"
      ]
     },
     "execution_count": 1,
     "metadata": {},
     "output_type": "execute_result"
    }
   ],
   "source": [
    "import pandas as pd\n",
    "\n",
    "data = {'Name': ['Alice', 'Bob', 'Claire'], 'Age': [25,30,27], 'Gender' : ['Female', 'Male', 'Female']}\n",
    "  \n",
    "df = pd.DataFrame(data, index = None)\n",
    "\n",
    "update_df = df.drop(1)\n",
    "update_df"
   ]
  },
  {
   "cell_type": "markdown",
   "id": "f626114d-80b7-409f-a85d-55646a4fd5d4",
   "metadata": {},
   "source": [
    "## Q6.  All Pandas data structures are value mutable (can be changed) and except Series all are size mutable. Series is size immutable.Panel: It is a 3-D, size-mutable array"
   ]
  },
  {
   "cell_type": "markdown",
   "id": "7a7b1fbd-f291-4434-8c27-020ace091197",
   "metadata": {},
   "source": [
    "## Q7.  one can create a DataFrame from multiple Series objects by adding each series as a columns. By using concat() method you can merge multiple series together into DataFrame. This takes several params, for our scenario we use list that takes series to combine and axis=1 to specify merge series as columns instead of rows\n",
    "### example"
   ]
  },
  {
   "cell_type": "code",
   "execution_count": 2,
   "id": "1c932768-1c30-4178-b4fd-f6a21590af0b",
   "metadata": {},
   "outputs": [
    {
     "name": "stdout",
     "output_type": "stream",
     "text": [
      "     Author  Article\n",
      "0  Jitender      210\n",
      "1   Purnima      211\n",
      "2     Arpit      114\n",
      "3     Jyoti      178\n"
     ]
    }
   ],
   "source": [
    "# Importing Pandas library\n",
    "import pandas as pd\n",
    " \n",
    "# Creating two lists\n",
    "author = ['Jitender', 'Purnima',\n",
    "          'Arpit', 'Jyoti']\n",
    "article = [210, 211, 114, 178]\n",
    " \n",
    "# Creating two Series by passing lists\n",
    "auth_series = pd.Series(author)\n",
    "article_series = pd.Series(article)\n",
    " \n",
    "# Creating a dictionary by passing Series objects as values\n",
    "frame = {'Author': auth_series,\n",
    "         'Article': article_series}\n",
    " \n",
    "# Creating DataFrame by passing Dictionary\n",
    "result = pd.DataFrame(frame)\n",
    " \n",
    "# Printing elements of Dataframe\n",
    "print(result)"
   ]
  },
  {
   "cell_type": "code",
   "execution_count": null,
   "id": "d5acd051-c277-4d7d-8afc-eb1f042ba00e",
   "metadata": {},
   "outputs": [],
   "source": []
  }
 ],
 "metadata": {
  "kernelspec": {
   "display_name": "Python 3 (ipykernel)",
   "language": "python",
   "name": "python3"
  },
  "language_info": {
   "codemirror_mode": {
    "name": "ipython",
    "version": 3
   },
   "file_extension": ".py",
   "mimetype": "text/x-python",
   "name": "python",
   "nbconvert_exporter": "python",
   "pygments_lexer": "ipython3",
   "version": "3.10.8"
  }
 },
 "nbformat": 4,
 "nbformat_minor": 5
}
