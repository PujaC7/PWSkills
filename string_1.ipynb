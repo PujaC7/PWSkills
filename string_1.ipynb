{
 "cells": [
  {
   "cell_type": "code",
   "execution_count": 1,
   "id": "c8c59547-8a3a-4093-8b13-8bfe6abd0ad0",
   "metadata": {},
   "outputs": [],
   "source": [
    "## Q1.\n",
    "\n",
    "def findPermutation(s):\n",
    "    n = len(s)\n",
    "    perm = [0] * (n + 1)\n",
    "    left = right = 0\n",
    "    \n",
    "    for i in range(n):\n",
    "        if s[i] == 'I':\n",
    "            perm[i] = left\n",
    "            left += 1\n",
    "        else:\n",
    "            perm[i] = right\n",
    "            right -= 1\n",
    "    \n",
    "    perm[n] = left\n",
    "    \n",
    "    return perm"
   ]
  },
  {
   "cell_type": "code",
   "execution_count": 2,
   "id": "73b02f40-f2a0-41f7-a5ce-6ca8a3be3d8f",
   "metadata": {},
   "outputs": [
    {
     "name": "stdout",
     "output_type": "stream",
     "text": [
      "[0, 0, 1, -1, 2]\n"
     ]
    }
   ],
   "source": [
    "s = \"IDID\"\n",
    "perm = findPermutation(s)\n",
    "print(perm)"
   ]
  },
  {
   "cell_type": "code",
   "execution_count": 3,
   "id": "80f47e95-5257-4b84-9269-b41e10cc2fa4",
   "metadata": {},
   "outputs": [],
   "source": [
    "## Q2.\n",
    "\n",
    "def searchMatrix(matrix, target):\n",
    "    m = len(matrix)\n",
    "    n = len(matrix[0])\n",
    "    left = 0\n",
    "    right = m * n - 1\n",
    "    \n",
    "    while left <= right:\n",
    "        mid = (left + right) // 2\n",
    "        row = mid // n\n",
    "        col = mid % n\n",
    "        \n",
    "        if matrix[row][col] == target:\n",
    "            return True\n",
    "        elif matrix[row][col] < target:\n",
    "            left = mid + 1\n",
    "        else:\n",
    "            right = mid - 1\n",
    "    \n",
    "    return False\n"
   ]
  },
  {
   "cell_type": "code",
   "execution_count": 4,
   "id": "b2166684-c8b7-46bd-865d-624dc66a25a9",
   "metadata": {},
   "outputs": [
    {
     "name": "stdout",
     "output_type": "stream",
     "text": [
      "True\n"
     ]
    }
   ],
   "source": [
    "matrix = [\n",
    "    [1, 3, 5, 7],\n",
    "    [10, 11, 16, 20],\n",
    "    [23, 30, 34, 60]\n",
    "]\n",
    "target = 3\n",
    "\n",
    "found = searchMatrix(matrix, target)\n",
    "print(found)"
   ]
  },
  {
   "cell_type": "code",
   "execution_count": 5,
   "id": "a653d491-e3f6-4ca5-93b7-95edac995fb1",
   "metadata": {},
   "outputs": [],
   "source": [
    "## Q3.  \n",
    "\n",
    "def validMountainArray(arr):\n",
    "    n = len(arr)\n",
    "    \n",
    "    if n < 3:\n",
    "        return False\n",
    "    \n",
    "    i = 0\n",
    "    \n",
    "    while i < n - 1 and arr[i] < arr[i + 1]:\n",
    "        i += 1\n",
    "    \n",
    "    if i == 0 or i == n - 1:\n",
    "        return False\n",
    "    \n",
    "    while i < n - 1 and arr[i] > arr[i + 1]:\n",
    "        i += 1\n",
    "    \n",
    "    return i == n - 1"
   ]
  },
  {
   "cell_type": "code",
   "execution_count": 6,
   "id": "21c4d2d3-2620-4299-adef-e4aa1b62565f",
   "metadata": {},
   "outputs": [
    {
     "name": "stdout",
     "output_type": "stream",
     "text": [
      "True\n"
     ]
    }
   ],
   "source": [
    "arr = [1, 3, 2]\n",
    "valid = validMountainArray(arr)\n",
    "print(valid)"
   ]
  },
  {
   "cell_type": "code",
   "execution_count": 7,
   "id": "bbc8e9b5-7dd9-48ae-9117-640f49443c80",
   "metadata": {},
   "outputs": [],
   "source": [
    "## Q4.\n",
    "\n",
    "def findMaxLength(nums):\n",
    "    counts = {0: -1}  # Initialize the dictionary with a count of 0 at index -1\n",
    "    max_length = 0\n",
    "    count = 0\n",
    "\n",
    "    for i in range(len(nums)):\n",
    "        count += 1 if nums[i] == 1 else -1\n",
    "\n",
    "        if count in counts:\n",
    "            max_length = max(max_length, i - counts[count])\n",
    "        else:\n",
    "            counts[count] = i\n",
    "\n",
    "    return max_length"
   ]
  },
  {
   "cell_type": "code",
   "execution_count": 8,
   "id": "c7c3df13-5084-4501-bb4b-57a67478ae4a",
   "metadata": {},
   "outputs": [
    {
     "name": "stdout",
     "output_type": "stream",
     "text": [
      "2\n"
     ]
    }
   ],
   "source": [
    "nums = [0, 1, 0]\n",
    "max_length = findMaxLength(nums)\n",
    "print(max_length)"
   ]
  },
  {
   "cell_type": "code",
   "execution_count": 9,
   "id": "52fc3b59-3f47-4220-b673-a2628d7402f1",
   "metadata": {},
   "outputs": [],
   "source": [
    "## Q5.\n",
    "\n",
    "def minProductSum(nums1, nums2):\n",
    "    nums1.sort()\n",
    "    nums2.sort()\n",
    "    \n",
    "    left = 0\n",
    "    right = len(nums2) - 1\n",
    "    \n",
    "    min_product_sum = 0\n",
    "    \n",
    "    while left <= right:\n",
    "        min_product_sum += nums1[left] * nums2[right]\n",
    "        left += 1\n",
    "        right -= 1\n",
    "    \n",
    "    return min_product_sum"
   ]
  },
  {
   "cell_type": "code",
   "execution_count": 10,
   "id": "24f701d1-3605-4d3f-8d89-353b5a14832e",
   "metadata": {},
   "outputs": [
    {
     "name": "stdout",
     "output_type": "stream",
     "text": [
      "22\n"
     ]
    }
   ],
   "source": [
    "nums1 = [5, 3, 4, 2]\n",
    "nums2 = [4, 2, 2, 5]\n",
    "result = minProductSum(nums1, nums2)\n",
    "print(result)"
   ]
  },
  {
   "cell_type": "code",
   "execution_count": 13,
   "id": "49fe5349-8e4f-4859-bd99-0a6f1b13f43a",
   "metadata": {},
   "outputs": [],
   "source": [
    "## Q6. \n",
    "\n",
    "def findOriginalArray(changed):\n",
    "    original_set = set()\n",
    "\n",
    "    for num in changed:\n",
    "        if num / 2 in original_set:\n",
    "            original_set.remove(num / 2)\n",
    "        elif num % 2 == 0:\n",
    "            original_set.add(num)\n",
    "\n",
    "    if len(original_set) != len(changed) / 2:\n",
    "        return []\n",
    "\n",
    "    return list(original_set)"
   ]
  },
  {
   "cell_type": "code",
   "execution_count": 14,
   "id": "00585cf1-49a1-4931-9106-d3553c3f6ce1",
   "metadata": {},
   "outputs": [
    {
     "name": "stdout",
     "output_type": "stream",
     "text": [
      "[]\n"
     ]
    }
   ],
   "source": [
    "changed = [1, 3, 4, 2, 6, 8]\n",
    "original = findOriginalArray(changed)\n",
    "print(original)"
   ]
  },
  {
   "cell_type": "code",
   "execution_count": 15,
   "id": "77d3f420-b4e6-4a9e-87db-71228e44e700",
   "metadata": {},
   "outputs": [],
   "source": [
    "## Q7.  \n",
    "\n",
    "def generateMatrix(n):\n",
    "    matrix = [[0] * n for _ in range(n)]\n",
    "    top, bottom, left, right = 0, n - 1, 0, n - 1\n",
    "    num = 1\n",
    "\n",
    "    while num <= n * n:\n",
    "        # Traverse top row\n",
    "        for i in range(left, right + 1):\n",
    "            matrix[top][i] = num\n",
    "            num += 1\n",
    "        top += 1\n",
    "\n",
    "        # Traverse right column\n",
    "        for i in range(top, bottom + 1):\n",
    "            matrix[i][right] = num\n",
    "            num += 1\n",
    "        right -= 1\n",
    "\n",
    "        # Traverse bottom row\n",
    "        for i in range(right, left - 1, -1):\n",
    "            matrix[bottom][i] = num\n",
    "            num += 1\n",
    "        bottom -= 1\n",
    "\n",
    "        # Traverse left column\n",
    "        for i in range(bottom, top - 1, -1):\n",
    "            matrix[i][left] = num\n",
    "            num += 1\n",
    "        left += 1\n",
    "\n",
    "    return matrix"
   ]
  },
  {
   "cell_type": "code",
   "execution_count": 16,
   "id": "982a6e56-0639-4cdd-be04-a3b1be516e53",
   "metadata": {},
   "outputs": [
    {
     "name": "stdout",
     "output_type": "stream",
     "text": [
      "[1, 2, 3, 4]\n",
      "[12, 13, 14, 5]\n",
      "[11, 16, 15, 6]\n",
      "[10, 9, 8, 7]\n"
     ]
    }
   ],
   "source": [
    "n = 4\n",
    "matrix = generateMatrix(n)\n",
    "for row in matrix:\n",
    "    print(row)"
   ]
  },
  {
   "cell_type": "code",
   "execution_count": 17,
   "id": "d3106013-a63c-471e-adb9-b82a90918e7f",
   "metadata": {},
   "outputs": [],
   "source": [
    "## Q8.\n",
    "\n",
    "def multiply(mat1, mat2):\n",
    "    m, k, n = len(mat1), len(mat1[0]), len(mat2[0])\n",
    "    result = [[0] * n for _ in range(m)]\n",
    "\n",
    "    sparse1 = {}\n",
    "    sparse2 = {}\n",
    "\n",
    "    # Create sparse representation of mat1\n",
    "    for i in range(m):\n",
    "        sparse1[i] = {}\n",
    "        for j in range(k):\n",
    "            if mat1[i][j] != 0:\n",
    "                sparse1[i][j] = mat1[i][j]\n",
    "\n",
    "    # Create sparse representation of mat2\n",
    "    for j in range(k):\n",
    "        sparse2[j] = {}\n",
    "        for i in range(n):\n",
    "            if mat2[j][i] != 0:\n",
    "                sparse2[j][i] = mat2[j][i]\n",
    "\n",
    "    # Multiply sparse matrices\n",
    "    for i, row1 in sparse1.items():\n",
    "        for j, val1 in row1.items():\n",
    "            for k, row2 in sparse2.get(j, {}).items():\n",
    "                result[i][k] += val1 * row2\n",
    "\n",
    "    return result"
   ]
  },
  {
   "cell_type": "code",
   "execution_count": 18,
   "id": "741f9adf-aee8-435d-9847-0343f0f7ca99",
   "metadata": {},
   "outputs": [
    {
     "name": "stdout",
     "output_type": "stream",
     "text": [
      "[[7, 0, 0], [-7, 0, 3]]\n"
     ]
    }
   ],
   "source": [
    "mat1 = [[1, 0, 0],\n",
    "        [-1, 0, 3]]\n",
    "\n",
    "mat2 = [[7, 0, 0],\n",
    "        [0, 0, 0],\n",
    "        [0, 0, 1]]\n",
    "\n",
    "result = multiply(mat1, mat2)\n",
    "print(result)"
   ]
  },
  {
   "cell_type": "code",
   "execution_count": null,
   "id": "2e2c61bd-ffcf-4542-849e-363697bdb431",
   "metadata": {},
   "outputs": [],
   "source": []
  }
 ],
 "metadata": {
  "kernelspec": {
   "display_name": "Python 3 (ipykernel)",
   "language": "python",
   "name": "python3"
  },
  "language_info": {
   "codemirror_mode": {
    "name": "ipython",
    "version": 3
   },
   "file_extension": ".py",
   "mimetype": "text/x-python",
   "name": "python",
   "nbconvert_exporter": "python",
   "pygments_lexer": "ipython3",
   "version": "3.10.8"
  }
 },
 "nbformat": 4,
 "nbformat_minor": 5
}
