{
 "cells": [
  {
   "cell_type": "markdown",
   "id": "2b8018c1-60f6-4cde-8df3-356016ab49b8",
   "metadata": {},
   "source": [
    "## Q1.  Simple linear regression has only one x and one y variable. Multiple linear regression has one y and two or more x variables. For instance, when we predict rent based on square feet alone that is simple linear regression\n",
    "### For instance, when we predict rent based on square feet alone that is simple linear regression. When we predict rent based on square feet and age of the building that is an example of multiple linear regression."
   ]
  },
  {
   "cell_type": "markdown",
   "id": "2b6eab27-3658-49c4-8503-90a9314bf364",
   "metadata": {},
   "source": [
    "## Q2.  The regression has five key assumptions:\n",
    "- Linear relationship.\n",
    "- Multivariate normality.\n",
    "- No or little multicollinearity.\n",
    "- No auto-correlation.\n",
    "- Homoscedasticity.\n",
    "### Testing the Guass-Markov Assumptions\n",
    "- Use the residual plots to check the linearity and homoscedasticity. ...\n",
    "- Use Breusch-Pagan testing for homoscedasticity. ...\n",
    "- Use VIF test for multicollinearity. ...\n",
    "- Check the zero conditional mean assumption. ...\n",
    "- Check for Omitted Variable Bias."
   ]
  },
  {
   "cell_type": "markdown",
   "id": "a828190c-c570-477d-aa6f-b1543155b5b4",
   "metadata": {},
   "source": [
    "## Q3.  The easiest way to understand and interpret slope and intercept in linear models is to first understand the slope-intercept formula: y = mx + b. M is the slope or the consistent change between x and y, and b is the y-intercept. Often, the y-intercept represents the starting point of the equation.\n",
    "### Interpret the slope: If the speed of the club hitting the ball increases by 1 mph, then the model predicts that the length the ball travels increases by 57.66 yards. Interpret the intercept: If the ball is hit with a speed of 0 mph, then the model predicts that the length the ball travels will be 3.18 yards."
   ]
  },
  {
   "cell_type": "markdown",
   "id": "ca938160-556b-45ea-ad4a-f72f494dac18",
   "metadata": {},
   "source": [
    "## Q4.  Gradient descent is an optimization algorithm which is commonly-used to train machine learning models and neural networks. Training data helps these models learn over time, and the cost function within gradient descent specifically acts as a barometer, gauging its accuracy with each iteration of parameter updates.\n",
    "### Gradient descent (GD) is an iterative first-order optimisation algorithm used to find a local minimum/maximum of a given function. This method is commonly used in machine learning (ML) and deep learning(DL) to minimise a cost/loss function (e.g. in a linear regression)."
   ]
  },
  {
   "cell_type": "markdown",
   "id": "df5905e1-2446-41c0-81bd-9731764b5d9f",
   "metadata": {},
   "source": [
    "## Q5.  Multiple linear regression is a regression model that estimates the relationship between a quantitative dependent variable and two or more independent variables using a straight line.\n",
    "### Multiple regression is a broader class of regressions that encompasses linear and nonlinear regressions with multiple explanatory variables. Whereas linear regress only has one independent variable impacting the slope of the relationship, multiple regression incorporates multiple independent variables."
   ]
  },
  {
   "cell_type": "markdown",
   "id": "ff7fff7d-3f8c-4e2b-a00a-30a69e42ce3f",
   "metadata": {},
   "source": [
    "## Q6.  Multicollinearity exists whenever an independent variable is highly correlated with one or more of the other independent variables in a multiple regression equation. Multicollinearity is a problem because it will make the statistical inferences less reliable\n",
    "### 1. The first simple method is to plot the correlation matrix of all the independent variables.\n",
    "2. The second method to check multi-collinearity is to use the Variance Inflation Factor(VIF) for each independent variable."
   ]
  },
  {
   "cell_type": "markdown",
   "id": "ed540c6c-f1b3-45e3-93a3-08d4478c6693",
   "metadata": {},
   "source": [
    "## Q7.   polynomial regression model is a machine learning model that can capture non-linear relationships between variables by fitting a non-linear regression line, which may not be possible with simple linear regression. It is used when linear regression models may not adequately capture the complexity of the relationship\n",
    "### A polynomial regression model is a machine learning model that can capture non-linear relationships between variables by fitting a non-linear regression line, which may not be possible with simple linear regression. It is used when linear regression models may not adequately capture the complexity of the relationship."
   ]
  },
  {
   "cell_type": "markdown",
   "id": "309c94cd-ae6e-4028-a713-f30f768559b4",
   "metadata": {},
   "source": [
    "## Q8.  Advantages of using Polynomial Regression:\n",
    "Polynomial provides the best approximation of the relationship between the dependent and independent variable. A Broad range of function can be fit under it. Polynomial basically fits a wide range of curvature.\n",
    "### Disadvantages of Polynomial Regression\n",
    "One or two outliers in the data might have a significant impact on the nonlinear analysis' outcomes. These are overly reliant on outliers. Furthermore, there are fewer model validation methods for detecting outliers in nonlinear regression than there are for linear regression.\n",
    "### A polynomial regression model is a machine learning model that can capture non-linear relationships between variables by fitting a non-linear regression line, which may not be possible with simple linear regression. It is used when linear regression models may not adequately capture the complexity of the relationship"
   ]
  },
  {
   "cell_type": "code",
   "execution_count": null,
   "id": "27406360-16a1-407e-9057-71ad81f77311",
   "metadata": {},
   "outputs": [],
   "source": []
  }
 ],
 "metadata": {
  "kernelspec": {
   "display_name": "Python 3 (ipykernel)",
   "language": "python",
   "name": "python3"
  },
  "language_info": {
   "codemirror_mode": {
    "name": "ipython",
    "version": 3
   },
   "file_extension": ".py",
   "mimetype": "text/x-python",
   "name": "python",
   "nbconvert_exporter": "python",
   "pygments_lexer": "ipython3",
   "version": "3.10.8"
  }
 },
 "nbformat": 4,
 "nbformat_minor": 5
}
