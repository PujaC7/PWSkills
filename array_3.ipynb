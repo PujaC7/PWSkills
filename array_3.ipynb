{
 "cells": [
  {
   "cell_type": "markdown",
   "id": "3e20faec-e2e4-46d1-bf7a-689445468b7e",
   "metadata": {},
   "source": [
    "## Q1.  code"
   ]
  },
  {
   "cell_type": "code",
   "execution_count": 4,
   "id": "a00185cf-3b87-45db-84a6-af19411fcc8c",
   "metadata": {},
   "outputs": [],
   "source": [
    "def threeSumClosest(nums, target):\n",
    "    nums.sort()\n",
    "    n = len(nums)\n",
    "    closest_sum = float('inf')\n",
    "\n",
    "    for i in range(n - 2):\n",
    "        left = i + 1\n",
    "        right = n - 1\n",
    "\n",
    "        while left < right:\n",
    "            current_sum = nums[i] + nums[left] + nums[right]\n",
    "\n",
    "            if current_sum == target:\n",
    "                return target\n",
    "\n",
    "            if abs(current_sum - target) < abs(closest_sum - target):\n",
    "                closest_sum = current_sum\n",
    "\n",
    "            if current_sum < target:\n",
    "                left += 1\n",
    "            else:\n",
    "                right -= 1\n",
    "\n",
    "    return closest_sum"
   ]
  },
  {
   "cell_type": "code",
   "execution_count": 6,
   "id": "261ea041-746a-47cd-b965-cbf3ef7ec01f",
   "metadata": {},
   "outputs": [
    {
     "name": "stdout",
     "output_type": "stream",
     "text": [
      "2\n"
     ]
    }
   ],
   "source": [
    "nums = [-1, 2, 1, -4]\n",
    "target = 1\n",
    "result = threeSumClosest(nums, target)\n",
    "print(result)"
   ]
  },
  {
   "cell_type": "markdown",
   "id": "48029e97-20d2-46d9-a4fc-399a8405ff80",
   "metadata": {},
   "source": [
    "## Q2.  code"
   ]
  },
  {
   "cell_type": "code",
   "execution_count": 7,
   "id": "ecd3953a-ea6f-42df-b8a3-57de2bbf32fa",
   "metadata": {},
   "outputs": [],
   "source": [
    "def fourSum(nums, target):\n",
    "    nums.sort()\n",
    "    n = len(nums)\n",
    "    result = []\n",
    "\n",
    "    for i in range(n - 3):\n",
    "        if i > 0 and nums[i] == nums[i-1]:\n",
    "            continue\n",
    "\n",
    "        for j in range(i + 1, n - 2):\n",
    "            if j > i + 1 and nums[j] == nums[j-1]:\n",
    "                continue\n",
    "\n",
    "            left = j + 1\n",
    "            right = n - 1\n",
    "\n",
    "            while left < right:\n",
    "                current_sum = nums[i] + nums[j] + nums[left] + nums[right]\n",
    "\n",
    "                if current_sum == target:\n",
    "                    result.append([nums[i], nums[j], nums[left], nums[right]])\n",
    "\n",
    "                    while left < right and nums[left] == nums[left+1]:\n",
    "                        left += 1\n",
    "                    while left < right and nums[right] == nums[right-1]:\n",
    "                        right -= 1\n",
    "\n",
    "                    left += 1\n",
    "                    right -= 1\n",
    "                elif current_sum < target:\n",
    "                    left += 1\n",
    "                else:\n",
    "                    right -= 1\n",
    "\n",
    "    return result"
   ]
  },
  {
   "cell_type": "code",
   "execution_count": 8,
   "id": "ea58b97a-0489-4e08-a408-d9a079a1e16c",
   "metadata": {},
   "outputs": [
    {
     "name": "stdout",
     "output_type": "stream",
     "text": [
      "[[-2, -1, 1, 2], [-2, 0, 0, 2], [-1, 0, 0, 1]]\n"
     ]
    }
   ],
   "source": [
    "nums = [1, 0, -1, 0, -2, 2]\n",
    "target = 0\n",
    "result = fourSum(nums, target)\n",
    "print(result)"
   ]
  },
  {
   "cell_type": "markdown",
   "id": "39040874-07ff-4d7d-9cd2-3ee8f31dea2b",
   "metadata": {},
   "source": [
    "## Q3.  code"
   ]
  },
  {
   "cell_type": "code",
   "execution_count": 9,
   "id": "2fa20f64-f807-4361-9962-27c4202826da",
   "metadata": {},
   "outputs": [],
   "source": [
    "def nextPermutation(nums):\n",
    "    n = len(nums)\n",
    "    i = n - 2\n",
    "\n",
    "    # Find the first pair of adjacent elements from the right where nums[i] < nums[i+1]\n",
    "    while i >= 0 and nums[i] >= nums[i + 1]:\n",
    "        i -= 1\n",
    "\n",
    "    if i >= 0:\n",
    "        j = n - 1\n",
    "        # Find the smallest element to the right of nums[i] that is greater than nums[i]\n",
    "        while j >= 0 and nums[i] >= nums[j]:\n",
    "            j -= 1\n",
    "        nums[i], nums[j] = nums[j], nums[i]\n",
    "\n",
    "    # Reverse the elements to the right of nums[i] (or reverse the entire array if i < 0)\n",
    "    left = i + 1\n",
    "    right = n - 1\n",
    "    while left < right:\n",
    "        nums[left], nums[right] = nums[right], nums[left]\n",
    "        left += 1\n",
    "        right -= 1"
   ]
  },
  {
   "cell_type": "code",
   "execution_count": 10,
   "id": "3b26e8f5-5dd3-4182-a854-ecf7b5f33f5c",
   "metadata": {},
   "outputs": [
    {
     "name": "stdout",
     "output_type": "stream",
     "text": [
      "[1, 3, 2]\n"
     ]
    }
   ],
   "source": [
    "nums = [1, 2, 3]\n",
    "nextPermutation(nums)\n",
    "print(nums)"
   ]
  },
  {
   "cell_type": "markdown",
   "id": "3e2ba9ee-d4a9-4fc7-9fb6-7f4d14d95c33",
   "metadata": {},
   "source": [
    "## Q4.  code"
   ]
  },
  {
   "cell_type": "code",
   "execution_count": 11,
   "id": "31215822-44f5-47ff-8a4e-3cb0ccd96661",
   "metadata": {},
   "outputs": [],
   "source": [
    "def searchInsert(nums, target):\n",
    "    left = 0\n",
    "    right = len(nums) - 1\n",
    "\n",
    "    while left <= right:\n",
    "        mid = (left + right) // 2\n",
    "\n",
    "        if nums[mid] == target:\n",
    "            return mid\n",
    "        elif nums[mid] < target:\n",
    "            left = mid + 1\n",
    "        else:\n",
    "            right = mid - 1\n",
    "\n",
    "    return left"
   ]
  },
  {
   "cell_type": "code",
   "execution_count": 12,
   "id": "eca0820a-a91c-4b87-8cc9-724a52ab42db",
   "metadata": {},
   "outputs": [
    {
     "name": "stdout",
     "output_type": "stream",
     "text": [
      "2\n"
     ]
    }
   ],
   "source": [
    "nums = [1, 3, 5, 6]\n",
    "target = 5\n",
    "result = searchInsert(nums, target)\n",
    "print(result)"
   ]
  },
  {
   "cell_type": "markdown",
   "id": "67773862-d059-4d16-ac9b-4f7c628ae0c6",
   "metadata": {},
   "source": [
    "## Q5.  code"
   ]
  },
  {
   "cell_type": "code",
   "execution_count": 13,
   "id": "24372c62-27e8-43c7-a029-8b60441a37a4",
   "metadata": {},
   "outputs": [],
   "source": [
    "def plusOne(digits):\n",
    "    n = len(digits)\n",
    "    \n",
    "    # Start from the least significant digit\n",
    "    for i in range(n - 1, -1, -1):\n",
    "        digits[i] += 1\n",
    "\n",
    "        # Check if there is a carry\n",
    "        if digits[i] < 10:\n",
    "            return digits\n",
    "\n",
    "        # If there is a carry, set the current digit to 0 and move to the next digit\n",
    "        digits[i] = 0\n",
    "\n",
    "    # If we reach here, it means all digits had a carry\n",
    "    # Insert an additional 1 at the beginning of the array\n",
    "    digits.insert(0, 1)\n",
    "\n",
    "    return digits"
   ]
  },
  {
   "cell_type": "code",
   "execution_count": 14,
   "id": "73b24e3e-6114-464f-aa6a-eb72dac94ca7",
   "metadata": {},
   "outputs": [
    {
     "name": "stdout",
     "output_type": "stream",
     "text": [
      "[1, 2, 4]\n"
     ]
    }
   ],
   "source": [
    "digits = [1, 2, 3]\n",
    "result = plusOne(digits)\n",
    "print(result)"
   ]
  },
  {
   "cell_type": "markdown",
   "id": "9f1c2e19-398a-4bb4-9622-3ed7248d1527",
   "metadata": {},
   "source": [
    "## Q6.  code"
   ]
  },
  {
   "cell_type": "code",
   "execution_count": 15,
   "id": "ec2f8e04-69b8-4bee-a052-cabeff3e1b5e",
   "metadata": {},
   "outputs": [],
   "source": [
    "def singleNumber(nums):\n",
    "    result = 0\n",
    "\n",
    "    for num in nums:\n",
    "        result ^= num\n",
    "\n",
    "    return result"
   ]
  },
  {
   "cell_type": "code",
   "execution_count": 16,
   "id": "cef84a0c-7307-4916-be46-8ceab60205e1",
   "metadata": {},
   "outputs": [
    {
     "name": "stdout",
     "output_type": "stream",
     "text": [
      "1\n"
     ]
    }
   ],
   "source": [
    "nums = [2, 2, 1]\n",
    "result = singleNumber(nums)\n",
    "print(result)"
   ]
  },
  {
   "cell_type": "markdown",
   "id": "0e6c60a1-7a63-4328-a481-4adf1b916e42",
   "metadata": {},
   "source": [
    "## Q7.  code"
   ]
  },
  {
   "cell_type": "code",
   "execution_count": 17,
   "id": "e3715092-505b-46c0-a01b-58c0abcb58d5",
   "metadata": {},
   "outputs": [],
   "source": [
    "def findMissingRanges(nums, lower, upper):\n",
    "    result = []\n",
    "    prev = lower - 1\n",
    "\n",
    "    for num in nums:\n",
    "        if num > prev + 1:\n",
    "            if prev + 1 == num - 1:\n",
    "                result.append(str(prev + 1))\n",
    "            else:\n",
    "                result.append(str(prev + 1) + \"->\" + str(num - 1))\n",
    "        prev = num\n",
    "\n",
    "    if prev < upper:\n",
    "        if prev + 1 == upper:\n",
    "            result.append(str(prev + 1))\n",
    "        else:\n",
    "            result.append(str(prev + 1) + \"->\" + str(upper))\n",
    "\n",
    "    return result"
   ]
  },
  {
   "cell_type": "code",
   "execution_count": 18,
   "id": "875c18c4-8763-4ea9-bd56-044a2240c9e8",
   "metadata": {},
   "outputs": [
    {
     "name": "stdout",
     "output_type": "stream",
     "text": [
      "['2', '4->49', '51->74', '76->99']\n"
     ]
    }
   ],
   "source": [
    "nums = [0, 1, 3, 50, 75]\n",
    "lower = 0\n",
    "upper = 99\n",
    "result = findMissingRanges(nums, lower, upper)\n",
    "print(result)"
   ]
  },
  {
   "cell_type": "markdown",
   "id": "06c5dc4e-c452-44df-a644-0804826525a5",
   "metadata": {},
   "source": [
    "## Q8.  code"
   ]
  },
  {
   "cell_type": "code",
   "execution_count": 19,
   "id": "31072bb9-1914-4cfe-8c9b-38ee4fd3ba4b",
   "metadata": {},
   "outputs": [],
   "source": [
    "def canAttendMeetings(intervals):\n",
    "    # Sort intervals based on the start time\n",
    "    intervals.sort(key=lambda x: x[0])\n",
    "\n",
    "    for i in range(1, len(intervals)):\n",
    "        # Check for overlap\n",
    "        if intervals[i][0] < intervals[i - 1][1]:\n",
    "            return False\n",
    "\n",
    "    return True"
   ]
  },
  {
   "cell_type": "code",
   "execution_count": 20,
   "id": "c5940bbd-82a6-48e3-bdcb-a613711b02d9",
   "metadata": {},
   "outputs": [
    {
     "name": "stdout",
     "output_type": "stream",
     "text": [
      "False\n"
     ]
    }
   ],
   "source": [
    "intervals = [[0, 30], [5, 10], [15, 20]]\n",
    "result = canAttendMeetings(intervals)\n",
    "print(result)"
   ]
  }
 ],
 "metadata": {
  "kernelspec": {
   "display_name": "Python 3 (ipykernel)",
   "language": "python",
   "name": "python3"
  },
  "language_info": {
   "codemirror_mode": {
    "name": "ipython",
    "version": 3
   },
   "file_extension": ".py",
   "mimetype": "text/x-python",
   "name": "python",
   "nbconvert_exporter": "python",
   "pygments_lexer": "ipython3",
   "version": "3.10.8"
  }
 },
 "nbformat": 4,
 "nbformat_minor": 5
}
