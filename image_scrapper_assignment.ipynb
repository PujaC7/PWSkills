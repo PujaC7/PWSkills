{
 "cells": [
  {
   "cell_type": "code",
   "execution_count": 29,
   "id": "ce49caf2-de97-406e-9097-caf1cf4ca2dd",
   "metadata": {},
   "outputs": [],
   "source": [
    "import bs4"
   ]
  },
  {
   "cell_type": "code",
   "execution_count": 25,
   "id": "7cd7f44e-a663-4337-9e43-92a58e540e9c",
   "metadata": {},
   "outputs": [
    {
     "name": "stdout",
     "output_type": "stream",
     "text": [
      "Collecting bs4\n",
      "  Downloading bs4-0.0.1.tar.gz (1.1 kB)\n",
      "  Preparing metadata (setup.py) ... \u001b[?25ldone\n",
      "\u001b[?25hRequirement already satisfied: beautifulsoup4 in /opt/conda/lib/python3.10/site-packages (from bs4) (4.11.1)\n",
      "Requirement already satisfied: soupsieve>1.2 in /opt/conda/lib/python3.10/site-packages (from beautifulsoup4->bs4) (2.3.2.post1)\n",
      "Building wheels for collected packages: bs4\n",
      "  Building wheel for bs4 (setup.py) ... \u001b[?25ldone\n",
      "\u001b[?25h  Created wheel for bs4: filename=bs4-0.0.1-py3-none-any.whl size=1256 sha256=e0310cd644041113b352371b71056c12fcca9b9d60a95acb052c68a48f30257b\n",
      "  Stored in directory: /home/jovyan/.cache/pip/wheels/e4/62/1d/d4d1bc4f33350ff84227f89b258edb552d604138e3739f5c83\n",
      "Successfully built bs4\n",
      "Installing collected packages: bs4\n",
      "Successfully installed bs4-0.0.1\n",
      "Note: you may need to restart the kernel to use updated packages.\n"
     ]
    }
   ],
   "source": [
    "pip install bs4"
   ]
  },
  {
   "cell_type": "code",
   "execution_count": 30,
   "id": "65325f4b-1c65-4703-a9ec-33ef47dfdf32",
   "metadata": {},
   "outputs": [],
   "source": [
    "import requests\n",
    "from bs4 import BeautifulSoup as bs\n",
    "from urllib.request import urlopen \n",
    "import logging\n",
    "from html.parser import HTMLParser"
   ]
  },
  {
   "cell_type": "code",
   "execution_count": 28,
   "id": "27c278de-3282-423f-90b3-f1cb5eca744c",
   "metadata": {},
   "outputs": [],
   "source": [
    "pwskill_url = \"https://www.youtube.com/@PW-Foundation/videos\""
   ]
  },
  {
   "cell_type": "code",
   "execution_count": 5,
   "id": "ca18c975-1453-4e46-9664-9dd0b7194a96",
   "metadata": {},
   "outputs": [
    {
     "data": {
      "text/plain": [
       "'https://www.youtube.com/@PW-Foundation/videos'"
      ]
     },
     "execution_count": 5,
     "metadata": {},
     "output_type": "execute_result"
    }
   ],
   "source": [
    "pwskill_url"
   ]
  },
  {
   "cell_type": "code",
   "execution_count": 6,
   "id": "70dd1c27-7c99-4b9a-b869-8136164f5290",
   "metadata": {},
   "outputs": [
    {
     "data": {
      "text/plain": [
       "<http.client.HTTPResponse at 0x7f92dae56680>"
      ]
     },
     "execution_count": 6,
     "metadata": {},
     "output_type": "execute_result"
    }
   ],
   "source": [
    " urlopen(pwskill_url)"
   ]
  },
  {
   "cell_type": "code",
   "execution_count": 7,
   "id": "b1ae28bc-6f34-4ad4-9c80-f43227ea5eb1",
   "metadata": {},
   "outputs": [],
   "source": [
    "urlclient = urlopen(pwskill_url)"
   ]
  },
  {
   "cell_type": "code",
   "execution_count": 8,
   "id": "a5d34e2f-ba08-498e-a2b6-94d8f4c4898a",
   "metadata": {},
   "outputs": [],
   "source": [
    "pwskill_page = urlclient.read()"
   ]
  },
  {
   "cell_type": "code",
   "execution_count": 9,
   "id": "7fad7c90-544a-4117-9ede-128d8695692b",
   "metadata": {},
   "outputs": [],
   "source": [
    "pwskill_html = bs(pwskill_page , 'html.parser')"
   ]
  },
  {
   "cell_type": "code",
   "execution_count": 10,
   "id": "46e076c5-c1e8-4a02-901e-1bfceb890aeb",
   "metadata": {},
   "outputs": [
    {
     "data": {
      "text/plain": [
       "'https://www.youtube.com/@PW-Foundation/videoshttps://www.youtube.com/channel/UCphU2bAGmw304CFAzy0Enuw'"
      ]
     },
     "execution_count": 10,
     "metadata": {},
     "output_type": "execute_result"
    }
   ],
   "source": [
    "\"https://www.youtube.com/@PW-Foundation/videos\"+\"https://www.youtube.com/channel/UCphU2bAGmw304CFAzy0Enuw\""
   ]
  },
  {
   "cell_type": "code",
   "execution_count": 17,
   "id": "dead3a5c-1f6a-4128-b6bf-c5332f434251",
   "metadata": {},
   "outputs": [],
   "source": [
    "bigbox = pwskill_html.find_all(\"meta\")"
   ]
  },
  {
   "cell_type": "code",
   "execution_count": 18,
   "id": "82243209-a3cd-4be9-b25e-38c58e436613",
   "metadata": {},
   "outputs": [
    {
     "data": {
      "text/plain": [
       "68"
      ]
     },
     "execution_count": 18,
     "metadata": {},
     "output_type": "execute_result"
    }
   ],
   "source": [
    "len(bigbox)"
   ]
  },
  {
   "cell_type": "code",
   "execution_count": 42,
   "id": "68ff4364-d1d3-4ac9-9b9a-9dc49a86944f",
   "metadata": {},
   "outputs": [],
   "source": [
    "del bigbox[0:6]"
   ]
  },
  {
   "cell_type": "code",
   "execution_count": 19,
   "id": "8defd095-a83b-42c8-a322-9736bde5d582",
   "metadata": {},
   "outputs": [
    {
     "data": {
      "text/plain": [
       "<meta content=\"IE=edge\" http-equiv=\"X-UA-Compatible\"/>"
      ]
     },
     "execution_count": 19,
     "metadata": {},
     "output_type": "execute_result"
    }
   ],
   "source": [
    "bigbox[0]"
   ]
  },
  {
   "cell_type": "code",
   "execution_count": 13,
   "id": "7a70e355-2ed5-469f-b118-237a16efd035",
   "metadata": {},
   "outputs": [
    {
     "data": {
      "text/plain": [
       "<meta content=\"Physics Wallah Foundation\" property=\"og:title\"/>"
      ]
     },
     "execution_count": 13,
     "metadata": {},
     "output_type": "execute_result"
    }
   ],
   "source": [
    "bigbox[5]"
   ]
  },
  {
   "cell_type": "code",
   "execution_count": 20,
   "id": "3dfd4f2f-24d3-483e-a01d-36e766501a6a",
   "metadata": {},
   "outputs": [
    {
     "data": {
      "text/plain": [
       "'https://www.youtube.com/@PW-Foundation/videos'"
      ]
     },
     "execution_count": 20,
     "metadata": {},
     "output_type": "execute_result"
    }
   ],
   "source": [
    "pwskill_url"
   ]
  },
  {
   "cell_type": "code",
   "execution_count": 34,
   "id": "76733cd6-a561-4306-98a6-6854d1c607cd",
   "metadata": {},
   "outputs": [
    {
     "name": "stdout",
     "output_type": "stream",
     "text": [
      "Requirement already satisfied: html5lib in /opt/conda/lib/python3.10/site-packages (1.1)\n",
      "Requirement already satisfied: six>=1.9 in /opt/conda/lib/python3.10/site-packages (from html5lib) (1.16.0)\n",
      "Requirement already satisfied: webencodings in /opt/conda/lib/python3.10/site-packages (from html5lib) (0.5.1)\n",
      "Note: you may need to restart the kernel to use updated packages.\n"
     ]
    }
   ],
   "source": [
    "pip install html5lib"
   ]
  },
  {
   "cell_type": "code",
   "execution_count": 56,
   "id": "888cf7e6-7421-4606-9056-426a251f971e",
   "metadata": {},
   "outputs": [
    {
     "name": "stdout",
     "output_type": "stream",
     "text": [
      "[]\n"
     ]
    }
   ],
   "source": [
    "r = requests.get(pwskill_url).text\n",
    " \n",
    "# Parse HTML Code\n",
    "soup = bs(r , 'html.parser')\n",
    "\n",
    "video_tags = soup.findAll('video')\n",
    "\n",
    "print(video_tags)"
   ]
  },
  {
   "cell_type": "code",
   "execution_count": null,
   "id": "7be66fba-468e-48a7-9088-ffc7e2f784ce",
   "metadata": {},
   "outputs": [
    {
     "ename": "ModuleNotFoundError",
     "evalue": "No module named 'pytube'",
     "output_type": "error",
     "traceback": [
      "\u001b[0;31m---------------------------------------------------------------------------\u001b[0m",
      "\u001b[0;31mModuleNotFoundError\u001b[0m                       Traceback (most recent call last)",
      "Cell \u001b[0;32mIn[50], line 1\u001b[0m\n\u001b[0;32m----> 1\u001b[0m \u001b[38;5;28;01mfrom\u001b[39;00m \u001b[38;5;21;01mpytube\u001b[39;00m \u001b[38;5;28;01mimport\u001b[39;00m Channel \n",
      "\u001b[0;31mModuleNotFoundError\u001b[0m: No module named 'pytube'"
     ]
    }
   ],
   "source": []
  }
 ],
 "metadata": {
  "kernelspec": {
   "display_name": "Python 3 (ipykernel)",
   "language": "python",
   "name": "python3"
  },
  "language_info": {
   "codemirror_mode": {
    "name": "ipython",
    "version": 3
   },
   "file_extension": ".py",
   "mimetype": "text/x-python",
   "name": "python",
   "nbconvert_exporter": "python",
   "pygments_lexer": "ipython3",
   "version": "3.10.8"
  }
 },
 "nbformat": 4,
 "nbformat_minor": 5
}
