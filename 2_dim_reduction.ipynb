{
 "cells": [
  {
   "cell_type": "markdown",
   "id": "e917ffe8-c6e9-446c-832e-0e437ec0badb",
   "metadata": {},
   "source": [
    "## Q1.  Projection Data\n",
    "The last step of PCA is we need to multiply Q tranpose of Q with the original data matrix in order to get the projection matrix. We go from the (d x k) Q matrix and Q transpose of Q results in d x d dimension. By multiplying the (d x n) X matrix, the projection matrix is d x n"
   ]
  },
  {
   "cell_type": "markdown",
   "id": "3adb3a64-99c3-49c5-8dde-de266a4972c8",
   "metadata": {},
   "source": [
    "## Q2.  PCA seeks to solve a sequence of optimization problems. The first in the sequence is the unconstrained problem maximizeuTSuuTu,u∈Rp. Since uTu=‖u‖22=‖u‖‖u‖, the above unconstrained problem is equivalent to the constrained problem maximizeuTSusubject touTu=1"
   ]
  },
  {
   "cell_type": "markdown",
   "id": "1c021a72-c8a2-4e36-9c79-84845f4f173a",
   "metadata": {},
   "source": [
    "## Q3.  Covariance-based PCA is equivalent to MLPCA whenever the variance-covariance matrix of the measurement errors is assumed diagonal with equal elements on its diagonal. The measurement error variance parameter can then be estimated by applying the probabilistic principal component analysis (PPCA) model [5]."
   ]
  },
  {
   "cell_type": "markdown",
   "id": "6b043edf-013d-4e18-9c1b-f126a436c392",
   "metadata": {},
   "source": [
    "## Q4.  A widely applied approach is to decide on the number of principal components by examining a scree plot. By eyeballing the scree plot, and looking for a point at which the proportion of variance explained by each subsequent principal component drops off. This is often referred to as an elbow in the scree plot."
   ]
  },
  {
   "cell_type": "markdown",
   "id": "6ba0f7a8-3fe9-41ef-b2f0-32092ebe07aa",
   "metadata": {},
   "source": [
    "## Q5.   Principal component analysis (PCA) is a powerful technique for reducing the dimensionality of data and extracting meaningful features. It can help you simplify complex data sets, visualize patterns, and improve the performance of machine learning models."
   ]
  },
  {
   "cell_type": "markdown",
   "id": "01dfd366-ab9e-4568-8004-0719ba1270c5",
   "metadata": {},
   "source": [
    "## Q6.  Applications of PCA in Machine Learning\n",
    "- PCA is used to visualize multidimensional data.\n",
    "- It is used to reduce the number of dimensions in healthcare data.\n",
    "- PCA can help resize an image.\n",
    "- It can be used in finance to analyze stock data and forecast returns.\n",
    "- PCA helps to find patterns in the high-dimensional datasets."
   ]
  },
  {
   "cell_type": "markdown",
   "id": "204bb89a-58c9-4fcd-8bb1-7f0e6f29216d",
   "metadata": {},
   "source": [
    "## Q7.  The variance explained can be understood as the ratio of the vertical spread of the regression line (i.e., from the lowest point on the line to the highest point on the line) to the vertical spread of the data (i.e., from the lowest data point to the highest data point)."
   ]
  },
  {
   "cell_type": "markdown",
   "id": "c32ba0bd-e02e-467a-914a-aa2625cb183d",
   "metadata": {},
   "source": [
    "## Q8.  PCA works by finding the directions of maximum variance in the data set and projecting the data onto these directions. The principal components are ordered by the amount of variance they explain and are used for feature selection, data compression, clustering, and classification."
   ]
  },
  {
   "cell_type": "markdown",
   "id": "02900aee-651f-4cf7-b07e-f708154e2e52",
   "metadata": {},
   "source": [
    "## Q9.  PCA generally tries to find the lower-dimensional surface to project the high-dimensional data. PCA works by considering the variance of each attribute because the high attribute shows the good split between the classes, and hence it reduces the dimensionality."
   ]
  }
 ],
 "metadata": {
  "kernelspec": {
   "display_name": "Python 3 (ipykernel)",
   "language": "python",
   "name": "python3"
  },
  "language_info": {
   "codemirror_mode": {
    "name": "ipython",
    "version": 3
   },
   "file_extension": ".py",
   "mimetype": "text/x-python",
   "name": "python",
   "nbconvert_exporter": "python",
   "pygments_lexer": "ipython3",
   "version": "3.10.8"
  }
 },
 "nbformat": 4,
 "nbformat_minor": 5
}
