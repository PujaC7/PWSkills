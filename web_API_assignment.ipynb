{
 "cells": [
  {
   "cell_type": "markdown",
   "id": "7e510592-ddcc-4388-8bb3-a2df0b028a0f",
   "metadata": {},
   "source": [
    "## Q1. Application Programming Interface (API), often referred to as web API, is an interface that allows two systems to communicate with each other (share data and access resources). One of its purposes includes making visible the internal details of how a system works to only those that a programmer finds required. \n",
    "### example\n",
    "####  We can take Zomato as an example to explain the concept of an API. Zomato receives a request for an order, the customer can track the driver’s location. Here, the API functions in this way- the Zomato app integrates with Google Map where after integration, google maps help you to track the location. "
   ]
  },
  {
   "cell_type": "markdown",
   "id": "e7dd304d-e7e4-46e4-b3bf-10b8e9573b5a",
   "metadata": {},
   "source": [
    "## Q2.  Advantages of APIs \n",
    "1. Efficiency: API produces efficient, quicker, and more reliable results than the outputs produced by human beings in an organization.\n",
    "2. Flexible delivery of services: API provides fast and flexible delivery of services according to developers’ requirements.\n",
    "3. Integration: The best feature of API is that it allows the movement of data between various sites and thus enhances the integrated user experience.\n",
    "4. Automation: As API makes use of robotic computers rather than humans, it produces better and more automated results.\n",
    "5. New functionality: While using API the developers find new tools and functionality for API exchanges.\n",
    "### Disadvantages of APIs \n",
    "1. Cost: Developing and implementing API is costly at times and requires high maintenance and support from developers.\n",
    "2. Security issues: Using API adds another layer of surface which is then prone to attacks, and hence the security risk problem is common in APIs.\n"
   ]
  },
  {
   "cell_type": "markdown",
   "id": "680c0cf2-ebd8-445f-b4c2-876b6466e984",
   "metadata": {},
   "source": [
    "## Q3.  Web API Is simply an API for the web. It is an API that can be accessed using the HTTP protocol. It can be built using Java, .nET, etc. It is implemented to extend the functionality of a browser, simplify complex functions, and provide easy syntax to complex code. \n",
    "### The four main types of web APIs are: Open API,Partner API,Internal API and Composite API\n",
    "### difference beetween web API and API\n",
    "#### Web service is used for REST, SOAP and XML-RPC for communication while API is used for any style of communication. Web service supports only HTTP protocol whereas API supports HTTP/HTTPS protocol. Web service supports XML while API supports XML and JSON."
   ]
  },
  {
   "cell_type": "markdown",
   "id": "5261e6a0-5353-4b6e-80e5-f251d36b48f5",
   "metadata": {},
   "source": [
    "## Q4.  REST stands for Representational State Transfer, and follows the constraints of REST architecture allowing interaction with RESTful web services. It defines a set of functions (GET, PUT, POST, DELETE) that clients use to access server data. The functions used are:\n",
    "\n",
    "1. GET (retrieve a record)\n",
    "2. PUT (update a record)\n",
    "3. POST (create a record)\n",
    "4. DELETE (delete the record)\n",
    "### Its main feature is that REST API is statelessness, i.e., the servers do not save clients’ data between requests. \n",
    "## SOAP ... is a protocol for exchanging XML-based messages ...\" It's nominally language-independent (and platform-independent, encoding-aware, transport-neutral,..).\n",
    "### A client can use SOAP APIs to create, retrieve, update or delete records, such as passwords, accounts, leads, and custom objects, from a server.\n",
    "## Challenges/limitations in SOAP\n",
    "### As SOAP can only transfer messages as XML files, your SOAP API will be less performant, as XML is a verbose format compared to JSON. API calls made to your server will need more bandwidth and it will take more time to process the request and transfer the response back to the client."
   ]
  },
  {
   "cell_type": "markdown",
   "id": "31b17692-bfc8-4eb5-a0df-1aad448f668b",
   "metadata": {},
   "source": [
    "## Q5.  Difference between REST and SOAP\n",
    "1. SOAP stands for Simple Object Access Protocol and REST stands for Representational State Transfer.\n",
    "2. Since SOAP is a protocol, it follows a strict standard to allow communication between the client and the server whereas REST is an architectural style that doesn’t follow any strict standard but follows six constraints defined by Roy Fielding in 2000. Those constraints are – Uniform Interface, Client-Server, Stateless, Cacheable, Layered System, Code on Demand.\n",
    "3. SOAP uses only XML for exchanging information in its message format whereas REST is not restricted to XML and its the choice of implementer which Media-Type to use like XML, JSON, Plain-text. Moreover, REST can use SOAP protocol but SOAP cannot use REST.\n",
    "4. On behalf of services interfaces to business logic, SOAP uses @WebService whereas REST instead of using interfaces uses URI like @Path.\n",
    "5. SOAP is difficult to implement and it requires more bandwidth whereas REST is easy to implement and requires less bandwidth such as smartphones.\n",
    "6. Benefits of SOAP over REST as SOAP has ACID compliance transaction. Some of the applications require transaction ability which is accepted by SOAP whereas REST lacks in it.\n",
    "7. On the basis of Security, SOAP has SSL( Secure Socket Layer) and WS-security whereas REST has SSL and HTTPS. In the case of Bank Account Password, Card Number, etc. SOAP is preferred over REST. The security issue is all about your application requirement, you have to build security on your own. It’s about what type of protocol you use.\n",
    "8. SOAP cannot make use of REST since SOAP is a protocol without any architectural pattern. REST can make use of SOAP because it is an architectural pattern having protocol.\n"
   ]
  },
  {
   "cell_type": "code",
   "execution_count": null,
   "id": "755fa67b-dc84-48ca-b4e7-0fc018368e85",
   "metadata": {},
   "outputs": [],
   "source": []
  }
 ],
 "metadata": {
  "kernelspec": {
   "display_name": "Python 3 (ipykernel)",
   "language": "python",
   "name": "python3"
  },
  "language_info": {
   "codemirror_mode": {
    "name": "ipython",
    "version": 3
   },
   "file_extension": ".py",
   "mimetype": "text/x-python",
   "name": "python",
   "nbconvert_exporter": "python",
   "pygments_lexer": "ipython3",
   "version": "3.10.8"
  }
 },
 "nbformat": 4,
 "nbformat_minor": 5
}
