{
 "cells": [
  {
   "cell_type": "markdown",
   "id": "ea15882f-5bfc-4c2c-9ad5-73d3a10a8cc5",
   "metadata": {},
   "source": [
    "## Q1.  GridSearchCV is a technique for finding the optimal parameter values from a given set of parameters in a grid. It's essentially a cross-validation technique. The model as well as the parameters must be entered.\n",
    "### GridSearchCV is a technique for finding the optimal parameter values from a given set of parameters in a grid. It's essentially a cross-validation technique. The model as well as the parameters must be entered. After extracting the best parameter values, predictions are made."
   ]
  },
  {
   "cell_type": "markdown",
   "id": "63ebc0cc-5de0-4860-b6b9-49b3cebb0dca",
   "metadata": {},
   "source": [
    "## Q2.  The key difference from grid search is in random search, not all the values are tested and values tested are selected at random. For example, if there are 500 values in the distribution and if we input n_iter=50 then random search will randomly sample 50 values to test.\n",
    "### Random search is faster than grid search and should always be used when you have a large parameter space. It is also a good idea to use both random search and grid search to get the best possible results"
   ]
  },
  {
   "cell_type": "markdown",
   "id": "ac49e031-2905-47f7-a9c1-86a889a8f702",
   "metadata": {},
   "source": [
    "## Q3.  Data leakage is the unauthorized transmission of data from within an organization to an external destination or recipient. The term can be used to describe data that is transferred electronically or physically.\n",
    "### Data leakage is one of the major problems in machine learning which occurs when the data that we are using to train an ML algorithm has the information the model is trying to predict. It is a situation that causes unpredictable and bad prediction outcomes after model deployment.\n",
    "### example: \"A scenario when ML model already has information of test data in training data, but this information would not be available at the time of prediction, called data leakage. It causes high performance while training set, but perform poorly in deployment or production.\""
   ]
  },
  {
   "cell_type": "markdown",
   "id": "f00f87cb-65f9-49ea-b4a4-8010a14d2572",
   "metadata": {},
   "source": [
    "## Q4.  One of the best ways to get rid of data leakage is to perform k-fold cross validation where the overall data is divided into k parts. After dividing into k parts, we use each part as the cross-validation data and the remaining as training data"
   ]
  },
  {
   "cell_type": "markdown",
   "id": "31d59d9a-e11a-43ee-9167-3eb3a50e504f",
   "metadata": {},
   "source": [
    "## Q5.  A Confusion matrix is an N x N matrix used for evaluating the performance of a classification model, where N is the number of target classes. The matrix compares the actual target values with those predicted by the machine learning model. A good model is one which has high TP and TN rates, while low FP and FN rates.\n",
    "### A confusion matrix represents the prediction summary in matrix form. It shows how many prediction are correct and incorrect per class. It helps in understanding the classes that are being confused by model as other class."
   ]
  },
  {
   "cell_type": "markdown",
   "id": "8be375d3-f061-48f6-aa12-58f759efee3a",
   "metadata": {},
   "source": [
    "## Q6.  A. Precision is a metric that measures the accuracy of positive predictions. It is the number of true positive predictions divided by the number of true positive predictions plus false positive predictions. Recall, on the other hand, measures the completeness of positive predictions."
   ]
  },
  {
   "cell_type": "markdown",
   "id": "169e6acc-bfd2-4720-ac79-a11302ecbe8e",
   "metadata": {},
   "source": [
    "## Q7.  A confusion matrix is a table that allows you to visualize the performance of a classification model. You can also use the information in it to calculate measures that can help you determine the usefulness of the model. Rows represent predicted classifications, while columns represent the true classes from the data."
   ]
  },
  {
   "cell_type": "markdown",
   "id": "23f9c501-f4c9-4c6b-aab8-c168d184dc67",
   "metadata": {},
   "source": [
    "## Q8.  Confusion matrices can be used to calculate performance metrics for classification models. Of the many performance metrics used, the most common are accuracy, precision, recall, and F1 score.\n",
    "### F1 Score becomes 1 only when precision and recall are both 1. F1 score becomes high only when both precision and recall are high. F1 score is the harmonic mean of precision and recall and is a better measure than accuracy. In the pregnancy example, F1 Score = 2* ( 0.857 * 0.75)/(0.857 + 0.75) = 0.799."
   ]
  },
  {
   "cell_type": "markdown",
   "id": "7f1c9607-ed1b-4e2c-96b9-ec2a0810ead2",
   "metadata": {},
   "source": [
    "## Q9.  Here are some of the most common performance measures you can use from the confusion matrix. Accuracy: It gives you the overall accuracy of the model, meaning the fraction of the total samples that were correctly classified by the classifier. To calculate accuracy, use the following formula: (TP+TN)/(TP+TN+FP+FN)"
   ]
  },
  {
   "cell_type": "markdown",
   "id": "698623ca-8c7b-4211-ab92-e7492527aab9",
   "metadata": {},
   "source": [
    "## Q10.  A confusion matrix is a table that allows you to visualize the performance of a classification model. You can also use the information in it to calculate measures that can help you determine the usefulness of the model. Rows represent predicted classifications, while columns represent the true classes from the data."
   ]
  }
 ],
 "metadata": {
  "kernelspec": {
   "display_name": "Python 3 (ipykernel)",
   "language": "python",
   "name": "python3"
  },
  "language_info": {
   "codemirror_mode": {
    "name": "ipython",
    "version": 3
   },
   "file_extension": ".py",
   "mimetype": "text/x-python",
   "name": "python",
   "nbconvert_exporter": "python",
   "pygments_lexer": "ipython3",
   "version": "3.10.8"
  }
 },
 "nbformat": 4,
 "nbformat_minor": 5
}
