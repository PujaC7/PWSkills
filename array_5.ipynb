{
 "cells": [
  {
   "cell_type": "code",
   "execution_count": 1,
   "id": "a2010681-e677-4c65-9598-a134ad6d1a4f",
   "metadata": {},
   "outputs": [],
   "source": [
    "## Q1.  \n",
    "\n",
    "def convert_to_2d_array(original, m, n):\n",
    "    if len(original) != m * n:\n",
    "        return []\n",
    "    \n",
    "    result = []\n",
    "    for i in range(m):\n",
    "        row = original[i * n : (i + 1) * n]\n",
    "        result.append(row)\n",
    "    \n",
    "    return result"
   ]
  },
  {
   "cell_type": "code",
   "execution_count": 2,
   "id": "658b9efb-a9af-491a-9177-58a92a088acc",
   "metadata": {},
   "outputs": [
    {
     "name": "stdout",
     "output_type": "stream",
     "text": [
      "[[1, 2, 3], [4, 5, 6]]\n"
     ]
    }
   ],
   "source": [
    "original = [1, 2, 3, 4, 5, 6]\n",
    "m = 2\n",
    "n = 3\n",
    "result = convert_to_2d_array(original, m, n)\n",
    "print(result)"
   ]
  },
  {
   "cell_type": "code",
   "execution_count": 3,
   "id": "1a48ebae-c45d-4413-8ba8-8ba8989b3bb1",
   "metadata": {},
   "outputs": [],
   "source": [
    "## Q2.  \n",
    "\n",
    "import math\n",
    "\n",
    "def arrangeCoins(n):\n",
    "    k = int(math.sqrt(2 * n))\n",
    "    while (k * (k + 1)) // 2 > n:\n",
    "        k -= 1\n",
    "    return k"
   ]
  },
  {
   "cell_type": "code",
   "execution_count": 5,
   "id": "df7225cb-507c-44b3-962f-479eb0d98fa7",
   "metadata": {},
   "outputs": [
    {
     "name": "stdout",
     "output_type": "stream",
     "text": [
      "2\n"
     ]
    }
   ],
   "source": [
    "n = 5\n",
    "complete_rows = arrangeCoins(n)\n",
    "print(complete_rows)"
   ]
  },
  {
   "cell_type": "code",
   "execution_count": 6,
   "id": "9feb2805-963a-4e9d-bea1-96b494e0a546",
   "metadata": {},
   "outputs": [],
   "source": [
    "## Q3.  \n",
    "\n",
    "def sortedSquares(nums):\n",
    "    n = len(nums)\n",
    "    result = [0] * n\n",
    "    left = 0\n",
    "    right = n - 1\n",
    "    index = n - 1\n",
    "    \n",
    "    while left <= right:\n",
    "        if abs(nums[left]) > abs(nums[right]):\n",
    "            result[index] = nums[left] * nums[left]\n",
    "            left += 1\n",
    "        else:\n",
    "            result[index] = nums[right] * nums[right]\n",
    "            right -= 1\n",
    "        index -= 1\n",
    "    \n",
    "    return result"
   ]
  },
  {
   "cell_type": "code",
   "execution_count": 7,
   "id": "ea289651-d8df-4c17-b670-887f84f3f973",
   "metadata": {},
   "outputs": [
    {
     "name": "stdout",
     "output_type": "stream",
     "text": [
      "[0, 1, 9, 16, 100]\n"
     ]
    }
   ],
   "source": [
    "nums = [-4, -1, 0, 3, 10]\n",
    "result = sortedSquares(nums)\n",
    "print(result)"
   ]
  },
  {
   "cell_type": "code",
   "execution_count": 8,
   "id": "926ecd1b-5212-4d32-9fd8-27d5f4a67fd3",
   "metadata": {},
   "outputs": [],
   "source": [
    "## Q4.  \n",
    "\n",
    "def findDisjoint(nums1, nums2):\n",
    "    set1 = set(nums1)\n",
    "    set2 = set(nums2)\n",
    "    \n",
    "    distinct_nums1 = list(set1 - set2)\n",
    "    distinct_nums2 = list(set2 - set1)\n",
    "    \n",
    "    return [distinct_nums1, distinct_nums2]"
   ]
  },
  {
   "cell_type": "code",
   "execution_count": 9,
   "id": "6e74068f-cf6c-4675-bb8b-ec4fbf46f1f0",
   "metadata": {},
   "outputs": [
    {
     "name": "stdout",
     "output_type": "stream",
     "text": [
      "[[1, 3], [4, 6]]\n"
     ]
    }
   ],
   "source": [
    "nums1 = [1, 2, 3]\n",
    "nums2 = [2, 4, 6]\n",
    "answer = findDisjoint(nums1, nums2)\n",
    "print(answer)"
   ]
  },
  {
   "cell_type": "code",
   "execution_count": 10,
   "id": "5f0d85c5-f07b-4866-9fd6-d46a01e60b5e",
   "metadata": {},
   "outputs": [],
   "source": [
    "## Q5.  \n",
    "\n",
    "def distanceValue(arr1, arr2, d):\n",
    "    distance = 0\n",
    "    \n",
    "    for num1 in arr1:\n",
    "        valid = True\n",
    "        for num2 in arr2:\n",
    "            if abs(num1 - num2) <= d:\n",
    "                valid = False\n",
    "                break\n",
    "        if valid:\n",
    "            distance += 1\n",
    "    \n",
    "    return distance"
   ]
  },
  {
   "cell_type": "code",
   "execution_count": 11,
   "id": "14c2ef24-f019-4a98-9c9a-65c18e1e8383",
   "metadata": {},
   "outputs": [
    {
     "name": "stdout",
     "output_type": "stream",
     "text": [
      "2\n"
     ]
    }
   ],
   "source": [
    "arr1 = [4, 5, 8]\n",
    "arr2 = [10, 9, 1, 8]\n",
    "d = 2\n",
    "distance = distanceValue(arr1, arr2, d)\n",
    "print(distance)"
   ]
  },
  {
   "cell_type": "code",
   "execution_count": 12,
   "id": "9db5fd41-abd0-4d5a-9a43-6bb6f2537561",
   "metadata": {},
   "outputs": [],
   "source": [
    "## Q6.  \n",
    "\n",
    "def findDuplicates(nums):\n",
    "    duplicates = []\n",
    "    \n",
    "    for num in nums:\n",
    "        index = abs(num) - 1\n",
    "        if nums[index] < 0:\n",
    "            duplicates.append(abs(num))\n",
    "        else:\n",
    "            nums[index] = -nums[index]\n",
    "    \n",
    "    return duplicates"
   ]
  },
  {
   "cell_type": "code",
   "execution_count": 13,
   "id": "c8648d1f-0c17-4193-abd4-38588d4d42ab",
   "metadata": {},
   "outputs": [
    {
     "name": "stdout",
     "output_type": "stream",
     "text": [
      "[2, 3]\n"
     ]
    }
   ],
   "source": [
    "nums = [4, 3, 2, 7, 8, 2, 3, 1]\n",
    "duplicates = findDuplicates(nums)\n",
    "print(duplicates)"
   ]
  },
  {
   "cell_type": "code",
   "execution_count": 14,
   "id": "4a46ece8-4ff7-450c-aa4f-b85c7b51de2b",
   "metadata": {},
   "outputs": [],
   "source": [
    "## Q7.\n",
    "\n",
    "def findMin(nums):\n",
    "    n = len(nums)\n",
    "    left = 0\n",
    "    right = n - 1\n",
    "    \n",
    "    while left < right:\n",
    "        mid = left + (right - left) // 2\n",
    "        \n",
    "        if nums[mid] > nums[right]:\n",
    "            left = mid + 1\n",
    "        else:\n",
    "            right = mid\n",
    "    \n",
    "    return nums[left]"
   ]
  },
  {
   "cell_type": "code",
   "execution_count": 15,
   "id": "0fcece80-baa7-43cd-9732-d0e9fefbb3ec",
   "metadata": {},
   "outputs": [
    {
     "name": "stdout",
     "output_type": "stream",
     "text": [
      "1\n"
     ]
    }
   ],
   "source": [
    "nums = [3, 4, 5, 1, 2]\n",
    "minimum = findMin(nums)\n",
    "print(minimum)"
   ]
  },
  {
   "cell_type": "code",
   "execution_count": 16,
   "id": "48b0daee-1fb9-4eb7-9897-4ea2bb33e8c0",
   "metadata": {},
   "outputs": [],
   "source": [
    "## Q8.  \n",
    "\n",
    "from collections import Counter\n",
    "\n",
    "def findOriginalArray(changed):\n",
    "    if len(changed) % 2 != 0:\n",
    "        return []\n",
    "    \n",
    "    original = []\n",
    "    freq = Counter(changed)\n",
    "    \n",
    "    for num in sorted(changed):\n",
    "        if freq[num] == 0:\n",
    "            continue\n",
    "        \n",
    "        if freq[num * 2] == 0:\n",
    "            return []\n",
    "        \n",
    "        original.append(num)\n",
    "        freq[num] -= 1\n",
    "        freq[num * 2] -= 1\n",
    "    \n",
    "    return original"
   ]
  },
  {
   "cell_type": "code",
   "execution_count": 17,
   "id": "0e48b829-ce58-4c8c-bf6b-2fd163ec8da1",
   "metadata": {},
   "outputs": [
    {
     "name": "stdout",
     "output_type": "stream",
     "text": [
      "[1, 3, 4]\n"
     ]
    }
   ],
   "source": [
    "changed = [1, 3, 4, 2, 6, 8]\n",
    "original = findOriginalArray(changed)\n",
    "print(original)"
   ]
  },
  {
   "cell_type": "code",
   "execution_count": null,
   "id": "c18f0db9-f469-4025-95f7-4ea77a51a025",
   "metadata": {},
   "outputs": [],
   "source": []
  }
 ],
 "metadata": {
  "kernelspec": {
   "display_name": "Python 3 (ipykernel)",
   "language": "python",
   "name": "python3"
  },
  "language_info": {
   "codemirror_mode": {
    "name": "ipython",
    "version": 3
   },
   "file_extension": ".py",
   "mimetype": "text/x-python",
   "name": "python",
   "nbconvert_exporter": "python",
   "pygments_lexer": "ipython3",
   "version": "3.10.8"
  }
 },
 "nbformat": 4,
 "nbformat_minor": 5
}
