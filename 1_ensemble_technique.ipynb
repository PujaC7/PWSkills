{
 "cells": [
  {
   "cell_type": "markdown",
   "id": "3fa8fff1-4511-4f58-b6a6-84108d109d61",
   "metadata": {},
   "source": [
    "## Q1.  Ensemble methods is a machine learning technique that combines several base models in order to produce one optimal predictive model . To better understand this definition lets take a step back into ultimate goal of machine learning and model building"
   ]
  },
  {
   "cell_type": "markdown",
   "id": "86c948bc-914a-4ab4-b311-929b56761714",
   "metadata": {},
   "source": [
    "## Q2.  There are two main reasons to use an ensemble over a single model, and they are related; they are: Performance: An ensemble can make better predictions and achieve better performance than any single contributing model. Robustness: An ensemble reduces the spread or dispersion of the predictions and model performance."
   ]
  },
  {
   "cell_type": "markdown",
   "id": "860cd61b-0928-4b2a-9bd4-73934bcd475e",
   "metadata": {},
   "source": [
    "## Q3. Bootstrap aggregating, also called bagging, is a machine learning ensemble meta-algorithm designed to improve the stability and accuracy of machine learning algorithms used in statistical classification and regression. It also reduces variance and helps to avoid overfitting"
   ]
  },
  {
   "cell_type": "markdown",
   "id": "328c747a-306c-4221-9fe6-c606c635c0b0",
   "metadata": {},
   "source": [
    "## Q4.  Boosting is an ensemble learning method that combines a set of weak learners into a strong learner to minimize training errors. In boosting, a random sample of data is selected, fitted with a model and then trained sequentially—that is, each model tries to compensate for the weaknesses of its predecessor. With each iteration, the weak rules from each individual classifier are combined to form one, strong prediction rule. "
   ]
  },
  {
   "cell_type": "markdown",
   "id": "0f8253ab-16d1-438a-af26-5351b541dc14",
   "metadata": {},
   "source": [
    "## Q5. There are two main reasons to use an ensemble over a single model, and they are related; they are:\n",
    "- Performance: An ensemble can make better predictions and achieve better performance than any single contributing model.\n",
    "- Robustness: An ensemble reduces the spread or dispersion of the predictions and model performance."
   ]
  },
  {
   "cell_type": "markdown",
   "id": "467e9ced-ce5d-458d-89e5-fe9fa565774f",
   "metadata": {},
   "source": [
    "## Q6.  There are two main reasons to use an ensemble over a single model, and they are related; they are: Performance: An ensemble can make better predictions and achieve better performance than any single contributing model. Robustness: An ensemble reduces the spread or dispersion of the predictions and model performance"
   ]
  },
  {
   "cell_type": "markdown",
   "id": "28baf4fd-3d94-45dc-b65c-ff0870169bcc",
   "metadata": {},
   "source": [
    "## Q7. Methods for Bootstrapping Confidence Intervals\n",
    "- Start with resampling with replacement from original data n times.\n",
    "- For each bootstrap calculate mean x*.\n",
    "- Compute δ* = x* − x for each bootstrap sample (x is mean of original data), sort them from smallest to biggest.\n",
    "- Choose δ. 1 as the 90th percentile, δ."
   ]
  },
  {
   "cell_type": "markdown",
   "id": "4f3876a5-ad6a-4bbd-92b5-f9fa194d82a5",
   "metadata": {},
   "source": [
    "## Q8.  Bootstrap Method\n",
    "- Choose a number of bootstrap samples to perform.\n",
    "- Choose a sample size.\n",
    "- For each bootstrap sample. Draw a sample with replacement with the chosen size. Calculate the statistic on the sample.\n",
    "- Calculate the mean of the calculated sample statistics."
   ]
  },
  {
   "cell_type": "markdown",
   "id": "3b866cb3-7cd8-4f6b-bc2c-7e64a1fe2b1b",
   "metadata": {},
   "source": [
    "## Q9.  A researcher wants to estimate the mean height of a population of trees. They measure the height of a\n",
    "sample of 50 trees and obtain a mean height of 15 meters and a standard deviation of 2 meters. Use\n",
    "bootstrap to estimate the 95% confidence interval for the population mean height."
   ]
  },
  {
   "cell_type": "code",
   "execution_count": null,
   "id": "65b83a1b-8a8f-4936-8960-64658acc0980",
   "metadata": {},
   "outputs": [],
   "source": []
  }
 ],
 "metadata": {
  "kernelspec": {
   "display_name": "Python 3 (ipykernel)",
   "language": "python",
   "name": "python3"
  },
  "language_info": {
   "codemirror_mode": {
    "name": "ipython",
    "version": 3
   },
   "file_extension": ".py",
   "mimetype": "text/x-python",
   "name": "python",
   "nbconvert_exporter": "python",
   "pygments_lexer": "ipython3",
   "version": "3.10.8"
  }
 },
 "nbformat": 4,
 "nbformat_minor": 5
}
