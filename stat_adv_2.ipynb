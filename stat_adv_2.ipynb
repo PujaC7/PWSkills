{
 "cells": [
  {
   "cell_type": "markdown",
   "id": "d583324b-4675-4285-a191-c430c8df5ead",
   "metadata": {},
   "source": [
    "## Q1.  The Probability Mass Function (PMF) is also called a probability function or frequency function which characterizes the distribution of a discrete random variable. Let X be a discrete random variable of a function, then the probability mass function of a random variable X is given by Px (x) = P( X=x ), For all x belongs to the range of X.\n",
    "### example: rolling a dice\n",
    "## The Probability Density Function(PDF) defines the probability function representing the density of a continuous random variable lying between a specific range of values. In other words, the probability density function produces the likelihood of values of the continuous random variable. Sometimes it is also called a probability distribution function or just a probability function. However, this function is stated in many other sources as the function over a broad set of values. Often it is referred to as cumulative distribution function or sometimes as probability mass function(PMF). However, the actual truth is PDF (probability density function ) is defined for continuous random variables, whereas PMF (probability mass function) is defined for discrete random variables.\n",
    "### example: model the diesel engine combustion."
   ]
  },
  {
   "cell_type": "markdown",
   "id": "e97caf26-0774-47ee-bdc3-4111f800150c",
   "metadata": {},
   "source": [
    "## Q2.  The Cumulative Distribution Function (CDF), of a real-valued random variable X, evaluated at x, is the probability function that X will take a value less than or equal to x. It is used to describe the probability distribution of random variables in a table.\n",
    "### example: at point x=1, the CDF jumps from 14 to 34. The size of the jump here is 34−14=12 which is equal to PX(1).\n",
    "## The cumulative distribution function (CDF) calculates the cumulative probability for a given x-value. Use the CDF to determine the likelihood that a random observation taken from the population will be less than or equal to a particular value."
   ]
  },
  {
   "cell_type": "markdown",
   "id": "fbede987-7509-4440-ae47-dbe0701d5ae8",
   "metadata": {},
   "source": [
    "## Q3.  example:\n",
    "1. Height. The height of people is an example of normal distribution\n",
    "2. Rolling A Dice. A fair rolling of dice is also a good example of normal distribution\n",
    "3. Technical Stock Market\n",
    "### The two main parameters of a (normal) distribution are the mean and standard deviation. The parameters determine the shape and probabilities of the distribution. The shape of the distribution changes as the parameter values change"
   ]
  },
  {
   "cell_type": "markdown",
   "id": "a0959190-94c3-4ce1-acd9-2f98358c4102",
   "metadata": {},
   "source": [
    "## Q4.  The normal distribution is an important probability distribution in math and statistics because many continuous data in nature and psychology display this bell-shaped curve when compiled and graphed.\n",
    "### real life example: tossing a coin, IQ, birth weight, shoe size etc"
   ]
  },
  {
   "cell_type": "markdown",
   "id": "d9c33a34-362a-43da-9f95-cdb00d7244a2",
   "metadata": {},
   "source": [
    "## Q5.  Bernoulli distribution is a discrete probability distribution where the Bernoulli random variable can have only 0 or 1 as the outcome. p is the probability of success and 1 - p is the probability of failure. The mean of a Bernoulli distribution is E[X] = p and the variance, Var[X] = p(1-p).\n",
    "### example: will a coin land on heads (success) or tails (failure)?\n",
    "## The Bernoulli distribution represents the success or failure of a single Bernoulli trial. The Binomial Distribution represents the number of successes and failures in n independent Bernoulli trials for some given value of n."
   ]
  },
  {
   "cell_type": "markdown",
   "id": "310cc3c8-5066-497e-9137-8d920ff2e57d",
   "metadata": {},
   "source": [
    "## Q6.  Consider a dataset with a mean of 50 and a standard deviation of 10. If we assume that the dataset is normally distributed, then the probability that a randomly selected observation will be greater than 60 is 0.1587\n",
    "### to standarize the normal distribution we use z score. formula is z = (x – μ) / σ. here μ = mean = 50 and σ = standard deviation = 10.\n",
    "### for x = 60, z = 1. now we have to calculate P(z>1) = [total area] – [area to the left of z = 1]\n",
    "### P(z > 1)  = 1 – 0.8413 = 0.1587"
   ]
  },
  {
   "cell_type": "markdown",
   "id": "70f72410-276d-4f73-9d34-8f9106fece56",
   "metadata": {},
   "source": [
    "## Q7.  uniform distribution refers to a type of probability distribution in which all outcomes are equally likely. A deck of cards has within it uniform distributions because the likelihood of drawing a heart, a club, a diamond, or a spade is equally likely."
   ]
  },
  {
   "cell_type": "markdown",
   "id": "200054d7-1d4b-452c-990f-d898e4e90602",
   "metadata": {},
   "source": [
    "## Q8. A z score is a statistical measure which gives an idea of how far a raw score is from the mean of a distribution.\n",
    "### We use z score because it helps us to determine the probability of a score occurring within our normal distribution and also helps us to compare two scores that are from different normal distributions.\n"
   ]
  },
  {
   "cell_type": "markdown",
   "id": "7d73e76a-3be6-49c0-b8c5-b35201f13941",
   "metadata": {},
   "source": [
    "## Q9.  The central limit theorem states that whenever a random sample of size n is taken from any distribution with mean and variance, then the sample mean will be approximately normally distributed with mean and variance. The larger the value of the sample size, the better the approximation to the normal.\n",
    "### the central limit theorem is useful when analyzing large data sets because it allows one to assume that the sampling distribution of the mean will be normally-distributed in most cases. This allows for easier statistical analysis and inference."
   ]
  },
  {
   "cell_type": "markdown",
   "id": "211036c6-ec4c-4daa-a02f-12d37791d4c1",
   "metadata": {},
   "source": [
    "## Q10.  Assumptions of Central Limit Theorem\n",
    "1. The sample should be drawn randomly following the condition of randomization.\n",
    "2. The samples drawn should be independent of each other. They should not influence the other samples.\n",
    "3. When the sampling is done without replacement, the sample size shouldn’t exceed 10% of the total population.\n",
    "4. The sample size should be sufficiently large."
   ]
  }
 ],
 "metadata": {
  "kernelspec": {
   "display_name": "Python 3 (ipykernel)",
   "language": "python",
   "name": "python3"
  },
  "language_info": {
   "codemirror_mode": {
    "name": "ipython",
    "version": 3
   },
   "file_extension": ".py",
   "mimetype": "text/x-python",
   "name": "python",
   "nbconvert_exporter": "python",
   "pygments_lexer": "ipython3",
   "version": "3.10.8"
  }
 },
 "nbformat": 4,
 "nbformat_minor": 5
}
