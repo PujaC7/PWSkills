{
 "cells": [
  {
   "cell_type": "code",
   "execution_count": 9,
   "id": "1d69fa26-18c8-418e-9bee-1b499a4070db",
   "metadata": {},
   "outputs": [],
   "source": [
    "## Q1.\n",
    "def make_great(s):\n",
    "    stack = []\n",
    "\n",
    "    for char in s:\n",
    "        if stack and abs(ord(char) - ord(stack[-1])) == 32:\n",
    "            stack.pop()\n",
    "        else:\n",
    "            stack.append(char)\n",
    "\n",
    "    return \"\".join(stack)"
   ]
  },
  {
   "cell_type": "code",
   "execution_count": 10,
   "id": "bc9fa3eb-9b25-4ce5-b25b-546a2dda9e33",
   "metadata": {},
   "outputs": [
    {
     "name": "stdout",
     "output_type": "stream",
     "text": [
      "\n"
     ]
    }
   ],
   "source": [
    "\n",
    "input_str = \"abBA\"\n",
    "result = make_great(input_str)\n",
    "print(result)"
   ]
  },
  {
   "cell_type": "code",
   "execution_count": 11,
   "id": "b589dbd5-da8b-432e-940c-7b00111a1b98",
   "metadata": {},
   "outputs": [
    {
     "name": "stdout",
     "output_type": "stream",
     "text": [
      "ca\n"
     ]
    }
   ],
   "source": [
    "## Q2.\n",
    "def remove_adjacent_duplicates(s):\n",
    "    stack = []\n",
    "\n",
    "    for char in s:\n",
    "        if stack and stack[-1] == char:\n",
    "            stack.pop()\n",
    "        else:\n",
    "            stack.append(char)\n",
    "\n",
    "    return \"\".join(stack)\n",
    "\n",
    "# Example usage:\n",
    "input_str = \"abbaca\"\n",
    "result = remove_adjacent_duplicates(input_str)\n",
    "print(result)"
   ]
  },
  {
   "cell_type": "code",
   "execution_count": 12,
   "id": "403015e3-9f3f-49c0-ad44-38a42529b316",
   "metadata": {},
   "outputs": [],
   "source": [
    "## Q3.\n",
    "class StockSpanner:\n",
    "    def __init__(self):\n",
    "        self.prices = []  # List to store the stock prices\n",
    "        self.spans = []   # List to store the spans\n",
    "\n",
    "    def next(self, price):\n",
    "        span = 1\n",
    "\n",
    "        while self.prices and self.prices[-1][0] <= price:\n",
    "            # If the last price in the stack is less than or equal to the current price,\n",
    "            # add its span to the current span and pop it from the stack\n",
    "            span += self.spans.pop()\n",
    "            self.prices.pop()\n",
    "\n",
    "        # Append the current price and its span to the stack\n",
    "        self.prices.append((price, span))\n",
    "        self.spans.append(span)\n",
    "\n",
    "        return span\n"
   ]
  },
  {
   "cell_type": "code",
   "execution_count": 13,
   "id": "ec78898b-f9c5-43ef-941f-5629354577ad",
   "metadata": {},
   "outputs": [
    {
     "name": "stdout",
     "output_type": "stream",
     "text": [
      "1\n"
     ]
    }
   ],
   "source": [
    "stock_spanner = StockSpanner()\n",
    "print(stock_spanner.next(100))"
   ]
  },
  {
   "cell_type": "code",
   "execution_count": 14,
   "id": "ab3692bd-56c3-463a-ad4f-4d834067d855",
   "metadata": {},
   "outputs": [
    {
     "name": "stdout",
     "output_type": "stream",
     "text": [
      "1\n"
     ]
    }
   ],
   "source": [
    "print(stock_spanner.next(80))"
   ]
  },
  {
   "cell_type": "code",
   "execution_count": 15,
   "id": "1a551b7f-ea00-4ff9-986f-d391e09acbc0",
   "metadata": {},
   "outputs": [
    {
     "name": "stdout",
     "output_type": "stream",
     "text": [
      "1\n"
     ]
    }
   ],
   "source": [
    "print(stock_spanner.next(60))"
   ]
  },
  {
   "cell_type": "code",
   "execution_count": 16,
   "id": "da10a41a-2b4f-4a90-939e-a36352232ca3",
   "metadata": {},
   "outputs": [
    {
     "name": "stdout",
     "output_type": "stream",
     "text": [
      "2\n"
     ]
    }
   ],
   "source": [
    "print(stock_spanner.next(70))"
   ]
  },
  {
   "cell_type": "code",
   "execution_count": 17,
   "id": "8fa42106-ebc8-4eb4-a6e7-06642caf0d8d",
   "metadata": {},
   "outputs": [
    {
     "name": "stdout",
     "output_type": "stream",
     "text": [
      "1\n"
     ]
    }
   ],
   "source": [
    "print(stock_spanner.next(60)) "
   ]
  },
  {
   "cell_type": "code",
   "execution_count": 18,
   "id": "8c1dfaaf-6150-4740-93c2-a51fa286e391",
   "metadata": {},
   "outputs": [
    {
     "name": "stdout",
     "output_type": "stream",
     "text": [
      "4\n"
     ]
    }
   ],
   "source": [
    "print(stock_spanner.next(75))"
   ]
  },
  {
   "cell_type": "code",
   "execution_count": 19,
   "id": "9f5de248-936b-4ffa-b870-d3e7cbd06d38",
   "metadata": {},
   "outputs": [
    {
     "name": "stdout",
     "output_type": "stream",
     "text": [
      "6\n"
     ]
    }
   ],
   "source": [
    "print(stock_spanner.next(85))"
   ]
  },
  {
   "cell_type": "code",
   "execution_count": 20,
   "id": "35e9ce25-8b9b-4887-a122-4406e008cf60",
   "metadata": {},
   "outputs": [],
   "source": [
    "## Q4.\n",
    "def time_to_buy_tickets(people_in_front, buying_speed, total_tickets):\n",
    "    total_time = 0\n",
    "\n",
    "    for people, speed in zip(people_in_front, buying_speed):\n",
    "        # Calculate the time needed for each person in front\n",
    "        time_for_person = people / speed\n",
    "        total_time += time_for_person\n",
    "\n",
    "    # Calculate the time needed for yourself\n",
    "    time_for_you = total_tickets / buying_speed[-1]\n",
    "    total_time += time_for_you\n",
    "\n",
    "    return total_time"
   ]
  },
  {
   "cell_type": "code",
   "execution_count": 21,
   "id": "80b683f3-51a5-4d51-9fab-7a8a4ed875ff",
   "metadata": {},
   "outputs": [
    {
     "name": "stdout",
     "output_type": "stream",
     "text": [
      "12.5\n"
     ]
    }
   ],
   "source": [
    "people_in_front = [5, 3, 2]  \n",
    "buying_speed = [2, 3, 1]    \n",
    "total_tickets = 7           \n",
    "\n",
    "result = time_to_buy_tickets(people_in_front, buying_speed, total_tickets)\n",
    "print(result)  "
   ]
  },
  {
   "cell_type": "code",
   "execution_count": 22,
   "id": "33139c54-77c3-450c-8ff6-54fc47ffa09f",
   "metadata": {},
   "outputs": [],
   "source": [
    "## Q5.\n",
    "class ProductOfNumbers:\n",
    "    def __init__(self):\n",
    "        self.arr = [1]  # Initialize the array with 1 as the first element\n",
    "        self.product = 1  # Initialize the running product to 1\n",
    "\n",
    "    def add(self, num):\n",
    "        if num == 0:\n",
    "            # If the new number is 0, reset the array and product to start over\n",
    "            self.arr = [1]\n",
    "            self.product = 1\n",
    "        else:\n",
    "            # Update the running product\n",
    "            self.product *= num\n",
    "\n",
    "            # Add the new number to the array\n",
    "            self.arr.append(self.product)\n",
    "\n",
    "    def getProduct(self, k):\n",
    "        n = len(self.arr)\n",
    "        if k >= n:\n",
    "            return 0  # If k is greater than or equal to the size of the array, the product is 0\n",
    "\n",
    "        # Calculate the product of the last K numbers using the array\n",
    "        return self.product // self.arr[n - k - 1]\n"
   ]
  },
  {
   "cell_type": "code",
   "execution_count": 26,
   "id": "1087759e-3a9c-41bb-8c07-df20c131575b",
   "metadata": {},
   "outputs": [],
   "source": [
    "product_obj = ProductOfNumbers()\n",
    "product_obj.add(3)\n",
    "product_obj.add(0)        \n",
    "product_obj.add(2)        \n",
    "product_obj.add(5)       \n",
    "product_obj.add(4)        \n",
    "result = product_obj.getProduct(2)"
   ]
  },
  {
   "cell_type": "code",
   "execution_count": 27,
   "id": "33f99d07-55f1-4c88-8271-788c76d0d513",
   "metadata": {},
   "outputs": [],
   "source": [
    "## Q6.\n",
    "def largest_rectangle_area(heights):\n",
    "    stack = []\n",
    "    max_area = 0\n",
    "\n",
    "    for i, height in enumerate(heights):\n",
    "        while stack and height < heights[stack[-1]]:\n",
    "            # Calculate the area for the top bar in the stack\n",
    "            top_height = heights[stack.pop()]\n",
    "            width = i if not stack else i - stack[-1] - 1\n",
    "            max_area = max(max_area, top_height * width)\n",
    "\n",
    "        stack.append(i)\n",
    "\n",
    "    while stack:\n",
    "        # Calculate the remaining areas for bars in the stack\n",
    "        top_height = heights[stack.pop()]\n",
    "        width = len(heights) if not stack else len(heights) - stack[-1] - 1\n",
    "        max_area = max(max_area, top_height * width)\n",
    "\n",
    "    return max_area\n"
   ]
  },
  {
   "cell_type": "code",
   "execution_count": 28,
   "id": "d011a99b-c3ef-4062-ab69-a6c1d1bdbf43",
   "metadata": {},
   "outputs": [
    {
     "name": "stdout",
     "output_type": "stream",
     "text": [
      "10\n"
     ]
    }
   ],
   "source": [
    "histogram = [2, 1, 5, 6, 2, 3]\n",
    "result = largest_rectangle_area(histogram)\n",
    "print(result)"
   ]
  },
  {
   "cell_type": "code",
   "execution_count": 29,
   "id": "19ae9a1b-ce66-4585-b5ad-736fffac19ff",
   "metadata": {},
   "outputs": [],
   "source": [
    "## Q7.\n",
    "from collections import deque\n",
    "\n",
    "def sliding_window_maximum(nums, k):\n",
    "    result = []\n",
    "    window = deque()\n",
    "\n",
    "    for i in range(len(nums)):\n",
    "        # Remove indices outside the current sliding window\n",
    "        while window and window[0] < i - k + 1:\n",
    "            window.popleft()\n",
    "\n",
    "        # Remove indices with smaller elements as they are not candidates for the maximum\n",
    "        while window and nums[i] >= nums[window[-1]]:\n",
    "            window.pop()\n",
    "\n",
    "        # Add the current index to the deque\n",
    "        window.append(i)\n",
    "\n",
    "        # When the window reaches size k, add the maximum element to the result\n",
    "        if i >= k - 1:\n",
    "            result.append(nums[window[0]])\n",
    "\n",
    "    return result"
   ]
  },
  {
   "cell_type": "code",
   "execution_count": 30,
   "id": "03c758bb-5472-47dd-983e-52670f3a0c1e",
   "metadata": {},
   "outputs": [
    {
     "name": "stdout",
     "output_type": "stream",
     "text": [
      "[3, 3, 5, 5, 6, 7]\n"
     ]
    }
   ],
   "source": [
    "nums = [1, 3, -1, -3, 5, 3, 6, 7]\n",
    "k = 3\n",
    "result = sliding_window_maximum(nums, k)\n",
    "print(result) "
   ]
  },
  {
   "cell_type": "code",
   "execution_count": 31,
   "id": "62666f9e-a86b-4059-878f-ed659094bd19",
   "metadata": {},
   "outputs": [],
   "source": [
    "## Q8.\n",
    "class CircularQueue:\n",
    "    def __init__(self, k):\n",
    "        self.queue = [None] * k\n",
    "        self.front = 0\n",
    "        self.rear = -1\n",
    "        self.size = 0\n",
    "        self.capacity = k\n",
    "\n",
    "    def enQueue(self, value):\n",
    "        if not self.isFull():\n",
    "            self.rear = (self.rear + 1) % self.capacity\n",
    "            self.queue[self.rear] = value\n",
    "            self.size += 1\n",
    "            return True\n",
    "        return False\n",
    "\n",
    "    def deQueue(self):\n",
    "        if not self.isEmpty():\n",
    "            self.queue[self.front] = None\n",
    "            self.front = (self.front + 1) % self.capacity\n",
    "            self.size -= 1\n",
    "            return True\n",
    "        return False\n",
    "\n",
    "    def Front(self):\n",
    "        if not self.isEmpty():\n",
    "            return self.queue[self.front]\n",
    "        return -1\n",
    "\n",
    "    def Rear(self):\n",
    "        if not self.isEmpty():\n",
    "            return self.queue[self.rear]\n",
    "        return -1\n",
    "\n",
    "    def isEmpty(self):\n",
    "        return self.size == 0\n",
    "\n",
    "    def isFull(self):\n",
    "        return self.size == self.capacity"
   ]
  },
  {
   "cell_type": "code",
   "execution_count": 32,
   "id": "ff6d62ee-bea0-4b3c-9085-2048fd365969",
   "metadata": {},
   "outputs": [
    {
     "name": "stdout",
     "output_type": "stream",
     "text": [
      "True\n",
      "True\n",
      "True\n",
      "True\n",
      "True\n",
      "False\n",
      "1\n",
      "5\n",
      "True\n",
      "True\n",
      "True\n",
      "True\n",
      "True\n",
      "-1\n",
      "-1\n"
     ]
    }
   ],
   "source": [
    "circular_queue = CircularQueue(5)\n",
    "print(circular_queue.enQueue(1)) \n",
    "print(circular_queue.enQueue(2))  \n",
    "print(circular_queue.enQueue(3))  \n",
    "print(circular_queue.enQueue(4))  \n",
    "print(circular_queue.enQueue(5)) \n",
    "print(circular_queue.enQueue(6))  \n",
    "\n",
    "print(circular_queue.Front())    \n",
    "print(circular_queue.Rear())      \n",
    "\n",
    "print(circular_queue.deQueue())   \n",
    "print(circular_queue.deQueue())   \n",
    "print(circular_queue.deQueue())   \n",
    "print(circular_queue.deQueue())   \n",
    "print(circular_queue.deQueue())   \n",
    "\n",
    "print(circular_queue.Front())     \n",
    "print(circular_queue.Rear())"
   ]
  },
  {
   "cell_type": "code",
   "execution_count": null,
   "id": "8a4f8c9b-0011-4cfe-ac20-91e0836fac5a",
   "metadata": {},
   "outputs": [],
   "source": []
  }
 ],
 "metadata": {
  "kernelspec": {
   "display_name": "Python 3 (ipykernel)",
   "language": "python",
   "name": "python3"
  },
  "language_info": {
   "codemirror_mode": {
    "name": "ipython",
    "version": 3
   },
   "file_extension": ".py",
   "mimetype": "text/x-python",
   "name": "python",
   "nbconvert_exporter": "python",
   "pygments_lexer": "ipython3",
   "version": "3.10.8"
  }
 },
 "nbformat": 4,
 "nbformat_minor": 5
}
