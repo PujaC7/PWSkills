{
 "cells": [
  {
   "cell_type": "markdown",
   "id": "094a1ab7-1539-4789-8aec-9d6796176c2e",
   "metadata": {},
   "source": [
    "## Q1.  def is a keyword to create a function in python"
   ]
  },
  {
   "cell_type": "code",
   "execution_count": 4,
   "id": "e03b0e2d-6c6d-4d1f-a96f-d527e27f7a6a",
   "metadata": {},
   "outputs": [
    {
     "data": {
      "text/plain": [
       "[1, 3, 5, 7, 9, 11, 13, 15, 17, 19, 21, 23]"
      ]
     },
     "execution_count": 4,
     "metadata": {},
     "output_type": "execute_result"
    }
   ],
   "source": [
    "def test_odd_numbers():\n",
    "    odd_list = []\n",
    "    for i in range(1,25):\n",
    "        if(i%2 != 0):\n",
    "            odd_list.append(i)\n",
    "    return odd_list\n",
    "test_odd_numbers()"
   ]
  },
  {
   "cell_type": "markdown",
   "id": "b9c320ff-4176-4297-8468-d84f40f29c3d",
   "metadata": {},
   "source": [
    "## Q2.  *args indicates that this function is able to hold any number of arguments.. and  *kwargs is able to take any number of arguments in terms of keys, values"
   ]
  },
  {
   "cell_type": "code",
   "execution_count": 23,
   "id": "4905fb4f-b656-4716-9ead-d2eabad1f5ec",
   "metadata": {},
   "outputs": [
    {
     "data": {
      "text/plain": [
       "[10, 12, 14, 20, 22]"
      ]
     },
     "execution_count": 23,
     "metadata": {},
     "output_type": "execute_result"
    }
   ],
   "source": [
    "def test_even_numbers(*args):\n",
    "    even_list = []\n",
    "    for i in args:\n",
    "        if(i%2 == 0):\n",
    "            even_list.append(i)\n",
    "    return even_list\n",
    "test_even_numbers(10,12,14,15,20,22)"
   ]
  },
  {
   "cell_type": "code",
   "execution_count": 38,
   "id": "87d2277d-f413-453f-9a48-29a7f901ef98",
   "metadata": {},
   "outputs": [
    {
     "name": "stdout",
     "output_type": "stream",
     "text": [
      "{'name': 'puja', 'title': 'chowdhury'}\n",
      "dict_keys(['name', 'title'])\n"
     ]
    }
   ],
   "source": [
    "def items(**kwargs):\n",
    "    print(kwargs)\n",
    "    print(kwargs.keys())\n",
    "items(name= \"puja\", title= \"chowdhury\")"
   ]
  },
  {
   "cell_type": "markdown",
   "id": "794f46e7-735a-4e8a-98ca-a6a953fe2f09",
   "metadata": {},
   "source": [
    "##  Q3.  Iterator in Python is an object that is used to iterate over iterable objects like lists, tuples, dicts, and sets. The iterator object is initialized using the iter() method. It uses the next() method for iteration."
   ]
  },
  {
   "cell_type": "code",
   "execution_count": 45,
   "id": "cec6e9d8-6dec-491d-879f-3f3cc1557d8e",
   "metadata": {},
   "outputs": [
    {
     "name": "stdout",
     "output_type": "stream",
     "text": [
      "2\n",
      "4\n",
      "6\n",
      "8\n",
      "10\n"
     ]
    }
   ],
   "source": [
    "list1 = [2, 4, 6, 8, 10, 12, 14, 16, 18, 20]\n",
    "no_iterator = iter(list1)\n",
    "for i in range(1,6):\n",
    "    print(next(no_iterator))"
   ]
  },
  {
   "cell_type": "markdown",
   "id": "6b6d75a3-e086-405a-803d-95ac23984096",
   "metadata": {},
   "source": [
    "## Q4.   A generator-function is defined like a normal function, but whenever it needs to generate a value, it does so with the yield keyword rather than return. If the body of a def contains yield, the function automatically becomes a generator function.\n",
    "## yield returns a generator object to the one who calls the function which contains yield, instead of simply returning a value."
   ]
  },
  {
   "cell_type": "code",
   "execution_count": 46,
   "id": "f9a6b212-d36a-4361-acd1-440fc950d065",
   "metadata": {},
   "outputs": [
    {
     "name": "stdout",
     "output_type": "stream",
     "text": [
      "1\n",
      "2\n",
      "3\n"
     ]
    }
   ],
   "source": [
    "def simpleGeneratorFun():\n",
    "    yield 1           \n",
    "    yield 2           \n",
    "    yield 3           \n",
    "  \n",
    "for value in simpleGeneratorFun():\n",
    "    print(value)"
   ]
  },
  {
   "cell_type": "markdown",
   "id": "4318e572-6d0b-4cc2-b1c9-df4982a41b0a",
   "metadata": {},
   "source": [
    "## Q5.  code"
   ]
  },
  {
   "cell_type": "code",
   "execution_count": 63,
   "id": "92cc4c7e-f8cf-4ab1-9943-ee05e8d197c9",
   "metadata": {},
   "outputs": [
    {
     "name": "stdout",
     "output_type": "stream",
     "text": [
      "1\n",
      "2\n",
      "3\n",
      "5\n",
      "7\n",
      "11\n",
      "13\n",
      "17\n",
      "19\n",
      "23\n",
      "29\n",
      "31\n",
      "37\n",
      "41\n",
      "43\n",
      "47\n",
      "53\n",
      "59\n",
      "61\n"
     ]
    }
   ],
   "source": [
    "def prime_numbers(limit):\n",
    "    for i in range(1,limit):\n",
    "        if i>1:\n",
    "            num = 0\n",
    "            for j in range(2,i):\n",
    "                if(i%j == 0):\n",
    "                    num = 1\n",
    "                    break\n",
    "            if(num == 0):\n",
    "                yield i\n",
    "        else:\n",
    "            yield i\n",
    "            \n",
    "listOfPrime = []\n",
    "for value in prime_numbers(1000):\n",
    "    listOfPrime.append(value)\n",
    "    \n",
    "iterator = iter(listOfPrime)\n",
    "\n",
    "for i in range(1,20):\n",
    "    print(next(iterator))\n"
   ]
  },
  {
   "cell_type": "code",
   "execution_count": null,
   "id": "09209a57-9886-43fc-b955-03b54655866d",
   "metadata": {},
   "outputs": [],
   "source": []
  },
  {
   "cell_type": "code",
   "execution_count": null,
   "id": "81a18771-6255-479b-90f7-37670387602e",
   "metadata": {},
   "outputs": [],
   "source": []
  }
 ],
 "metadata": {
  "kernelspec": {
   "display_name": "Python 3 (ipykernel)",
   "language": "python",
   "name": "python3"
  },
  "language_info": {
   "codemirror_mode": {
    "name": "ipython",
    "version": 3
   },
   "file_extension": ".py",
   "mimetype": "text/x-python",
   "name": "python",
   "nbconvert_exporter": "python",
   "pygments_lexer": "ipython3",
   "version": "3.10.8"
  }
 },
 "nbformat": 4,
 "nbformat_minor": 5
}
