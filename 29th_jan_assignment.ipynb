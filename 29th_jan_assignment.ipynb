{
 "cells": [
  {
   "cell_type": "markdown",
   "id": "73960a09-619c-48dd-93a2-6bdb71ab6c59",
   "metadata": {},
   "source": [
    "##  Q1.  Guido van Rossum developed python programming language"
   ]
  },
  {
   "cell_type": "markdown",
   "id": "71eba440-0fd9-4a81-bdb3-4d257e6b062e",
   "metadata": {},
   "source": [
    "##  Q2. Python is a multi-paradigm programming language. Object-oriented programming and structured programming are fully supported, and many of their features support functional programming."
   ]
  },
  {
   "cell_type": "markdown",
   "id": "74e38f3d-6f05-4461-b2f8-1ea83b2007ac",
   "metadata": {},
   "source": [
    "##  Q3.  Yes, Python is a case−sensitive programming language, when dealing with identifiers."
   ]
  },
  {
   "cell_type": "markdown",
   "id": "916eebc1-747c-498f-abbb-b0e14f147b40",
   "metadata": {},
   "source": [
    "##  Q4.  pyc files. . pyc: This is the file extension for compiled Python code files."
   ]
  },
  {
   "cell_type": "markdown",
   "id": "e0445ab3-9b9a-4bed-bb60-e43ce3bd1679",
   "metadata": {},
   "source": [
    "##  Q5.  Python is an interpreted language, which means the source code of a Python program is converted into bytecode that is then executed by the Python virtual machine."
   ]
  },
  {
   "cell_type": "markdown",
   "id": "18c70a8f-5b70-4c29-b2b4-85d94e184d09",
   "metadata": {},
   "source": [
    "##  Q6.  4.1. These are blocks: a module, a function body, and a class definition. Each command typed interactively is a block. A script file (a file given as standard input to the interpreter or specified as a command line argument to the interpreter) is a code block."
   ]
  },
  {
   "cell_type": "markdown",
   "id": "46ef2527-ebf4-4f70-a984-080d69a55121",
   "metadata": {},
   "source": [
    "##  Q7.  In Python, we use the hash symbol # to write a single-line comment."
   ]
  },
  {
   "cell_type": "markdown",
   "id": "63f1fea6-98e7-40d0-9eac-fc87773f8315",
   "metadata": {},
   "source": [
    "##  Q8.  The function sys. version can help us to find the version of python that we are currently working on."
   ]
  },
  {
   "cell_type": "markdown",
   "id": "7bf5b0bf-c893-46ae-89aa-15cdd048cb0d",
   "metadata": {},
   "source": [
    "##  Q9.  Python supports the creation of anonymous function at runtime, using a construct called lambda. Lambda functions are restricted to a single expression."
   ]
  },
  {
   "cell_type": "markdown",
   "id": "21b49a50-3ebb-4501-9f24-83c2d50e263d",
   "metadata": {},
   "source": [
    "##  Q10.  pip (an acronym of “pip Install Packages”) is today the standard tool for installing Python packages and their dependencies in a secure manner. Most recent distributions of Python come with pip preinstalled. Python 2.7. 9 and Python 3.4 and later versions include pip by default."
   ]
  },
  {
   "cell_type": "markdown",
   "id": "9c0c9a78-96bd-41d5-8639-86ee4fb13285",
   "metadata": {},
   "source": [
    "##  Q11.  Python has a set of built-in functions like as dict() , bool() , bytearray() , bytes() , classmethod()  etc."
   ]
  },
  {
   "cell_type": "markdown",
   "id": "339560ca-43c6-4bac-af5f-6f365b244cbb",
   "metadata": {},
   "source": [
    "##  Q12.  An identifier can have a maximum length of 79 characters in Python."
   ]
  },
  {
   "cell_type": "markdown",
   "id": "d578948a-0346-4f23-ba31-d0a3963dee68",
   "metadata": {},
   "source": [
    "##  Q13.  benefits of using Python,\n",
    "1. Simple to Use and Understand\n",
    "2. Free and Open-Source\n",
    "3. Productivity has Increased\n",
    "4. Interpreted Language\n",
    "5. Extensive library\n",
    "6. Dynamically Typed\n",
    "7. Supportive community"
   ]
  },
  {
   "cell_type": "markdown",
   "id": "11f58cbc-5b9c-434e-9282-c51512bc07ae",
   "metadata": {},
   "source": [
    "##  Q14.  Python uses the dynamic memory allocation which is managed by the Heap data structure. Memory Heap holds the objects and other data structures that will be used in the program. Python memory manager manages the allocation or de-allocation of the heap memory space through the API functions."
   ]
  },
  {
   "cell_type": "markdown",
   "id": "23941e68-9038-4e95-8243-accf848e8fc6",
   "metadata": {},
   "source": [
    "##  Q15.  To install python in windows, one can download python from its official website and then install it.  in environment variable we can set path variable."
   ]
  },
  {
   "cell_type": "markdown",
   "id": "9098594f-aa0a-488f-a1cb-d96e7bf8a13b",
   "metadata": {},
   "source": [
    "##  Q16.  Indentation is important to Python, because it's how one determine scope. Scope is how Python knows what code belongs to what part of the program."
   ]
  },
  {
   "cell_type": "code",
   "execution_count": null,
   "id": "117ca961-8fa6-4efe-8612-9626f985eb0f",
   "metadata": {},
   "outputs": [],
   "source": []
  }
 ],
 "metadata": {
  "kernelspec": {
   "display_name": "Python 3 (ipykernel)",
   "language": "python",
   "name": "python3"
  },
  "language_info": {
   "codemirror_mode": {
    "name": "ipython",
    "version": 3
   },
   "file_extension": ".py",
   "mimetype": "text/x-python",
   "name": "python",
   "nbconvert_exporter": "python",
   "pygments_lexer": "ipython3",
   "version": "3.10.8"
  }
 },
 "nbformat": 4,
 "nbformat_minor": 5
}
