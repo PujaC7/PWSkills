{
 "cells": [
  {
   "cell_type": "markdown",
   "id": "8fe5aede-37af-4ed9-bfe1-0e73a4fd7196",
   "metadata": {},
   "source": [
    "## Q1.  Estimation statistics, or simply estimation, is a data analysis framework that uses a combination of effect sizes, confidence intervals, precision planning, and meta-analysis to plan experiments, analyze data and interpret results.[1] It complements hypothesis testing approaches such as null hypothesis significance testing (NHST), by going beyond the question is an effect present or not, and provides information about how large an effect is.\n",
    "### A point estimate is a single value estimate of a parameter. For instance, a sample mean is a point estimate of a population mean. An interval estimate gives you a range of values where the parameter is expected to lie. A confidence interval is the most common type of interval estimate."
   ]
  },
  {
   "cell_type": "markdown",
   "id": "565a9e6d-026a-465b-aad1-1d30249d7cc9",
   "metadata": {},
   "source": [
    "## Q2.  A population mean is an average of a numerical population variable. Confidence intervals are used to estimate population means.\n",
    "## Estimating Population Mean: A statistic from a sample is used to estimate a parameter of the population.The most likely value for a parameter is the point estimate.Additionally, we can calculate a lower bound and an upper bound for the estimated parameter.The margin of error is the difference between the lower and upper bounds from the point estimate.Together, the lower and upper bounds define a confidence interval."
   ]
  },
  {
   "cell_type": "markdown",
   "id": "08e8d8e8-742c-4ab8-be27-d3784925eff2",
   "metadata": {},
   "source": [
    "## Q3.  A statistical hypothesis test is a method of statistical inference used to decide whether the data at hand sufficiently support a particular hypothesis. Hypothesis testing allows us to make probabilistic statements about population parameters.\n",
    "### The real value of hypothesis testing in business is that it allows professionals to test their theories and assumptions before putting them into action. This essentially allows an organization to verify its analysis is correct before committing resources to implement a broader strategy.\n",
    "### Hypothesis testing allows the researcher to determine whether the data from the sample is statistically significant. Hypothesis testing is one of the most important processes for measuring the validity and reliability of outcomes in any systematic investigation."
   ]
  },
  {
   "cell_type": "markdown",
   "id": "a1a71a2e-ead8-4e3f-909c-41fdc6a724dc",
   "metadata": {},
   "source": [
    "## Q4.  A good hypothesis has these characteristics:\n",
    "1. Predicts cause and effect.\n",
    "2. Is testable.\n",
    "3. Has variables.\n",
    "4. Is written as a statement, not a question.\n",
    "5. Is clear and simple.\n",
    "6. Includes research about your topic before writing your hypothesis."
   ]
  },
  {
   "cell_type": "markdown",
   "id": "19f877e3-b65a-4043-91cf-b1ea1b59d0aa",
   "metadata": {},
   "source": [
    "## Q5.  code"
   ]
  },
  {
   "cell_type": "code",
   "execution_count": 2,
   "id": "40fc9fe3-da17-42b0-9380-2f597e96fcc3",
   "metadata": {},
   "outputs": [
    {
     "name": "stdout",
     "output_type": "stream",
     "text": [
      "Collecting pingouin\n",
      "  Downloading pingouin-0.5.3-py3-none-any.whl (198 kB)\n",
      "\u001b[2K     \u001b[90m━━━━━━━━━━━━━━━━━━━━━━━━━━━━━━━━━━━━━━━\u001b[0m \u001b[32m198.6/198.6 kB\u001b[0m \u001b[31m8.2 MB/s\u001b[0m eta \u001b[36m0:00:00\u001b[0m\n",
      "\u001b[?25hCollecting tabulate\n",
      "  Downloading tabulate-0.9.0-py3-none-any.whl (35 kB)\n",
      "Requirement already satisfied: pandas>=1.0 in /opt/conda/lib/python3.10/site-packages (from pingouin) (1.5.2)\n",
      "Requirement already satisfied: numpy>=1.19 in /opt/conda/lib/python3.10/site-packages (from pingouin) (1.23.5)\n",
      "Requirement already satisfied: seaborn>=0.11 in /opt/conda/lib/python3.10/site-packages (from pingouin) (0.12.1)\n",
      "Requirement already satisfied: scipy>=1.7 in /opt/conda/lib/python3.10/site-packages (from pingouin) (1.9.3)\n",
      "Requirement already satisfied: statsmodels>=0.13 in /opt/conda/lib/python3.10/site-packages (from pingouin) (0.13.5)\n",
      "Collecting pandas-flavor>=0.2.0\n",
      "  Downloading pandas_flavor-0.5.0-py3-none-any.whl (7.1 kB)\n",
      "Requirement already satisfied: scikit-learn in /opt/conda/lib/python3.10/site-packages (from pingouin) (1.2.0)\n",
      "Collecting outdated\n",
      "  Downloading outdated-0.2.2-py2.py3-none-any.whl (7.5 kB)\n",
      "Requirement already satisfied: matplotlib>=3.0.2 in /opt/conda/lib/python3.10/site-packages (from pingouin) (3.6.2)\n",
      "Requirement already satisfied: python-dateutil>=2.7 in /opt/conda/lib/python3.10/site-packages (from matplotlib>=3.0.2->pingouin) (2.8.2)\n",
      "Requirement already satisfied: fonttools>=4.22.0 in /opt/conda/lib/python3.10/site-packages (from matplotlib>=3.0.2->pingouin) (4.38.0)\n",
      "Requirement already satisfied: pillow>=6.2.0 in /opt/conda/lib/python3.10/site-packages (from matplotlib>=3.0.2->pingouin) (9.2.0)\n",
      "Requirement already satisfied: packaging>=20.0 in /opt/conda/lib/python3.10/site-packages (from matplotlib>=3.0.2->pingouin) (22.0)\n",
      "Requirement already satisfied: kiwisolver>=1.0.1 in /opt/conda/lib/python3.10/site-packages (from matplotlib>=3.0.2->pingouin) (1.4.4)\n",
      "Requirement already satisfied: contourpy>=1.0.1 in /opt/conda/lib/python3.10/site-packages (from matplotlib>=3.0.2->pingouin) (1.0.6)\n",
      "Requirement already satisfied: cycler>=0.10 in /opt/conda/lib/python3.10/site-packages (from matplotlib>=3.0.2->pingouin) (0.11.0)\n",
      "Requirement already satisfied: pyparsing>=2.2.1 in /opt/conda/lib/python3.10/site-packages (from matplotlib>=3.0.2->pingouin) (3.0.9)\n",
      "Requirement already satisfied: pytz>=2020.1 in /opt/conda/lib/python3.10/site-packages (from pandas>=1.0->pingouin) (2022.6)\n",
      "Collecting lazy-loader>=0.1\n",
      "  Downloading lazy_loader-0.2-py3-none-any.whl (8.6 kB)\n",
      "Collecting xarray\n",
      "  Downloading xarray-2023.4.2-py3-none-any.whl (979 kB)\n",
      "\u001b[2K     \u001b[90m━━━━━━━━━━━━━━━━━━━━━━━━━━━━━━━━━━━━━━\u001b[0m \u001b[32m979.5/979.5 kB\u001b[0m \u001b[31m55.4 MB/s\u001b[0m eta \u001b[36m0:00:00\u001b[0m\n",
      "\u001b[?25hRequirement already satisfied: patsy>=0.5.2 in /opt/conda/lib/python3.10/site-packages (from statsmodels>=0.13->pingouin) (0.5.3)\n",
      "Requirement already satisfied: requests in /opt/conda/lib/python3.10/site-packages (from outdated->pingouin) (2.28.1)\n",
      "Collecting littleutils\n",
      "  Downloading littleutils-0.2.2.tar.gz (6.6 kB)\n",
      "  Preparing metadata (setup.py) ... \u001b[?25ldone\n",
      "\u001b[?25hRequirement already satisfied: setuptools>=44 in /opt/conda/lib/python3.10/site-packages (from outdated->pingouin) (65.5.1)\n",
      "Requirement already satisfied: joblib>=1.1.1 in /opt/conda/lib/python3.10/site-packages (from scikit-learn->pingouin) (1.2.0)\n",
      "Requirement already satisfied: threadpoolctl>=2.0.0 in /opt/conda/lib/python3.10/site-packages (from scikit-learn->pingouin) (3.1.0)\n",
      "Requirement already satisfied: six in /opt/conda/lib/python3.10/site-packages (from patsy>=0.5.2->statsmodels>=0.13->pingouin) (1.16.0)\n",
      "Requirement already satisfied: certifi>=2017.4.17 in /opt/conda/lib/python3.10/site-packages (from requests->outdated->pingouin) (2022.12.7)\n",
      "Requirement already satisfied: idna<4,>=2.5 in /opt/conda/lib/python3.10/site-packages (from requests->outdated->pingouin) (3.4)\n",
      "Requirement already satisfied: urllib3<1.27,>=1.21.1 in /opt/conda/lib/python3.10/site-packages (from requests->outdated->pingouin) (1.26.13)\n",
      "Requirement already satisfied: charset-normalizer<3,>=2 in /opt/conda/lib/python3.10/site-packages (from requests->outdated->pingouin) (2.1.1)\n",
      "Building wheels for collected packages: littleutils\n",
      "  Building wheel for littleutils (setup.py) ... \u001b[?25ldone\n",
      "\u001b[?25h  Created wheel for littleutils: filename=littleutils-0.2.2-py3-none-any.whl size=7028 sha256=daa435b704c08c3be2dbcaf53317e6ccad6ce0f411532a1d2827c0c9e7cd7b4d\n",
      "  Stored in directory: /home/jovyan/.cache/pip/wheels/e0/3b/9c/d55ff5bc6cfbe70537c4731a22f2ee2462c2e5010b56ac9726\n",
      "Successfully built littleutils\n",
      "Installing collected packages: littleutils, tabulate, lazy-loader, outdated, xarray, pandas-flavor, pingouin\n",
      "Successfully installed lazy-loader-0.2 littleutils-0.2.2 outdated-0.2.2 pandas-flavor-0.5.0 pingouin-0.5.3 tabulate-0.9.0 xarray-2023.4.2\n",
      "Note: you may need to restart the kernel to use updated packages.\n"
     ]
    }
   ],
   "source": [
    "pip install pingouin"
   ]
  },
  {
   "cell_type": "code",
   "execution_count": 3,
   "id": "4340d416-12ab-4eb9-9fa2-3d4a146b8b54",
   "metadata": {},
   "outputs": [
    {
     "name": "stdout",
     "output_type": "stream",
     "text": [
      "               T        dof alternative     p-val           CI95%   cohen-d  \\\n",
      "T-test  0.653148  14.389477   two-sided  0.523961  [-6.38, 11.99]  0.292097   \n",
      "\n",
      "         BF10     power  \n",
      "T-test  0.462  0.094912  \n"
     ]
    }
   ],
   "source": [
    "from statsmodels.stats.weightstats import ttest_ind\n",
    "import numpy as np\n",
    "import pingouin as pg\n",
    " \n",
    "# Creating data groups\n",
    "data_group1 = np.array([160, 150, 160, 156.12, 163.24,\n",
    "                        160.56, 168.56, 174.12,\n",
    "                        167.123, 165.12])\n",
    "data_group2 = np.array([157.97, 146, 140.2, 170.15,\n",
    "                        167.34, 176.123, 162.35, 159.123,\n",
    "                        169.43, 148.123])\n",
    " \n",
    "# Conducting two-sample ttest\n",
    "result = pg.ttest(data_group1,\n",
    "                  data_group2,\n",
    "                  correction=True)\n",
    " \n",
    "# Print the result\n",
    "print(result)"
   ]
  },
  {
   "cell_type": "markdown",
   "id": "aeebeca3-b561-4288-a3e7-f8c3f7e0998c",
   "metadata": {},
   "source": [
    "## Q6.  Null and alternative hypotheses are used in statistical hypothesis testing. The null hypothesis of a test always predicts no effect or no relationship between variables, while the alternative hypothesis states your research prediction of an effect or relationship\n",
    "### example: Null Hypothesis: The correlation between the daily stock price change ($) and the daily stock purchases by non-management employees ($) = 0. Alternative Hypothesis: The correlation between the daily stock price change ($) and the daily stock purchases by non-management employees ($) > 0."
   ]
  },
  {
   "cell_type": "markdown",
   "id": "42fe14da-19fc-4811-91be-5702ab817a15",
   "metadata": {},
   "source": [
    "## Q7.  Step 1: State your null and alternate hypothesis. ...\n",
    "2.  Collect data. ...\n",
    "3. Perform a statistical test. ...\n",
    "4.  Decide whether to reject or fail to reject your null hypothesis. ...\n",
    "5. Present your findings."
   ]
  },
  {
   "cell_type": "markdown",
   "id": "f6113e27-72d0-4fe7-b535-690f0d59b3a6",
   "metadata": {},
   "source": [
    "## Q8.  The p value is a number, calculated from a statistical test, that describes how likely you are to have found a particular set of observations if the null hypothesis were true. P values are used in hypothesis testing to help decide whether to reject the null hypothesis."
   ]
  },
  {
   "cell_type": "markdown",
   "id": "676c5bfd-6ade-402e-8ad9-129f242158d0",
   "metadata": {},
   "source": [
    "## Q9.  code"
   ]
  },
  {
   "cell_type": "code",
   "execution_count": 7,
   "id": "c929f131-1201-4818-8a7c-23568ec05f19",
   "metadata": {},
   "outputs": [
    {
     "name": "stdout",
     "output_type": "stream",
     "text": [
      "RV : \n",
      " <scipy.stats._distn_infrastructure.rv_continuous_frozen object at 0x7fa4d4600700>\n",
      "Distribution : \n",
      " [0.         0.06122449 0.12244898 0.18367347 0.24489796 0.30612245\n",
      " 0.36734694 0.42857143 0.48979592 0.55102041 0.6122449  0.67346939\n",
      " 0.73469388 0.79591837 0.85714286 0.91836735 0.97959184 1.04081633\n",
      " 1.10204082 1.16326531 1.2244898  1.28571429 1.34693878 1.40816327\n",
      " 1.46938776 1.53061224 1.59183673 1.65306122 1.71428571 1.7755102\n",
      " 1.83673469 1.89795918 1.95918367 2.02040816 2.08163265 2.14285714\n",
      " 2.20408163 2.26530612 2.32653061 2.3877551  2.44897959 2.51020408\n",
      " 2.57142857 2.63265306 2.69387755 2.75510204 2.81632653 2.87755102\n",
      " 2.93877551 3.        ]\n"
     ]
    },
    {
     "data": {
      "image/png": "[encoded data removed]",
      "text/plain": [
       "<Figure size 640x480 with 1 Axes>"
      ]
     },
     "metadata": {},
     "output_type": "display_data"
    }
   ],
   "source": [
    "from scipy.stats import t \n",
    "    \n",
    "numargs = t .numargs \n",
    "a, b = 4.32, 3.18\n",
    "rv = t (a, b) \n",
    "    \n",
    "print (\"RV : \\n\", rv) \n",
    "\n",
    "\n",
    "import numpy as np \n",
    "import matplotlib.pyplot as plt \n",
    "     \n",
    "distribution = np.linspace(0, np.minimum(rv.dist.b, 3)) \n",
    "print(\"Distribution : \\n\", distribution) \n",
    "     \n",
    "plot = plt.plot(distribution, rv.pdf(distribution)) "
   ]
  },
  {
   "cell_type": "markdown",
   "id": "e016a3f4-7865-4ca7-bf80-907c437c2df4",
   "metadata": {},
   "source": [
    "## Q10.  code"
   ]
  },
  {
   "cell_type": "code",
   "execution_count": 8,
   "id": "8ef8ec9c-ee32-4434-a7fb-ece5dbfb2699",
   "metadata": {},
   "outputs": [
    {
     "data": {
      "text/plain": [
       "Ttest_indResult(statistic=-0.6337397070250238, pvalue=0.5300471010405257)"
      ]
     },
     "execution_count": 8,
     "metadata": {},
     "output_type": "execute_result"
    }
   ],
   "source": [
    "import scipy.stats as stats\n",
    " \n",
    "# Creating data groups\n",
    "data_group1 = np.array([14, 15, 15, 16, 13, 8, 14,\n",
    "                        17, 16, 14, 19, 20, 21, 15,\n",
    "                        15, 16, 16, 13, 14, 12])\n",
    " \n",
    "data_group2 = np.array([15, 17, 14, 17, 14, 8, 12,\n",
    "                        19, 19, 14, 17, 22, 24, 16,\n",
    "                        13, 16, 13, 18, 15, 13])\n",
    " \n",
    "# Perform the two sample t-test with equal variances\n",
    "stats.ttest_ind(a=data_group1, b=data_group2, equal_var=True)"
   ]
  },
  {
   "cell_type": "markdown",
   "id": "a10e1e46-6bd2-4cf6-be13-83888f8f9a0c",
   "metadata": {},
   "source": [
    "## Q11.  The t-distribution, also known as the Student's t-distribution, is a type of probability distribution that is similar to the normal distribution with its bell shape but has heavier tails. It is used for estimating population parameters for small sample sizes or unknown variances.\n",
    "### one must use the t-distribution table when working problems when the population standard deviation (σ) is not known and the sample size is small (n<30). General Correct Rule: If σ is not known, then using t-distribution is correct. If σ is known, then using the normal distribution is correct."
   ]
  },
  {
   "cell_type": "markdown",
   "id": "7f887246-2909-43a6-a5af-199156bd1207",
   "metadata": {},
   "source": [
    "## Q12.  In statistics, the t-statistic is the ratio of the departure of the estimated value of a parameter from its hypothesized value to its standard error. It is used in hypothesis testing via Student's t-test. The t-statistic is used in a t-test to determine whether to support or reject the null hypothesis. It is very similar to the z-score but with the difference that t-statistic is used when the sample size is small or the population standard deviation is unknown\n",
    "### one can calculate a t-value using a common t-test with the formula: t = (X‾ - μ0) / (s / √n), where X‾ is the sample mean, μ0 represents the population mean, s is the standard deviation of the sample and n stands for the size of the sample."
   ]
  },
  {
   "cell_type": "markdown",
   "id": "4b1cab06-b1ec-4774-bb27-9002dedb0086",
   "metadata": {},
   "source": [
    "## Q13.  formula is Confidence interval (CI) = ‾X ± Z(S ÷ √n) , where ‾X represents the sample mean, Z represents the Z-value you get from the normal standard distribution, S is the population standard deviation and n represents the sample size \n",
    "### CI = ( 500 - 1.96(50/sqrt(50)) , 500 + 1.96(50/sqrt(50)) )  = ( 486.14 , 513.86 ) , this is the required answer"
   ]
  },
  {
   "cell_type": "markdown",
   "id": "f89853a2-c016-4e09-b462-37b2867b1f50",
   "metadata": {},
   "source": [
    "## Q14.  H0 (Null Hypothesis) : μ = 10\n",
    "H1 (Alternate Hypothesis): μ ≠ 10 (Not equal to means either μ > 10 or μ < 10 Hence it will be validated with two tailed test )\n",
    "\n",
    "LoS (α) = 5%\n",
    "\n",
    "n = 100 (Sample size)\n",
    "xbar x̄ = 8 (Sample mean)\n",
    "s = 3 (sample Standard deviation)\n",
    "\n",
    "n > = 30 hence will go with z-test\n",
    "\n",
    "Step 1: Calculate z using z-test formula as below:\n",
    "\n",
    "z = (x̄  - μ)/ (σ/√n)\n",
    "z = (8 - 10) / (3/√100) (in question population standard deviation is not given, in that case take sample standard deviation)\n",
    "z = -6.67\n",
    "\n",
    "step 2:\n",
    "\n",
    "calculate z critical value for α = 5% from z-table.\n",
    "so from z-table Z critical value = -1.96, +1.96 (will get two values due two tailed test)\n",
    "\n",
    "step 3:\n",
    "\n",
    "check if calculated z value is in between z critical value then accept the null hypothesis if z calculated is outside z critical then reject the null hypothesis.\n",
    "\n",
    "Here, z calculated value = -6.67 which is much lesser than the left side z critical value -1.96, hence will reject the null hypothesis.\n",
    "\n",
    "Conclusion:\n",
    "with given data it is significantly proven that population mean is not equal to 10."
   ]
  },
  {
   "cell_type": "markdown",
   "id": "478eb0fa-6077-4795-9413-e488ff2fe386",
   "metadata": {},
   "source": [
    "## Q15. H0 (Null Hypothesis) : μ = 5\n",
    "H1 (Alternate Hypothesis): μ ≠ 5 (Not equal to means either μ > 5 or μ < 5 Hence it will be validated with two tailed test )\n",
    "\n",
    "LoS (α) = 1%\n",
    "\n",
    "n = 25 (Sample size)\n",
    "xbar x̄ = 4.8 (Sample mean)\n",
    "s = 0.5 (population Standard deviation)\n",
    "\n",
    "n < 30 hence will go with t-test\n",
    "\n",
    "Step 1: Calculate z using t-test formula as below:\n",
    "\n",
    "z = (x̄  - μ)/ (σ/√n)\n",
    "z = (4.8 - 5) / (0.5/√25) (in question population standard deviation is not given, in that case take sample standard deviation)\n",
    "z = -2\n",
    "\n",
    "step 2:\n",
    "\n",
    "calculate t critical value for α = 1% from t-table and degrees of freedom 25-1 = 24\n",
    "so from t-table t critical value = -2.064, +2.064 (will get two values due two tailed test)\n",
    "\n",
    "step 3:\n",
    "\n",
    "check if calculated t value is in between t critical value then accept the null hypothesis if t calculated is outside t critical then reject the null hypothesis.\n",
    "\n",
    "Here, t calculated value = -2 which is greater than the left side t critical value -2.064, hence will accept the null hypothesis.\n"
   ]
  },
  {
   "cell_type": "markdown",
   "id": "e894a9a9-80dc-4e5d-96cc-f048295d7a09",
   "metadata": {},
   "source": [
    "## Q16.  H0 (Null Hypothesis) : No difference between two groups of students in terms of study material. (μ2 = μ2)\n",
    "H1 (Alternate Hypothesis) : groups are different  (μ2 ≠ μ2) => two tailed test\n",
    "\n",
    "x1bar = 80 (group A sample mean)\n",
    "x2bar = 75 (group B sample mean)\n",
    "LoS (α) = 1%\n",
    "\n",
    "In question, we have two sample mean. Hence this can be solved with two mean problem.\n",
    "\n",
    "Next both samples size n1 = 30 and n2 = 40 are greater than 30 hence will use z-test.\n",
    "\n",
    "Step 1:\n",
    "calculate z value from the two mean z test formula as below:\n",
    "\n",
    "z = [(x1bar - x2bar) - (μ2 - μ2)]/√(s12/n1 + s22/n2)\n",
    "\n",
    "μ2 - μ2 = 0 assuming null hypothesis is true\n",
    "\n",
    "z = (80-75)/√(10/30 + 8/40)\n",
    "z = 6.84\n",
    "\n",
    "step 2:\n",
    "\n",
    "calculate z critical value for α = 1% from z-table.\n",
    "so from z-table Z critical value = -2.575, +2.575 (will get two values due two tailed test)\n",
    "\n",
    "step 3:\n",
    "\n",
    "check if calculated z value is in between z critical value then accept the null hypothesis if z calculated is outside z critical then reject the null hypothesis.\n",
    "\n",
    "Here, z calculated value is not in between the z critical values.\n",
    "Hence will reject the null hypothesis.\n",
    "Conclusion:\n",
    "hence will accept the alternative hypothesis."
   ]
  },
  {
   "cell_type": "markdown",
   "id": "d66a249a-a952-4895-8ae9-9fb35ea33cc5",
   "metadata": {},
   "source": [
    "## Q17.  ormula is Confidence interval (CI) = ‾X ± Z(S ÷ √n) , where ‾X represents the sample mean, Z represents the Z-value you get from the normal standard distribution, S is the population standard deviation and n represents the sample size \n",
    "### CI = ( 4 - 2.575(1.5/sqrt(50)) , 4 + 2.575(1.5/sqrt(50)) )  = ( 3.55, 4.55 ) , this is the required answer"
   ]
  }
 ],
 "metadata": {
  "kernelspec": {
   "display_name": "Python 3 (ipykernel)",
   "language": "python",
   "name": "python3"
  },
  "language_info": {
   "codemirror_mode": {
    "name": "ipython",
    "version": 3
   },
   "file_extension": ".py",
   "mimetype": "text/x-python",
   "name": "python",
   "nbconvert_exporter": "python",
   "pygments_lexer": "ipython3",
   "version": "3.10.8"
  }
 },
 "nbformat": 4,
 "nbformat_minor": 5
}
