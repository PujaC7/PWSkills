{
 "cells": [
  {
   "cell_type": "markdown",
   "id": "c595e99c-b882-4af6-a7a9-5a8be6125fce",
   "metadata": {
    "tags": []
   },
   "source": [
    "## Q1.  open() function is used to open a file\n",
    "# the different modes of opening a file are,\n",
    "# r mode to Open a file for reading\n",
    "# w mode to Open a file for writing. Creates a new file if it does not exist or truncates the file if it exists.\n",
    "# x mode to Open a file for exclusive creation. If the file already exists, the operation fails.\n"
   ]
  },
  {
   "cell_type": "code",
   "execution_count": null,
   "id": "e5ec2b84-6d3f-4a7e-8442-eeb0b54bdbbb",
   "metadata": {},
   "outputs": [],
   "source": []
  },
  {
   "cell_type": "markdown",
   "id": "cd226cf4-2aef-4a14-a9f4-e5242f303f05",
   "metadata": {},
   "source": [
    "##  Q2.  The close() function is used for closes an open file. one should always close their files, due to buffering, changes made to a file may not show until we close the file. that is why it is important to close a file"
   ]
  },
  {
   "cell_type": "markdown",
   "id": "d558f1a9-1313-41ab-9a75-bf51dfbe7b29",
   "metadata": {},
   "source": [
    "## Q3.  code"
   ]
  },
  {
   "cell_type": "code",
   "execution_count": 5,
   "id": "c9bc1329-23de-4347-a377-a8cd3855d3f2",
   "metadata": {},
   "outputs": [
    {
     "name": "stdout",
     "output_type": "stream",
     "text": [
      "I want to become a Data Scientist\n"
     ]
    }
   ],
   "source": [
    "file1 = open(\"myfile1.txt\",\"a\")\n",
    "L = [\"I want to become a Data Scientist\"]\n",
    "\n",
    "file1.writelines(L)\n",
    "file1.close() \n",
    "\n",
    "file1 = open(\"myfile1.txt\",\"r\")\n",
    "\n",
    "print(file1.read())"
   ]
  },
  {
   "cell_type": "markdown",
   "id": "9da10fdb-7974-40ff-a1c9-57aba6372d25",
   "metadata": {},
   "source": [
    "##  Q4.  read() function in Python, used to read the content of a file. This function is used to read the whole content or first few bytes of content from the file at once."
   ]
  },
  {
   "cell_type": "code",
   "execution_count": 7,
   "id": "6093736f-8de9-4b5c-a6dd-600fde6529d4",
   "metadata": {},
   "outputs": [
    {
     "name": "stdout",
     "output_type": "stream",
     "text": [
      "my name is puja\n"
     ]
    }
   ],
   "source": [
    "# example\n",
    "file1 = open(\"myfile2.txt\",\"a\")\n",
    "L = [\"my name is puja\"]\n",
    "\n",
    "file1.writelines(L)\n",
    "file1.close() \n",
    "\n",
    "file1 = open(\"myfile2.txt\",\"r\")\n",
    "\n",
    "print(file1.read())"
   ]
  },
  {
   "cell_type": "markdown",
   "id": "2e7956be-f4c0-4e86-82ee-2733405816bb",
   "metadata": {},
   "source": [
    "## The readline() method returns one line from the file. You can also specified how many bytes from the line to return, by using the size parameter."
   ]
  },
  {
   "cell_type": "code",
   "execution_count": 8,
   "id": "ea2213aa-397d-46a7-83bf-3612abcedd6b",
   "metadata": {},
   "outputs": [
    {
     "name": "stdout",
     "output_type": "stream",
     "text": [
      "my name\n"
     ]
    }
   ],
   "source": [
    "# example\n",
    "file1 = open(\"myfile2.txt\",\"a\")\n",
    "L = [\"my name is puja\"]\n",
    "\n",
    "file1.writelines(L)\n",
    "file1.close() \n",
    "\n",
    "file1 = open(\"myfile2.txt\",\"r\")\n",
    "\n",
    "print(file1.readline(7))"
   ]
  },
  {
   "cell_type": "markdown",
   "id": "b89d23e1-0152-40d9-8c20-3fbb4237a9d0",
   "metadata": {},
   "source": [
    "## The readlines() method returns a list containing each line in the file as a list item. Use the hint parameter to limit the number of lines returned. If the total number of bytes returned exceeds the specified number, no more lines are returned."
   ]
  },
  {
   "cell_type": "code",
   "execution_count": 10,
   "id": "b78b3412-39da-4351-beb9-dcb9bd93a4a2",
   "metadata": {},
   "outputs": [
    {
     "name": "stdout",
     "output_type": "stream",
     "text": [
      "['my name is puja']\n"
     ]
    }
   ],
   "source": [
    "# example\n",
    "file1 = open(\"myfile3.txt\",\"a\")\n",
    "L = [\"my name is puja\"]\n",
    "\n",
    "file1.writelines(L)\n",
    "file1.close() \n",
    "\n",
    "file1 = open(\"myfile3.txt\",\"r\")\n",
    "\n",
    "print(file1.readlines())"
   ]
  },
  {
   "cell_type": "markdown",
   "id": "8f9110cb-5221-416e-9a18-9011d61138d6",
   "metadata": {},
   "source": [
    "##  Q5. The with statement works with the open() function to open a file. Unlike open() where we have to close the file with the close() method, the with statement closes the file for we without we telling it to.\n",
    "# The with statement works with the open() function to open a file. Unlike open() where you have to close the file with the close() method, the with statement closes the file for you without you telling it to. This is because the with statement calls 2 built-in methods behind the scene – __enter()__ and __exit()__ ."
   ]
  },
  {
   "cell_type": "markdown",
   "id": "5e6c96ef-dd52-4757-900f-74d60fdf349b",
   "metadata": {},
   "source": [
    "## Q6.  The write() method accepts a string as an argument and writes this string to the text file. Whereas, the writelines() method accepts an iterable i.e. a string or the list of strings as an argument and writes these strings to the text file.\n"
   ]
  },
  {
   "cell_type": "code",
   "execution_count": 13,
   "id": "ecc3cc29-5709-44eb-aee5-15e8ddaf39f8",
   "metadata": {},
   "outputs": [
    {
     "name": "stdout",
     "output_type": "stream",
     "text": [
      "['my name is pujamy name is puja']\n"
     ]
    }
   ],
   "source": [
    "# example\n",
    "file1 = open(\"myfile4.txt\",\"a\")\n",
    "file1.write(\"my name is puja\")\n",
    "\n",
    "file1.writelines(L)\n",
    "file1.close() \n",
    "\n",
    "file1 = open(\"myfile4.txt\",\"r\")\n",
    "\n",
    "print(file1.readlines())"
   ]
  },
  {
   "cell_type": "code",
   "execution_count": null,
   "id": "a60b38d5-0f6a-4465-ad4e-d8c787f7a2c9",
   "metadata": {},
   "outputs": [],
   "source": []
  }
 ],
 "metadata": {
  "kernelspec": {
   "display_name": "Python 3 (ipykernel)",
   "language": "python",
   "name": "python3"
  },
  "language_info": {
   "codemirror_mode": {
    "name": "ipython",
    "version": 3
   },
   "file_extension": ".py",
   "mimetype": "text/x-python",
   "name": "python",
   "nbconvert_exporter": "python",
   "pygments_lexer": "ipython3",
   "version": "3.10.8"
  }
 },
 "nbformat": 4,
 "nbformat_minor": 5
}
