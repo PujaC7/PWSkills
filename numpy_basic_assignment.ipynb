{
 "cells": [
  {
   "cell_type": "code",
   "execution_count": 2,
   "id": "959ddf1f-6f12-4489-9a4e-d71a480435ca",
   "metadata": {},
   "outputs": [
    {
     "data": {
      "text/plain": [
       "array(['1', '2', '3', '4', '5'], dtype='<U1')"
      ]
     },
     "execution_count": 2,
     "metadata": {},
     "output_type": "execute_result"
    }
   ],
   "source": [
    "import numpy as np\n",
    "list_ = [ '1' , '2' , '3' , '4' , '5' ]\n",
    "array_list = np.array(object = list_)\n",
    "array_list"
   ]
  },
  {
   "cell_type": "markdown",
   "id": "b8dec19a-4966-4984-9b57-54aa8950eabf",
   "metadata": {},
   "source": [
    "## Q1.  yes, there is a difference in the data type of variables list_ and array_list"
   ]
  },
  {
   "cell_type": "code",
   "execution_count": 6,
   "id": "a991aca9-33ee-4e1c-b0aa-277bad0e0115",
   "metadata": {},
   "outputs": [
    {
     "data": {
      "text/plain": [
       "list"
      ]
     },
     "execution_count": 6,
     "metadata": {},
     "output_type": "execute_result"
    }
   ],
   "source": [
    "type(list_)"
   ]
  },
  {
   "cell_type": "code",
   "execution_count": 4,
   "id": "1b17245d-9337-473a-994c-c2bc263eb352",
   "metadata": {},
   "outputs": [
    {
     "data": {
      "text/plain": [
       "numpy.ndarray"
      ]
     },
     "execution_count": 4,
     "metadata": {},
     "output_type": "execute_result"
    }
   ],
   "source": [
    "type(array_list)"
   ]
  },
  {
   "cell_type": "markdown",
   "id": "e90ffb1c-8b13-4899-860a-c6e23fb4956b",
   "metadata": {},
   "source": [
    "## Q2.  code"
   ]
  },
  {
   "cell_type": "code",
   "execution_count": 9,
   "id": "0c6bcfcb-501f-4342-9bc9-f7ebfbcfe4d2",
   "metadata": {},
   "outputs": [
    {
     "name": "stdout",
     "output_type": "stream",
     "text": [
      "Array: ['1', '2', '3', '4', '5']\n",
      "Datatype: <class 'list'>\n",
      "Array: ['1' '2' '3' '4' '5']\n",
      "Datatype: <class 'numpy.ndarray'>\n"
     ]
    }
   ],
   "source": [
    "import numpy as np\n",
    "\n",
    "print('Array:', list_)\n",
    " \n",
    "print('Datatype:', type(list_))\n",
    "\n",
    "print('Array:', array_list)\n",
    " \n",
    "print('Datatype:', type(array_list))"
   ]
  },
  {
   "cell_type": "markdown",
   "id": "f53e48b0-a61a-493e-bd79-802f11462070",
   "metadata": {},
   "source": [
    "## Q3.  code"
   ]
  },
  {
   "cell_type": "code",
   "execution_count": 10,
   "id": "95922acb-4f99-42ae-bc42-c9d09a68feca",
   "metadata": {},
   "outputs": [
    {
     "data": {
      "text/plain": [
       "array([1, 2, 3, 4, 5])"
      ]
     },
     "execution_count": 10,
     "metadata": {},
     "output_type": "execute_result"
    }
   ],
   "source": [
    "new_array_list = np.array(object = list_, dtype = int)\n",
    "new_array_list"
   ]
  },
  {
   "cell_type": "code",
   "execution_count": 11,
   "id": "b2749817-0766-4b82-8b5a-b9ffa1a1a558",
   "metadata": {},
   "outputs": [
    {
     "data": {
      "text/plain": [
       "numpy.ndarray"
      ]
     },
     "execution_count": 11,
     "metadata": {},
     "output_type": "execute_result"
    }
   ],
   "source": [
    "type(new_array_list)"
   ]
  },
  {
   "cell_type": "markdown",
   "id": "e36bfe40-3c2c-4f77-bd9e-464f4a8f66a7",
   "metadata": {},
   "source": [
    "### there is no difference in the data type of the elements present in both the variables, list_ and new_array_list"
   ]
  },
  {
   "cell_type": "markdown",
   "id": "581dfe0a-e8bb-4e97-88cf-a9593864379e",
   "metadata": {},
   "source": [
    "## Q4.  code"
   ]
  },
  {
   "cell_type": "code",
   "execution_count": 1,
   "id": "669ae318-9928-461a-90c4-2c67487756e7",
   "metadata": {},
   "outputs": [],
   "source": [
    "import numpy as np\n",
    "num_list = [ [ 1 , 2 , 3 ] , [ 4 , 5 , 6 ] ]\n",
    "num_array = np.array(object = num_list)"
   ]
  },
  {
   "cell_type": "code",
   "execution_count": 2,
   "id": "7c4772c8-5334-4d30-a20e-b1461f4bceeb",
   "metadata": {},
   "outputs": [
    {
     "data": {
      "text/plain": [
       "array([[1, 2, 3],\n",
       "       [4, 5, 6]])"
      ]
     },
     "execution_count": 2,
     "metadata": {},
     "output_type": "execute_result"
    }
   ],
   "source": [
    "num_array"
   ]
  },
  {
   "cell_type": "code",
   "execution_count": 5,
   "id": "af6163fc-255c-4e44-bc8d-234b89d981e9",
   "metadata": {},
   "outputs": [
    {
     "data": {
      "text/plain": [
       "(2, 3)"
      ]
     },
     "execution_count": 5,
     "metadata": {},
     "output_type": "execute_result"
    }
   ],
   "source": [
    "np.shape(num_array)"
   ]
  },
  {
   "cell_type": "code",
   "execution_count": 6,
   "id": "aac8e627-9ed2-403d-a3c8-22f5b77f4d88",
   "metadata": {},
   "outputs": [
    {
     "data": {
      "text/plain": [
       "6"
      ]
     },
     "execution_count": 6,
     "metadata": {},
     "output_type": "execute_result"
    }
   ],
   "source": [
    "np.size(num_array)"
   ]
  },
  {
   "cell_type": "markdown",
   "id": "2fa87a18-59c9-493e-b9af-ec45ea237607",
   "metadata": {},
   "source": [
    "## Q5.  code"
   ]
  },
  {
   "cell_type": "code",
   "execution_count": 10,
   "id": "32f4d297-a26f-42d5-8b3f-204cf0380f6e",
   "metadata": {},
   "outputs": [
    {
     "data": {
      "text/plain": [
       "array([[0, 0, 0],\n",
       "       [0, 0, 0],\n",
       "       [0, 0, 0]])"
      ]
     },
     "execution_count": 10,
     "metadata": {},
     "output_type": "execute_result"
    }
   ],
   "source": [
    "import numpy as np\n",
    "np.zeros((3,3), dtype = int)"
   ]
  },
  {
   "cell_type": "markdown",
   "id": "4f237b68-e405-4f56-8e2e-fe97222740d4",
   "metadata": {},
   "source": [
    "## Q6.  code"
   ]
  },
  {
   "cell_type": "code",
   "execution_count": 17,
   "id": "8a68f798-d060-40bd-9f93-6ea5db40383c",
   "metadata": {},
   "outputs": [
    {
     "name": "stdin",
     "output_type": "stream",
     "text": [
      "Enter the dimension of identitiy matrix:  5\n"
     ]
    },
    {
     "name": "stdout",
     "output_type": "stream",
     "text": [
      "[[1 0 0 0 0]\n",
      " [0 1 0 0 0]\n",
      " [0 0 1 0 0]\n",
      " [0 0 0 1 0]\n",
      " [0 0 0 0 1]]\n"
     ]
    }
   ],
   "source": [
    "import numpy as np\n",
    "\n",
    "dimension = int(input(\"Enter the dimension of identitiy matrix: \"))\n",
    "identity_matrix = np.identity(dimension , dtype='int')\n",
    "print(identity_matrix)"
   ]
  },
  {
   "cell_type": "code",
   "execution_count": null,
   "id": "11ca918c-7be0-472f-8da2-e5e83512c8a6",
   "metadata": {},
   "outputs": [],
   "source": []
  }
 ],
 "metadata": {
  "kernelspec": {
   "display_name": "Python 3 (ipykernel)",
   "language": "python",
   "name": "python3"
  },
  "language_info": {
   "codemirror_mode": {
    "name": "ipython",
    "version": 3
   },
   "file_extension": ".py",
   "mimetype": "text/x-python",
   "name": "python",
   "nbconvert_exporter": "python",
   "pygments_lexer": "ipython3",
   "version": "3.10.8"
  }
 },
 "nbformat": 4,
 "nbformat_minor": 5
}
