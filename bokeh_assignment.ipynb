{
 "cells": [
  {
   "cell_type": "markdown",
   "id": "90ad06b4-5845-4d71-b581-7433d6b446e4",
   "metadata": {},
   "source": [
    "## Q1.  one can create a Bokeh plot using Python code\n"
   ]
  },
  {
   "cell_type": "code",
   "execution_count": 6,
   "id": "f9a71610-8326-4299-b83d-365bea7a1d17",
   "metadata": {},
   "outputs": [],
   "source": [
    "# import modules\n",
    "from bokeh.plotting import figure, output_notebook, show\n",
    "  \n",
    "# output to notebook\n",
    "output_notebook()\n",
    "  \n",
    "# create figure\n",
    "p = figure(plot_width = 400, plot_height = 400)\n",
    "  \n",
    "# add a circle renderer with\n",
    "# size, color and alpha\n",
    "p.circle([1, 2, 3, 4, 5], [4, 7, 1, 6, 3], \n",
    "         size = 10, color = \"navy\", alpha = 0.5)\n",
    "  \n",
    "# show the results\n",
    "show(p) "
   ]
  },
  {
   "cell_type": "markdown",
   "id": "4477a3ee-fc8b-40f1-9e0c-0fc1d40c79c5",
   "metadata": {},
   "source": [
    "## Q2.  Plotting with glyphs\n",
    "### Usually, a plot consists of geometric shapes either in the form of a line, circle, etc. So, Glyphs are nothing but visual shapes that are drawn to represent the data such as circles, squares, lines, rectangles, etc.  \n",
    "\n",
    "### Creating a basic line chart:\n",
    "#### The line chart displays the visualization of x and y-axis points movements in the form of a line. To draw a line glyph to the figure, we use the line() method of the figure object.\n",
    "### example"
   ]
  },
  {
   "cell_type": "code",
   "execution_count": null,
   "id": "84d23d45-4266-436c-bb5a-2e87e26b3991",
   "metadata": {},
   "outputs": [],
   "source": [
    "# import the libraries\n",
    "from bokeh.plotting import figure, show, output_file\n",
    " \n",
    "# prepare some data\n",
    "a = [1, 2, 3, 4, 5, 6, 7, 8, 9, 10]\n",
    "b = [2, 4, 6, 8, 10, 12, 14, 16, 18, 20]\n",
    " \n",
    "# create a plot using figure\n",
    "my_plot = figure(title=\"simple line chart\", x_axis_label=\"X-Axis\",\n",
    "                 y_axis_label=\"Y-Axis\")\n",
    " \n",
    "# adding line graph\n",
    "my_plot.line(a, b, line_width=3)\n",
    " \n",
    "# display output in file\n",
    "output_file(\"line.html\")\n",
    " \n",
    "# show the result\n",
    "show(my_plot)"
   ]
  },
  {
   "cell_type": "markdown",
   "id": "c2374419-73ff-4c8c-8e0a-e8fea3ebf746",
   "metadata": {},
   "source": [
    "## Q3.  The legend of a graph reflects the data displayed in the graph’s Y-axis. In Bokeh, the legends correspond to glyphs. This article how Legends appearing in the bokeh plot can be customized.We can customize the legend with its several attributes such as location, color, line-color, font-size, font-style line width. We can modify it using the legend attribute with the required property name. \n"
   ]
  },
  {
   "cell_type": "markdown",
   "id": "968c9f48-fbd6-40ea-a4cc-38207bff04bd",
   "metadata": {},
   "source": [
    "## Q4.  Bokeh server makes it easy to create interactive web applications that connect front-end UI events to running Python code. Bokeh creates high-level Python models, such as plots, ranges, axes, and glyphs, and then converts these objects to JSON to pass them to its client library, BokehJS."
   ]
  },
  {
   "cell_type": "markdown",
   "id": "5eacb0a4-60ed-4618-ac69-0c4b843f5a7b",
   "metadata": {},
   "source": [
    "## Q5.  Standalone documents\n",
    "### These documents don’t require a Bokeh server to work. They may have many tools and interactions such as custom JavaScript callbacks but are otherwise nothing but HTML, CSS, and JavaScript. These documents can be embedded into other HTML pages as one large document or as a set of sub-components with individual templating.\n",
    "\n",
    "## Bokeh applications\n",
    "### These applications require a Bokeh server to work. Having a Bokeh server lets you connect events and tools to real-time Python callbacks that execute on the server. For more information about creating and running Bokeh apps, see Running a Bokeh server.\n",
    "\n",
    "## Overview\n",
    "1. Use the django-admin tool to generate a project folder, the basic file templates, and manage.py, which serves as your project management script.\n",
    "2. Use manage.py to create one or more applications. ...\n",
    "3. Register the new applications to include them in the project.\n",
    "4. Hook up the url/path mapper for each application."
   ]
  },
  {
   "cell_type": "code",
   "execution_count": null,
   "id": "bc4f6ea7-e0d7-44f0-99b2-a3d8f0145292",
   "metadata": {},
   "outputs": [],
   "source": []
  }
 ],
 "metadata": {
  "kernelspec": {
   "display_name": "Python 3 (ipykernel)",
   "language": "python",
   "name": "python3"
  },
  "language_info": {
   "codemirror_mode": {
    "name": "ipython",
    "version": 3
   },
   "file_extension": ".py",
   "mimetype": "text/x-python",
   "name": "python",
   "nbconvert_exporter": "python",
   "pygments_lexer": "ipython3",
   "version": "3.10.8"
  }
 },
 "nbformat": 4,
 "nbformat_minor": 5
}
