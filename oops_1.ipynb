{
 "cells": [
  {
   "cell_type": "markdown",
   "id": "845f745d-07d7-419c-b128-10ecc20b886a",
   "metadata": {},
   "source": [
    "##  Q1. with respect to object oriented programming, Classes are user-defined data types that act as the blueprint for individual objects, attributes and methods. Objects are instances of a class created with specifically defined data. "
   ]
  },
  {
   "cell_type": "markdown",
   "id": "6c0256d1-6e59-4722-92cf-7fd01c531e17",
   "metadata": {},
   "source": [
    "For example: in real life, a car is an object. The car has attributes, such as weight and color, and methods, such as drive and brake. A Class is like an object constructor, or a \"blueprint\" for creating objects.\n",
    "\n"
   ]
  },
  {
   "cell_type": "markdown",
   "id": "b25c3bf2-c054-4082-ad72-26440d5030fd",
   "metadata": {},
   "source": [
    "## Q2.  four pillars of oops are Encapsulation , Inheritance , Polymorphism , Abstraction"
   ]
  },
  {
   "cell_type": "markdown",
   "id": "22eba3f7-4904-4014-be87-0819ca427bca",
   "metadata": {},
   "source": [
    "##  Q3.  the  __init__ Constructor python are used to initializing the object’s state. The task of constructors is to initialize(assign values) to the data members of the class when an object of the class is created. Like methods, a constructor also contains a collection of statements(i.e. instructions) that are executed at the time of Object creation. It is run as soon as an object of a class is instantiated."
   ]
  },
  {
   "cell_type": "markdown",
   "id": "befbef50-94ad-41e8-9da5-808a9ec4d7c8",
   "metadata": {},
   "source": [
    "example"
   ]
  },
  {
   "cell_type": "code",
   "execution_count": 1,
   "id": "223f1834-987d-4f41-8875-d031d0aa542e",
   "metadata": {},
   "outputs": [
    {
     "data": {
      "text/plain": [
       "94851574296"
      ]
     },
     "execution_count": 1,
     "metadata": {},
     "output_type": "execute_result"
    }
   ],
   "source": [
    "class pwskills :\n",
    "    def __init__(self , phn_number):\n",
    "        self.phn_number = phn_number\n",
    "    def return_student_details(self):\n",
    "        return self.phn_number\n",
    "puja = pwskills (94851574296)\n",
    "puja.phn_number"
   ]
  },
  {
   "cell_type": "markdown",
   "id": "301dff23-33ff-4810-abcd-f6571f16048f",
   "metadata": {},
   "source": [
    "##  Q4. self represents the instance of the class. By using the “self”  one can access the attributes and methods of the class in python. It binds the attributes with the given arguments.\n",
    "\n",
    "The reason to use self. is because Python does not use the @ syntax to refer to instance attributes. Python decided to do methods in a way that makes the instance to which the method belongs be passed automatically, but not received automatically: the first parameter of methods is the instance the method is called on.\n",
    "\n"
   ]
  },
  {
   "cell_type": "markdown",
   "id": "43e9cbd6-6abe-4f5b-b51e-af2806b87dd8",
   "metadata": {},
   "source": [
    "##  Q5.  One of the core concepts in object-oriented programming (OOP) languages is inheritance. It is a mechanism that allows you to create a hierarchy of classes that share a set of properties and methods by deriving a class from another class. Inheritance is the capability of one class to derive or inherit the properties from another class. "
   ]
  },
  {
   "cell_type": "markdown",
   "id": "db010759-b6ac-4a97-b0c7-5ecc85a83b4d",
   "metadata": {},
   "source": [
    "Example of Inheritance in Python "
   ]
  },
  {
   "cell_type": "code",
   "execution_count": 9,
   "id": "9258fd94-e63b-4922-bf0c-37210a83cf72",
   "metadata": {},
   "outputs": [
    {
     "ename": "IndentationError",
     "evalue": "unindent does not match any outer indentation level (<tokenize>, line 12)",
     "output_type": "error",
     "traceback": [
      "\u001b[0;36m  File \u001b[0;32m<tokenize>:12\u001b[0;36m\u001b[0m\n\u001b[0;31m    class Employee(Person):\u001b[0m\n\u001b[0m    ^\u001b[0m\n\u001b[0;31mIndentationError\u001b[0m\u001b[0;31m:\u001b[0m unindent does not match any outer indentation level\n"
     ]
    }
   ],
   "source": [
    "class Person(object):\n",
    " \n",
    "    def __init__(self, name):\n",
    "        self.name = name\n",
    " \n",
    "    def getName(self):\n",
    "        return self.name\n",
    " \n",
    "    def isEmployee(self):\n",
    "        return False\n",
    " \n",
    "class Employee(Person):\n",
    " \n",
    "    def isEmployee(self):\n",
    "        return True\n",
    "    \n",
    "emp = Person(\"Geek1\")\n",
    "print(emp.getName(), emp.isEmployee())\n",
    " \n",
    "emp = Employee(\"Geek2\")\n",
    "print(emp.getName(), emp.isEmployee())"
   ]
  },
  {
   "cell_type": "code",
   "execution_count": null,
   "id": "9c602741-5e32-489a-91ab-17cf70c0b140",
   "metadata": {},
   "outputs": [],
   "source": []
  }
 ],
 "metadata": {
  "kernelspec": {
   "display_name": "Python 3 (ipykernel)",
   "language": "python",
   "name": "python3"
  },
  "language_info": {
   "codemirror_mode": {
    "name": "ipython",
    "version": 3
   },
   "file_extension": ".py",
   "mimetype": "text/x-python",
   "name": "python",
   "nbconvert_exporter": "python",
   "pygments_lexer": "ipython3",
   "version": "3.10.8"
  }
 },
 "nbformat": 4,
 "nbformat_minor": 5
}
