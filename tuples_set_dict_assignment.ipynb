{
 "cells": [
  {
   "cell_type": "markdown",
   "id": "25d2908a-fdc5-43d5-be1a-deaa282167c9",
   "metadata": {},
   "source": [
    "## Q1. Characteristics of Tuples :\n",
    "\n",
    "Tuples are ordered.\n",
    "Tuples are immutable.\n",
    "Tuples are indexed.\n",
    "Tuples can contain duplicate items.\n",
    "\n",
    "\n",
    "\n",
    "yes, Tuples are immutable."
   ]
  },
  {
   "cell_type": "markdown",
   "id": "bbeea2a7-625f-4360-b0a0-1b1038e518c2",
   "metadata": {},
   "source": [
    "## Q2. Python has two built-in methods on tuples.\n",
    "count()\n",
    "index()\n"
   ]
  },
  {
   "cell_type": "code",
   "execution_count": 3,
   "id": "cc55e35e-adfc-4704-9029-5a695d1b96ad",
   "metadata": {},
   "outputs": [
    {
     "data": {
      "text/plain": [
       "2"
      ]
     },
     "execution_count": 3,
     "metadata": {},
     "output_type": "execute_result"
    }
   ],
   "source": [
    "tup = (\"apple\", \"banana\", \"lichi\",\"apple\")\n",
    "tup.count(\"apple\")"
   ]
  },
  {
   "cell_type": "code",
   "execution_count": 6,
   "id": "56169088-0f9d-4550-8b7a-b626207d9611",
   "metadata": {},
   "outputs": [
    {
     "data": {
      "text/plain": [
       "2"
      ]
     },
     "execution_count": 6,
     "metadata": {},
     "output_type": "execute_result"
    }
   ],
   "source": [
    "tup1 = (\"pwskill\")\n",
    "tup1.count(\"l\")"
   ]
  },
  {
   "cell_type": "code",
   "execution_count": 7,
   "id": "d62ef87a-6c0a-4414-87ed-4edc10915e7a",
   "metadata": {},
   "outputs": [
    {
     "data": {
      "text/plain": [
       "2"
      ]
     },
     "execution_count": 7,
     "metadata": {},
     "output_type": "execute_result"
    }
   ],
   "source": [
    "tup1.index(\"s\")"
   ]
  },
  {
   "cell_type": "code",
   "execution_count": 8,
   "id": "fb58e852-aa63-4cf3-899b-e0418af8a76f",
   "metadata": {},
   "outputs": [
    {
     "data": {
      "text/plain": [
       "2"
      ]
     },
     "execution_count": 8,
     "metadata": {},
     "output_type": "execute_result"
    }
   ],
   "source": [
    "tup.index(\"lichi\")"
   ]
  },
  {
   "cell_type": "markdown",
   "id": "0b5d0422-a9b4-41d4-82dc-69901da1cfda",
   "metadata": {},
   "source": [
    " tuple does not have many built-in methods because of immutability, ad compared to lists."
   ]
  },
  {
   "cell_type": "markdown",
   "id": "0acdb516-83bd-4c6b-b741-f8dbd37b97d2",
   "metadata": {},
   "source": [
    "## Q3.  Set in python do not allow duplicate items."
   ]
  },
  {
   "cell_type": "code",
   "execution_count": 11,
   "id": "5847b586-39ca-4fee-b27d-e193bcc06917",
   "metadata": {},
   "outputs": [
    {
     "name": "stdout",
     "output_type": "stream",
     "text": [
      "[1, 2, 3, 4]\n"
     ]
    }
   ],
   "source": [
    "List = [1, 1, 1, 2, 1, 3, 1, 4, 2, 1, 2, 2, 2, 3, 2, 4, 3, 1, 3, 2, 3, 3, 3, 4, 4, 1, 4, 2, 4, 3, 4, 4]\n",
    "\n",
    "l2 = list(set(List))\n",
    "print(l2)"
   ]
  },
  {
   "cell_type": "markdown",
   "id": "bd30ffed-859d-4fc2-a7d0-d64d8759d917",
   "metadata": {},
   "source": [
    "## Q4. union() method returns a new set with distinct elements from all the sets whereas update() adds all missing elements to the set on which it is called.\n"
   ]
  },
  {
   "cell_type": "code",
   "execution_count": 2,
   "id": "0a5fe18f-7e75-4300-ad77-f7312fba91ba",
   "metadata": {},
   "outputs": [
    {
     "name": "stdout",
     "output_type": "stream",
     "text": [
      "{'class', 'masters', 'science', 'pwskills', 'data'}\n"
     ]
    }
   ],
   "source": [
    "set1 = {\"pwskills\", \"data\"}\n",
    "set2 = {\"science\", \"masters\", \"class\"}\n",
    "set1.update(set2)\n",
    "print(set1)"
   ]
  },
  {
   "cell_type": "code",
   "execution_count": 3,
   "id": "b1e066cf-1864-49c0-9704-4a5e1b677f05",
   "metadata": {},
   "outputs": [
    {
     "name": "stdout",
     "output_type": "stream",
     "text": [
      "{1, 2, 3, 4, 6, 8}\n"
     ]
    }
   ],
   "source": [
    "set3 = {1,2,3,6}\n",
    "set4 = {2,4,6,8}\n",
    "print(set3.union(set4))\n"
   ]
  },
  {
   "cell_type": "markdown",
   "id": "53aaccd0-6321-443a-85e4-37d8513c2721",
   "metadata": {},
   "source": [
    "## Q5. Dictionary in Python is a collection of keys values, used to store data values like a map, which, unlike other data types which hold only a single value as an element."
   ]
  },
  {
   "cell_type": "code",
   "execution_count": 13,
   "id": "0487e01d-e164-4ee2-8f4b-d33aeb9051db",
   "metadata": {},
   "outputs": [
    {
     "name": "stdout",
     "output_type": "stream",
     "text": [
      "{'name': 'puja', 'class': 10}\n"
     ]
    }
   ],
   "source": [
    "dict1 = {\"name\" : \"puja\", \"class\" : 10}\n",
    "type(dict1)\n",
    "print(dict1)\n",
    "## dictionary is ordered."
   ]
  },
  {
   "cell_type": "markdown",
   "id": "9473c715-cfd7-413c-92cd-01199e542e6c",
   "metadata": {},
   "source": [
    "## Q6. yes we can create a nested dictionary."
   ]
  },
  {
   "cell_type": "code",
   "execution_count": 14,
   "id": "b8a490cb-455a-44a2-8d4b-81a01115c659",
   "metadata": {},
   "outputs": [
    {
     "name": "stdout",
     "output_type": "stream",
     "text": [
      "{'name': 'puja', 'class': 10, 'school': {'pwskills': ' dsm'}}\n"
     ]
    }
   ],
   "source": [
    "nestedDict = { \"name\" : \"puja\", \"class\" : 10, \"school\" : { \"pwskills\" : \" dsm\" }}\n",
    "print(nestedDict)"
   ]
  },
  {
   "cell_type": "markdown",
   "id": "6aad8a50-2822-4891-aaa3-8fb8e27ed054",
   "metadata": {},
   "source": [
    "## Q7. code\n"
   ]
  },
  {
   "cell_type": "code",
   "execution_count": 6,
   "id": "cc974ac6-2119-4a7f-b18f-61e88a490229",
   "metadata": {},
   "outputs": [
    {
     "name": "stdout",
     "output_type": "stream",
     "text": [
      "{'language': 'Python', 'course': 'Data Science Masters', 'topis': ['Python', 'Machine Learning', 'Deep Learning']}\n"
     ]
    }
   ],
   "source": [
    "dictCourse = {'language' : 'Python', 'course': 'Data Science Masters'}\n",
    "dictTopic = ['Python', 'Machine Learning', 'Deep Learning']\n",
    "dictCourse.setdefault(\"topis\" , dictTopic)\n",
    "print(dictCourse)"
   ]
  },
  {
   "cell_type": "markdown",
   "id": "a8490b18-0296-41e4-a622-8dc6f3f588be",
   "metadata": {},
   "source": [
    "## Q8. the three view objects in dictionaries are keys, values and items"
   ]
  },
  {
   "cell_type": "code",
   "execution_count": 7,
   "id": "11373c13-d393-45a3-b9c6-a27e9134ca8d",
   "metadata": {},
   "outputs": [
    {
     "name": "stdout",
     "output_type": "stream",
     "text": [
      "dict_keys(['Sport', 'Teams'])\n"
     ]
    }
   ],
   "source": [
    "dictObject = {'Sport': 'Cricket' , 'Teams': ['India', 'Australia', 'England', 'South Africa', 'Sri Lanka', 'New Zealand']}\n",
    "k = dictObject.keys()\n",
    "print(k)"
   ]
  },
  {
   "cell_type": "code",
   "execution_count": 9,
   "id": "b66a557b-6533-4990-9789-4aa8c58c8020",
   "metadata": {},
   "outputs": [
    {
     "name": "stdout",
     "output_type": "stream",
     "text": [
      "dict_values(['Cricket', ['India', 'Australia', 'England', 'South Africa', 'Sri Lanka', 'New Zealand']])\n"
     ]
    }
   ],
   "source": [
    "v = dictObject.values()\n",
    "print(v)"
   ]
  },
  {
   "cell_type": "code",
   "execution_count": 10,
   "id": "eb111ebc-8358-4c52-b3af-0df706251411",
   "metadata": {},
   "outputs": [
    {
     "name": "stdout",
     "output_type": "stream",
     "text": [
      "dict_items([('Sport', 'Cricket'), ('Teams', ['India', 'Australia', 'England', 'South Africa', 'Sri Lanka', 'New Zealand'])])\n"
     ]
    }
   ],
   "source": [
    "i = dictObject.items()\n",
    "print(i)"
   ]
  },
  {
   "cell_type": "code",
   "execution_count": null,
   "id": "e72ec047-8b32-458b-a48a-034cef2da31b",
   "metadata": {},
   "outputs": [],
   "source": []
  }
 ],
 "metadata": {
  "kernelspec": {
   "display_name": "Python 3 (ipykernel)",
   "language": "python",
   "name": "python3"
  },
  "language_info": {
   "codemirror_mode": {
    "name": "ipython",
    "version": 3
   },
   "file_extension": ".py",
   "mimetype": "text/x-python",
   "name": "python",
   "nbconvert_exporter": "python",
   "pygments_lexer": "ipython3",
   "version": "3.10.8"
  }
 },
 "nbformat": 4,
 "nbformat_minor": 5
}
