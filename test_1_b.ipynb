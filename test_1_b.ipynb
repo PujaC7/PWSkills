{
 "cells": [
  {
   "cell_type": "code",
   "execution_count": 1,
   "id": "daada7e2-61e1-46e2-83ef-6ddf7040628c",
   "metadata": {},
   "outputs": [],
   "source": [
    "def firstUniqChar(s):\n",
    "    char_freq = {}\n",
    "\n",
    "    # Count the frequency of each character\n",
    "    for char in s:\n",
    "        char_freq[char] = char_freq.get(char, 0) + 1\n",
    "\n",
    "    # Find the first non-repeating character\n",
    "    for i, char in enumerate(s):\n",
    "        if char_freq[char] == 1:\n",
    "            return i\n",
    "\n",
    "    return -1"
   ]
  },
  {
   "cell_type": "code",
   "execution_count": 2,
   "id": "1b9d7a28-a9d5-4d1c-a8fd-10ac1981ecb5",
   "metadata": {},
   "outputs": [
    {
     "name": "stdout",
     "output_type": "stream",
     "text": [
      "0\n"
     ]
    }
   ],
   "source": [
    "s1 = \"leetcode\"\n",
    "print(firstUniqChar(s1))"
   ]
  },
  {
   "cell_type": "code",
   "execution_count": 3,
   "id": "be6ac8c9-2715-445c-9630-03441aa01985",
   "metadata": {},
   "outputs": [
    {
     "name": "stdout",
     "output_type": "stream",
     "text": [
      "2\n"
     ]
    }
   ],
   "source": [
    "s2 = \"loveleetcode\"\n",
    "print(firstUniqChar(s2))"
   ]
  },
  {
   "cell_type": "code",
   "execution_count": 4,
   "id": "2d630d43-3311-4be7-9e77-65a892135d5e",
   "metadata": {},
   "outputs": [
    {
     "name": "stdout",
     "output_type": "stream",
     "text": [
      "-1\n"
     ]
    }
   ],
   "source": [
    "s3 = \"aabb\"\n",
    "print(firstUniqChar(s3))"
   ]
  },
  {
   "cell_type": "code",
   "execution_count": null,
   "id": "c148be19-c53a-465c-b95b-4c0450253c93",
   "metadata": {},
   "outputs": [],
   "source": []
  }
 ],
 "metadata": {
  "kernelspec": {
   "display_name": "Python 3 (ipykernel)",
   "language": "python",
   "name": "python3"
  },
  "language_info": {
   "codemirror_mode": {
    "name": "ipython",
    "version": 3
   },
   "file_extension": ".py",
   "mimetype": "text/x-python",
   "name": "python",
   "nbconvert_exporter": "python",
   "pygments_lexer": "ipython3",
   "version": "3.10.8"
  }
 },
 "nbformat": 4,
 "nbformat_minor": 5
}
