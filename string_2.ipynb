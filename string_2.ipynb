{
 "cells": [
  {
   "cell_type": "code",
   "execution_count": 1,
   "id": "e7e6a543-2b7a-4d8b-9268-965955b01af1",
   "metadata": {},
   "outputs": [],
   "source": [
    "## Q1. \n",
    "\n",
    "def is_isomorphic(s, t):\n",
    "    if len(s) != len(t):  # Check if the lengths are different\n",
    "        return False\n",
    "    \n",
    "    char_map = {}  # Dictionary to store character mappings\n",
    "    \n",
    "    for i in range(len(s)):\n",
    "        if s[i] in char_map:\n",
    "            if char_map[s[i]] != t[i]:  # If the mapping is different, return False\n",
    "                return False\n",
    "        else:\n",
    "            if t[i] in char_map.values():  # If the character in t is already mapped, return False\n",
    "                return False\n",
    "            char_map[s[i]] = t[i]  # Add new character mapping\n",
    "    \n",
    "    return True"
   ]
  },
  {
   "cell_type": "code",
   "execution_count": 2,
   "id": "df90530c-b681-4b82-9aad-d88e24e043de",
   "metadata": {},
   "outputs": [
    {
     "name": "stdout",
     "output_type": "stream",
     "text": [
      "True\n"
     ]
    }
   ],
   "source": [
    "s = \"egg\"\n",
    "t = \"add\"\n",
    "result = is_isomorphic(s, t)\n",
    "print(result)  "
   ]
  },
  {
   "cell_type": "code",
   "execution_count": 3,
   "id": "5889fb1c-f5c4-401c-adcd-349189004935",
   "metadata": {},
   "outputs": [],
   "source": [
    "## Q2.\n",
    "\n",
    "def is_strobogrammatic(num):\n",
    "    strobogrammatic_map = {\n",
    "        '0': '0',\n",
    "        '1': '1',\n",
    "        '6': '9',\n",
    "        '8': '8',\n",
    "        '9': '6'\n",
    "    }\n",
    "    \n",
    "    rotated_num = ''\n",
    "    \n",
    "    for digit in num:\n",
    "        if digit not in strobogrammatic_map:\n",
    "            return False\n",
    "        rotated_num += strobogrammatic_map[digit]\n",
    "    \n",
    "    return num == rotated_num[::-1]"
   ]
  },
  {
   "cell_type": "code",
   "execution_count": 4,
   "id": "33787bd7-6de7-4b0e-aadd-f4df240d0564",
   "metadata": {},
   "outputs": [
    {
     "name": "stdout",
     "output_type": "stream",
     "text": [
      "True\n"
     ]
    }
   ],
   "source": [
    "num = \"69\"\n",
    "result = is_strobogrammatic(num)\n",
    "print(result)  "
   ]
  },
  {
   "cell_type": "code",
   "execution_count": 5,
   "id": "afbd3775-6de0-4db1-b481-0f4be73c0266",
   "metadata": {},
   "outputs": [],
   "source": [
    "## Q3.\n",
    "\n",
    "def addStrings(num1, num2):\n",
    "    result = []\n",
    "    carry = 0\n",
    "    i = len(num1) - 1\n",
    "    j = len(num2) - 1\n",
    "    \n",
    "    while i >= 0 or j >= 0 or carry > 0:\n",
    "        digit_sum = carry\n",
    "        \n",
    "        if i >= 0:\n",
    "            digit_sum += int(num1[i])\n",
    "            i -= 1\n",
    "        \n",
    "        if j >= 0:\n",
    "            digit_sum += int(num2[j])\n",
    "            j -= 1\n",
    "        \n",
    "        result.append(str(digit_sum % 10))\n",
    "        carry = digit_sum // 10\n",
    "    \n",
    "    return ''.join(result[::-1])"
   ]
  },
  {
   "cell_type": "code",
   "execution_count": 6,
   "id": "e35ef72a-ea3a-4102-9887-073a904ff253",
   "metadata": {},
   "outputs": [
    {
     "name": "stdout",
     "output_type": "stream",
     "text": [
      "134\n"
     ]
    }
   ],
   "source": [
    "num1 = \"11\"\n",
    "num2 = \"123\"\n",
    "result = addStrings(num1, num2)\n",
    "print(result) "
   ]
  },
  {
   "cell_type": "code",
   "execution_count": 7,
   "id": "ebc40e79-4bce-4fcb-99dc-b295341f2045",
   "metadata": {},
   "outputs": [],
   "source": [
    "## Q4.\n",
    "\n",
    "def reverseWords(s):\n",
    "    words = s.split()  # Split the sentence into words\n",
    "    reversed_words = [word[::-1] for word in words]  # Reverse each word\n",
    "    reversed_sentence = ' '.join(reversed_words)  # Join the reversed words back into a sentence\n",
    "    return reversed_sentence"
   ]
  },
  {
   "cell_type": "code",
   "execution_count": 8,
   "id": "9f43fc5b-1c63-409c-9783-9e50fb336423",
   "metadata": {},
   "outputs": [
    {
     "name": "stdout",
     "output_type": "stream",
     "text": [
      "s'teL ekat edoCteeL tsetnoc\n"
     ]
    }
   ],
   "source": [
    "s = \"Let's take LeetCode contest\"\n",
    "result = reverseWords(s)\n",
    "print(result)"
   ]
  },
  {
   "cell_type": "code",
   "execution_count": 9,
   "id": "5ed7e1cb-b109-4f09-9705-7fee7ea1c2a3",
   "metadata": {},
   "outputs": [],
   "source": [
    "## Q5. \n",
    "\n",
    "def reverseStr(s, k):\n",
    "    chars = list(s)  # Convert the string to a list of characters\n",
    "    \n",
    "    for i in range(0, len(chars), 2 * k):\n",
    "        start = i\n",
    "        end = min(i + k, len(chars))\n",
    "        chars[start:end] = chars[start:end][::-1]  # Reverse the portion of characters\n",
    "    \n",
    "    return ''.join(chars)"
   ]
  },
  {
   "cell_type": "code",
   "execution_count": 10,
   "id": "8feb3e84-e102-4663-bbdf-bb73d8735136",
   "metadata": {},
   "outputs": [
    {
     "name": "stdout",
     "output_type": "stream",
     "text": [
      "bacdfeg\n"
     ]
    }
   ],
   "source": [
    "s = \"abcdefg\"\n",
    "k = 2\n",
    "result = reverseStr(s, k)\n",
    "print(result)"
   ]
  },
  {
   "cell_type": "code",
   "execution_count": 11,
   "id": "5770f4f2-d0ad-48d2-94a5-f6c32f22042c",
   "metadata": {},
   "outputs": [],
   "source": [
    "## Q6.\n",
    "\n",
    "def rotateString(s, goal):\n",
    "    if len(s) != len(goal):\n",
    "        return False\n",
    "    \n",
    "    concatenated = s + s\n",
    "    \n",
    "    return goal in concatenated"
   ]
  },
  {
   "cell_type": "code",
   "execution_count": 12,
   "id": "ab90cbe4-005c-4012-a54d-28d835a55ec1",
   "metadata": {},
   "outputs": [
    {
     "name": "stdout",
     "output_type": "stream",
     "text": [
      "True\n"
     ]
    }
   ],
   "source": [
    "s = \"abcde\"\n",
    "goal = \"cdeab\"\n",
    "result = rotateString(s, goal)\n",
    "print(result)"
   ]
  },
  {
   "cell_type": "code",
   "execution_count": 13,
   "id": "17aecdcd-e574-49cc-87c8-ce9ab6400272",
   "metadata": {},
   "outputs": [],
   "source": [
    "## Q7.\n",
    "\n",
    "def backspaceCompare(s, t):\n",
    "    def buildString(string):\n",
    "        result = []\n",
    "        for char in string:\n",
    "            if char != '#':\n",
    "                result.append(char)\n",
    "            elif result:\n",
    "                result.pop()\n",
    "        return ''.join(result)\n",
    "    \n",
    "    return buildString(s) == buildString(t)"
   ]
  },
  {
   "cell_type": "code",
   "execution_count": 14,
   "id": "cd9bae3b-320f-49d1-ab89-48ab9bffec75",
   "metadata": {},
   "outputs": [
    {
     "name": "stdout",
     "output_type": "stream",
     "text": [
      "True\n"
     ]
    }
   ],
   "source": [
    "s = \"ab#c\"\n",
    "t = \"ad#c\"\n",
    "result = backspaceCompare(s, t)\n",
    "print(result)"
   ]
  },
  {
   "cell_type": "code",
   "execution_count": 15,
   "id": "c6e15f91-2696-4d89-9e71-143a3c5d0f8d",
   "metadata": {},
   "outputs": [],
   "source": [
    "## Q8.\n",
    "\n",
    "def checkStraightLine(coordinates):\n",
    "    x1, y1 = coordinates[0]\n",
    "    x2, y2 = coordinates[1]\n",
    "    \n",
    "    for i in range(2, len(coordinates)):\n",
    "        x, y = coordinates[i]\n",
    "        if (y2 - y1) * (x - x1) != (x2 - x1) * (y - y1):\n",
    "            return False\n",
    "    \n",
    "    return True"
   ]
  },
  {
   "cell_type": "code",
   "execution_count": 16,
   "id": "20b7af3d-9b42-4053-9544-43a37b3ef190",
   "metadata": {},
   "outputs": [
    {
     "name": "stdout",
     "output_type": "stream",
     "text": [
      "True\n"
     ]
    }
   ],
   "source": [
    "coordinates = [[1,2],[2,3],[3,4],[4,5],[5,6],[6,7]]\n",
    "result = checkStraightLine(coordinates)\n",
    "print(result) "
   ]
  },
  {
   "cell_type": "code",
   "execution_count": null,
   "id": "22fdcf4c-a034-4cf2-b5b9-0f86f48c61b9",
   "metadata": {},
   "outputs": [],
   "source": []
  }
 ],
 "metadata": {
  "kernelspec": {
   "display_name": "Python 3 (ipykernel)",
   "language": "python",
   "name": "python3"
  },
  "language_info": {
   "codemirror_mode": {
    "name": "ipython",
    "version": 3
   },
   "file_extension": ".py",
   "mimetype": "text/x-python",
   "name": "python",
   "nbconvert_exporter": "python",
   "pygments_lexer": "ipython3",
   "version": "3.10.8"
  }
 },
 "nbformat": 4,
 "nbformat_minor": 5
}
