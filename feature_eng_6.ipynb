{
 "cells": [
  {
   "cell_type": "markdown",
   "id": "9ad9ba9c-2ba4-4c79-a1b5-e57844ededed",
   "metadata": {},
   "source": [
    "## Q1.  The Pearson correlation coefficient (r) is the most common way of measuring a linear correlation. It is a number between –1 and 1 that measures the strength and direction of the relationship between two variables. When one variable changes, the other variable changes in the same direction.\n",
    "### High degree: If the coefficient value lies between ± 0.50 and ± 1, then it is said to be a strong correlation. Moderate degree: If the value lies between ± 0.30 and ± 0.49, then it is said to be a medium correlation. Low degree: When the value lies below + . 29, then it is said to be a small correlation."
   ]
  },
  {
   "cell_type": "markdown",
   "id": "c37dc3db-4366-48b2-9464-655851b75563",
   "metadata": {},
   "source": [
    "## Q2.  The Spearman's rank coefficient of correlation or Spearman correlation coefficient is a nonparametric measure of rank correlation (statistical dependence of ranking between two variables). Named after Charles Spearman, it is often denoted by the Greek letter 'ρ' (rho) and is primarily used for data analysis.\n",
    "### Analogous to Pearson coefficient, a Spearman coefficient also ranges from –1 to +1. It can be interpreted as describing anything between no association (ρ = 0) to a perfect monotonic relationship (ρ = –1 or +1)."
   ]
  },
  {
   "cell_type": "markdown",
   "id": "472a63b2-9e48-4120-8cf6-f3bd3091a567",
   "metadata": {},
   "source": [
    "## Q3. Pearson correlation: Pearson correlation evaluates the linear relationship between two continuous variables. Spearman correlation: Spearman correlation evaluates the monotonic relationship. The Spearman correlation coefficient is based on the ranked values for each variable rather than the raw data"
   ]
  },
  {
   "cell_type": "markdown",
   "id": "7e433316-261c-4975-8153-a4cf6bbbf56d",
   "metadata": {},
   "source": [
    "## Q4.  It is calculated as (x(i)-mean(x))*(y(i)-mean(y)) / ((x(i)-mean(x))2 * (y(i)-mean(y))2.read more between the two variables indicates using the Pearson correlation coefficient."
   ]
  },
  {
   "cell_type": "markdown",
   "id": "9a0862eb-764c-4e7e-91a5-0dea48836b4f",
   "metadata": {},
   "source": [
    "## Q5.  according to the results of the survey is  24% of  the respondents  chosen  Maaza,  20%  of  the respondents preferred  Pepsi, 20% Thums Up, 18%  chosen  Coca-Cola,  16%  preferred Miranda and 3% of the respondents preferred other drinks"
   ]
  },
  {
   "cell_type": "markdown",
   "id": "86440a42-bdb0-47c6-8ff7-e50f713ed04a",
   "metadata": {},
   "source": [
    "## Q6.  It is calculated as (x(i)-mean(x))*(y(i)-mean(y)) / ((x(i)-mean(x))2 * (y(i)-mean(y))2.read more between the two variables indicates using the Pearson correlation coefficient."
   ]
  },
  {
   "cell_type": "code",
   "execution_count": null,
   "id": "d0d3241c-024f-445a-8ceb-babb4d3dfe07",
   "metadata": {},
   "outputs": [],
   "source": []
  }
 ],
 "metadata": {
  "kernelspec": {
   "display_name": "Python 3 (ipykernel)",
   "language": "python",
   "name": "python3"
  },
  "language_info": {
   "codemirror_mode": {
    "name": "ipython",
    "version": 3
   },
   "file_extension": ".py",
   "mimetype": "text/x-python",
   "name": "python",
   "nbconvert_exporter": "python",
   "pygments_lexer": "ipython3",
   "version": "3.10.8"
  }
 },
 "nbformat": 4,
 "nbformat_minor": 5
}
