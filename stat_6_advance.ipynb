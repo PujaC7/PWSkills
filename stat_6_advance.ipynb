{
 "cells": [
  {
   "cell_type": "markdown",
   "id": "82e00a84-e2b5-4f37-8da2-99d56d710970",
   "metadata": {},
   "source": [
    "## Q1.  ANOVA assumes that the data is normally distributed. The ANOVA also assumes homogeneity of variance, which means that the variance among the groups should be approximately equal. ANOVA also assumes that the observations are independent of each other.\n",
    "### Potential assumption violations include: Implicit factors: lack of independence within a sample. Lack of independence: lack of independence between samples. Outliers: apparent nonnormality by a few data points. Nonnormality: nonnormality of entire samples."
   ]
  },
  {
   "cell_type": "markdown",
   "id": "07061ef1-5eeb-494b-a025-0d60cdb3e9cc",
   "metadata": {},
   "source": [
    "## Q2.  Commonly, ANOVAs are used in three ways: one-way ANOVA, two-way ANOVA, and N-way ANOVA.\n",
    "### Three-way ANOVAs are useful for gaining an understanding of complex interactions where more than one variable may influence the result and have many applications in finance, social science, and medical research, among a host of other fields."
   ]
  },
  {
   "cell_type": "markdown",
   "id": "01c03974-c4b0-40b6-b08b-91eadb0b52ea",
   "metadata": {},
   "source": [
    "## Q3.  An ANOVA uses an F-test to evaluate whether the variance among the groups is greater than the variance within a group. Another way to view this problem is that we could partition variance, that is, we could divide the total variance in our data into the various sources of that variation.\n",
    "### ANOVA is helpful for testing three or more variables. It is similar to multiple two-sample t-tests. However, it results in fewer type I errors and is appropriate for a range of issues. ANOVA groups differences by comparing the means of each group and includes spreading out the variance into diverse sources."
   ]
  },
  {
   "cell_type": "markdown",
   "id": "44502ed3-44bb-4d88-888d-b650d4349658",
   "metadata": {},
   "source": [
    "## Q4.  code"
   ]
  },
  {
   "cell_type": "code",
   "execution_count": 3,
   "id": "e0de1d38-aab4-4165-af23-41b5994a1637",
   "metadata": {},
   "outputs": [
    {
     "name": "stdout",
     "output_type": "stream",
     "text": [
      "331.07488479262696\n",
      "917.4751152073725\n",
      "1248.5499999999995\n"
     ]
    }
   ],
   "source": [
    "import pandas as pd\n",
    "df = pd.DataFrame({'hours': [1, 1, 1, 2, 2, 2, 2, 2, 3, 3,\n",
    "                             3, 4, 4, 4, 5, 5, 6, 7, 7, 8],\n",
    "                   'score': [68, 76, 74, 80, 76, 78, 81, 84, 86, 83,\n",
    "                             88, 85, 89, 94, 93, 94, 96, 89, 92, 97]})\n",
    "df.head()\n",
    "\n",
    "import statsmodels.api as sm\n",
    "y = df['score']\n",
    "x = df[['hours']]\n",
    "x = sm.add_constant(x)\n",
    "model = sm.OLS(y, x).fit()\n",
    "\n",
    "import numpy as np\n",
    "sse = np.sum((model.fittedvalues - df.score)**2)\n",
    "print(sse)\n",
    "ssr = np.sum((model.fittedvalues - df.score.mean())**2)\n",
    "print(ssr)\n",
    "sst = ssr + sse\n",
    "print(sst)"
   ]
  },
  {
   "cell_type": "markdown",
   "id": "3fbfc2f3-920a-4f17-abe2-40ad95bfc9e3",
   "metadata": {},
   "source": [
    "## Q5.  code"
   ]
  },
  {
   "cell_type": "code",
   "execution_count": 7,
   "id": "608da325-d661-4f99-a62a-8190a2ddcd97",
   "metadata": {},
   "outputs": [
    {
     "name": "stdout",
     "output_type": "stream",
     "text": [
      "                             df     sum_sq   mean_sq         F    PR(>F)\n",
      "C(Fertilizer)               1.0   0.033333  0.033333  0.012069  0.913305\n",
      "C(Watering)                 1.0   0.000369  0.000369  0.000133  0.990865\n",
      "C(Fertilizer):C(Watering)   1.0   0.040866  0.040866  0.014796  0.904053\n",
      "Residual                   28.0  77.333333  2.761905       NaN       NaN\n"
     ]
    }
   ],
   "source": [
    "import statsmodels.api as sm\n",
    "from statsmodels.formula.api import ols\n",
    "  \n",
    "# Create a dataframe\n",
    "dataframe = pd.DataFrame({'Fertilizer': np.repeat(['daily', 'weekly'], 15),\n",
    "                          'Watering': np.repeat(['daily', 'weekly'], 15),\n",
    "                          'height': [14, 16, 15, 15, 16, 13, 12, 11,\n",
    "                                     14, 15, 16, 16, 17, 18, 14, 13, \n",
    "                                     14, 14, 14, 15, 16, 16, 17, 18,\n",
    "                                     14, 13, 14, 14, 14, 15]})\n",
    "  \n",
    "  \n",
    "# Performing two-way ANOVA\n",
    "model = ols('height ~ C(Fertilizer) + C(Watering) +\\\n",
    "C(Fertilizer):C(Watering)',\n",
    "            data=dataframe).fit()\n",
    "result = sm.stats.anova_lm(model, type=2)\n",
    "  \n",
    "# Print the result\n",
    "print(result)"
   ]
  },
  {
   "cell_type": "markdown",
   "id": "72229348-f80f-4a1c-964b-caa0790b466e",
   "metadata": {},
   "source": [
    "## Q7.  To do repeated measures ANOVA, you'd need to remove the data for that participant/animal/whatever entirely from the data table before running the ANOVA. Beginning with Prism 8, Prism offers an alternative method to analyze repeated measures data: fitting a mixed effects model.\n",
    "### Missing data can result in bias, although this need not always be the case, depending on the missing data mechanism and the applied statistical approach. In a complete case analysis, already with low percentages of missing values there can be substantial bias and with high percentages there need not be a bias."
   ]
  },
  {
   "cell_type": "markdown",
   "id": "20314f09-793e-493f-a775-08ee689196a2",
   "metadata": {},
   "source": [
    "## Q8.  The post hoc test I'll use is Tukey's method. There are a variety of post hoc tests you can choose from, but Tukey's method is the most common for comparing all possible group pairings. There are two ways to present post hoc test results—adjusted p-values and simultaneous confidence intervals.\n",
    "### Once you have determined that differences exist among the means, post hoc range tests and pairwise multiple comparisons can determine which means differ. Range tests identify homogeneous subsets of means that are not different from each other."
   ]
  },
  {
   "cell_type": "markdown",
   "id": "81df84a6-5289-4730-bca9-875c70d4b4f7",
   "metadata": {},
   "source": [
    "## Q9.  code"
   ]
  },
  {
   "cell_type": "code",
   "execution_count": 18,
   "id": "26ef2cc7-b006-4cc8-b9ed-c690688c078c",
   "metadata": {},
   "outputs": [
    {
     "data": {
      "text/plain": [
       "F_onewayResult(statistic=4.35011990407674, pvalue=0.03795204795237708)"
      ]
     },
     "execution_count": 18,
     "metadata": {},
     "output_type": "execute_result"
    }
   ],
   "source": [
    "from scipy.stats import f_oneway\n",
    "\n",
    "dietA = [89, 89, 88, 78, 79]\n",
    "dietB = [93, 92, 94, 89, 88]\n",
    "dietC = [89, 88, 89, 93, 90]\n",
    "\n",
    "f_oneway(dietA, dietB,dietC)"
   ]
  },
  {
   "cell_type": "markdown",
   "id": "d841006a-87ed-4ddf-a396-5129c059e42a",
   "metadata": {},
   "source": [
    "## Q10.  code"
   ]
  },
  {
   "cell_type": "code",
   "execution_count": 19,
   "id": "d803d4b2-5c61-4c76-ac8b-0ed34ac91847",
   "metadata": {},
   "outputs": [
    {
     "name": "stdout",
     "output_type": "stream",
     "text": [
      "                             df     sum_sq   mean_sq         F    PR(>F)\n",
      "C(Fertilizer)               1.0   0.033333  0.033333  0.012069  0.913305\n",
      "C(Watering)                 1.0   0.000369  0.000369  0.000133  0.990865\n",
      "C(Fertilizer):C(Watering)   1.0   0.040866  0.040866  0.014796  0.904053\n",
      "Residual                   28.0  77.333333  2.761905       NaN       NaN\n"
     ]
    }
   ],
   "source": [
    "import statsmodels.api as sm\n",
    "from statsmodels.formula.api import ols\n",
    "dataframe = pd.DataFrame({'Fertilizer': np.repeat(['daily', 'weekly'], 15),\n",
    "                          'Watering': np.repeat(['daily', 'weekly'], 15),\n",
    "                          'height': [14, 16, 15, 15, 16, 13, 12, 11,\n",
    "                                     14, 15, 16, 16, 17, 18, 14, 13, \n",
    "                                     14, 14, 14, 15, 16, 16, 17, 18,\n",
    "                                     14, 13, 14, 14, 14, 15]})\n",
    "  \n",
    "model = ols('height ~ C(Fertilizer) + C(Watering) +\\\n",
    "C(Fertilizer):C(Watering)',\n",
    "            data=dataframe).fit()\n",
    "result = sm.stats.anova_lm(model, type=2)\n",
    "  \n",
    "# Print the result\n",
    "print(result)"
   ]
  },
  {
   "cell_type": "markdown",
   "id": "9d5145a2-b329-43f8-933d-8ebf36b7780c",
   "metadata": {},
   "source": [
    "## Q12.  code"
   ]
  },
  {
   "cell_type": "code",
   "execution_count": 20,
   "id": "6fb0cd20-4ec7-4cbd-8cf4-ff4af317bd49",
   "metadata": {},
   "outputs": [
    {
     "name": "stdout",
     "output_type": "stream",
     "text": [
      "              Anova\n",
      "=================================\n",
      "    F Value Num DF  Den DF Pr > F\n",
      "---------------------------------\n",
      "Oil  0.5679 3.0000 12.0000 0.6466\n",
      "=================================\n",
      "\n"
     ]
    }
   ],
   "source": [
    "import numpy as np\n",
    "import pandas as pd\n",
    "from statsmodels.stats.anova import AnovaRM\n",
    "  \n",
    "# Create the data\n",
    "dataframe = pd.DataFrame({'Cars': np.repeat([1, 2, 3, 4, 5], 4),\n",
    "                          'Oil': np.tile([1, 2, 3, 4], 5),\n",
    "                          'Mileage': [36, 38, 30, 29,\n",
    "                                      34, 38, 30, 29,\n",
    "                                      34, 28, 38, 32,\n",
    "                                      38, 34, 20, 44,\n",
    "                                      26, 28, 34, 50]})\n",
    "  \n",
    "# Conduct the repeated measures ANOVA\n",
    "print(AnovaRM(data=dataframe, depvar='Mileage',\n",
    "              subject='Cars', within=['Oil']).fit())"
   ]
  },
  {
   "cell_type": "code",
   "execution_count": null,
   "id": "ebeb2a55-a131-45a8-82ab-e278a1eaa9af",
   "metadata": {},
   "outputs": [],
   "source": []
  }
 ],
 "metadata": {
  "kernelspec": {
   "display_name": "Python 3 (ipykernel)",
   "language": "python",
   "name": "python3"
  },
  "language_info": {
   "codemirror_mode": {
    "name": "ipython",
    "version": 3
   },
   "file_extension": ".py",
   "mimetype": "text/x-python",
   "name": "python",
   "nbconvert_exporter": "python",
   "pygments_lexer": "ipython3",
   "version": "3.10.8"
  }
 },
 "nbformat": 4,
 "nbformat_minor": 5
}
