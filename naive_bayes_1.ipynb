{
 "cells": [
  {
   "cell_type": "markdown",
   "id": "caabaf36-5409-4933-9ac4-96f462685caf",
   "metadata": {},
   "source": [
    "## Q1.  Bayes' Theorem states that the conditional probability of an event, based on the occurrence of another event, is equal to the likelihood of the second event given the first event multiplied by the probability of the first event."
   ]
  },
  {
   "cell_type": "markdown",
   "id": "e9cf7b89-4821-4c13-89f7-6986ce4209ad",
   "metadata": {},
   "source": [
    "## Q2.  Bayes theorem is used to determine conditional probability. When two events A and B are independent, P(A|B) = P(A) and P(B|A) = P(B)"
   ]
  },
  {
   "cell_type": "markdown",
   "id": "a3edf9f4-cd98-4069-9ebf-f62edc03e223",
   "metadata": {},
   "source": [
    "## Q3. For example, if a disease is related to age, then, using Bayes' theorem, a person's age can be used to more accurately assess the probability that they have the disease, compared to the assessment of the probability of disease made without knowledge of the person's age"
   ]
  },
  {
   "cell_type": "markdown",
   "id": "ebbe4ee2-4d36-42c8-b958-2e8fff88a379",
   "metadata": {},
   "source": [
    "## Q4.  Bayes' Theorem states that the conditional probability of an event, based on the occurrence of another event, is equal to the likelihood of the second event given the first event multiplied by the probability of the first event."
   ]
  },
  {
   "cell_type": "markdown",
   "id": "555d532b-c633-4622-9dd8-f3c582d3ca7b",
   "metadata": {},
   "source": [
    "## Q5.  Naive Bayes classifier is successfully used in various applications such as spam filtering, text classification, sentiment analysis, and recommender systems. It uses Bayes theorem of probability for prediction of unknown class."
   ]
  },
  {
   "cell_type": "markdown",
   "id": "1bdfc644-2f24-4f0b-8e09-1a2560d6b208",
   "metadata": {},
   "source": [
    "## Q6.  You have a dataset with two features, X1 and X2, and two possible classes, A and B. You want to use Naive Bayes to classify a new instance with features X1 = 3 and X2 = 4. The following table shows the frequency of each feature value for each class"
   ]
  }
 ],
 "metadata": {
  "kernelspec": {
   "display_name": "Python 3 (ipykernel)",
   "language": "python",
   "name": "python3"
  },
  "language_info": {
   "codemirror_mode": {
    "name": "ipython",
    "version": 3
   },
   "file_extension": ".py",
   "mimetype": "text/x-python",
   "name": "python",
   "nbconvert_exporter": "python",
   "pygments_lexer": "ipython3",
   "version": "3.10.8"
  }
 },
 "nbformat": 4,
 "nbformat_minor": 5
}
