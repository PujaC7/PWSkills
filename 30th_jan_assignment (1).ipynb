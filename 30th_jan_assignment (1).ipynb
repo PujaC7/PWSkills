{
 "cells": [
  {
   "cell_type": "markdown",
   "id": "649a26b2-1a56-4a6a-a559-2df06979695e",
   "metadata": {},
   "source": [
    "##  Q1.  code"
   ]
  },
  {
   "cell_type": "code",
   "execution_count": 6,
   "id": "129e8bee-cbbd-40d9-b954-2c027d8f6f93",
   "metadata": {},
   "outputs": [
    {
     "name": "stdin",
     "output_type": "stream",
     "text": [
      "enter the marks  65\n"
     ]
    },
    {
     "name": "stdout",
     "output_type": "stream",
     "text": [
      "grade C\n"
     ]
    }
   ],
   "source": [
    "marks = int( input(\"enter the marks \"))\n",
    "if marks> 90:\n",
    "    print(\"grade A\")\n",
    "if marks > 80 and marks <= 90 :\n",
    "    print(\"grade B\")\n",
    "if marks >= 60 and marks <= 80 :\n",
    "    print (\"grade C\")\n",
    "if marks < 60 :\n",
    "    print(\"grade D\")"
   ]
  },
  {
   "cell_type": "markdown",
   "id": "8ee0fd0c-dc6c-490a-ae20-c5bcd3475cf1",
   "metadata": {},
   "source": [
    "##  Q2. code"
   ]
  },
  {
   "cell_type": "code",
   "execution_count": 10,
   "id": "7736f7ca-4f60-4f8d-a01b-dee63674a1fe",
   "metadata": {},
   "outputs": [
    {
     "name": "stdin",
     "output_type": "stream",
     "text": [
      "enter the cost_price  82000\n"
     ]
    },
    {
     "name": "stdout",
     "output_type": "stream",
     "text": [
      " 10% road tax to be paid. \n"
     ]
    }
   ],
   "source": [
    "cost_price = int( input(\"enter the cost_price \"))\n",
    "if  cost_price  > 100000 :\n",
    "    print(\" 15% road tax to be paid.\")\n",
    "if cost_price > 50000 and cost_price <= 100000 :\n",
    "    print(\" 10% road tax to be paid. \")\n",
    "if cost_price <= 50000 :\n",
    "    print (\" 5% road tax to be paid. \")\n",
    "    "
   ]
  },
  {
   "cell_type": "markdown",
   "id": "a1380628-3bf4-4389-aab6-34f50a0fd46a",
   "metadata": {},
   "source": [
    "##  Q3. code"
   ]
  },
  {
   "cell_type": "code",
   "execution_count": 1,
   "id": "72f5fd50-49bb-4a0f-ac64-29909f55f2da",
   "metadata": {},
   "outputs": [
    {
     "name": "stdin",
     "output_type": "stream",
     "text": [
      "enter the city  AGRA\n"
     ]
    },
    {
     "name": "stdout",
     "output_type": "stream",
     "text": [
      " Taj mahal is a monument in Agra \n"
     ]
    }
   ],
   "source": [
    "city1 = input(\"enter the city \")\n",
    "city = city1.lower()\n",
    "if city == \"delhi\" :\n",
    "    print(\" Red fort is a monument in Delhi\")\n",
    "if city == \"jaipur\" :\n",
    "    print(\" Jal mahal is a monument in Jaipur \")\n",
    "if city == \"agra\" :\n",
    "    print (\" Taj mahal is a monument in Agra \")"
   ]
  },
  {
   "cell_type": "markdown",
   "id": "acd59156-ecde-41c1-a9c4-69b5360872f3",
   "metadata": {},
   "source": [
    "##  Q4. code"
   ]
  },
  {
   "cell_type": "code",
   "execution_count": 6,
   "id": "df4ec3e2-d5e4-4dac-8c06-474ee6ac3b0c",
   "metadata": {},
   "outputs": [
    {
     "name": "stdin",
     "output_type": "stream",
     "text": [
      "enter the number 999\n"
     ]
    },
    {
     "name": "stdout",
     "output_type": "stream",
     "text": [
      "5\n"
     ]
    }
   ],
   "source": [
    "number = int(input(\"enter the number\"))\n",
    "count = 0\n",
    "while number >10:\n",
    "    number = int (number/3)\n",
    "    count = count +1 \n",
    "print(count)"
   ]
  },
  {
   "cell_type": "markdown",
   "id": "0824001f-53f4-4cae-a5f3-af784a3901cf",
   "metadata": {},
   "source": [
    "## Q5. Python While Loop is used to execute a block of statements repeatedly until a given condition is satisfied. And when the condition becomes false, the line immediately after the loop in the program is executed.\n",
    "# explanation\n",
    "While loop falls under the category of indefinite iteration. Indefinite iteration means that the number of times the loop is executed isn’t specified explicitly in advance. \n",
    "\n",
    "Statements represent all the statements indented by the same number of character spaces after a programming construct are considered to be part of a single block of code. Python uses indentation as its method of grouping statements. When a while loop is executed, expr is first evaluated in a Boolean context and if it is true, the loop body is executed. Then the expr is checked again, if it is still true then the body is executed again and this continues until the expression becomes false."
   ]
  },
  {
   "cell_type": "code",
   "execution_count": 7,
   "id": "c2bec0cc-361f-49f4-952b-de674e7846f2",
   "metadata": {},
   "outputs": [
    {
     "name": "stdout",
     "output_type": "stream",
     "text": [
      "4\n",
      "3\n",
      "2\n",
      "1\n"
     ]
    }
   ],
   "source": [
    "# example\n",
    "a = [1, 2, 3, 4]\n",
    " \n",
    "while a:\n",
    "    print(a.pop())"
   ]
  },
  {
   "cell_type": "markdown",
   "id": "702a7b92-fc96-4d5a-ad7f-4ada5a2534ac",
   "metadata": {},
   "source": [
    "## Q6. code"
   ]
  },
  {
   "cell_type": "code",
   "execution_count": 8,
   "id": "65ea081c-2986-484a-b479-067696029719",
   "metadata": {},
   "outputs": [
    {
     "name": "stdout",
     "output_type": "stream",
     "text": [
      "1 \n",
      "1 2 \n",
      "1 2 3 \n",
      "1 2 3 4 \n",
      "1 2 3 4 5 \n"
     ]
    }
   ],
   "source": [
    "# pattern 1\n",
    "i=1\n",
    "while i<=5:\n",
    "    j=1\n",
    "    while j<=i:\n",
    "        print(j,end=\" \")\n",
    "        j=j+1\n",
    "    print(\"\")\n",
    "    i=i+1"
   ]
  },
  {
   "cell_type": "code",
   "execution_count": 9,
   "id": "bcc3882d-5692-4a94-bc20-37a2f7e0710b",
   "metadata": {},
   "outputs": [
    {
     "name": "stdin",
     "output_type": "stream",
     "text": [
      "Enter number of rows :  5\n"
     ]
    },
    {
     "name": "stdout",
     "output_type": "stream",
     "text": [
      "* \n",
      "* * \n",
      "* * * \n",
      "* * * * \n",
      "* * * * * \n"
     ]
    }
   ],
   "source": [
    "# pattern 2\n",
    "n = int(input('Enter number of rows : '))\n",
    " \n",
    "i = 1\n",
    "while i <= n :\n",
    "    j = 1\n",
    "    while j <= i:\n",
    "        print(\"*\", end = \" \")\n",
    "        j += 1\n",
    "    print()\n",
    "    i += 1"
   ]
  },
  {
   "cell_type": "code",
   "execution_count": 10,
   "id": "2c334850-6dba-42fd-9a35-22e123579142",
   "metadata": {},
   "outputs": [
    {
     "name": "stdin",
     "output_type": "stream",
     "text": [
      "Enter number of rows :  6\n"
     ]
    },
    {
     "name": "stdout",
     "output_type": "stream",
     "text": [
      "* * * * * * \n",
      "* * * * * \n",
      "* * * * \n",
      "* * * \n",
      "* * \n",
      "* \n"
     ]
    }
   ],
   "source": [
    "# pattern 3\n",
    "n = int(input('Enter number of rows : '))\n",
    " \n",
    "i = 1\n",
    "while i <= n :\n",
    "    j = n\n",
    "    while j >= i:\n",
    "        print(\"*\", end = \" \")\n",
    "        j -= 1\n",
    "    print()\n",
    "    i += 1\n"
   ]
  },
  {
   "cell_type": "markdown",
   "id": "a723e82a-edbf-4c89-afd1-d5053da05721",
   "metadata": {},
   "source": [
    "## Q7. and Q8. code"
   ]
  },
  {
   "cell_type": "code",
   "execution_count": 11,
   "id": "df9eb912-3811-42f2-9f24-5f29f4c18ec3",
   "metadata": {},
   "outputs": [
    {
     "name": "stdout",
     "output_type": "stream",
     "text": [
      "10\n",
      "9\n",
      "8\n",
      "7\n",
      "6\n",
      "5\n",
      "4\n",
      "3\n",
      "2\n",
      "1\n"
     ]
    }
   ],
   "source": [
    "i=10\n",
    "while(i>=1):\n",
    "   print(i)\n",
    "   i=i-1"
   ]
  },
  {
   "cell_type": "code",
   "execution_count": null,
   "id": "f6387d85-c67b-4cb4-b85b-7cb69533be13",
   "metadata": {},
   "outputs": [],
   "source": []
  }
 ],
 "metadata": {
  "kernelspec": {
   "display_name": "Python 3 (ipykernel)",
   "language": "python",
   "name": "python3"
  },
  "language_info": {
   "codemirror_mode": {
    "name": "ipython",
    "version": 3
   },
   "file_extension": ".py",
   "mimetype": "text/x-python",
   "name": "python",
   "nbconvert_exporter": "python",
   "pygments_lexer": "ipython3",
   "version": "3.10.8"
  }
 },
 "nbformat": 4,
 "nbformat_minor": 5
}
