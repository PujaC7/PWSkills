{
 "cells": [
  {
   "cell_type": "markdown",
   "id": "f5a77995-7b5e-4f66-a985-c9d7f9825786",
   "metadata": {},
   "source": [
    "## Q1.  code"
   ]
  },
  {
   "cell_type": "code",
   "execution_count": 14,
   "id": "80ce959e-0074-4aa6-8a48-653ebd564f76",
   "metadata": {},
   "outputs": [
    {
     "data": {
      "text/plain": [
       "[('Virat Kohli', 24936),\n",
       " ('Jack Kallis', 25534),\n",
       " ('Ricky Ponting', 27483),\n",
       " ('Sachin Tendulkar', 34357)]"
      ]
     },
     "execution_count": 14,
     "metadata": {},
     "output_type": "execute_result"
    }
   ],
   "source": [
    "tuples_list = [('Sachin Tendulkar', 34357), ('Ricky Ponting', 27483), ('Jack Kallis', 25534), ('Virat Kohli', 24936)]\n",
    "sorted(tuples_list, key=lambda x: (x[1]))"
   ]
  },
  {
   "cell_type": "markdown",
   "id": "6a214ee9-05a5-4dd6-bec3-1a05e28871ec",
   "metadata": {},
   "source": [
    "##  Q2.  code"
   ]
  },
  {
   "cell_type": "code",
   "execution_count": 16,
   "id": "21c0b452-c1b7-4483-b988-1faa81984abf",
   "metadata": {},
   "outputs": [
    {
     "data": {
      "text/plain": [
       "[1, 4, 9, 16, 25, 36, 49, 64, 81, 100]"
      ]
     },
     "execution_count": 16,
     "metadata": {},
     "output_type": "execute_result"
    }
   ],
   "source": [
    "list_sq = [1, 2, 3, 4, 5, 6, 7, 8, 9, 10]\n",
    "list(map(lambda x :  x**2 , list_sq))"
   ]
  },
  {
   "cell_type": "markdown",
   "id": "4dc204ec-3678-4f0e-a6d6-2db66ba80338",
   "metadata": {},
   "source": [
    "##  Q3.   code"
   ]
  },
  {
   "cell_type": "code",
   "execution_count": 18,
   "id": "d1e8c5ed-1753-4b3c-b507-32e28bf2338e",
   "metadata": {},
   "outputs": [
    {
     "data": {
      "text/plain": [
       "('1', '2', '3', '4', '5', '6', '7', '8', '9', '10')"
      ]
     },
     "execution_count": 18,
     "metadata": {},
     "output_type": "execute_result"
    }
   ],
   "source": [
    "list_str = [1, 2, 3, 4, 5, 6, 7, 8, 9, 10]\n",
    "tuple(map(lambda x : str(x),list_str))"
   ]
  },
  {
   "cell_type": "markdown",
   "id": "1eb690a9-77e5-4e87-b66e-e8e59c78274c",
   "metadata": {},
   "source": [
    "## Q4. code"
   ]
  },
  {
   "cell_type": "code",
   "execution_count": 28,
   "id": "276fb7db-3a91-4d6d-9a4c-e07ee204eef8",
   "metadata": {},
   "outputs": [
    {
     "data": {
      "text/plain": [
       "15511210043330985984000000"
      ]
     },
     "execution_count": 28,
     "metadata": {},
     "output_type": "execute_result"
    }
   ],
   "source": [
    "import functools\n",
    "\n",
    "list_product = []\n",
    "for i in range (1,26):\n",
    "    list_product.append(i)\n",
    "functools.reduce(lambda x,y : x*y , list_product)"
   ]
  },
  {
   "cell_type": "markdown",
   "id": "fdde40fe-d45c-48eb-ae8d-3b3a612e90e2",
   "metadata": {},
   "source": [
    "##  Q5.  code"
   ]
  },
  {
   "cell_type": "code",
   "execution_count": 30,
   "id": "dad6b151-a8b6-4a04-a982-480521efbff9",
   "metadata": {},
   "outputs": [
    {
     "data": {
      "text/plain": [
       "[6, 60, 90, 120]"
      ]
     },
     "execution_count": 30,
     "metadata": {},
     "output_type": "execute_result"
    }
   ],
   "source": [
    "list_filter = [2, 3, 6, 9, 27, 60, 90, 120, 55, 46]\n",
    "list(filter(lambda x : (x%2) == 0 and (x%3) == 0 , list_filter))"
   ]
  },
  {
   "cell_type": "markdown",
   "id": "082d46f7-e7d2-4a79-b1e1-7dd75c5a8537",
   "metadata": {},
   "source": [
    "##  Q6.  code"
   ]
  },
  {
   "cell_type": "code",
   "execution_count": 35,
   "id": "18c03d0d-d631-4a0f-99ed-5684289b718f",
   "metadata": {},
   "outputs": [
    {
     "data": {
      "text/plain": [
       "['php', 'aba', 'radar', 'level']"
      ]
     },
     "execution_count": 35,
     "metadata": {},
     "output_type": "execute_result"
    }
   ],
   "source": [
    "def palindrome(p):\n",
    "    reverse = p[::-1]\n",
    "    if(p== reverse):\n",
    "        return True\n",
    "    else:\n",
    "        return False\n",
    "list_palindrome = ['python', 'php', 'aba', 'radar', 'level']\n",
    "list(filter(lambda x : palindrome(x) , list_palindrome))"
   ]
  },
  {
   "cell_type": "code",
   "execution_count": null,
   "id": "a29233e8-19ae-43c3-9dd0-dbce9b0b0c75",
   "metadata": {},
   "outputs": [],
   "source": []
  }
 ],
 "metadata": {
  "kernelspec": {
   "display_name": "Python 3 (ipykernel)",
   "language": "python",
   "name": "python3"
  },
  "language_info": {
   "codemirror_mode": {
    "name": "ipython",
    "version": 3
   },
   "file_extension": ".py",
   "mimetype": "text/x-python",
   "name": "python",
   "nbconvert_exporter": "python",
   "pygments_lexer": "ipython3",
   "version": "3.10.8"
  }
 },
 "nbformat": 4,
 "nbformat_minor": 5
}
