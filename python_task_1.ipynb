{
 "cells": [
  {
   "cell_type": "markdown",
   "id": "d6d16fdf-edbe-4992-9e8b-5b3a796112a6",
   "metadata": {},
   "source": [
    "## Q1.  code"
   ]
  },
  {
   "cell_type": "code",
   "execution_count": 30,
   "id": "cf6ecaaa-dd3e-42f0-8626-53e23a79c9e0",
   "metadata": {},
   "outputs": [
    {
     "name": "stdout",
     "output_type": "stream",
     "text": [
      "4134711838987085478833841242112000\n"
     ]
    }
   ],
   "source": [
    "import functools\n",
    "list1 = [1,2,3,4, [44,55,66, True], False, (34,56,78,89,34), {1,2,3,3,2,1}, {1:34, \"key2\": [55, 67, 78, 89], 4: (45, 22, 61, 34)}, [56, 'data science'], 'Machine Learning']\n",
    "\n",
    "result_list = []\n",
    "\n",
    "def flat_list(a):\n",
    "    for i in a:\n",
    "        if isinstance(i, int) :\n",
    "            result_list.append(i)\n",
    "            \n",
    "def flat_set_tuple(b):\n",
    "    flat_list(list(b))\n",
    "    \n",
    "def flat_dict(d):\n",
    "    list_dictKeys = d.keys()\n",
    "    list_dictValues = d.values()\n",
    "    flat_mainList(list_dictKeys)\n",
    "    flat_mainList(list_dictValues)\n",
    "            \n",
    "    \n",
    "#def flat_set(c):\n",
    "#    flat_list(list(c))\n",
    "\n",
    "def flat_mainList(list1):\n",
    "    for i in list1:\n",
    "        if isinstance(i, int) :\n",
    "            result_list.append (i)\n",
    "        if type(i) == list:\n",
    "            flat_list(i)\n",
    "        if type(i) is tuple:\n",
    "            flat_set_tuple(i)\n",
    "        if type(i) is set:\n",
    "            flat_set_tuple(i)\n",
    "        if type(i) is dict:\n",
    "            flat_dict(i)\n",
    "        \n",
    "flat_mainList(list1)      \n",
    "result_list =  (list(filter(bool,result_list)))\n",
    "print(functools.reduce(lambda x,y : x*y , result_list))\n"
   ]
  },
  {
   "cell_type": "markdown",
   "id": "07340d9b-8796-4b7b-a49f-a7cc894023f7",
   "metadata": {},
   "source": [
    "##  Q2.  code"
   ]
  },
  {
   "cell_type": "code",
   "execution_count": 34,
   "id": "3dc3b8bd-5e30-4dd6-b59e-23b31ee78c29",
   "metadata": {},
   "outputs": [
    {
     "name": "stdin",
     "output_type": "stream",
     "text": [
      " enter the sentence   I want to become a Data Scientist.\n"
     ]
    },
    {
     "name": "stdout",
     "output_type": "stream",
     "text": [
      "r$dzmg$gl$yvxlnv$z$wzgz$hxrvmgrhg­\n"
     ]
    }
   ],
   "source": [
    "input_Sentence = input(\" enter the sentence  \")\n",
    "input_ = input_Sentence.lower()\n",
    "result = \"\"\n",
    "\n",
    "for i in input_:\n",
    "    if i != \" \":\n",
    "        ascii_ = ord(i)\n",
    "        c = 122 - ascii_\n",
    "        d = 97 + c\n",
    "        result = result + chr(d)\n",
    "    \n",
    "    else:\n",
    "        result = result + \"$\"\n",
    "print(result)\n"
   ]
  },
  {
   "cell_type": "code",
   "execution_count": null,
   "id": "59844415-4e50-4887-b75e-9cf5910c160a",
   "metadata": {},
   "outputs": [],
   "source": []
  },
  {
   "cell_type": "code",
   "execution_count": null,
   "id": "ab159de4-d106-4cb2-98f1-26c2dd78dc60",
   "metadata": {},
   "outputs": [],
   "source": []
  }
 ],
 "metadata": {
  "kernelspec": {
   "display_name": "Python 3 (ipykernel)",
   "language": "python",
   "name": "python3"
  },
  "language_info": {
   "codemirror_mode": {
    "name": "ipython",
    "version": 3
   },
   "file_extension": ".py",
   "mimetype": "text/x-python",
   "name": "python",
   "nbconvert_exporter": "python",
   "pygments_lexer": "ipython3",
   "version": "3.10.8"
  }
 },
 "nbformat": 4,
 "nbformat_minor": 5
}
