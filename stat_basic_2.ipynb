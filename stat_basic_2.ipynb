{
 "cells": [
  {
   "cell_type": "markdown",
   "id": "d707af4d-212a-4052-a51a-f3df8cc78f5a",
   "metadata": {},
   "source": [
    "## Q1.  the three measures of central tendency are mean, median and mode."
   ]
  },
  {
   "cell_type": "markdown",
   "id": "159832f6-352c-4143-a57a-4ec6a9b537c2",
   "metadata": {},
   "source": [
    "## Q2.  mean is the average of a given data set, median is the middlemost data value and the mode represents the most frequently occurring data value in the set.\n",
    "### Measures of central tendency help to find the middle, or the average, of a data set.\n",
    "1. The mode is the most frequent value.\n",
    "2. The median is the middle number in an ordered data set.\n",
    "3. The mean is the sum of all values divided by the total number of values."
   ]
  },
  {
   "cell_type": "markdown",
   "id": "5a02c606-4da0-4876-b3f3-0f2bf1c39862",
   "metadata": {},
   "source": [
    "## Q3.  code"
   ]
  },
  {
   "cell_type": "code",
   "execution_count": 1,
   "id": "d21b9b22-e0d9-4932-b90d-de4e4d214b38",
   "metadata": {},
   "outputs": [],
   "source": [
    "list_ = [178,177,176,177,178.2,178,175,179,180,175,178.9,176.2,177,172.5,178,176.5]\n",
    "import numpy as np\n",
    "mean = np.mean(list_)"
   ]
  },
  {
   "cell_type": "code",
   "execution_count": 2,
   "id": "a3b3a999-76cc-4d4c-8063-617b91c47044",
   "metadata": {},
   "outputs": [
    {
     "data": {
      "text/plain": [
       "177.01875"
      ]
     },
     "execution_count": 2,
     "metadata": {},
     "output_type": "execute_result"
    }
   ],
   "source": [
    "mean"
   ]
  },
  {
   "cell_type": "code",
   "execution_count": 3,
   "id": "6ffed8ab-5386-4901-9f2d-3b1880fd3945",
   "metadata": {},
   "outputs": [],
   "source": [
    "median = np.median(list_)"
   ]
  },
  {
   "cell_type": "code",
   "execution_count": 4,
   "id": "0c0337c7-e547-4fed-b880-2ba053d4d81e",
   "metadata": {},
   "outputs": [
    {
     "data": {
      "text/plain": [
       "177.0"
      ]
     },
     "execution_count": 4,
     "metadata": {},
     "output_type": "execute_result"
    }
   ],
   "source": [
    "median"
   ]
  },
  {
   "cell_type": "code",
   "execution_count": 5,
   "id": "8af44f89-511e-4767-9125-7e282816df16",
   "metadata": {},
   "outputs": [
    {
     "name": "stderr",
     "output_type": "stream",
     "text": [
      "/tmp/ipykernel_78/1212073223.py:2: FutureWarning: Unlike other reduction functions (e.g. `skew`, `kurtosis`), the default behavior of `mode` typically preserves the axis it acts along. In SciPy 1.11.0, this behavior will change: the default value of `keepdims` will become False, the `axis` over which the statistic is taken will be eliminated, and the value None will no longer be accepted. Set `keepdims` to True or False to avoid this warning.\n",
      "  mode = stats.mode(list_)\n"
     ]
    }
   ],
   "source": [
    "from scipy import stats\n",
    "mode = stats.mode(list_)"
   ]
  },
  {
   "cell_type": "code",
   "execution_count": 6,
   "id": "2832413b-761d-4bb6-8faa-a8390394af11",
   "metadata": {},
   "outputs": [
    {
     "data": {
      "text/plain": [
       "ModeResult(mode=array([177.]), count=array([3]))"
      ]
     },
     "execution_count": 6,
     "metadata": {},
     "output_type": "execute_result"
    }
   ],
   "source": [
    "mode"
   ]
  },
  {
   "cell_type": "markdown",
   "id": "8f4955e5-adf2-4932-bcb4-6d0bf7f00147",
   "metadata": {},
   "source": [
    "## Q4.  code"
   ]
  },
  {
   "cell_type": "code",
   "execution_count": 7,
   "id": "3e52ad97-6d52-4944-a0cb-d2033d3ad4bb",
   "metadata": {},
   "outputs": [
    {
     "data": {
      "text/plain": [
       "1.7885814036548633"
      ]
     },
     "execution_count": 7,
     "metadata": {},
     "output_type": "execute_result"
    }
   ],
   "source": [
    "std = np.std(list_)\n",
    "std"
   ]
  },
  {
   "cell_type": "markdown",
   "id": "baaf53b1-9e5c-45e1-8bb6-40d5832edb8c",
   "metadata": {},
   "source": [
    "## Q5.  The measures of central tendency are not adequate to describe data. Two data sets can have the same mean but they can be entirely different. Thus to describe data, one needs to know the extent of variability. This is given by the measures of dispersion. Range, interquartile range, and standard deviation are the three commonly used measures of dispersion.\n",
    "### example\n",
    "####  Standard deviation, Range, Mean absolute difference, Median absolute deviation, Interquartile change, and Average deviation are examples of measures of dispersion."
   ]
  },
  {
   "cell_type": "markdown",
   "id": "158a58b5-91a2-400d-bc7f-4888de7fb087",
   "metadata": {},
   "source": [
    "## Q6.  A Venn diagram illustrates the relationships between two or more data sets. Venn diagrams are especially useful for highlighting similarities and differences and are commonly used to compare and contrast the characteristics of different data sets. In a Venn diagram, circles are used to represent each data set."
   ]
  },
  {
   "cell_type": "markdown",
   "id": "46fb396f-89fc-45bf-a119-0b1b73c3dae0",
   "metadata": {},
   "source": [
    "## Q7.  A = {2,3,4,5,6,7} & B = {0,2,6,8,10}\n",
    "### AUB = {0,2,4,5,6,7,8,10}\n",
    "### A intersection B = {2,6}"
   ]
  },
  {
   "cell_type": "markdown",
   "id": "b0f45153-020d-480f-becd-d35352a5f83c",
   "metadata": {},
   "source": [
    "## Q8.  Skewness is a measurement of the distortion of symmetrical distribution or asymmetry in a data set. Skewness is demonstrated on a bell curve when data points are not distributed symmetrically to the left and right sides of the median on a bell curve."
   ]
  },
  {
   "cell_type": "markdown",
   "id": "e1deebc2-bb86-4cf9-afc4-1d03abb90956",
   "metadata": {},
   "source": [
    "## Q9.  When the distribution is skewed to the right, the mean is often greater than the median. In symmetric distributions, we expect the mean and median to be approximately equal in value. This is an important connection between the shape of the distribution and the relationship of the mean and median."
   ]
  },
  {
   "cell_type": "markdown",
   "id": "7c5b7a15-94e8-4952-ab3b-ebb51961da66",
   "metadata": {},
   "source": [
    "## Q10.  Covariance is an indicator of the extent to which 2 random variables are dependent on each other. A higher number denotes higher dependency. Correlation is a statistical measure that indicates how strongly two variables are related. The value of covariance lies in the range of -∞ and +∞.\n",
    "### Both covariance and correlation measure the relationship and the dependency between two variables. Covariance indicates the direction of the linear relationship between variables. Correlation measures both the strength and direction of the linear relationship between two variables."
   ]
  },
  {
   "cell_type": "markdown",
   "id": "ce116431-d21b-4ace-adda-be9c1edf488c",
   "metadata": {},
   "source": [
    "## Q11.  The general sample mean formula for calculating the sample mean is expressed as x̄ = ( Σ xi ) ÷ n. Here, x̄ denotes the average value of the samples or sample mean, xi refers all X sample values and 'n' stands for the number of sample terms in the given data.\n",
    "### example\n",
    "#### Find the sample mean of 60, 57, 109,50\n",
    "1. Sum of terms = 60 + 57 + 109 + 50 = 276\n",
    "2. Number of terms = 4\n",
    "3. Using sample mean formula, mean = (sum of terms)/(number of terms)\n",
    "4. mean = 276/4 = 69\n",
    "#### The sample mean of 60, 57, 109, 50 is  69."
   ]
  },
  {
   "cell_type": "markdown",
   "id": "23527d70-fb41-4260-9593-bbe6d1c11cd6",
   "metadata": {},
   "source": [
    "## Q12.  Any normal distribution has a graph that is perfectly symmetric about a vertical line through its peak. Therefore, all measures of central tendency (most commonly, the mean, median, and mode) give the same answer: the x -value of the peak"
   ]
  },
  {
   "cell_type": "markdown",
   "id": "f978ecd0-714b-4fad-b180-317cdc34aec8",
   "metadata": {},
   "source": [
    "## Q13.  Covariance and correlation are two terms that are opposed and are both used in statistics and regression analysis. Covariance shows you how the two variables differ, whereas correlation shows you how the two variables are related."
   ]
  },
  {
   "cell_type": "markdown",
   "id": "50ada160-3e82-4ff1-addb-a07f02ec2604",
   "metadata": {},
   "source": [
    "## Q14.  Outliers are numbers in a data set that are vastly larger or smaller than the other values in the set. Mean, median and mode are measures of central tendency. Mean is the only measure of central tendency that is always affected by an outlier.\n",
    "### example\n",
    "#### Sally earned scores of 60, 65, 65, and 80 on 4 tests. How would scoring 100 on a fifth test affect the mean?\n",
    "#### Initial Mean =(60 + 65 + 65 + 80)/4 = 67.5\n",
    "#### Mean with outlier =(60 + 65 + 65 + 80 + 100)/5 = 74"
   ]
  },
  {
   "cell_type": "code",
   "execution_count": null,
   "id": "2626f56f-b46a-4152-941d-06037b52fb45",
   "metadata": {},
   "outputs": [],
   "source": []
  }
 ],
 "metadata": {
  "kernelspec": {
   "display_name": "Python 3 (ipykernel)",
   "language": "python",
   "name": "python3"
  },
  "language_info": {
   "codemirror_mode": {
    "name": "ipython",
    "version": 3
   },
   "file_extension": ".py",
   "mimetype": "text/x-python",
   "name": "python",
   "nbconvert_exporter": "python",
   "pygments_lexer": "ipython3",
   "version": "3.10.8"
  }
 },
 "nbformat": 4,
 "nbformat_minor": 5
}
