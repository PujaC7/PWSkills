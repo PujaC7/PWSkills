{
 "cells": [
  {
   "cell_type": "code",
   "execution_count": 1,
   "id": "12b89bff-cb84-4d2f-b547-e7e478d30440",
   "metadata": {},
   "outputs": [
    {
     "name": "stdin",
     "output_type": "stream",
     "text": [
      "Enter a string:  Sourav\n"
     ]
    },
    {
     "name": "stdout",
     "output_type": "stream",
     "text": [
      "Reversed string: varuoS\n"
     ]
    }
   ],
   "source": [
    "## Q1.\n",
    "def reverse_string(input_string):\n",
    "    reversed_string = \"\"\n",
    "    for char in input_string:\n",
    "        reversed_string = char + reversed_string\n",
    "    return reversed_string\n",
    "\n",
    "# Test the function\n",
    "string_to_reverse = input(\"Enter a string: \")\n",
    "reversed_string = reverse_string(string_to_reverse)\n",
    "print(\"Reversed string:\", reversed_string)"
   ]
  },
  {
   "cell_type": "code",
   "execution_count": 3,
   "id": "9b6e5cbb-96d5-414e-aba7-30b3ad442f40",
   "metadata": {},
   "outputs": [
    {
     "name": "stdin",
     "output_type": "stream",
     "text": [
      "Enter a string:  MoM\n"
     ]
    },
    {
     "name": "stdout",
     "output_type": "stream",
     "text": [
      "The string is a palindrome.\n"
     ]
    }
   ],
   "source": [
    "## Q2.\n",
    "def is_palindrome(input_string):\n",
    "    # Remove whitespace and convert to lowercase\n",
    "    input_string = input_string.replace(\" \", \"\").lower()\n",
    "    \n",
    "    # Check if the string is equal to its reverse\n",
    "    if input_string == input_string[::-1]:\n",
    "        return True\n",
    "    else:\n",
    "        return False\n",
    "\n",
    "# Test the function\n",
    "string_to_check = input(\"Enter a string: \")\n",
    "if is_palindrome(string_to_check):\n",
    "    print(\"The string is a palindrome.\")\n",
    "else:\n",
    "    print(\"The string is not a palindrome.\")"
   ]
  },
  {
   "cell_type": "code",
   "execution_count": 4,
   "id": "61a169dd-8f1c-4d94-bfb6-7775456d0ff0",
   "metadata": {},
   "outputs": [
    {
     "name": "stdout",
     "output_type": "stream",
     "text": [
      "The largest number is: 9\n"
     ]
    }
   ],
   "source": [
    "## Q3.\n",
    "def find_largest_element(input_list):\n",
    "    if len(input_list) == 0:\n",
    "        return None\n",
    "    \n",
    "    largest_element = input_list[0]\n",
    "    for element in input_list:\n",
    "        if element > largest_element:\n",
    "            largest_element = element\n",
    "    \n",
    "    return largest_element\n",
    "\n",
    "# Test the function\n",
    "numbers = [5, 2, 9, 1, 7]\n",
    "largest_number = find_largest_element(numbers)\n",
    "print(\"The largest number is:\", largest_number)"
   ]
  },
  {
   "cell_type": "code",
   "execution_count": 5,
   "id": "e3d3ba02-8a6d-4706-8ecb-15c8452ccb6c",
   "metadata": {},
   "outputs": [
    {
     "name": "stdout",
     "output_type": "stream",
     "text": [
      "Element Occurrences:\n",
      "1: 3\n",
      "2: 3\n",
      "3: 2\n",
      "4: 1\n",
      "5: 1\n"
     ]
    }
   ],
   "source": [
    "## Q4.\n",
    "def count_occurrences(input_list):\n",
    "    occurrence_count = {}\n",
    "    \n",
    "    for element in input_list:\n",
    "        if element in occurrence_count:\n",
    "            occurrence_count[element] += 1\n",
    "        else:\n",
    "            occurrence_count[element] = 1\n",
    "    \n",
    "    return occurrence_count\n",
    "\n",
    "# Test the function\n",
    "numbers = [1, 2, 3, 2, 1, 3, 4, 2, 5, 1]\n",
    "occurrences = count_occurrences(numbers)\n",
    "print(\"Element Occurrences:\")\n",
    "for element, count in occurrences.items():\n",
    "    print(f\"{element}: {count}\")"
   ]
  },
  {
   "cell_type": "code",
   "execution_count": 6,
   "id": "b1086368-5ab3-477f-b061-0a195388256e",
   "metadata": {},
   "outputs": [
    {
     "name": "stdout",
     "output_type": "stream",
     "text": [
      "The second largest number is: 8\n"
     ]
    }
   ],
   "source": [
    "## Q5.\n",
    "def find_second_largest(input_list):\n",
    "    if len(input_list) < 2:\n",
    "        return None\n",
    "    \n",
    "    largest = max(input_list[0], input_list[1])\n",
    "    second_largest = min(input_list[0], input_list[1])\n",
    "    \n",
    "    for i in range(2, len(input_list)):\n",
    "        if input_list[i] > largest:\n",
    "            second_largest = largest\n",
    "            largest = input_list[i]\n",
    "        elif input_list[i] > second_largest and input_list[i] != largest:\n",
    "            second_largest = input_list[i]\n",
    "    \n",
    "    return second_largest\n",
    "\n",
    "# Test the function\n",
    "numbers = [5, 2, 9, 1, 7, 8]\n",
    "second_largest_number = find_second_largest(numbers)\n",
    "\n",
    "if second_largest_number is not None:\n",
    "    print(\"The second largest number is:\", second_largest_number)\n",
    "else:\n",
    "    print(\"There is no second largest number in the list.\")"
   ]
  },
  {
   "cell_type": "code",
   "execution_count": 7,
   "id": "9fc6ae49-a351-4868-ab5b-d033b7bb3449",
   "metadata": {},
   "outputs": [
    {
     "name": "stdout",
     "output_type": "stream",
     "text": [
      "List with duplicates removed: [1, 2, 3, 4, 5]\n"
     ]
    }
   ],
   "source": [
    "## Q6.\n",
    "def remove_duplicates(input_list):\n",
    "    unique_list = []\n",
    "    for element in input_list:\n",
    "        if element not in unique_list:\n",
    "            unique_list.append(element)\n",
    "    return unique_list\n",
    "\n",
    "# Test the function\n",
    "numbers = [1, 2, 3, 2, 1, 3, 4, 2, 5, 1]\n",
    "result = remove_duplicates(numbers)\n",
    "print(\"List with duplicates removed:\", result)"
   ]
  },
  {
   "cell_type": "code",
   "execution_count": 9,
   "id": "ec873f99-880c-45b3-a620-b79fd62ab143",
   "metadata": {},
   "outputs": [
    {
     "name": "stdin",
     "output_type": "stream",
     "text": [
      "Enter a number:  7\n"
     ]
    },
    {
     "name": "stdout",
     "output_type": "stream",
     "text": [
      "Factorial of 7 is: 5040\n"
     ]
    }
   ],
   "source": [
    "## Q7.\n",
    "def factorial(n):\n",
    "    if n == 0:\n",
    "        return 1\n",
    "    else:\n",
    "        return n * factorial(n - 1)\n",
    "\n",
    "# Test the function\n",
    "number = int(input(\"Enter a number: \"))\n",
    "result = factorial(number)\n",
    "print(\"Factorial of\", number, \"is:\", result)"
   ]
  },
  {
   "cell_type": "code",
   "execution_count": 10,
   "id": "cb7fb38e-4ec8-404a-b0db-da0059858020",
   "metadata": {},
   "outputs": [
    {
     "name": "stdin",
     "output_type": "stream",
     "text": [
      "Enter a number:  56\n"
     ]
    },
    {
     "name": "stdout",
     "output_type": "stream",
     "text": [
      "56 is not a prime number.\n"
     ]
    }
   ],
   "source": [
    "## Q8.\n",
    "def is_prime(number):\n",
    "    if number < 2:\n",
    "        return False\n",
    "\n",
    "    for i in range(2, int(number ** 0.5) + 1):\n",
    "        if number % i == 0:\n",
    "            return False\n",
    "\n",
    "    return True\n",
    "\n",
    "# Test the function\n",
    "number = int(input(\"Enter a number: \"))\n",
    "if is_prime(number):\n",
    "    print(number, \"is a prime number.\")\n",
    "else:\n",
    "    print(number, \"is not a prime number.\")"
   ]
  },
  {
   "cell_type": "code",
   "execution_count": 11,
   "id": "ac6eb870-4931-4b5e-a4cd-9e6f50c843ea",
   "metadata": {},
   "outputs": [
    {
     "name": "stdout",
     "output_type": "stream",
     "text": [
      "Sorted numbers: [1, 2, 5, 7, 9]\n"
     ]
    }
   ],
   "source": [
    "## Q9.\n",
    "def ascending_sort(input_list):\n",
    "    sorted_list = sorted(input_list)\n",
    "    return sorted_list\n",
    "\n",
    "# Test the function\n",
    "numbers = [5, 2, 9, 1, 7]\n",
    "sorted_numbers = ascending_sort(numbers)\n",
    "print(\"Sorted numbers:\", sorted_numbers)"
   ]
  },
  {
   "cell_type": "code",
   "execution_count": 12,
   "id": "e5d1e908-3022-4cac-ae65-bfadb25d2feb",
   "metadata": {},
   "outputs": [
    {
     "name": "stdout",
     "output_type": "stream",
     "text": [
      "Sum of numbers: 15\n"
     ]
    }
   ],
   "source": [
    "## Q10.\n",
    "def find_sum(input_list):\n",
    "    total_sum = 0\n",
    "    for number in input_list:\n",
    "        total_sum += number\n",
    "    return total_sum\n",
    "\n",
    "# Test the function\n",
    "numbers = [1, 2, 3, 4, 5]\n",
    "sum_of_numbers = find_sum(numbers)\n",
    "print(\"Sum of numbers:\", sum_of_numbers)"
   ]
  },
  {
   "cell_type": "code",
   "execution_count": 13,
   "id": "228ff9eb-15f9-49cc-a61e-d9461c2650df",
   "metadata": {},
   "outputs": [
    {
     "name": "stdout",
     "output_type": "stream",
     "text": [
      "Common elements: [4, 5]\n"
     ]
    }
   ],
   "source": [
    "## Q11.\n",
    "def find_common_elements(list1, list2):\n",
    "    common_elements = []\n",
    "    for element in list1:\n",
    "        if element in list2 and element not in common_elements:\n",
    "            common_elements.append(element)\n",
    "    return common_elements\n",
    "\n",
    "# Test the function\n",
    "list1 = [1, 2, 3, 4, 5]\n",
    "list2 = [4, 5, 6, 7, 8]\n",
    "common_elements = find_common_elements(list1, list2)\n",
    "print(\"Common elements:\", common_elements)"
   ]
  },
  {
   "cell_type": "code",
   "execution_count": 14,
   "id": "811c8943-dd74-4a59-8ec4-612c5c144880",
   "metadata": {},
   "outputs": [
    {
     "name": "stdin",
     "output_type": "stream",
     "text": [
      "Enter the first string:  sourav\n",
      "Enter the second string:  puja\n"
     ]
    },
    {
     "name": "stdout",
     "output_type": "stream",
     "text": [
      "The strings are not anagrams.\n"
     ]
    }
   ],
   "source": [
    "## Q12.\n",
    "def is_anagram(string1, string2):\n",
    "    # Remove whitespace and convert to lowercase\n",
    "    string1 = string1.replace(\" \", \"\").lower()\n",
    "    string2 = string2.replace(\" \", \"\").lower()\n",
    "\n",
    "    # Check if the sorted strings are equal\n",
    "    return sorted(string1) == sorted(string2)\n",
    "\n",
    "# Test the function\n",
    "string1 = input(\"Enter the first string: \")\n",
    "string2 = input(\"Enter the second string: \")\n",
    "\n",
    "if is_anagram(string1, string2):\n",
    "    print(\"The strings are anagrams.\")\n",
    "else:\n",
    "    print(\"The strings are not anagrams.\")"
   ]
  },
  {
   "cell_type": "code",
   "execution_count": 16,
   "id": "3bcb789c-3a08-4b64-a73b-e5f27456b549",
   "metadata": {},
   "outputs": [
    {
     "name": "stdin",
     "output_type": "stream",
     "text": [
      "Enter a string:  pu\n"
     ]
    },
    {
     "name": "stdout",
     "output_type": "stream",
     "text": [
      "Permutations:\n",
      "pu\n",
      "up\n"
     ]
    }
   ],
   "source": [
    "## Q13.\n",
    "def permutations(string):\n",
    "    if len(string) == 0:\n",
    "        return []\n",
    "\n",
    "    if len(string) == 1:\n",
    "        return [string]\n",
    "\n",
    "    perm_list = []  # List to store permutations\n",
    "\n",
    "    for i in range(len(string)):\n",
    "        char = string[i]\n",
    "\n",
    "        # Remaining string after excluding the current character\n",
    "        remaining_string = string[:i] + string[i + 1:]\n",
    "\n",
    "        # Generate permutations of the remaining string\n",
    "        for perm in permutations(remaining_string):\n",
    "            perm_list.append(char + perm)\n",
    "\n",
    "    return perm_list\n",
    "\n",
    "# Test the program\n",
    "input_string = input(\"Enter a string: \")\n",
    "permutations_list = permutations(input_string)\n",
    "print(\"Permutations:\")\n",
    "for perm in permutations_list:\n",
    "    print(perm)"
   ]
  },
  {
   "cell_type": "code",
   "execution_count": 17,
   "id": "901bdef4-ef33-490a-820f-b8b20f032456",
   "metadata": {},
   "outputs": [
    {
     "name": "stdin",
     "output_type": "stream",
     "text": [
      "Enter the number of terms:  8\n"
     ]
    },
    {
     "name": "stdout",
     "output_type": "stream",
     "text": [
      "Fibonacci sequence up to 8 terms: [0, 1, 1, 2, 3, 5, 8, 13]\n"
     ]
    }
   ],
   "source": [
    "## Q14.\n",
    "def fibonacci_sequence(n):\n",
    "    sequence = []\n",
    "\n",
    "    if n >= 1:\n",
    "        sequence.append(0)\n",
    "    if n >= 2:\n",
    "        sequence.append(1)\n",
    "\n",
    "    for i in range(2, n):\n",
    "        next_number = sequence[i-1] + sequence[i-2]\n",
    "        sequence.append(next_number)\n",
    "\n",
    "    return sequence\n",
    "\n",
    "# Test the function\n",
    "terms = int(input(\"Enter the number of terms: \"))\n",
    "fibonacci = fibonacci_sequence(terms)\n",
    "print(\"Fibonacci sequence up to\", terms, \"terms:\", fibonacci)"
   ]
  },
  {
   "cell_type": "code",
   "execution_count": 18,
   "id": "07660d86-01c3-4e4c-9d30-580188e37e2f",
   "metadata": {},
   "outputs": [
    {
     "name": "stdout",
     "output_type": "stream",
     "text": [
      "Median: 4\n"
     ]
    }
   ],
   "source": [
    "## Q15.\n",
    "def find_median(numbers):\n",
    "    sorted_numbers = sorted(numbers)\n",
    "    length = len(sorted_numbers)\n",
    "\n",
    "    if length % 2 == 0:\n",
    "        mid1 = length // 2\n",
    "        mid2 = mid1 - 1\n",
    "        median = (sorted_numbers[mid1] + sorted_numbers[mid2]) / 2\n",
    "    else:\n",
    "        mid = length // 2\n",
    "        median = sorted_numbers[mid]\n",
    "\n",
    "    return median\n",
    "\n",
    "# Test the program\n",
    "numbers = [7, 2, 1, 4, 3, 6, 5]\n",
    "median_value = find_median(numbers)\n",
    "print(\"Median:\", median_value)"
   ]
  },
  {
   "cell_type": "code",
   "execution_count": 19,
   "id": "4843e73a-6d0c-491b-b1cd-ffb0eac8a145",
   "metadata": {},
   "outputs": [
    {
     "name": "stdout",
     "output_type": "stream",
     "text": [
      "The list is sorted in non-decreasing order.\n"
     ]
    }
   ],
   "source": [
    "## Q16.\n",
    "def is_sorted(input_list):\n",
    "    for i in range(len(input_list) - 1):\n",
    "        if input_list[i] > input_list[i + 1]:\n",
    "            return False\n",
    "    return True\n",
    "\n",
    "# Test the function\n",
    "numbers = [1, 2, 3, 4, 5]\n",
    "if is_sorted(numbers):\n",
    "    print(\"The list is sorted in non-decreasing order.\")\n",
    "else:\n",
    "    print(\"The list is not sorted in non-decreasing order.\")"
   ]
  },
  {
   "cell_type": "code",
   "execution_count": null,
   "id": "230c8435-a6ce-435f-bee2-70f7fba0d03c",
   "metadata": {},
   "outputs": [],
   "source": []
  }
 ],
 "metadata": {
  "kernelspec": {
   "display_name": "Python 3 (ipykernel)",
   "language": "python",
   "name": "python3"
  },
  "language_info": {
   "codemirror_mode": {
    "name": "ipython",
    "version": 3
   },
   "file_extension": ".py",
   "mimetype": "text/x-python",
   "name": "python",
   "nbconvert_exporter": "python",
   "pygments_lexer": "ipython3",
   "version": "3.10.8"
  }
 },
 "nbformat": 4,
 "nbformat_minor": 5
}
