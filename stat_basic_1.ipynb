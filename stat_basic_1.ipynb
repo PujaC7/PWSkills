{
 "cells": [
  {
   "cell_type": "markdown",
   "id": "52ce8b58-2298-4d2f-b6f3-f3cdeccc0b38",
   "metadata": {},
   "source": [
    "## Q1.  Statistics is the science concerned with developing and studying methods for collecting, analyzing, interpreting and presenting empirical data."
   ]
  },
  {
   "cell_type": "markdown",
   "id": "67010871-72ee-4d42-ac62-ecdd72ab8124",
   "metadata": {},
   "source": [
    "## Q2.  There are two kinds of Statistics, which are descriptive Statistics and inferential Statistics. In descriptive Statistics, the Data or Collection Data are described in a summarized way, For example, the collection of people in a city using the internet or using Television., whereas in inferential Statistics, we make use of it in order to explain the descriptive kind., For example, deriving estimates from hypothetical research. Both of them are used on a large scale."
   ]
  },
  {
   "cell_type": "markdown",
   "id": "5021e540-6471-4fe4-be32-0eafe612fd10",
   "metadata": {},
   "source": [
    "## Q3.  there are four types of data\n",
    "1. Nominal data \n",
    "### is a sub-category belonging to one of the types of qualitative information. Also known as the nominal scale, it is used to label the variables without providing the numerical value for them. Nominal data attributes can’t either be ordered or measured. The nominal data can be both qualitative and quantitative in nature. \n",
    "#### example: Gender (Women, Men), Eye color (Blue, Green, Brown), Hair color (Blonde, Brown, Brunette, Red, etc.), Marital status (Married, Single),Religion (Muslim, Hindu, Christian)\n",
    "2. Ordinal Data\n",
    "### Ordinal data/variable is the specific type of data that follows a natural order.  The difference between the data values is not determined in the case of nominal data. For instance, ordinal data variable is mostly found in surveys, economics, questionnaires, and finance operations. \n",
    "#### example: Feedback is recorded in the form of ratings from 1-10; Education level: elementary school, high school, college; Economic status: low, medium, and high, Letter grades: A, B, C, and etc; Customer level of satisfaction: very satisfied, satisfied, neutral, dissatisfied, very dissatisfied.\n",
    "3. Discrete Data\n",
    "### Discrete data refers to the data values which can only attain certain specific values. Discrete data can’t attain a range of values. Discrete data can be represented using bar charts. For instance, ratings of a product made by the users can only be in discrete numbers. \n",
    "#### Examples:The number of students in a class; The number of chips in a bag; The number of stars in the sky.\n",
    "4. Continuous Data \n",
    "### Continuous Data can contain values between a certain range that is within the highest and lowest values. The corresponding difference between the highest and lowest value of these intervals can be termed as the range of data. Continuous data can be tabulated in what is called a frequency distribution. The frequency distribution table can be computed for the range type of data. It can also be depicted using histograms. For example, the heights of the students in the class can be largely varying in nature, therefore, they can be divided into ranges to summarise the data. \n",
    "#### Examples:Height and weight of a student; Daily temperature recordings of a place; Wind speed measurement"
   ]
  },
  {
   "cell_type": "markdown",
   "id": "5b109d84-3ee0-4d95-a50b-ece9f0f72ee3",
   "metadata": {},
   "source": [
    "## Q4.  Qualitative data types\n",
    "1. Grading in exam: A+, A, B+, B, C+, C, D, E\n",
    "2. Colour of mangoes: yellow, green, orange, red\n",
    "## Quantitative data types\n",
    "4. Number of mangoes exported by a farm: [500, 600, 478, 672, ...]\n",
    "3. Height data of a class: [178.9, 179, 179.5, 176, 177.2, 178.3, 175.8,...]"
   ]
  },
  {
   "cell_type": "markdown",
   "id": "3f8faa8a-76aa-419f-8e82-b5f1abb1069e",
   "metadata": {},
   "source": [
    "## Q5.  Levels of measurement: \n",
    "### There are 4 levels of measurement:\n",
    "1. Nominal: the data can only be categorized. example: City of birth,Gender\n",
    "2. Ordinal: the data can be categorized and ranked. example: Top 5 Olympic medallists, Language ability (e.g., beginner, intermediate, fluent)\n",
    "3. Interval: the data can be categorized, ranked, and evenly spaced. example: Test scores (e.g., IQ or exams), Personality inventories\n",
    "4. Ratio: the data can be categorized, ranked, evenly spaced, and has a natural zero. example: Height, Age, Weight\n",
    "### Depending on the level of measurement of the variable, what you can do to analyze your data may be limited. There is a hierarchy in the complexity and precision of the level of measurement, from low (nominal) to high (ratio)."
   ]
  },
  {
   "cell_type": "markdown",
   "id": "e60e5b59-60d4-4158-bc5c-e5c8947adc6e",
   "metadata": {},
   "source": [
    "## Q6.  It is important to understand the level of measurement of variables in research, because the level of measurement determines the type of statistical analysis that can be conducted, and, therefore, the type of conclusions that can be drawn from the research.\n",
    "### example\n",
    "#### A problem is when the operational definition does not correspond to the conceptual definition.  It may be easier to measure the number of students suspended from school than to measure the concept of school violence."
   ]
  },
  {
   "cell_type": "markdown",
   "id": "45781740-d330-4b44-9051-82f256f02cb1",
   "metadata": {},
   "source": [
    "## Q7.  Nominal data is classified without a natural order or rank, whereas ordinal data has a predetermined or natural order. On the other hand, numerical or quantitative data will always be a number that can be measured."
   ]
  },
  {
   "cell_type": "markdown",
   "id": "98b60ced-5f43-4e97-b936-9b6dfc851032",
   "metadata": {},
   "source": [
    "## Q8.  Histogram. If the groups depicted in a bar chart are actually continuous numeric ranges, we can push the bars together to generate a histogram. Bar lengths in histograms typically correspond to counts of data points, and their patterns demonstrate the distribution of variables in your data."
   ]
  },
  {
   "cell_type": "markdown",
   "id": "51605b92-555f-4eee-a2cf-dbb32f2a388b",
   "metadata": {},
   "source": [
    "## Q9.  Inferential statistics helps to compare data, make hypotheses and predictions. Descriptive statistics explains already known data related to a particular sample or population of a small size. Inferential statistics, however, aims to draw inferences or conclusions about a whole population.\n",
    "\n",
    "1. Descriptive Statistics: Descriptive statistics is a term given to the analysis of data that helps to describe, show and summarize data in a meaningful way. It is a simple way to describe our data. Descriptive statistics is very important to present our raw data ineffective/meaningful way using numerical calculations or graphs or tables. This type of statistics is applied to already known data. \n",
    "### example\n",
    "#### a student's grade point average (GPA). A GPA gathers the data points created through a large selection of grades, classes, and exams then average them together and presents a general idea of the student's mean academic performance.\n",
    "2. Inferential Statistics: In inferential statistics, predictions are made by taking any group of data in which you are interested. It can be defined as a random sample of data taken from a population to describe and make inferences about the population. Any group of data that includes all the data you are interested in is known as population. It basically allows you to make predictions by taking a small sample instead of working on the whole population\n",
    "### example\n",
    "#### randomly select a sample of 11th graders in a state and collect data on their SAT scores and other characteristics. one can use inferential statistics to make estimates and test hypotheses about the whole population of 11th graders in the state based on your sample data."
   ]
  },
  {
   "cell_type": "markdown",
   "id": "19e2b426-44b9-42a3-8448-e273f45650da",
   "metadata": {},
   "source": [
    "## Q10.  Median: “middle value” or the average of “middle two values” in a data set when the numbers are arranged in an order. Mode: value that occurs with greatest frequency. Solution: Most common number/Mode is 2. Variance: square of the standard deviation.\n",
    "### While central tendency tells you where most of your data points lie, variability summarizes how far apart your points from each other. Data sets can have the same central tendency but different levels of variability or vice versa. Together, they give you a complete picture of your data."
   ]
  },
  {
   "cell_type": "code",
   "execution_count": null,
   "id": "e1a10821-55a3-46b2-911f-3183e2e6216d",
   "metadata": {},
   "outputs": [],
   "source": []
  }
 ],
 "metadata": {
  "kernelspec": {
   "display_name": "Python 3 (ipykernel)",
   "language": "python",
   "name": "python3"
  },
  "language_info": {
   "codemirror_mode": {
    "name": "ipython",
    "version": 3
   },
   "file_extension": ".py",
   "mimetype": "text/x-python",
   "name": "python",
   "nbconvert_exporter": "python",
   "pygments_lexer": "ipython3",
   "version": "3.10.8"
  }
 },
 "nbformat": 4,
 "nbformat_minor": 5
}
