{
 "cells": [
  {
   "cell_type": "code",
   "execution_count": 1,
   "id": "845e3dfd-7efa-4777-8089-997d6dd4ea72",
   "metadata": {},
   "outputs": [
    {
     "name": "stdout",
     "output_type": "stream",
     "text": [
      "42\n"
     ]
    }
   ],
   "source": [
    "## Q1.\n",
    "def num_unique_bst(n):\n",
    "    if n <= 0:\n",
    "        return 0\n",
    "\n",
    "    catalan = [0] * (n + 1)\n",
    "    catalan[0] = 1\n",
    "\n",
    "    for i in range(1, n + 1):\n",
    "        for j in range(i):\n",
    "            catalan[i] += catalan[j] * catalan[i - j - 1]\n",
    "\n",
    "    return catalan[n]\n",
    "\n",
    "# Example usage:\n",
    "n = 5\n",
    "result = num_unique_bst(n)\n",
    "print(result) "
   ]
  },
  {
   "cell_type": "code",
   "execution_count": 2,
   "id": "f19fd679-7fa4-4d37-984e-0bd872c0c079",
   "metadata": {},
   "outputs": [],
   "source": [
    "## Q2.\n",
    "class TreeNode:\n",
    "    def __init__(self, val=0, left=None, right=None):\n",
    "        self.val = val\n",
    "        self.left = left\n",
    "        self.right = right\n",
    "\n",
    "def is_valid_bst(root):\n",
    "    def helper(node, lower=float('-inf'), upper=float('inf')):\n",
    "        if not node:\n",
    "            return True\n",
    "\n",
    "        val = node.val\n",
    "\n",
    "        # Check if the current node's value is within the valid range\n",
    "        if val <= lower or val >= upper:\n",
    "            return False\n",
    "\n",
    "        # Recursively check the left and right subtrees with updated ranges\n",
    "        if not helper(node.left, lower, val):\n",
    "            return False\n",
    "        if not helper(node.right, val, upper):\n",
    "            return False\n",
    "\n",
    "        return True\n",
    "\n",
    "    return helper(root)"
   ]
  },
  {
   "cell_type": "code",
   "execution_count": 3,
   "id": "d4cec1d3-4e3a-4f0a-87b5-33eeeb407942",
   "metadata": {},
   "outputs": [
    {
     "name": "stdout",
     "output_type": "stream",
     "text": [
      "True\n"
     ]
    }
   ],
   "source": [
    "valid_bst_root = TreeNode(5)\n",
    "valid_bst_root.left = TreeNode(3)\n",
    "valid_bst_root.right = TreeNode(8)\n",
    "valid_bst_root.left.left = TreeNode(1)\n",
    "valid_bst_root.left.right = TreeNode(4)\n",
    "valid_bst_root.right.left = TreeNode(6)\n",
    "valid_bst_root.right.right = TreeNode(9)\n",
    "\n",
    "print(is_valid_bst(valid_bst_root))"
   ]
  },
  {
   "cell_type": "code",
   "execution_count": 4,
   "id": "e43d71e1-bcb9-4916-b016-551730aa4b60",
   "metadata": {},
   "outputs": [
    {
     "name": "stdout",
     "output_type": "stream",
     "text": [
      "False\n"
     ]
    }
   ],
   "source": [
    "invalid_bst_root = TreeNode(5)\n",
    "invalid_bst_root.left = TreeNode(3)\n",
    "invalid_bst_root.right = TreeNode(8)\n",
    "invalid_bst_root.left.left = TreeNode(1)\n",
    "invalid_bst_root.left.right = TreeNode(9)\n",
    "invalid_bst_root.right.left = TreeNode(6)\n",
    "invalid_bst_root.right.right = TreeNode(9)\n",
    "\n",
    "print(is_valid_bst(invalid_bst_root))"
   ]
  },
  {
   "cell_type": "code",
   "execution_count": 7,
   "id": "30772baf-3558-4817-8bb9-86475128879b",
   "metadata": {},
   "outputs": [],
   "source": [
    "## Q3.\n",
    "class TreeNode:\n",
    "    def __init__(self, val=0, left=None, right=None):\n",
    "        self.val = val\n",
    "        self.left = left\n",
    "        self.right = right\n",
    "\n",
    "def recover_bst(root):\n",
    "    def in_order_traversal(node):\n",
    "        nonlocal prev, first, second\n",
    "\n",
    "        if not node:\n",
    "            return\n",
    "\n",
    "        in_order_traversal(node.left)\n",
    "\n",
    "        if prev and node.val < prev.val:\n",
    "            if not first:\n",
    "                first = prev\n",
    "            second = node\n",
    "\n",
    "        prev = node\n",
    "\n",
    "        in_order_traversal(node.right)\n",
    "\n",
    "    prev = first = second = None\n",
    "    in_order_traversal(root)\n",
    "\n",
    "    # Swap the values of the misplaced nodes\n",
    "    first.val, second.val = second.val, first.val"
   ]
  },
  {
   "cell_type": "code",
   "execution_count": 8,
   "id": "4f5ad861-ab29-48bf-bc1c-90a4b406c500",
   "metadata": {},
   "outputs": [],
   "source": [
    "invalid_bst_root = TreeNode(5)\n",
    "invalid_bst_root.left = TreeNode(8)\n",
    "invalid_bst_root.right = TreeNode(3)\n",
    "invalid_bst_root.left.left = TreeNode(1)\n",
    "invalid_bst_root.left.right = TreeNode(4)\n",
    "invalid_bst_root.right.left = TreeNode(6)\n",
    "invalid_bst_root.right.right = TreeNode(9)\n",
    "\n",
    "recover_bst(invalid_bst_root)\n"
   ]
  },
  {
   "cell_type": "code",
   "execution_count": 9,
   "id": "1bedfaf5-0019-4c94-b65d-bc9d099e977c",
   "metadata": {},
   "outputs": [],
   "source": [
    "## Q4.\n",
    "class TreeNode:\n",
    "    def __init__(self, val=0, left=None, right=None):\n",
    "        self.val = val\n",
    "        self.left = left\n",
    "        self.right = right\n",
    "\n",
    "def sorted_array_to_bst(nums):\n",
    "    if not nums:\n",
    "        return None\n",
    "\n",
    "    mid = len(nums) // 2\n",
    "\n",
    "    # Create the root node using the middle element\n",
    "    root = TreeNode(nums[mid])\n",
    "\n",
    "    # Recursively construct left and right subtrees\n",
    "    root.left = sorted_array_to_bst(nums[:mid])\n",
    "    root.right = sorted_array_to_bst(nums[mid + 1:])\n",
    "\n",
    "    return root\n",
    "\n",
    "def in_order_traversal(node):\n",
    "    if not node:\n",
    "        return []\n",
    "\n",
    "    return in_order_traversal(node.left) + [node.val] + in_order_traversal(node.right)\n"
   ]
  },
  {
   "cell_type": "code",
   "execution_count": 10,
   "id": "ad1cd4e7-c75e-48f5-bd33-94daafac9086",
   "metadata": {},
   "outputs": [
    {
     "name": "stdout",
     "output_type": "stream",
     "text": [
      "[1, 2, 3, 4, 5, 6, 7]\n"
     ]
    }
   ],
   "source": [
    "# Example usage:\n",
    "sorted_array = [1, 2, 3, 4, 5, 6, 7]\n",
    "bst_root = sorted_array_to_bst(sorted_array)\n",
    "\n",
    "# To verify the result, perform an in-order traversal of the BST\n",
    "result = in_order_traversal(bst_root)\n",
    "print(result) "
   ]
  },
  {
   "cell_type": "code",
   "execution_count": 11,
   "id": "26f783ea-67f8-40e6-a4f3-bb7659992deb",
   "metadata": {},
   "outputs": [],
   "source": [
    "## Q5.\n",
    "class TreeNode:\n",
    "    def __init__(self, val=0, left=None, right=None):\n",
    "        self.val = val\n",
    "        self.left = left\n",
    "        self.right = right\n",
    "\n",
    "def lowest_common_ancestor(root, p, q):\n",
    "    if not root:\n",
    "        return None\n",
    "\n",
    "    if p.val < root.val and q.val < root.val:\n",
    "        # Both p and q are in the left subtree\n",
    "        return lowest_common_ancestor(root.left, p, q)\n",
    "    elif p.val > root.val and q.val > root.val:\n",
    "        # Both p and q are in the right subtree\n",
    "        return lowest_common_ancestor(root.right, p, q)\n",
    "    else:\n",
    "        # p and q are on different subtrees or one of them is the root\n",
    "        return root"
   ]
  },
  {
   "cell_type": "code",
   "execution_count": 12,
   "id": "0fe43f2e-3a04-4ba3-a144-eccdc212b72e",
   "metadata": {},
   "outputs": [
    {
     "name": "stdout",
     "output_type": "stream",
     "text": [
      "6\n"
     ]
    }
   ],
   "source": [
    "bst_root = TreeNode(6)\n",
    "bst_root.left = TreeNode(2)\n",
    "bst_root.right = TreeNode(8)\n",
    "bst_root.left.left = TreeNode(0)\n",
    "bst_root.left.right = TreeNode(4)\n",
    "bst_root.right.left = TreeNode(7)\n",
    "bst_root.right.right = TreeNode(9)\n",
    "bst_root.left.right.left = TreeNode(3)\n",
    "bst_root.left.right.right = TreeNode(5)\n",
    "\n",
    "p_node = bst_root.left  # Node with value 2\n",
    "q_node = bst_root.right  # Node with value 8\n",
    "\n",
    "lca = lowest_common_ancestor(bst_root, p_node, q_node)\n",
    "print(lca.val) "
   ]
  },
  {
   "cell_type": "code",
   "execution_count": 13,
   "id": "00e52061-477c-4a0b-9db8-a39a6c62508f",
   "metadata": {},
   "outputs": [],
   "source": [
    "## Q6.\n",
    "class TreeNode:\n",
    "    def __init__(self, val=0, left=None, right=None):\n",
    "        self.val = val\n",
    "        self.left = left\n",
    "        self.right = right\n",
    "\n",
    "def insert_into_bst(root, val):\n",
    "    if not root:\n",
    "        return TreeNode(val)\n",
    "\n",
    "    if val < root.val:\n",
    "        root.left = insert_into_bst(root.left, val)\n",
    "    elif val > root.val:\n",
    "        root.right = insert_into_bst(root.right, val)\n",
    "\n",
    "    return root\n",
    "\n",
    "def in_order_traversal(node):\n",
    "    if not node:\n",
    "        return []\n",
    "\n",
    "    return in_order_traversal(node.left) + [node.val] + in_order_traversal(node.right)\n"
   ]
  },
  {
   "cell_type": "code",
   "execution_count": 14,
   "id": "bf3d0ae6-1134-4953-8532-91bc811275f6",
   "metadata": {},
   "outputs": [],
   "source": [
    "bst_root = TreeNode(4)\n",
    "bst_root.left = TreeNode(2)\n",
    "bst_root.right = TreeNode(5)\n",
    "bst_root.left.left = TreeNode(1)\n",
    "bst_root.left.right = TreeNode(3)\n",
    "\n",
    "# Inserting a new node with value 6 into the BST\n",
    "bst_root = insert_into_bst(bst_root, 6)"
   ]
  },
  {
   "cell_type": "code",
   "execution_count": 15,
   "id": "38314500-aff8-4d71-9afb-cbf3c4ccb0cd",
   "metadata": {},
   "outputs": [
    {
     "name": "stdout",
     "output_type": "stream",
     "text": [
      "[1, 2, 3, 4, 5, 6]\n"
     ]
    }
   ],
   "source": [
    "result = in_order_traversal(bst_root)\n",
    "print(result)"
   ]
  },
  {
   "cell_type": "code",
   "execution_count": 17,
   "id": "d6f3380b-c616-4bb5-990d-a0f8e996578e",
   "metadata": {},
   "outputs": [],
   "source": [
    "## Q7.\n",
    "def num_ways_to_same_bst(arr):\n",
    "    def factorial(n):\n",
    "        if n <= 1:\n",
    "            return 1\n",
    "        return n * factorial(n - 1)\n",
    "\n",
    "    def count_unique_permutations(frequency_counts):\n",
    "        numerator = factorial(sum(frequency_counts))\n",
    "        denominator = 1\n",
    "        for count in frequency_counts:\n",
    "            denominator *= factorial(count)\n",
    "        return numerator // denominator\n",
    "\n",
    "    def dfs(node, arr):\n",
    "        if not node:\n",
    "            return []\n",
    "\n",
    "        left_count = dfs(node.left, arr)\n",
    "        right_count = dfs(node.right, arr)\n",
    "\n",
    "        total_count = left_count + right_count\n",
    "        current_value = node.val\n",
    "\n",
    "        arr[current_value] = total_count\n",
    "\n",
    "        return [1] + [total_count] * (current_value - 1) + [1] + [total_count] * (len(arr) - current_value)\n",
    "\n",
    "    # Construct a BST from the array\n",
    "    root = None\n",
    "    for val in arr:\n",
    "        root = insert_into_bst(root, val)\n",
    "\n",
    "    # Perform a depth-first traversal to calculate the number of ways for each node\n",
    "    ways_counts = dfs(root, arr)\n",
    "\n",
    "    # Calculate the number of unique permutations\n",
    "    num_ways = count_unique_permutations(ways_counts)\n",
    "\n",
    "    return num_ways\n",
    "\n",
    "class TreeNode:\n",
    "    def __init__(self, val=0, left=None, right=None):\n",
    "        self.val = val\n",
    "        self.left = left\n",
    "        self.right = right\n",
    "\n",
    "def insert_into_bst(root, val):\n",
    "    if not root:\n",
    "        return TreeNode(val)\n",
    "\n",
    "    if val < root.val:\n",
    "        root.left = insert_into_bst(root.left, val)\n",
    "    elif val > root.val:\n",
    "        root.right = insert_into_bst(root.right, val)\n",
    "\n",
    "    return root"
   ]
  },
  {
   "cell_type": "code",
   "execution_count": 27,
   "id": "ec5ee97d-55e6-4016-889a-fc34a3ea07cf",
   "metadata": {},
   "outputs": [
    {
     "ename": "TypeError",
     "evalue": "unsupported operand type(s) for +: 'int' and 'list'",
     "output_type": "error",
     "traceback": [
      "\u001b[0;31m---------------------------------------------------------------------------\u001b[0m",
      "\u001b[0;31mTypeError\u001b[0m                                 Traceback (most recent call last)",
      "Cell \u001b[0;32mIn[27], line 2\u001b[0m\n\u001b[1;32m      1\u001b[0m arr \u001b[38;5;241m=\u001b[39m [\u001b[38;5;241m3\u001b[39m,\u001b[38;5;241m0\u001b[39m,\u001b[38;5;241m1\u001b[39m,\u001b[38;5;241m2\u001b[39m,\u001b[38;5;241m4\u001b[39m,\u001b[38;5;241m5\u001b[39m,\u001b[38;5;241m6\u001b[39m,\u001b[38;5;241m7\u001b[39m,\u001b[38;5;241m8\u001b[39m,\u001b[38;5;241m9\u001b[39m]\n\u001b[0;32m----> 2\u001b[0m result \u001b[38;5;241m=\u001b[39m \u001b[43mnum_ways_to_same_bst\u001b[49m\u001b[43m(\u001b[49m\u001b[43marr\u001b[49m\u001b[43m)\u001b[49m\n\u001b[1;32m      3\u001b[0m \u001b[38;5;28mprint\u001b[39m(result)\n",
      "Cell \u001b[0;32mIn[17], line 38\u001b[0m, in \u001b[0;36mnum_ways_to_same_bst\u001b[0;34m(arr)\u001b[0m\n\u001b[1;32m     35\u001b[0m ways_counts \u001b[38;5;241m=\u001b[39m dfs(root, arr)\n\u001b[1;32m     37\u001b[0m \u001b[38;5;66;03m# Calculate the number of unique permutations\u001b[39;00m\n\u001b[0;32m---> 38\u001b[0m num_ways \u001b[38;5;241m=\u001b[39m \u001b[43mcount_unique_permutations\u001b[49m\u001b[43m(\u001b[49m\u001b[43mways_counts\u001b[49m\u001b[43m)\u001b[49m\n\u001b[1;32m     40\u001b[0m \u001b[38;5;28;01mreturn\u001b[39;00m num_ways\n",
      "Cell \u001b[0;32mIn[17], line 9\u001b[0m, in \u001b[0;36mnum_ways_to_same_bst.<locals>.count_unique_permutations\u001b[0;34m(frequency_counts)\u001b[0m\n\u001b[1;32m      8\u001b[0m \u001b[38;5;28;01mdef\u001b[39;00m \u001b[38;5;21mcount_unique_permutations\u001b[39m(frequency_counts):\n\u001b[0;32m----> 9\u001b[0m     numerator \u001b[38;5;241m=\u001b[39m factorial(\u001b[38;5;28;43msum\u001b[39;49m\u001b[43m(\u001b[49m\u001b[43mfrequency_counts\u001b[49m\u001b[43m)\u001b[49m)\n\u001b[1;32m     10\u001b[0m     denominator \u001b[38;5;241m=\u001b[39m \u001b[38;5;241m1\u001b[39m\n\u001b[1;32m     11\u001b[0m     \u001b[38;5;28;01mfor\u001b[39;00m count \u001b[38;5;129;01min\u001b[39;00m frequency_counts:\n",
      "\u001b[0;31mTypeError\u001b[0m: unsupported operand type(s) for +: 'int' and 'list'"
     ]
    }
   ],
   "source": [
    "arr = [3,0,1,2,4,5,6,7,8,9]\n",
    "result = num_ways_to_same_bst(arr)\n",
    "print(result)"
   ]
  },
  {
   "cell_type": "code",
   "execution_count": 28,
   "id": "5a9a1520-6887-4eee-be88-4caea21fa50b",
   "metadata": {},
   "outputs": [],
   "source": [
    "## Q8.\n",
    "class TreeNode:\n",
    "    def __init__(self, val=0, left=None, right=None):\n",
    "        self.val = val\n",
    "        self.left = left\n",
    "        self.right = right\n",
    "\n",
    "def get_minimum_difference(root):\n",
    "    def in_order_traversal(node):\n",
    "        if not node:\n",
    "            return []\n",
    "\n",
    "        return in_order_traversal(node.left) + [node.val] + in_order_traversal(node.right)\n",
    "\n",
    "    sorted_values = in_order_traversal(root)\n",
    "    min_diff = float('inf')\n",
    "\n",
    "    for i in range(1, len(sorted_values)):\n",
    "        diff = abs(sorted_values[i] - sorted_values[i - 1])\n",
    "        min_diff = min(min_diff, diff)\n",
    "\n",
    "    return min_diff"
   ]
  },
  {
   "cell_type": "code",
   "execution_count": 29,
   "id": "54a32066-e3b5-45ff-9547-65127cf8f584",
   "metadata": {},
   "outputs": [
    {
     "name": "stdout",
     "output_type": "stream",
     "text": [
      "1\n"
     ]
    }
   ],
   "source": [
    "bst_root = TreeNode(4)\n",
    "bst_root.left = TreeNode(2)\n",
    "bst_root.right = TreeNode(6)\n",
    "bst_root.left.left = TreeNode(1)\n",
    "bst_root.left.right = TreeNode(3)\n",
    "bst_root.right.right = TreeNode(7)\n",
    "\n",
    "result = get_minimum_difference(bst_root)\n",
    "print(result)"
   ]
  },
  {
   "cell_type": "code",
   "execution_count": null,
   "id": "dcdfe424-6629-4ae7-ab81-12c676fb0771",
   "metadata": {},
   "outputs": [],
   "source": []
  }
 ],
 "metadata": {
  "kernelspec": {
   "display_name": "Python 3 (ipykernel)",
   "language": "python",
   "name": "python3"
  },
  "language_info": {
   "codemirror_mode": {
    "name": "ipython",
    "version": 3
   },
   "file_extension": ".py",
   "mimetype": "text/x-python",
   "name": "python",
   "nbconvert_exporter": "python",
   "pygments_lexer": "ipython3",
   "version": "3.10.8"
  }
 },
 "nbformat": 4,
 "nbformat_minor": 5
}
