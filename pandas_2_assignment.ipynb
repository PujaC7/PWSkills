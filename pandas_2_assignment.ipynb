{
 "cells": [
  {
   "cell_type": "markdown",
   "id": "3fa1358f-d546-4bca-9eaa-fb7bc7ffb990",
   "metadata": {},
   "source": [
    "## Q1.  functions of the pandas library\n",
    "1. head : data.head()\n",
    "2. tail : data.tail()\n",
    "3. dtypes: data.dtypes()\n",
    "4. describe : data.describe()\n",
    "5. index : data.index\n",
    "6. coloumn : data.coloumn"
   ]
  },
  {
   "cell_type": "markdown",
   "id": "825cbd25-64fc-4714-9d7e-77e094941c3e",
   "metadata": {},
   "source": [
    "## Q2.  code"
   ]
  },
  {
   "cell_type": "code",
   "execution_count": 23,
   "id": "5903d325-6dc0-4e90-9805-b645a1fadecc",
   "metadata": {},
   "outputs": [
    {
     "name": "stdout",
     "output_type": "stream",
     "text": [
      "       A   B      C\n",
      "0    Joe  20  85.10\n",
      "1    Nat  21  77.80\n",
      "2  Harry  19  91.54\n",
      "   index      A     B      C\n",
      "1    0.0    Joe  20.0  85.10\n",
      "3    2.0  Harry  19.0  91.54\n",
      "5    NaN    NaN   NaN    NaN\n"
     ]
    }
   ],
   "source": [
    "import pandas as pd\n",
    "\n",
    "student_dict = {'A': ['Joe', 'Nat', 'Harry'], 'B': [20, 21, 19], 'C': [85.10, 77.80, 91.54]}\n",
    "\n",
    "student_df = pd.DataFrame(student_dict)\n",
    "print(student_df)\n",
    "\n",
    "student_df = student_df.reset_index()\n",
    "\n",
    "student_df.index = student_df.index + 1 \n",
    "\n",
    "student_df = pd.DataFrame(student_df, index = [1,3,5])\n",
    "\n",
    "print(student_df)\n"
   ]
  },
  {
   "cell_type": "markdown",
   "id": "f2ce0075-1d78-489a-8bb2-4777749a6114",
   "metadata": {},
   "source": [
    "## Q3.  code"
   ]
  },
  {
   "cell_type": "code",
   "execution_count": 8,
   "id": "959d10a5-43b9-43ae-a55b-50a1ba632208",
   "metadata": {},
   "outputs": [
    {
     "name": "stdout",
     "output_type": "stream",
     "text": [
      "X     6\n",
      "Y    80\n",
      "dtype: int64\n"
     ]
    }
   ],
   "source": [
    "import pandas as pd\n",
    "  \n",
    "df = pd.DataFrame({'X':[1, 2, 3, 4, 5],\n",
    "                   'Y':[50, 10, 20, 48, 96]})\n",
    "\n",
    "df1 = df.head(3)\n",
    "\n",
    "df = df1.sum(axis = 0)\n",
    "print(df)"
   ]
  },
  {
   "cell_type": "markdown",
   "id": "b06ef2a9-0d5a-416f-8172-a14023a90ec3",
   "metadata": {},
   "source": [
    "## Q4.  code"
   ]
  },
  {
   "cell_type": "code",
   "execution_count": 20,
   "id": "df906b19-e79c-41d7-a12e-685914c44936",
   "metadata": {},
   "outputs": [
    {
     "data": {
      "text/html": [
       "<div>\n",
       "<style scoped>\n",
       "    .dataframe tbody tr th:only-of-type {\n",
       "        vertical-align: middle;\n",
       "    }\n",
       "\n",
       "    .dataframe tbody tr th {\n",
       "        vertical-align: top;\n",
       "    }\n",
       "\n",
       "    .dataframe thead th {\n",
       "        text-align: right;\n",
       "    }\n",
       "</style>\n",
       "<table border=\"1\" class=\"dataframe\">\n",
       "  <thead>\n",
       "    <tr style=\"text-align: right;\">\n",
       "      <th></th>\n",
       "      <th>Number</th>\n",
       "      <th>text</th>\n",
       "      <th>word_count</th>\n",
       "    </tr>\n",
       "  </thead>\n",
       "  <tbody>\n",
       "    <tr>\n",
       "      <th>0</th>\n",
       "      <td>A</td>\n",
       "      <td>tiger</td>\n",
       "      <td>1</td>\n",
       "    </tr>\n",
       "    <tr>\n",
       "      <th>1</th>\n",
       "      <td>B</td>\n",
       "      <td>dog</td>\n",
       "      <td>1</td>\n",
       "    </tr>\n",
       "    <tr>\n",
       "      <th>2</th>\n",
       "      <td>C</td>\n",
       "      <td>monkey</td>\n",
       "      <td>1</td>\n",
       "    </tr>\n",
       "    <tr>\n",
       "      <th>3</th>\n",
       "      <td>D</td>\n",
       "      <td>cat</td>\n",
       "      <td>1</td>\n",
       "    </tr>\n",
       "  </tbody>\n",
       "</table>\n",
       "</div>"
      ],
      "text/plain": [
       "  Number    text  word_count\n",
       "0      A   tiger           1\n",
       "1      B     dog           1\n",
       "2      C  monkey           1\n",
       "3      D     cat           1"
      ]
     },
     "execution_count": 20,
     "metadata": {},
     "output_type": "execute_result"
    }
   ],
   "source": [
    "import pandas as pd\n",
    "\n",
    "data = {'Number': ['A', 'B', 'C', 'D'], 'text' : ['tiger', 'dog', 'monkey', 'cat']}\n",
    "  \n",
    "df = pd.DataFrame(data)\n",
    "\n",
    "df\n",
    "\n",
    "df['word_count'] = df['text'].apply(lambda n: len(n.split()))\n",
    "\n",
    "df.head()"
   ]
  },
  {
   "cell_type": "markdown",
   "id": "57c01b24-48b4-4c5b-9e68-fa1c00f141d4",
   "metadata": {},
   "source": [
    "## Q5.  Pandas DataFrame size()\n",
    "### The size property is used to get an int representing the number of elements in this object and Return the number of rows if Series. Otherwise, return the number of rows times the number of columns if DataFrame.\n",
    "## Pandas DataFrame shape()\n",
    "### The shape property is used to get a tuple representing the dimensionality of the Pandas DataFrame."
   ]
  },
  {
   "cell_type": "markdown",
   "id": "1cc8b4d8-f26f-40af-a258-9b5593a18a13",
   "metadata": {},
   "source": [
    "## Q6.  Pandas read_excel() function\n",
    "### Pandas read_excel() function is used for reading the excel files. Files can be imported using a URL link or can be directly imported from the disk. There are different parameters like io for path,sheet_name for specifying the name of the sheet, etc. for reading the file"
   ]
  },
  {
   "cell_type": "markdown",
   "id": "37c9d9ef-1800-4149-b7a6-b26dfe33d03b",
   "metadata": {},
   "source": [
    "## Q7.  code"
   ]
  },
  {
   "cell_type": "code",
   "execution_count": 28,
   "id": "4967cc61-2f5f-45d8-9d2f-252ee6921ad8",
   "metadata": {},
   "outputs": [
    {
     "data": {
      "text/html": [
       "<div>\n",
       "<style scoped>\n",
       "    .dataframe tbody tr th:only-of-type {\n",
       "        vertical-align: middle;\n",
       "    }\n",
       "\n",
       "    .dataframe tbody tr th {\n",
       "        vertical-align: top;\n",
       "    }\n",
       "\n",
       "    .dataframe thead th {\n",
       "        text-align: right;\n",
       "    }\n",
       "</style>\n",
       "<table border=\"1\" class=\"dataframe\">\n",
       "  <thead>\n",
       "    <tr style=\"text-align: right;\">\n",
       "      <th></th>\n",
       "      <th>Number</th>\n",
       "      <th>Email</th>\n",
       "      <th>username</th>\n",
       "    </tr>\n",
       "  </thead>\n",
       "  <tbody>\n",
       "    <tr>\n",
       "      <th>0</th>\n",
       "      <td>A</td>\n",
       "      <td>tiger@domain.com</td>\n",
       "      <td>[tiger]</td>\n",
       "    </tr>\n",
       "    <tr>\n",
       "      <th>1</th>\n",
       "      <td>B</td>\n",
       "      <td>dog@domain.com</td>\n",
       "      <td>[dog]</td>\n",
       "    </tr>\n",
       "    <tr>\n",
       "      <th>2</th>\n",
       "      <td>C</td>\n",
       "      <td>monkey@domain.com</td>\n",
       "      <td>[monkey]</td>\n",
       "    </tr>\n",
       "    <tr>\n",
       "      <th>3</th>\n",
       "      <td>D</td>\n",
       "      <td>cat@domain.com</td>\n",
       "      <td>[cat]</td>\n",
       "    </tr>\n",
       "  </tbody>\n",
       "</table>\n",
       "</div>"
      ],
      "text/plain": [
       "  Number              Email  username\n",
       "0      A   tiger@domain.com   [tiger]\n",
       "1      B     dog@domain.com     [dog]\n",
       "2      C  monkey@domain.com  [monkey]\n",
       "3      D     cat@domain.com     [cat]"
      ]
     },
     "execution_count": 28,
     "metadata": {},
     "output_type": "execute_result"
    }
   ],
   "source": [
    "import pandas as pd\n",
    "\n",
    "data = {'Number': ['A', 'B', 'C', 'D'], 'Email' : ['tiger@domain.com','dog@domain.com','monkey@domain.com','cat@domain.com']}\n",
    "  \n",
    "df = pd.DataFrame(data)\n",
    "\n",
    "df\n",
    "\n",
    "df['username'] = df['Email'].str.split('@').str[:-1]\n",
    "\n",
    "\n",
    "df.head()"
   ]
  },
  {
   "cell_type": "markdown",
   "id": "485da632-e839-474c-b298-822b76e50f5f",
   "metadata": {},
   "source": [
    "## Q8.  code"
   ]
  },
  {
   "cell_type": "code",
   "execution_count": 37,
   "id": "583e7351-a509-481c-8fcb-2c2cf36bde1d",
   "metadata": {},
   "outputs": [
    {
     "data": {
      "text/html": [
       "<div>\n",
       "<style scoped>\n",
       "    .dataframe tbody tr th:only-of-type {\n",
       "        vertical-align: middle;\n",
       "    }\n",
       "\n",
       "    .dataframe tbody tr th {\n",
       "        vertical-align: top;\n",
       "    }\n",
       "\n",
       "    .dataframe thead th {\n",
       "        text-align: right;\n",
       "    }\n",
       "</style>\n",
       "<table border=\"1\" class=\"dataframe\">\n",
       "  <thead>\n",
       "    <tr style=\"text-align: right;\">\n",
       "      <th></th>\n",
       "      <th>A</th>\n",
       "      <th>B</th>\n",
       "      <th>C</th>\n",
       "    </tr>\n",
       "  </thead>\n",
       "  <tbody>\n",
       "    <tr>\n",
       "      <th>1</th>\n",
       "      <td>8</td>\n",
       "      <td>2</td>\n",
       "      <td>7</td>\n",
       "    </tr>\n",
       "    <tr>\n",
       "      <th>2</th>\n",
       "      <td>6</td>\n",
       "      <td>9</td>\n",
       "      <td>4</td>\n",
       "    </tr>\n",
       "    <tr>\n",
       "      <th>4</th>\n",
       "      <td>9</td>\n",
       "      <td>1</td>\n",
       "      <td>2</td>\n",
       "    </tr>\n",
       "  </tbody>\n",
       "</table>\n",
       "</div>"
      ],
      "text/plain": [
       "   A  B  C\n",
       "1  8  2  7\n",
       "2  6  9  4\n",
       "4  9  1  2"
      ]
     },
     "execution_count": 37,
     "metadata": {},
     "output_type": "execute_result"
    }
   ],
   "source": [
    "import pandas as pd\n",
    "  \n",
    "df = pd.DataFrame({'A':[3,8,6,2,9], 'B':[5,2,9,3,1], 'C':[1,7,4,5,2]})\n",
    "\n",
    "df.head()\n",
    "\n",
    "df\n",
    "\n",
    "df[ (df['A'] >= 5) & (df['B'] <= 10) ]\n",
    "\n"
   ]
  },
  {
   "cell_type": "markdown",
   "id": "953b2a1b-a0a3-4aac-b257-d581928d1ff3",
   "metadata": {},
   "source": [
    "## Q9.  code"
   ]
  },
  {
   "cell_type": "code",
   "execution_count": 3,
   "id": "0fed4bc9-9bbd-4c7b-b86d-e303defb3e65",
   "metadata": {},
   "outputs": [
    {
     "data": {
      "text/html": [
       "<div>\n",
       "<style scoped>\n",
       "    .dataframe tbody tr th:only-of-type {\n",
       "        vertical-align: middle;\n",
       "    }\n",
       "\n",
       "    .dataframe tbody tr th {\n",
       "        vertical-align: top;\n",
       "    }\n",
       "\n",
       "    .dataframe thead th {\n",
       "        text-align: right;\n",
       "    }\n",
       "</style>\n",
       "<table border=\"1\" class=\"dataframe\">\n",
       "  <thead>\n",
       "    <tr style=\"text-align: right;\">\n",
       "      <th></th>\n",
       "      <th>X</th>\n",
       "      <th>Y</th>\n",
       "      <th>mean</th>\n",
       "      <th>median</th>\n",
       "      <th>standard_deviation</th>\n",
       "    </tr>\n",
       "  </thead>\n",
       "  <tbody>\n",
       "    <tr>\n",
       "      <th>0</th>\n",
       "      <td>1</td>\n",
       "      <td>50</td>\n",
       "      <td>44.8</td>\n",
       "      <td>48.0</td>\n",
       "      <td>33.484325</td>\n",
       "    </tr>\n",
       "    <tr>\n",
       "      <th>1</th>\n",
       "      <td>2</td>\n",
       "      <td>10</td>\n",
       "      <td>44.8</td>\n",
       "      <td>48.0</td>\n",
       "      <td>33.484325</td>\n",
       "    </tr>\n",
       "    <tr>\n",
       "      <th>2</th>\n",
       "      <td>3</td>\n",
       "      <td>20</td>\n",
       "      <td>44.8</td>\n",
       "      <td>48.0</td>\n",
       "      <td>33.484325</td>\n",
       "    </tr>\n",
       "    <tr>\n",
       "      <th>3</th>\n",
       "      <td>4</td>\n",
       "      <td>48</td>\n",
       "      <td>44.8</td>\n",
       "      <td>48.0</td>\n",
       "      <td>33.484325</td>\n",
       "    </tr>\n",
       "    <tr>\n",
       "      <th>4</th>\n",
       "      <td>5</td>\n",
       "      <td>96</td>\n",
       "      <td>44.8</td>\n",
       "      <td>48.0</td>\n",
       "      <td>33.484325</td>\n",
       "    </tr>\n",
       "  </tbody>\n",
       "</table>\n",
       "</div>"
      ],
      "text/plain": [
       "   X   Y  mean  median  standard_deviation\n",
       "0  1  50  44.8    48.0           33.484325\n",
       "1  2  10  44.8    48.0           33.484325\n",
       "2  3  20  44.8    48.0           33.484325\n",
       "3  4  48  44.8    48.0           33.484325\n",
       "4  5  96  44.8    48.0           33.484325"
      ]
     },
     "execution_count": 3,
     "metadata": {},
     "output_type": "execute_result"
    }
   ],
   "source": [
    "import pandas as pd\n",
    "  \n",
    "df = pd.DataFrame({'X':[1, 2, 3, 4, 5],\n",
    "                   'Y':[50, 10, 20, 48, 96]})\n",
    "\n",
    "df\n",
    "\n",
    "\n",
    "df['mean'] = df['Y'].mean()\n",
    "\n",
    "df['median'] = df['Y'].median()\n",
    "\n",
    "df['standard_deviation'] = df['Y'].std()\n",
    "\n",
    "df"
   ]
  },
  {
   "cell_type": "markdown",
   "id": "5a0d9d69-f176-4b4b-8648-8e829fa1a3db",
   "metadata": {},
   "source": [
    "## Q10.  code"
   ]
  },
  {
   "cell_type": "code",
   "execution_count": 13,
   "id": "9276e725-fc43-4cae-a2e3-8df1eac761b5",
   "metadata": {},
   "outputs": [
    {
     "name": "stdout",
     "output_type": "stream",
     "text": [
      "   date_april  sale_in_kgs\n",
      "0         NaN          NaN\n",
      "1         8.0         40.0\n",
      "2         7.5         37.0\n",
      "3         7.0         38.5\n",
      "4         5.5         38.0\n",
      "   date_april  sale_in_kgs\n",
      "0         0.0          0.0\n",
      "1         8.0         40.0\n",
      "2         7.5         37.0\n",
      "3         7.0         38.5\n",
      "4         5.5         38.0\n"
     ]
    }
   ],
   "source": [
    "import pandas as pd\n",
    "data={'name':['wheat','milk','sugar','tea','rice'],'sale_in_kgs':[42, 38, 36, 41, 35],'date_april':[9,7,8,6,5]}\n",
    "\n",
    "df = pd.DataFrame(data, columns = [\"date_april\",\"sale_in_kgs\",\"name\"])\n",
    "df\n",
    "\n",
    "df['Moving_Average'] = 0\n",
    "\n",
    "df1 = df[[\"date_april\",\"sale_in_kgs\"]].rolling(window=2).mean()\n",
    "print(df1)\n",
    "\n",
    "df2 = df1.fillna(0)\n",
    "print(df2)\n"
   ]
  },
  {
   "cell_type": "markdown",
   "id": "2299ea32-b755-4064-89ae-12af6afc5569",
   "metadata": {},
   "source": [
    "## Q11. code"
   ]
  },
  {
   "cell_type": "code",
   "execution_count": 15,
   "id": "1c0155eb-6328-4623-aaa6-1e4554043757",
   "metadata": {},
   "outputs": [
    {
     "data": {
      "text/html": [
       "<div>\n",
       "<style scoped>\n",
       "    .dataframe tbody tr th:only-of-type {\n",
       "        vertical-align: middle;\n",
       "    }\n",
       "\n",
       "    .dataframe tbody tr th {\n",
       "        vertical-align: top;\n",
       "    }\n",
       "\n",
       "    .dataframe thead th {\n",
       "        text-align: right;\n",
       "    }\n",
       "</style>\n",
       "<table border=\"1\" class=\"dataframe\">\n",
       "  <thead>\n",
       "    <tr style=\"text-align: right;\">\n",
       "      <th></th>\n",
       "      <th>inputDates</th>\n",
       "      <th>inputValues</th>\n",
       "      <th>dayOfWeek</th>\n",
       "    </tr>\n",
       "  </thead>\n",
       "  <tbody>\n",
       "    <tr>\n",
       "      <th>0</th>\n",
       "      <td>2015-01-07</td>\n",
       "      <td>1</td>\n",
       "      <td>Wednesday</td>\n",
       "    </tr>\n",
       "    <tr>\n",
       "      <th>1</th>\n",
       "      <td>2015-12-02</td>\n",
       "      <td>2</td>\n",
       "      <td>Wednesday</td>\n",
       "    </tr>\n",
       "    <tr>\n",
       "      <th>2</th>\n",
       "      <td>2005-01-03</td>\n",
       "      <td>3</td>\n",
       "      <td>Monday</td>\n",
       "    </tr>\n",
       "    <tr>\n",
       "      <th>3</th>\n",
       "      <td>2016-11-13</td>\n",
       "      <td>4</td>\n",
       "      <td>Sunday</td>\n",
       "    </tr>\n",
       "    <tr>\n",
       "      <th>4</th>\n",
       "      <td>2020-06-03</td>\n",
       "      <td>5</td>\n",
       "      <td>Wednesday</td>\n",
       "    </tr>\n",
       "  </tbody>\n",
       "</table>\n",
       "</div>"
      ],
      "text/plain": [
       "  inputDates  inputValues  dayOfWeek\n",
       "0 2015-01-07            1  Wednesday\n",
       "1 2015-12-02            2  Wednesday\n",
       "2 2005-01-03            3     Monday\n",
       "3 2016-11-13            4     Sunday\n",
       "4 2020-06-03            5  Wednesday"
      ]
     },
     "execution_count": 15,
     "metadata": {},
     "output_type": "execute_result"
    }
   ],
   "source": [
    "import pandas as pd\n",
    "  \n",
    "  \n",
    "date = pd.DataFrame({'inputDates':['2015-01-07', '2015-12-02',\n",
    "                                   '2005-01-03', '2016-11-13',\n",
    "                                   '2020-06-03'], \n",
    "                     'inputValues':[1, 2, 3, 4, 5]})\n",
    "  \n",
    "date['inputDates'] = pd.to_datetime(date['inputDates'])\n",
    "date['dayOfWeek'] = date['inputDates'].dt.day_name()\n",
    "  \n",
    "date\n"
   ]
  },
  {
   "cell_type": "markdown",
   "id": "573947f2-39bf-4cfa-b47a-3ee3a92e9223",
   "metadata": {},
   "source": [
    "## Q12.  code"
   ]
  },
  {
   "cell_type": "code",
   "execution_count": 16,
   "id": "5b7ba8ca-0d45-4d8d-a6ec-d8f8896365b8",
   "metadata": {},
   "outputs": [
    {
     "data": {
      "text/html": [
       "<div>\n",
       "<style scoped>\n",
       "    .dataframe tbody tr th:only-of-type {\n",
       "        vertical-align: middle;\n",
       "    }\n",
       "\n",
       "    .dataframe tbody tr th {\n",
       "        vertical-align: top;\n",
       "    }\n",
       "\n",
       "    .dataframe thead th {\n",
       "        text-align: right;\n",
       "    }\n",
       "</style>\n",
       "<table border=\"1\" class=\"dataframe\">\n",
       "  <thead>\n",
       "    <tr style=\"text-align: right;\">\n",
       "      <th></th>\n",
       "      <th>num_posts</th>\n",
       "      <th>date</th>\n",
       "    </tr>\n",
       "  </thead>\n",
       "  <tbody>\n",
       "    <tr>\n",
       "      <th>0</th>\n",
       "      <td>4</td>\n",
       "      <td>2023-01-09</td>\n",
       "    </tr>\n",
       "    <tr>\n",
       "      <th>1</th>\n",
       "      <td>6</td>\n",
       "      <td>2023-01-25</td>\n",
       "    </tr>\n",
       "    <tr>\n",
       "      <th>8</th>\n",
       "      <td>7</td>\n",
       "      <td>2023-01-10</td>\n",
       "    </tr>\n",
       "    <tr>\n",
       "      <th>9</th>\n",
       "      <td>2</td>\n",
       "      <td>2023-01-18</td>\n",
       "    </tr>\n",
       "  </tbody>\n",
       "</table>\n",
       "</div>"
      ],
      "text/plain": [
       "   num_posts       date\n",
       "0          4 2023-01-09\n",
       "1          6 2023-01-25\n",
       "8          7 2023-01-10\n",
       "9          2 2023-01-18"
      ]
     },
     "execution_count": 16,
     "metadata": {},
     "output_type": "execute_result"
    }
   ],
   "source": [
    "import pandas as pd\n",
    "df = pd.DataFrame({'num_posts': [4, 6, 3, 9, 1, 14, 2, 5, 7, 2],\n",
    "                   'date': ['2023-01-09', '2023-01-25', \n",
    "                            '2022-09-05', '2022-09-12', \n",
    "                            '2022-09-29', '2022-10-15',\n",
    "                            '2022-11-21', '2022-12-02', \n",
    "                            '2023-01-10', '2023-01-18']})\n",
    "  \n",
    "df['date'] = pd.to_datetime(df['date'], format='%Y-%m-%d')\n",
    "  \n",
    "filtered_df = df.loc[(df['date'] >= '2023-01-01')\n",
    "                     & (df['date'] < '2023-01-31')]\n",
    "filtered_df"
   ]
  },
  {
   "cell_type": "markdown",
   "id": "5de93103-e993-4141-ba31-f7e34a594aeb",
   "metadata": {},
   "source": [
    "## Q13.  Installing and Getting Started with Pandas. As Pandas is dependent on the NumPy library, we need to import this dependency."
   ]
  },
  {
   "cell_type": "code",
   "execution_count": null,
   "id": "29dcc24c-8ec2-4a78-babe-816732446390",
   "metadata": {},
   "outputs": [],
   "source": []
  }
 ],
 "metadata": {
  "kernelspec": {
   "display_name": "Python 3 (ipykernel)",
   "language": "python",
   "name": "python3"
  },
  "language_info": {
   "codemirror_mode": {
    "name": "ipython",
    "version": 3
   },
   "file_extension": ".py",
   "mimetype": "text/x-python",
   "name": "python",
   "nbconvert_exporter": "python",
   "pygments_lexer": "ipython3",
   "version": "3.10.8"
  }
 },
 "nbformat": 4,
 "nbformat_minor": 5
}
