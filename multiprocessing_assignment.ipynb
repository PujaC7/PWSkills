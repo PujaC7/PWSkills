{
 "cells": [
  {
   "cell_type": "markdown",
   "id": "8cc3b7c0-3ecc-4855-969b-b7302d31120b",
   "metadata": {},
   "source": [
    "## Q1.  Multiprocessing in Python is a built-in package that allows the system to run multiple processes simultaneously. It will enable the breaking of applications into smaller threads that can run independently.\n",
    "### Python multiprocessing Process class is an abstraction that sets up another Python process, provides it to run code and a way for the parent application to control execution. There are two important functions that belongs to the Process class - start() and join() function."
   ]
  },
  {
   "cell_type": "markdown",
   "id": "f0ae7322-1299-4f15-acb4-00f8ec3fb220",
   "metadata": {},
   "source": [
    "## Q2.  the differences between multiprocessing and multithreading is\n",
    "### Multiprocessing executes many processes simultaneously, whereas multithreading executes many threads simultaneously. Multithreading uses a common address space for all the threads, whereas multiprocessing creates a separate address space for each process."
   ]
  },
  {
   "cell_type": "markdown",
   "id": "f21f066b-078d-4578-9b4f-0ce49964e3df",
   "metadata": {},
   "source": [
    "## Q3.  code"
   ]
  },
  {
   "cell_type": "code",
   "execution_count": 2,
   "id": "4611c2a0-6b6b-46cd-89dc-0f52578eb62c",
   "metadata": {},
   "outputs": [
    {
     "name": "stdout",
     "output_type": "stream",
     "text": [
      "Square: 49\n",
      "Cube: 125\n",
      "Done!\n"
     ]
    }
   ],
   "source": [
    "import multiprocessing\n",
    "  \n",
    "def print_cube(num):\n",
    "    print(\"Cube: {}\".format(num * num * num))\n",
    "  \n",
    "def print_square(num):\n",
    "    print(\"Square: {}\".format(num * num))\n",
    "  \n",
    "if __name__ == \"__main__\":\n",
    "    \n",
    "    p1 = multiprocessing.Process(target=print_square, args=(7, ))\n",
    "    p2 = multiprocessing.Process(target=print_cube, args=(5, ))\n",
    "  \n",
    "    p1.start()\n",
    "    p2.start()\n",
    "  \n",
    "    p1.join()\n",
    "    p2.join()\n",
    "  \n",
    "    print(\"Done!\")"
   ]
  },
  {
   "cell_type": "markdown",
   "id": "4b968bd9-de67-4fea-b35f-baf8d3c95ee7",
   "metadata": {},
   "source": [
    "## Q4. Pool is generally used for heterogeneous tasks, whereas multiprocessing. Process is generally used for homogeneous tasks. The Pool is designed to execute heterogeneous tasks, that is tasks that do not resemble each other. For example, each task submitted to the process pool may be a different target function\n",
    "### Python multiprocessing Pool can be used for parallel execution of a function across multiple input values, distributing the input data across processes (data parallelism)."
   ]
  },
  {
   "cell_type": "markdown",
   "id": "f325b51d-ecbe-4ee9-80e4-d02be7599232",
   "metadata": {},
   "source": [
    "## Q5.  we can create a pool of worker processes in python using the multiprocessing module. steps are given below\n",
    "### Create the Process Pool using the multiprocessing module\n",
    "### Submit Tasks to the Process Pool.\n",
    "### Wait for Tasks to Complete\n",
    "### Shutdown the Process Pool."
   ]
  },
  {
   "cell_type": "markdown",
   "id": "e7ff8659-3ccc-425c-b53e-e28f2a57b7c5",
   "metadata": {},
   "source": [
    "## Q6. code"
   ]
  },
  {
   "cell_type": "code",
   "execution_count": 3,
   "id": "e18e44d5-7f00-4da5-83ee-4b18d5b69eb0",
   "metadata": {},
   "outputs": [
    {
     "name": "stdout",
     "output_type": "stream",
     "text": [
      "Square: 49\n",
      "Cube: 125\n",
      "divide: 16\n",
      "multiple: 100\n",
      "Done!\n"
     ]
    }
   ],
   "source": [
    "import multiprocessing\n",
    "  \n",
    "def print_cube(num):\n",
    "    print(\"Cube: {}\".format(num * num * num))\n",
    "  \n",
    "def print_square(num):\n",
    "    print(\"Square: {}\".format(num * num))\n",
    "\n",
    "def print_add(num):\n",
    "    print(\"divide: {}\".format(num + 2))\n",
    "    \n",
    "def print_multiple(num):\n",
    "    print(\"multiple: {}\".format(num * 5))\n",
    "    \n",
    "  \n",
    "if __name__ == \"__main__\":\n",
    "    \n",
    "    p1 = multiprocessing.Process(target=print_square, args=(7, ))\n",
    "    p2 = multiprocessing.Process(target=print_cube, args=(5, ))\n",
    "    p3 = multiprocessing.Process(target=print_add, args=(14, ))\n",
    "    p4 = multiprocessing.Process(target=print_multiple, args=(20, ))\n",
    "  \n",
    "    p1.start()\n",
    "    p2.start()\n",
    "    p3.start()\n",
    "    p4.start()\n",
    "  \n",
    "    p1.join()\n",
    "    p2.join()\n",
    "    p3.join()\n",
    "    p4.join()\n",
    "  \n",
    "    print(\"Done!\")"
   ]
  },
  {
   "cell_type": "code",
   "execution_count": null,
   "id": "6fb79eae-4afe-4a68-b74a-266cfbbd955d",
   "metadata": {},
   "outputs": [],
   "source": []
  }
 ],
 "metadata": {
  "kernelspec": {
   "display_name": "Python 3 (ipykernel)",
   "language": "python",
   "name": "python3"
  },
  "language_info": {
   "codemirror_mode": {
    "name": "ipython",
    "version": 3
   },
   "file_extension": ".py",
   "mimetype": "text/x-python",
   "name": "python",
   "nbconvert_exporter": "python",
   "pygments_lexer": "ipython3",
   "version": "3.10.8"
  }
 },
 "nbformat": 4,
 "nbformat_minor": 5
}
