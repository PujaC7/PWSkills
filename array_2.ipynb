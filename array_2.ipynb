{
 "cells": [
  {
   "cell_type": "markdown",
   "id": "41848f82-6fb8-410f-88aa-55ad5fb961fc",
   "metadata": {},
   "source": [
    "## Q1."
   ]
  },
  {
   "cell_type": "code",
   "execution_count": 1,
   "id": "176a8dac-dc72-4396-9ac8-eb0f2b872101",
   "metadata": {},
   "outputs": [
    {
     "name": "stdout",
     "output_type": "stream",
     "text": [
      "4\n"
     ]
    }
   ],
   "source": [
    "def array_pair_sum(nums):\n",
    "    nums.sort()  # Sort the array in ascending order\n",
    "    pair_sum = 0\n",
    "    \n",
    "    # Iterate over the sorted array, incrementing the index by 2\n",
    "    for i in range(0, len(nums), 2):\n",
    "        pair_sum += nums[i]\n",
    "    \n",
    "    return pair_sum\n",
    "\n",
    "\n",
    "nums = [1, 4, 3, 2]\n",
    "result = array_pair_sum(nums)\n",
    "print(result)"
   ]
  },
  {
   "cell_type": "markdown",
   "id": "1ee09d49-c774-4cd0-9365-00eab644c275",
   "metadata": {},
   "source": [
    "## Q2."
   ]
  },
  {
   "cell_type": "code",
   "execution_count": 2,
   "id": "c88a3005-69cb-43fc-b2c0-3403819c2e93",
   "metadata": {},
   "outputs": [
    {
     "name": "stdout",
     "output_type": "stream",
     "text": [
      "3\n"
     ]
    }
   ],
   "source": [
    "def max_candies(candyType):\n",
    "    unique_candies = len(set(candyType))  # Number of unique candy types\n",
    "    max_candies = len(candyType) // 2     # Maximum number of candies Alice can eat\n",
    "    \n",
    "    # Return the minimum value between unique_candies and max_candies\n",
    "    return min(unique_candies, max_candies)\n",
    "\n",
    "\n",
    "candyType = [1, 1, 2, 2, 3, 3]\n",
    "result = max_candies(candyType)\n",
    "print(result)"
   ]
  },
  {
   "cell_type": "markdown",
   "id": "b8c80d6f-4cb2-4117-88f8-0926f7d008af",
   "metadata": {},
   "source": [
    "## Q3. "
   ]
  },
  {
   "cell_type": "code",
   "execution_count": 3,
   "id": "477eea2e-fcad-46e5-907e-9edae6e91d54",
   "metadata": {},
   "outputs": [
    {
     "name": "stdout",
     "output_type": "stream",
     "text": [
      "5\n"
     ]
    }
   ],
   "source": [
    "def findLHS(nums):\n",
    "    count = {}\n",
    "    max_length = 0\n",
    "    \n",
    "    # Count the occurrences of each number\n",
    "    for num in nums:\n",
    "        count[num] = count.get(num, 0) + 1\n",
    "    \n",
    "    # Check each number and its complement\n",
    "    for num in count:\n",
    "        if num + 1 in count:\n",
    "            length = count[num] + count[num + 1]\n",
    "            max_length = max(max_length, length)\n",
    "    \n",
    "    return max_length\n",
    "\n",
    "\n",
    "nums = [1, 3, 2, 2, 5, 2, 3, 7]\n",
    "result = findLHS(nums)\n",
    "print(result)\n"
   ]
  },
  {
   "cell_type": "markdown",
   "id": "f8d55b82-49f4-4d89-8130-154d3112a8fd",
   "metadata": {},
   "source": [
    "## Q4."
   ]
  },
  {
   "cell_type": "code",
   "execution_count": 4,
   "id": "6a9d9506-896b-4705-8274-e4c8aa62937a",
   "metadata": {},
   "outputs": [
    {
     "name": "stdout",
     "output_type": "stream",
     "text": [
      "True\n"
     ]
    }
   ],
   "source": [
    "def can_place_flowers(flowerbed, n):\n",
    "    length = len(flowerbed)\n",
    "    count = 0\n",
    "    i = 0\n",
    "    \n",
    "    while i < length:\n",
    "        if flowerbed[i] == 0 and (i == 0 or flowerbed[i - 1] == 0) and (i == length - 1 or flowerbed[i + 1] == 0):\n",
    "            flowerbed[i] = 1\n",
    "            count += 1\n",
    "            i += 1\n",
    "        \n",
    "        if count >= n:\n",
    "            return True\n",
    "        \n",
    "        i += 1\n",
    "    \n",
    "    return False\n",
    "\n",
    "\n",
    "flowerbed = [1, 0, 0, 0, 1]\n",
    "n = 1\n",
    "result = can_place_flowers(flowerbed, n)\n",
    "print(result)\n"
   ]
  },
  {
   "cell_type": "markdown",
   "id": "1f62101f-b089-4a4a-9211-6c96b1391958",
   "metadata": {},
   "source": [
    "## Q5. "
   ]
  },
  {
   "cell_type": "code",
   "execution_count": 6,
   "id": "1f5008a2-ba03-407a-9281-8c517d49e395",
   "metadata": {},
   "outputs": [
    {
     "name": "stdout",
     "output_type": "stream",
     "text": [
      "6\n"
     ]
    }
   ],
   "source": [
    "def maximum_product(nums):\n",
    "    nums.sort()  # Sort the array in ascending order\n",
    "    n = len(nums)\n",
    "    \n",
    "    # Return the maximum product\n",
    "    return max(nums[n-1] * nums[n-2] * nums[n-3], nums[0] * nums[1] * nums[n-1])\n",
    "\n",
    "\n",
    "nums = [1, 2, 3]\n",
    "result = maximum_product(nums)\n",
    "print(result)"
   ]
  },
  {
   "cell_type": "markdown",
   "id": "1343de59-ee70-428b-b155-289e9e9130fa",
   "metadata": {},
   "source": [
    "## Q6."
   ]
  },
  {
   "cell_type": "code",
   "execution_count": 7,
   "id": "cb99442a-de67-4403-ac63-0709607aa540",
   "metadata": {},
   "outputs": [
    {
     "name": "stdout",
     "output_type": "stream",
     "text": [
      "4\n"
     ]
    }
   ],
   "source": [
    "def search(nums, target):\n",
    "    left = 0\n",
    "    right = len(nums) - 1\n",
    "    \n",
    "    while left <= right:\n",
    "        mid = left + (right - left) // 2\n",
    "        \n",
    "        if nums[mid] == target:\n",
    "            return mid\n",
    "        elif nums[mid] < target:\n",
    "            left = mid + 1\n",
    "        else:\n",
    "            right = mid - 1\n",
    "    \n",
    "    return -1\n",
    "\n",
    "\n",
    "nums = [-1, 0, 3, 5, 9, 12]\n",
    "target = 9\n",
    "result = search(nums, target)\n",
    "print(result)"
   ]
  },
  {
   "cell_type": "markdown",
   "id": "5068597e-0a40-48fe-b4cc-3ce1d3ab4423",
   "metadata": {},
   "source": [
    "## Q7."
   ]
  },
  {
   "cell_type": "code",
   "execution_count": 8,
   "id": "99d80d12-6bd8-4d7e-9c91-743748f5b830",
   "metadata": {},
   "outputs": [
    {
     "name": "stdout",
     "output_type": "stream",
     "text": [
      "True\n"
     ]
    }
   ],
   "source": [
    "def isMonotonic(nums):\n",
    "    increasing = decreasing = True\n",
    "    \n",
    "    for i in range(1, len(nums)):\n",
    "        if nums[i] < nums[i - 1]:\n",
    "            increasing = False\n",
    "        if nums[i] > nums[i - 1]:\n",
    "            decreasing = False\n",
    "        \n",
    "    return increasing or decreasing\n",
    "\n",
    "\n",
    "nums = [1, 2, 2, 3]\n",
    "result = isMonotonic(nums)\n",
    "print(result)"
   ]
  },
  {
   "cell_type": "markdown",
   "id": "c5ec6f7d-2c33-4387-b70e-cd10a5cfcd41",
   "metadata": {},
   "source": [
    "## Q8."
   ]
  },
  {
   "cell_type": "code",
   "execution_count": 9,
   "id": "c1abb17d-6e2c-4e0c-a4a7-02ebd25e1a19",
   "metadata": {},
   "outputs": [
    {
     "name": "stdout",
     "output_type": "stream",
     "text": [
      "0\n"
     ]
    }
   ],
   "source": [
    "def minimumScore(nums, k):\n",
    "    minimum = min(nums)\n",
    "    maximum = max(nums)\n",
    "    minimum_score = maximum - minimum\n",
    "    \n",
    "    for num in nums:\n",
    "        if num + k < minimum:\n",
    "            minimum = num + k\n",
    "        if num - k > maximum:\n",
    "            maximum = num - k\n",
    "    \n",
    "    minimum_score = min(minimum_score, maximum - minimum)\n",
    "    return minimum_score\n",
    "\n",
    "\n",
    "nums = [1]\n",
    "k = 0\n",
    "result = minimumScore(nums, k)\n",
    "print(result)"
   ]
  },
  {
   "cell_type": "code",
   "execution_count": null,
   "id": "278d4161-17b4-4091-aed2-5b49a035153c",
   "metadata": {},
   "outputs": [],
   "source": []
  }
 ],
 "metadata": {
  "kernelspec": {
   "display_name": "Python 3 (ipykernel)",
   "language": "python",
   "name": "python3"
  },
  "language_info": {
   "codemirror_mode": {
    "name": "ipython",
    "version": 3
   },
   "file_extension": ".py",
   "mimetype": "text/x-python",
   "name": "python",
   "nbconvert_exporter": "python",
   "pygments_lexer": "ipython3",
   "version": "3.10.8"
  }
 },
 "nbformat": 4,
 "nbformat_minor": 5
}
