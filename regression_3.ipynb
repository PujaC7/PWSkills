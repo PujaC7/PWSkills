{
 "cells": [
  {
   "cell_type": "markdown",
   "id": "f6d6cfea-3306-49c6-b60c-a2eb400b4410",
   "metadata": {},
   "source": [
    "## Q1.  Ridge regression is a method of estimating the coefficients of multiple-regression models in scenarios where the independent variables are highly correlated. It has been used in many fields including econometrics, chemistry, and engineering.\n",
    "### Ridge regression is a term used to refer to a linear regression model whose coefficients are estimated not by ordinary least squares (OLS), but by an estimator, called ridge estimator, that, albeit biased, has lower variance than the OLS estimator."
   ]
  },
  {
   "cell_type": "markdown",
   "id": "a2e7a5ba-517a-4ecb-a017-0a32ce73f10b",
   "metadata": {},
   "source": [
    "## Q2.  Assumptions of Ridge Regressions\n",
    "### The assumptions of ridge regression are the same as that of linear regression: linearity, constant variance, and independence. However, as ridge regression does not provide confidence limits, the distribution of errors to be normal need not be assumed."
   ]
  },
  {
   "cell_type": "markdown",
   "id": "e35f16a5-e98f-46bc-92ba-bb3bb1743a2c",
   "metadata": {},
   "source": [
    "## Q3.  Ridge regression\n",
    "### Selecting a good value for λ is critical. When λ=0, the penalty term has no effect, and ridge regression will produce the classical least square coefficients. However, as λ increases to infinite, the impact of the shrinkage penalty grows, and the ridge regression coefficients will get close zero."
   ]
  },
  {
   "cell_type": "markdown",
   "id": "a8fb7073-4e6e-4bec-819b-a1ee44076194",
   "metadata": {},
   "source": [
    "## Q4.  We can use ridge regression for feature selection while fitting the model.\n",
    "### Ridge regression is popular because it uses regularization for making predictions and regularization is intended to resolve the problem of overfitting. In machine learning, feature engineering is an important step that determines the level of importance of any features from the data"
   ]
  },
  {
   "cell_type": "markdown",
   "id": "0e653bdf-8c48-4e07-80ab-a160b92c87e3",
   "metadata": {},
   "source": [
    "## Q5.  When multicollinearity occurs, least squares estimates are unbiased, but their variances are large so they may be far from the true value. By adding a degree of bias to the regression estimates, ridge regression reduces the standard errors."
   ]
  },
  {
   "cell_type": "markdown",
   "id": "f0824a2f-d3f0-45a1-8ab1-a69df5eb3ead",
   "metadata": {},
   "source": [
    "## Q6.  Ridge regression can't be used. Special characteristic of Ridge regression is it works fine in presence of multicollinearity but with a continuous dependent variable"
   ]
  },
  {
   "cell_type": "markdown",
   "id": "5ee1919c-13e2-4f1f-b2de-7218eb5d826b",
   "metadata": {},
   "source": [
    "## Q7.  The ridge coefficients are a reduced factor of the simple linear regression coefficients and thus never attain zero values but very small values. The lasso coefficients become zero in a certain range and are reduced by a constant factor, which explains their low magnitude in comparison to the ridge."
   ]
  },
  {
   "cell_type": "markdown",
   "id": "ef05b207-6705-471f-b813-da62b37a7326",
   "metadata": {},
   "source": [
    "## Q8.  The ridge regression technique can be used to predict time-series. Ridge regression (RR) can also solve the multicollinearity problem that exists in linear regression.\n",
    "### Time series regression can help you understand and predict the behavior of dynamic systems from experimental or observational data. Common uses of time series regression include modeling and forecasting of economic, financial, biological, and engineering systems."
   ]
  }
 ],
 "metadata": {
  "kernelspec": {
   "display_name": "Python 3 (ipykernel)",
   "language": "python",
   "name": "python3"
  },
  "language_info": {
   "codemirror_mode": {
    "name": "ipython",
    "version": 3
   },
   "file_extension": ".py",
   "mimetype": "text/x-python",
   "name": "python",
   "nbconvert_exporter": "python",
   "pygments_lexer": "ipython3",
   "version": "3.10.8"
  }
 },
 "nbformat": 4,
 "nbformat_minor": 5
}
