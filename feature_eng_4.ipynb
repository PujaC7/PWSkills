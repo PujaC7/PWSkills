{
 "cells": [
  {
   "cell_type": "markdown",
   "id": "1d5854d7-6a6e-427c-89f2-79fbf040afdf",
   "metadata": {},
   "source": [
    "## Q1.  Data encoding is the conversion of data into digital signals i.e. zeros and ones. This tutorial intends to cover how data to be transmitted on a network is encoded. It will emphasize more on the different data encoding techniques. It will also talk about digital and analog data.\n",
    "### Encoding is the process of converting the data or a given sequence of characters, symbols, alphabets etc., into a specified format, for the secured transmission of data. Decoding is the reverse process of encoding which is to extract the information from the converted format."
   ]
  },
  {
   "cell_type": "markdown",
   "id": "be81f6eb-15eb-4ed9-aaa2-977999cfac1b",
   "metadata": {},
   "source": [
    "## Q2.   Nominal Encoding: When we have a feature where variables are just names and there is no order or rank to this variable's feature. For example: City of person lives in, Gender of person, Marital Status, etc… In the above example, We do not have any order or rank, or sequence."
   ]
  },
  {
   "cell_type": "markdown",
   "id": "9c4ccae2-53f7-4b50-9aac-eadb5497dfba",
   "metadata": {},
   "source": [
    "## Q3.  One-Hot Encoding is another popular technique for treating categorical variables. It simply creates additional features based on the number of unique values in the categorical feature. Every unique value in the category will be added as a feature. One-Hot Encoding is the process of creating dummy variables.\n",
    "### For example, consider a dataset containing information about different types of fruit. One-hot encoding would create a separate column for each type of fruit, with a value of 1 indicating that the row contains data about that fruit and a value of 0 indicating that it does not."
   ]
  },
  {
   "cell_type": "markdown",
   "id": "b6ebfc37-5eb2-4712-bcd8-f2c52d5e1a49",
   "metadata": {},
   "source": [
    "## Q4.  we use one hot coding\n",
    "### One hot encoding makes our training data more useful and expressive, and it can be rescaled easily. By using numeric values, we more easily determine a probability for our values. In particular, one hot encoding is used for our output values, since it provides more nuanced predictions than single labels."
   ]
  },
  {
   "cell_type": "markdown",
   "id": "70b6d47a-d13d-4790-80a9-3058c46d16d1",
   "metadata": {},
   "source": [
    "## Q5.  In this encoding scheme, the categorical feature is first converted into numerical using an ordinal encoder. Then the numbers are transformed in the binary number. After that binary value is split into different columns. Binary encoding works really well when there are a high number of categories."
   ]
  },
  {
   "cell_type": "markdown",
   "id": "b894920d-ee12-4867-87e2-7c7ba79d6d15",
   "metadata": {},
   "source": [
    "## Q6.  we use one hot encoding\n",
    "### One-hot encoding in machine learning is the conversion of categorical information into a format that may be fed into machine learning algorithms to improve prediction accuracy. One-hot encoding is a common method for dealing with categorical data in machine learning."
   ]
  },
  {
   "cell_type": "markdown",
   "id": "afb796af-ca38-4b35-987a-f066d1a0fb32",
   "metadata": {},
   "source": [
    "## Q7.  we use Label Encoding\n",
    "### This encoding replaces every category with a numerical label. In this project, we use label encoding with the following binary variables: (1) gender , (2) Partner , (3) Dependents , (4) PaperlessBilling , (5) PhoneService , and (6) Churn "
   ]
  },
  {
   "cell_type": "code",
   "execution_count": null,
   "id": "bd9932a1-a435-4021-a1f9-726fdb1ff81d",
   "metadata": {},
   "outputs": [],
   "source": []
  }
 ],
 "metadata": {
  "kernelspec": {
   "display_name": "Python 3 (ipykernel)",
   "language": "python",
   "name": "python3"
  },
  "language_info": {
   "codemirror_mode": {
    "name": "ipython",
    "version": 3
   },
   "file_extension": ".py",
   "mimetype": "text/x-python",
   "name": "python",
   "nbconvert_exporter": "python",
   "pygments_lexer": "ipython3",
   "version": "3.10.8"
  }
 },
 "nbformat": 4,
 "nbformat_minor": 5
}
