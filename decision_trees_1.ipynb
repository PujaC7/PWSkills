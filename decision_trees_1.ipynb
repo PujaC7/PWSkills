{
 "cells": [
  {
   "cell_type": "markdown",
   "id": "3914b62f-6901-47a7-b258-87462a3db492",
   "metadata": {},
   "source": [
    "## Q1.  A decision tree is a non-parametric supervised learning algorithm, which is utilized for both classification and regression tasks. It has a hierarchical, tree structure, which consists of a root node, branches, internal nodes and leaf nodes.\n",
    "### A decision tree algorithm is a machine learning algorithm that uses a decision tree to make predictions. It follows a tree-like model of decisions and their possible consequences. The algorithm works by recursively splitting the data into subsets based on the most significant feature at each node of the tree"
   ]
  },
  {
   "cell_type": "markdown",
   "id": "faaaabd5-32a3-44d3-a647-fcd1a630f7e1",
   "metadata": {},
   "source": [
    "## Q2.  First, we calculate the percentage of records that fall into each class (p). Then we square those numbers and add them together. Finally, we subtract that number from one. Because decision trees split data into more than one group, our final step is to calculate the weighted average of the Gini Impurity in each group"
   ]
  },
  {
   "cell_type": "markdown",
   "id": "564bd236-20e2-47af-8eb3-9d900209ea96",
   "metadata": {},
   "source": [
    "## Q3.  The Decision Tree algorithm uses a data structure called a tree to predict the outcome of a particular problem. Since the decision tree follows a supervised approach, the algorithm is fed with a collection of pre-processed data. This data is used to train the algorithm."
   ]
  },
  {
   "cell_type": "markdown",
   "id": "14dda151-a05e-402f-9216-1b9bc20845d6",
   "metadata": {},
   "source": [
    "## Q4.  Geometrically we see that the decision boundaries are axis parallel & have a decision surface for each leaf node (Yi).\n",
    "### Decision tree analysis can deal with missing data in two ways: it can either classify missing values as a separate category that can be analyzed with the other categories or use a built decision tree model which set the variable with lots of missing value as a target variable to make prediction and replace these"
   ]
  },
  {
   "cell_type": "markdown",
   "id": "8c8772f2-12f2-44b4-8d2c-fff3411ee14a",
   "metadata": {},
   "source": [
    "## Q5.  A confusion matrix presents a table layout of the different outcomes of the prediction and results of a classification problem and helps visualize its outcomes. It plots a table of all the predicted and actual values of a classifier\n",
    "### A confusion matrix is a table that allows you to visualize the performance of a classification model. You can also use the information in it to calculate measures that can help you determine the usefulness of the model. Rows represent predicted classifications, while columns represent the true classes from the data."
   ]
  },
  {
   "cell_type": "markdown",
   "id": "5fe19c9b-3832-46fd-9110-fa0860ced07e",
   "metadata": {},
   "source": [
    "## Q6.  A Confusion matrix is an N x N matrix used for evaluating the performance of a classification model, where N is the number of target classes. The matrix compares the actual target values with those predicted by the machine learning model. A good model is one which has high TP and TN rates, while low FP and FN rates\n",
    "### steps to calculate precision, recall and F1 score from confusion matrix\n",
    "- Accuracy = Correct Predictions / Total Cases * 100%\n",
    "- Accuracy = (TP + TN) / (TP + TN + FP + FN +) * 100% Where True Positive (TP), True Negative (TN), False Positive (FP) and False Negative (FN). ...\n",
    "- Precision = TP / (TP + FP) * 100% ...\n",
    "- Recall = TP / TP + FN. ...\n",
    "- F1 Score = 2 * Precision * Recall / Precision + Recall."
   ]
  },
  {
   "cell_type": "markdown",
   "id": "4b9a0f87-f71f-465b-83ed-283813788368",
   "metadata": {},
   "source": [
    "## Q7.  Evaluation metrics are used to measure the quality of the statistical or machine learning model. Evaluating machine learning models or algorithms is essential for any project. There are many different types of evaluation metrics available to test a model.\n",
    "### Metrics like accuracy, precision, recall are good ways to evaluate classification models for balanced datasets, but if the data is imbalanced then other methods like ROC/AUC perform better in evaluating the model performance"
   ]
  },
  {
   "cell_type": "markdown",
   "id": "e4903e59-6dbb-4c38-bf00-4f2b24a84a77",
   "metadata": {},
   "source": [
    "## Q8.  Email Spam detection:This is one of the example where Precision is more important than Recall. Quick Recap: Precision: This tells when you predict something positive, how many times they were actually positive."
   ]
  },
  {
   "cell_type": "markdown",
   "id": "7a4bc826-962d-4269-8e73-f0ee9bd483e6",
   "metadata": {},
   "source": [
    "## Q9.  In an imbalanced classification problem with more than two classes, recall is calculated as the sum of true positives across all classes divided by the sum of true positives and false negatives across all classes."
   ]
  }
 ],
 "metadata": {
  "kernelspec": {
   "display_name": "Python 3 (ipykernel)",
   "language": "python",
   "name": "python3"
  },
  "language_info": {
   "codemirror_mode": {
    "name": "ipython",
    "version": 3
   },
   "file_extension": ".py",
   "mimetype": "text/x-python",
   "name": "python",
   "nbconvert_exporter": "python",
   "pygments_lexer": "ipython3",
   "version": "3.10.8"
  }
 },
 "nbformat": 4,
 "nbformat_minor": 5
}
