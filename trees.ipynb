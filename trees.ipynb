{
 "cells": [
  {
   "cell_type": "code",
   "execution_count": 1,
   "id": "8f1c6b5f-9658-47dc-8fea-420b04e6f928",
   "metadata": {},
   "outputs": [],
   "source": [
    "## Q1.\n",
    "def find_k_closest_elements(arr, target, k):\n",
    "    # Binary search to find the index of the target or the closest element\n",
    "    left, right = 0, len(arr) - 1\n",
    "\n",
    "    while left < right:\n",
    "        mid = (left + right) // 2\n",
    "        if arr[mid] == target:\n",
    "            left = right = mid\n",
    "            break\n",
    "        elif arr[mid] < target:\n",
    "            left = mid + 1\n",
    "        else:\n",
    "            right = mid\n",
    "\n",
    "    # Initialize pointers for two ends of the k closest elements\n",
    "    left_ptr, right_ptr = left - 1, left\n",
    "\n",
    "    # Find the K closest elements\n",
    "    while k > 0:\n",
    "        if left_ptr < 0 or (right_ptr < len(arr) and abs(arr[left_ptr] - target) > abs(arr[right_ptr] - target)):\n",
    "            right_ptr += 1\n",
    "        else:\n",
    "            left_ptr -= 1\n",
    "        k -= 1\n",
    "\n",
    "    # Return the K closest elements\n",
    "    return arr[left_ptr + 1:right_ptr]\n"
   ]
  },
  {
   "cell_type": "code",
   "execution_count": 2,
   "id": "370f8a01-c466-4a49-93d7-0cb84ca066fe",
   "metadata": {},
   "outputs": [
    {
     "name": "stdout",
     "output_type": "stream",
     "text": [
      "[2, 3, 5]\n"
     ]
    }
   ],
   "source": [
    "sorted_array = [1, 2, 3, 5, 6, 8, 9]\n",
    "target_value = 4\n",
    "k_closest_elements = find_k_closest_elements(sorted_array, target_value, 3)\n",
    "print(k_closest_elements) "
   ]
  },
  {
   "cell_type": "code",
   "execution_count": 3,
   "id": "73d3d924-3cf8-4f98-bf73-f2d678899e6b",
   "metadata": {},
   "outputs": [],
   "source": [
    "## Q2. \n",
    "import heapq\n",
    "\n",
    "def kth_smallest(matrix, k):\n",
    "    # Get the number of rows and columns in the matrix\n",
    "    rows, cols = len(matrix), len(matrix[0])\n",
    "\n",
    "    # Create a min-heap to store elements from the matrix\n",
    "    min_heap = []\n",
    "\n",
    "    # Add the first element from each row to the min-heap\n",
    "    for row in range(min(k, rows)):\n",
    "        heapq.heappush(min_heap, (matrix[row][0], row, 0))\n",
    "\n",
    "    # Pop the smallest element (k-1) times and push the next element in the row to the heap\n",
    "    for _ in range(k - 1):\n",
    "        _, row, col = heapq.heappop(min_heap)\n",
    "        if col < cols - 1:\n",
    "            heapq.heappush(min_heap, (matrix[row][col + 1], row, col + 1))\n",
    "\n",
    "    # The kth smallest element is now at the top of the min-heap\n",
    "    return min_heap[0][0]\n"
   ]
  },
  {
   "cell_type": "code",
   "execution_count": 4,
   "id": "a66ab594-9b50-4203-a653-a9bba5b69817",
   "metadata": {},
   "outputs": [
    {
     "name": "stdout",
     "output_type": "stream",
     "text": [
      "13\n"
     ]
    }
   ],
   "source": [
    "matrix = [\n",
    "    [1,  5,  9],\n",
    "    [10, 11, 13],\n",
    "    [12, 13, 15]\n",
    "]\n",
    "k = 8\n",
    "result = kth_smallest(matrix, k)\n",
    "print(result) "
   ]
  },
  {
   "cell_type": "code",
   "execution_count": 5,
   "id": "26f0591f-3116-494f-ba56-4dd40b9412c7",
   "metadata": {},
   "outputs": [],
   "source": [
    "## Q3.\n",
    "import heapq\n",
    "from collections import Counter\n",
    "\n",
    "def top_k_frequent_words(words, k):\n",
    "    # Count the occurrences of each word\n",
    "    word_counts = Counter(words)\n",
    "\n",
    "    # Create a min-heap to store words based on their frequency\n",
    "    min_heap = []\n",
    "\n",
    "    for word, count in word_counts.items():\n",
    "        # Push the word and its frequency as a tuple into the min-heap\n",
    "        heapq.heappush(min_heap, (count, word))\n",
    "\n",
    "        # If the min-heap size exceeds k, pop the smallest element (least frequent word)\n",
    "        if len(min_heap) > k:\n",
    "            heapq.heappop(min_heap)\n",
    "\n",
    "    # The remaining elements in the min-heap are the top K frequent words\n",
    "    top_k_frequent = [word for _, word in heapq.nlargest(k, min_heap)]\n",
    "\n",
    "    return top_k_frequent"
   ]
  },
  {
   "cell_type": "code",
   "execution_count": 6,
   "id": "494f830d-e68a-4f8c-b247-6b45a631849a",
   "metadata": {},
   "outputs": [
    {
     "name": "stdout",
     "output_type": "stream",
     "text": [
      "['cherry', 'apple']\n"
     ]
    }
   ],
   "source": [
    "words_list = [\"apple\", \"banana\", \"apple\", \"orange\", \"banana\", \"apple\", \"cherry\", \"cherry\", \"cherry\"]\n",
    "k = 2\n",
    "result = top_k_frequent_words(words_list, k)\n",
    "print(result) "
   ]
  },
  {
   "cell_type": "code",
   "execution_count": 7,
   "id": "bc84aaf6-9647-4625-81c8-d678bf0e71f9",
   "metadata": {},
   "outputs": [],
   "source": [
    "## Q4.\n",
    "class TreeNode:\n",
    "    def __init__(self, val=0, left=None, right=None):\n",
    "        self.val = val\n",
    "        self.left = left\n",
    "        self.right = right\n",
    "\n",
    "def diameter_of_binary_tree(root):\n",
    "    def dfs(node):\n",
    "        nonlocal max_diameter\n",
    "\n",
    "        if not node:\n",
    "            return 0\n",
    "\n",
    "        # Recursively calculate the height of the left and right subtrees\n",
    "        left_height = dfs(node.left)\n",
    "        right_height = dfs(node.right)\n",
    "\n",
    "        # Update the maximum diameter found so far\n",
    "        max_diameter = max(max_diameter, left_height + right_height)\n",
    "\n",
    "        # Return the height of the current subtree (plus 1 for the current node)\n",
    "        return max(left_height, right_height) + 1\n",
    "\n",
    "    max_diameter = 0\n",
    "    dfs(root)\n",
    "    return max_diameter"
   ]
  },
  {
   "cell_type": "code",
   "execution_count": 8,
   "id": "4835ec40-8765-4754-ad2f-18358e71dbc9",
   "metadata": {},
   "outputs": [
    {
     "name": "stdout",
     "output_type": "stream",
     "text": [
      "3\n"
     ]
    }
   ],
   "source": [
    "root = TreeNode(1)\n",
    "root.left = TreeNode(2)\n",
    "root.right = TreeNode(3)\n",
    "root.left.left = TreeNode(4)\n",
    "root.left.right = TreeNode(5)\n",
    "\n",
    "result = diameter_of_binary_tree(root)\n",
    "print(result) "
   ]
  },
  {
   "cell_type": "code",
   "execution_count": 9,
   "id": "1a550b1b-d653-47eb-9285-54041aba7c66",
   "metadata": {},
   "outputs": [],
   "source": [
    "## Q5.\n",
    "class TreeNode:\n",
    "    def __init__(self, val=0, left=None, right=None):\n",
    "        self.val = val\n",
    "        self.left = left\n",
    "        self.right = right\n",
    "\n",
    "def is_symmetric(root):\n",
    "    def is_mirror(left_subtree, right_subtree):\n",
    "        if not left_subtree and not right_subtree:\n",
    "            return True\n",
    "        if not left_subtree or not right_subtree:\n",
    "            return False\n",
    "\n",
    "        return (\n",
    "            left_subtree.val == right_subtree.val\n",
    "            and is_mirror(left_subtree.left, right_subtree.right)\n",
    "            and is_mirror(left_subtree.right, right_subtree.left)\n",
    "        )\n",
    "\n",
    "    if not root:\n",
    "        return True\n",
    "\n",
    "    return is_mirror(root.left, root.right)\n"
   ]
  },
  {
   "cell_type": "code",
   "execution_count": 10,
   "id": "9829cdc3-e3aa-4f31-8056-02aa2d0dbd61",
   "metadata": {},
   "outputs": [
    {
     "name": "stdout",
     "output_type": "stream",
     "text": [
      "True\n"
     ]
    }
   ],
   "source": [
    "symmetric_root = TreeNode(1)\n",
    "symmetric_root.left = TreeNode(2)\n",
    "symmetric_root.right = TreeNode(2)\n",
    "symmetric_root.left.left = TreeNode(3)\n",
    "symmetric_root.left.right = TreeNode(4)\n",
    "symmetric_root.right.left = TreeNode(4)\n",
    "symmetric_root.right.right = TreeNode(3)\n",
    "\n",
    "print(is_symmetric(symmetric_root))"
   ]
  },
  {
   "cell_type": "code",
   "execution_count": 11,
   "id": "683ebb1e-7528-484b-9123-7e6813b4a12b",
   "metadata": {},
   "outputs": [
    {
     "name": "stdout",
     "output_type": "stream",
     "text": [
      "False\n"
     ]
    }
   ],
   "source": [
    "asymmetric_root = TreeNode(1)\n",
    "asymmetric_root.left = TreeNode(2)\n",
    "asymmetric_root.right = TreeNode(2)\n",
    "asymmetric_root.left.right = TreeNode(3)\n",
    "asymmetric_root.right.right = TreeNode(3)\n",
    "\n",
    "print(is_symmetric(asymmetric_root)) "
   ]
  },
  {
   "cell_type": "code",
   "execution_count": 12,
   "id": "952c9c92-7330-4cc8-9e27-39061fb26749",
   "metadata": {},
   "outputs": [],
   "source": [
    "## Q6.\n",
    "import heapq\n",
    "\n",
    "def kth_largest_integer(nums, k):\n",
    "    # Create a min-heap to store the K largest integers\n",
    "    min_heap = []\n",
    "\n",
    "    for num in nums:\n",
    "        # Push the current number into the min-heap\n",
    "        heapq.heappush(min_heap, num)\n",
    "\n",
    "        # If the min-heap size exceeds K, pop the smallest element (Kth largest so far)\n",
    "        if len(min_heap) > k:\n",
    "            heapq.heappop(min_heap)\n",
    "\n",
    "    # The top of the min-heap contains the Kth largest integer\n",
    "    return min_heap[0]\n"
   ]
  },
  {
   "cell_type": "code",
   "execution_count": 13,
   "id": "6cc69d2c-095e-4f8b-9ac8-94260c7edf37",
   "metadata": {},
   "outputs": [
    {
     "name": "stdout",
     "output_type": "stream",
     "text": [
      "5\n"
     ]
    }
   ],
   "source": [
    "nums_list = [3, 1, 4, 1, 5, 9, 2, 6, 5]\n",
    "k = 3\n",
    "result = kth_largest_integer(nums_list, k)\n",
    "print(result)"
   ]
  },
  {
   "cell_type": "code",
   "execution_count": 14,
   "id": "12d4ac0c-f6e0-4233-b323-51d5da86cbd1",
   "metadata": {},
   "outputs": [],
   "source": [
    "## Q7.\n",
    "class TreeNode:\n",
    "    def __init__(self, val=0, left=None, right=None):\n",
    "        self.val = val\n",
    "        self.left = left\n",
    "        self.right = right\n",
    "\n",
    "def invert_binary_tree(root):\n",
    "    if not root:\n",
    "        return None\n",
    "\n",
    "    # Swap the left and right subtrees\n",
    "    root.left, root.right = root.right, root.left\n",
    "\n",
    "    # Recursively invert the left and right subtrees\n",
    "    invert_binary_tree(root.left)\n",
    "    invert_binary_tree(root.right)\n",
    "\n",
    "    return root"
   ]
  },
  {
   "cell_type": "code",
   "execution_count": 16,
   "id": "ae96dc2c-78c0-4928-81c6-397e54a76d03",
   "metadata": {},
   "outputs": [],
   "source": [
    "original_root = TreeNode(1)\n",
    "original_root.left = TreeNode(2)\n",
    "original_root.right = TreeNode(3)\n",
    "original_root.left.left = TreeNode(4)\n",
    "original_root.left.right = TreeNode(5)\n",
    "original_root.right.left = TreeNode(6)\n",
    "original_root.right.right = TreeNode(7)\n",
    "\n",
    "# Inverting the binary tree\n",
    "inverted_root = invert_binary_tree(original_root)"
   ]
  },
  {
   "cell_type": "code",
   "execution_count": 17,
   "id": "a4dce3b5-66f3-499c-8dd4-75d51850481d",
   "metadata": {},
   "outputs": [],
   "source": [
    "## Q8.\n",
    "from collections import deque\n",
    "\n",
    "class TreeNode:\n",
    "    def __init__(self, val=0, left=None, right=None):\n",
    "        self.val = val\n",
    "        self.left = left\n",
    "        self.right = right\n",
    "\n",
    "def print_binary_tree(root):\n",
    "    if not root:\n",
    "        print(\"Empty tree\")\n",
    "        return\n",
    "\n",
    "    queue = deque([root])\n",
    "\n",
    "    while queue:\n",
    "        level_nodes = len(queue)\n",
    "        level_values = []\n",
    "\n",
    "        for _ in range(level_nodes):\n",
    "            node = queue.popleft()\n",
    "            if node:\n",
    "                level_values.append(str(node.val))\n",
    "                queue.extend([node.left, node.right])\n",
    "            else:\n",
    "                level_values.append(\"null\")\n",
    "\n",
    "        print(\" \".join(level_values))"
   ]
  },
  {
   "cell_type": "code",
   "execution_count": 18,
   "id": "a56ef58e-9637-4c47-b737-f3150b2b7cda",
   "metadata": {},
   "outputs": [
    {
     "name": "stdout",
     "output_type": "stream",
     "text": [
      "1\n",
      "2 3\n",
      "4 5 6 7\n",
      "null null null null null null null null\n"
     ]
    }
   ],
   "source": [
    "root = TreeNode(1)\n",
    "root.left = TreeNode(2)\n",
    "root.right = TreeNode(3)\n",
    "root.left.left = TreeNode(4)\n",
    "root.left.right = TreeNode(5)\n",
    "root.right.left = TreeNode(6)\n",
    "root.right.right = TreeNode(7)\n",
    "\n",
    "print_binary_tree(root)"
   ]
  },
  {
   "cell_type": "code",
   "execution_count": null,
   "id": "6498071b-2e77-4d29-b645-1e3d50b81727",
   "metadata": {},
   "outputs": [],
   "source": []
  }
 ],
 "metadata": {
  "kernelspec": {
   "display_name": "Python 3 (ipykernel)",
   "language": "python",
   "name": "python3"
  },
  "language_info": {
   "codemirror_mode": {
    "name": "ipython",
    "version": 3
   },
   "file_extension": ".py",
   "mimetype": "text/x-python",
   "name": "python",
   "nbconvert_exporter": "python",
   "pygments_lexer": "ipython3",
   "version": "3.10.8"
  }
 },
 "nbformat": 4,
 "nbformat_minor": 5
}
