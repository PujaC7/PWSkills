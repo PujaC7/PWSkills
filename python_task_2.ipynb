{
 "cells": [
  {
   "cell_type": "markdown",
   "id": "4291c3a8-d6aa-4d8d-949a-0d33b01f97bc",
   "metadata": {},
   "source": [
    "## Q1.  code"
   ]
  },
  {
   "cell_type": "code",
   "execution_count": 13,
   "id": "381febb8-e556-476e-8e38-a81ce16d8317",
   "metadata": {},
   "outputs": [
    {
     "name": "stdin",
     "output_type": "stream",
     "text": [
      " enter the password  @PwSkill7#%$\n"
     ]
    },
    {
     "name": "stdout",
     "output_type": "stream",
     "text": [
      "this is a valid password\n"
     ]
    }
   ],
   "source": [
    "password = input(\" enter the password \")\n",
    "upper_count = 0\n",
    "lower_count = 0\n",
    "numeric_count = 0\n",
    "special_count = 0\n",
    "if len(password) >= 10:\n",
    "    for i in password:\n",
    "        if i.isupper():\n",
    "            upper_count = upper_count + 1\n",
    "        elif i.islower():\n",
    "            lower_count = lower_count + 1\n",
    "        elif i.isdigit():\n",
    "            numeric_count = numeric_count + 1\n",
    "        else:\n",
    "            special_count+=1\n",
    "    if upper_count >= 2 and lower_count >= 2 and numeric_count >= 1 and special_count >= 3 :\n",
    "        print(\"this is a valid password\")\n",
    "    else:\n",
    "        print(\"this is Invalid password\")  \n",
    "else:\n",
    "    print(\"this is Invalid password\")"
   ]
  },
  {
   "cell_type": "markdown",
   "id": "cd9a95f5-9bf6-4701-b1a6-5b6766254287",
   "metadata": {},
   "source": [
    "##  Q2. code"
   ]
  },
  {
   "cell_type": "code",
   "execution_count": 3,
   "id": "d501eba6-ddaf-469d-8308-7c4e641ebcef",
   "metadata": {},
   "outputs": [
    {
     "name": "stdin",
     "output_type": "stream",
     "text": [
      " enter the string  chotu\n",
      " enter the particular letter  d\n"
     ]
    },
    {
     "name": "stdout",
     "output_type": "stream",
     "text": [
      " the given string is not starts with the particular letter\n"
     ]
    }
   ],
   "source": [
    "## Check if the string starts with a particular letter\n",
    "\n",
    "str1 = input(\" enter the string \")\n",
    "letter = input(\" enter the particular letter \")\n",
    "if str1.startswith(letter):\n",
    "    print(\" the given string is starts with the particular letter\")\n",
    "else:\n",
    "    print(\" the given string is not starts with the particular letter\")"
   ]
  },
  {
   "cell_type": "code",
   "execution_count": 5,
   "id": "8adbd2a9-2e0f-4fbd-ac49-41b4d3307c15",
   "metadata": {},
   "outputs": [
    {
     "name": "stdin",
     "output_type": "stream",
     "text": [
      " enter the string  1234g\n"
     ]
    },
    {
     "name": "stdout",
     "output_type": "stream",
     "text": [
      "the string is not numeric\n"
     ]
    }
   ],
   "source": [
    "##  Check if the string is numeric\n",
    "\n",
    "str2 =  input(\" enter the string \")\n",
    "if str2.isdigit():\n",
    "    print(\"the string is numeric\")\n",
    "else:\n",
    "    print(\"the string is not numeric\")"
   ]
  },
  {
   "cell_type": "code",
   "execution_count": 11,
   "id": "91d75566-a36e-40ce-a4e6-dcbc14474c83",
   "metadata": {},
   "outputs": [
    {
     "data": {
      "text/plain": [
       "[('grapes', 1000), ('mango', 99), ('orange', 80)]"
      ]
     },
     "execution_count": 11,
     "metadata": {},
     "output_type": "execute_result"
    }
   ],
   "source": [
    "##  Sort a list of tuples having fruit names and their quantity.\n",
    "\n",
    "list1 = [(\"mango\",99),(\"orange\",80), (\"grapes\", 1000)]\n",
    "sorted(list1, key=lambda x: (x[0]))"
   ]
  },
  {
   "cell_type": "code",
   "execution_count": 12,
   "id": "e1ff53ce-14a5-49bc-8823-49b94fb9310a",
   "metadata": {},
   "outputs": [
    {
     "data": {
      "text/plain": [
       "[1, 4, 9, 16, 25, 36, 49, 64, 81, 100]"
      ]
     },
     "execution_count": 12,
     "metadata": {},
     "output_type": "execute_result"
    }
   ],
   "source": [
    "##  Find the squares of numbers from 1 to 10\n",
    "\n",
    "list_sq = [1, 2, 3, 4, 5, 6, 7, 8, 9, 10]\n",
    "list(map(lambda x :  x**2 , list_sq))"
   ]
  },
  {
   "cell_type": "code",
   "execution_count": 14,
   "id": "23ec51a2-aa73-428b-bbd8-c2b7a5fac98d",
   "metadata": {},
   "outputs": [
    {
     "data": {
      "text/plain": [
       "[1, 8, 27, 64, 125, 216, 343, 512, 729, 1000]"
      ]
     },
     "execution_count": 14,
     "metadata": {},
     "output_type": "execute_result"
    }
   ],
   "source": [
    "## Find the cube root of numbers from 1 to 10Y\n",
    "\n",
    "list_cube = [1, 2, 3, 4, 5, 6, 7, 8, 9, 10]\n",
    "list(map(lambda x :  x*x*x , list_cube))"
   ]
  },
  {
   "cell_type": "code",
   "execution_count": 31,
   "id": "d61c3e37-b249-4041-aac3-ce8ba1e383b1",
   "metadata": {},
   "outputs": [
    {
     "name": "stdin",
     "output_type": "stream",
     "text": [
      "enter the number 44\n"
     ]
    },
    {
     "name": "stdout",
     "output_type": "stream",
     "text": [
      " even number \n"
     ]
    }
   ],
   "source": [
    "##  Check if a given number is even\n",
    "\n",
    "number = input(\"enter the number\")\n",
    "num = int(number)\n",
    "if num % 2 == 0:\n",
    "    print(\" even number \")"
   ]
  },
  {
   "cell_type": "code",
   "execution_count": 24,
   "id": "b1136dda-8292-43f9-b898-4c91aba6b138",
   "metadata": {},
   "outputs": [
    {
     "name": "stdout",
     "output_type": "stream",
     "text": [
      "[1, 3, 5, 7, 9]\n"
     ]
    }
   ],
   "source": [
    "##  Filter odd numbers from the given list\n",
    "\n",
    "list1 = [1,2,3,4,5,6,7,8,9,10]\n",
    "odd = filter(lambda n: n % 2 == 1, list1)\n",
    "print(list(odd))"
   ]
  },
  {
   "cell_type": "code",
   "execution_count": 25,
   "id": "4a14954f-c098-4e6a-a273-7215d1a3f0a8",
   "metadata": {},
   "outputs": [
    {
     "name": "stdout",
     "output_type": "stream",
     "text": [
      "[1, 2, 3, 4, 5, 6, 0]\n",
      "[-1, -2, -3, -4, -5]\n"
     ]
    }
   ],
   "source": [
    "##  Sort a list of integers into positive and negative integers lists.\n",
    "\n",
    "list2 = [1,2,3,4,5,6,-1,-2,-3,-4,-5,0]\n",
    "positive = filter(lambda n: n >= 0, list2)\n",
    "negative = filter(lambda n: n < 0, list2)\n",
    "\n",
    "print(list(positive))\n",
    "print(list(negative))\n",
    "\n"
   ]
  },
  {
   "cell_type": "code",
   "execution_count": null,
   "id": "f0efde27-062d-43d8-ac7e-2e026368493e",
   "metadata": {},
   "outputs": [],
   "source": []
  }
 ],
 "metadata": {
  "kernelspec": {
   "display_name": "Python 3 (ipykernel)",
   "language": "python",
   "name": "python3"
  },
  "language_info": {
   "codemirror_mode": {
    "name": "ipython",
    "version": 3
   },
   "file_extension": ".py",
   "mimetype": "text/x-python",
   "name": "python",
   "nbconvert_exporter": "python",
   "pygments_lexer": "ipython3",
   "version": "3.10.8"
  }
 },
 "nbformat": 4,
 "nbformat_minor": 5
}
